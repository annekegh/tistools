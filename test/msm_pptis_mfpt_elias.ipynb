{
 "cells": [
  {
   "cell_type": "code",
   "execution_count": 1,
   "metadata": {},
   "outputs": [
    {
     "name": "stderr",
     "output_type": "stream",
     "text": [
      "/mnt/0bf0c339-34bb-4500-a5fb-f3c2a863de29/DATA/APPTIS/tistools/test/istar_test.py:1455: SyntaxWarning: invalid escape sequence '\\l'\n",
      "  ax.set_xlabel(\"Position x (=$\\lambda$)\")\n"
     ]
    }
   ],
   "source": [
    "%load_ext autoreload\n",
    "%autoreload 2\n",
    "\n",
    "import matplotlib.pyplot as plt\n",
    "import numpy as np\n",
    "#%matplotlib qt   # doesn't work on my laptop\n",
    "from tistools import read_inputfile, get_LMR_interfaces, read_pathensemble, get_weights\n",
    "from tistools import set_tau_distrib, set_tau_first_hit_M_distrib, cross_dist_distr, pathlength_distr\n",
    "from tistools import collect_tau, collect_tau1, collect_tau2, collect_taum\n",
    "from tistools import ACCFLAGS, REJFLAGS\n",
    "\n",
    "from tistools import get_lmr_masks, get_generation_mask, get_flag_mask, select_with_masks\n",
    "from tistools import unwrap_by_weight, running_avg_local_probs, get_local_probs, get_global_probs_from_local, get_global_probs_from_dict\n",
    "\n",
    "from pprint import pprint    # to print the vars of the pathensemble object\n",
    "\n",
    "from istar_test import *"
   ]
  },
  {
   "cell_type": "code",
   "execution_count": 2,
   "metadata": {},
   "outputs": [],
   "source": [
    "%autoreload 2  \n",
    " # something with pip install -e ."
   ]
  },
  {
   "cell_type": "markdown",
   "metadata": {},
   "source": [
    "# Reading"
   ]
  },
  {
   "cell_type": "code",
   "execution_count": 10,
   "metadata": {},
   "outputs": [
    {
     "name": "stdout",
     "output_type": "stream",
     "text": [
      "/mnt/0bf0c339-34bb-4500-a5fb-f3c2a863de29/DATA/MSM-REPPTIS/1D-experiments/REPPTIS\n",
      "['/mnt/0bf0c339-34bb-4500-a5fb-f3c2a863de29/DATA/MSM-REPPTIS/1D-experiments/REPPTIS/000', '/mnt/0bf0c339-34bb-4500-a5fb-f3c2a863de29/DATA/MSM-REPPTIS/1D-experiments/REPPTIS/001', '/mnt/0bf0c339-34bb-4500-a5fb-f3c2a863de29/DATA/MSM-REPPTIS/1D-experiments/REPPTIS/002', '/mnt/0bf0c339-34bb-4500-a5fb-f3c2a863de29/DATA/MSM-REPPTIS/1D-experiments/REPPTIS/003', '/mnt/0bf0c339-34bb-4500-a5fb-f3c2a863de29/DATA/MSM-REPPTIS/1D-experiments/REPPTIS/004']\n"
     ]
    }
   ],
   "source": [
    "# zero_minus_one = True if lambda_-1 interface is set\n",
    "# zero_minus_one = False if lambda_-1 interface is not set\n",
    "\n",
    "# data the maze\n",
    "#---------------\n",
    "indir = \"/Users/an/Documents/0_mfpt/repptis1/\"\n",
    "zero_minus_one = True\n",
    "inputfile = indir + \"/out.rst\"\n",
    "#inputfile = indir + \"/retis.rst\"\n",
    "\n",
    "# new data Elias\n",
    "#---------------\n",
    "# indir = \"/mnt/0bf0c339-34bb-4500-a5fb-f3c2a863de29/DATA/MSM-REPPTIS/1D-experiments/HPC/flat_w-walls/brownian-gamma5/30k-cycles/REPPTIS\"\n",
    "# indir = \"/mnt/0bf0c339-34bb-4500-a5fb-f3c2a863de29/DATA/MSM-REPPTIS/1D-experiments/HPC/flat_w-walls/newtonian/REPPTIS\"\n",
    "# indir = \"/mnt/0bf0c339-34bb-4500-a5fb-f3c2a863de29/DATA/MSM-REPPTIS/1D-experiments/HPC/flat_w-walls/langevin-gamma5/REPPTIS\"\n",
    "# indir = \"/mnt/0bf0c339-34bb-4500-a5fb-f3c2a863de29/DATA/MSM-REPPTIS/1D-experiments/HPC/cosbump1-walls/REPPTIS\"\n",
    "# indir = \"/mnt/0bf0c339-34bb-4500-a5fb-f3c2a863de29/DATA/MSM-REPPTIS/1D-experiments/HPC/cosbump2-walls/langevin-gamma5/REPPTIS\"\n",
    "# indir = \"/mnt/0bf0c339-34bb-4500-a5fb-f3c2a863de29/DATA/MSM-REPPTIS/1D-experiments/HPC/cosbump3-walls/langevin-gamma5/REPPTIS\"\n",
    "# indir = \"/mnt/0bf0c339-34bb-4500-a5fb-f3c2a863de29/DATA/MSM-REPPTIS/1D-experiments/HPC/cosbump3-walls/REPPTIS\"\n",
    "# indir = \"/mnt/0bf0c339-34bb-4500-a5fb-f3c2a863de29/DATA/MSM-REPPTIS/1D-experiments/HPC/cosdip2-walls/REPPTIS\"\n",
    "# indir = \"/mnt/0bf0c339-34bb-4500-a5fb-f3c2a863de29/DATA/MSM-REPPTIS/1D-experiments/HPC/cosdip2-walls/langevin-gamma5/REPPTIS\"\n",
    "# indir = \"/mnt/0bf0c339-34bb-4500-a5fb-f3c2a863de29/DATA/MSM-REPPTIS/1D-experiments/HPC/cosbumpmeta-walls/brownian/corr/REPPTIS\"\n",
    "# indir = \"/mnt/0bf0c339-34bb-4500-a5fb-f3c2a863de29/DATA/MSM-REPPTIS/1D-experiments/HPC/cosbumpmeta-walls/langevin_gamma5/REPPTIS\"\n",
    "# indir = \"/mnt/0bf0c339-34bb-4500-a5fb-f3c2a863de29/DATA/MSM-REPPTIS/1D-experiments/HPC/cosbumpmeta-walls/brownian/fine_intf/REPPTIS\"\n",
    "# indir = \"/mnt/0bf0c339-34bb-4500-a5fb-f3c2a863de29/DATA/MSM-REPPTIS/1D-experiments/HPC/cosbumpmeta-walls/langevin_gamma5/fine_intf/REPPTIS\"\n",
    "# indir = \"/mnt/0bf0c339-34bb-4500-a5fb-f3c2a863de29/DATA/MSM-REPPTIS/1D-experiments/HPC/cosbumpmeta-walls/brownian/intf_shift/REPPTIS\"\n",
    "# indir = \"/mnt/0bf0c339-34bb-4500-a5fb-f3c2a863de29/DATA/MSM-REPPTIS/1D-experiments/HPC/cosbumpmeta-walls/langevin_gamma5/intf_shift/REPPTIS\"\n",
    "# indir = \"/mnt/0bf0c339-34bb-4500-a5fb-f3c2a863de29/DATA/MSM-REPPTIS/1D-experiments/HPC/cosdipmeta-walls/brownian/REPPTIS\"\n",
    "# indir = \"/mnt/0bf0c339-34bb-4500-a5fb-f3c2a863de29/DATA/MSM-REPPTIS/1D-experiments/HPC/cosdipmeta-walls/langevin_gamma5/REPPTIS\"\n",
    "# indir = \"/mnt/0bf0c339-34bb-4500-a5fb-f3c2a863de29/DATA/MSM-REPPTIS/2D-experiments/2D-maze/Wouter-2022/repptis3\"\n",
    "# indir = \"/mnt/0bf0c339-34bb-4500-a5fb-f3c2a863de29/DATA/PyRETIS3/toytis/simulations/sim_istarwell2_0209\"\n",
    "# indir = \"/mnt/0bf0c339-34bb-4500-a5fb-f3c2a863de29/DATA/PyRETIS3/toytis/simulations/sim_istarwell2_0209\"\n",
    "# indir = \"/mnt/0bf0c339-34bb-4500-a5fb-f3c2a863de29/DATA/i_star/simulations/RETIS_flat_br_noswap\"\n",
    "# indir = \"/run/user/1001/gvfs/smb-share:server=files.ugent.be,share=eliawils,user=eliawils/shares/tw06_biommeda_pyretis/04.2024_MSM_elias/simulations/flat_w-walls/langevin-g5/REPPTIS\"\n",
    "indir = \"/mnt/0bf0c339-34bb-4500-a5fb-f3c2a863de29/DATA/MSM-REPPTIS/1D-experiments/REPPTIS\"\n",
    "\n",
    "zero_minus_one = False\n",
    "inputfile = indir + \"/repptis.rst\"\n",
    "\n",
    "import os\n",
    "import glob\n",
    "os.chdir(indir)\n",
    "print(os.getcwd())\n",
    "\n",
    "\n",
    "folders = glob.glob(indir + \"/0[0-9][0-9]\")\n",
    "folders = sorted(folders)\n",
    "print(folders)"
   ]
  },
  {
   "cell_type": "code",
   "execution_count": 19,
   "metadata": {},
   "outputs": [
    {
     "name": "stdout",
     "output_type": "stream",
     "text": [
      "################################################################################\n",
      "/mnt/0bf0c339-34bb-4500-a5fb-f3c2a863de29/DATA/MSM-REPPTIS/1D-experiments/REPPTIS/000\n",
      "pathensemble info: \n",
      "{'cyclenumbers': array([    0,     1,     2, ..., 29998, 29999, 30000]),\n",
      " 'dirs': array([   0., 2636., 1814., ..., 1810.,  915.,  958.]),\n",
      " 'flags': array(['ACC', 'ACC', 'ACC', ..., 'ACC', 'ACC', 'ACC'], dtype='<U3'),\n",
      " 'generation': array(['ki', 'sh', 'sh', ..., 'sh', 'sh', 'sh'], dtype='<U2'),\n",
      " 'has_zero_minus_one': False,\n",
      " 'in_zero_minus': True,\n",
      " 'in_zero_plus': False,\n",
      " 'interfaces': [[-0.1, -0.1, -0.1], ['l_[0]', 'l_[0]', 'l_[0]']],\n",
      " 'istar_idx': array([[    0,     0],\n",
      "       [    0, 68269],\n",
      "       [    0,   836],\n",
      "       ...,\n",
      "       [    0,  2189],\n",
      "       [    0,  1114],\n",
      "       [    0,  1397]]),\n",
      " 'lambmaxs': array([-0.09999883, -0.09990865, -0.09987787, ..., -0.09947621,\n",
      "       -0.09966334, -0.09976969]),\n",
      " 'lambmins': array([-0.20118421, -0.27415918, -0.35706824, ..., -0.46335523,\n",
      "       -0.45559745, -0.37658975]),\n",
      " 'lengths': array([86018,  2921,  2209, ...,  1953,  1964,  2139]),\n",
      " 'lmrs': array(['RMR', 'RMR', 'RMR', ..., 'RMR', 'RMR', 'RMR'], dtype='<U3'),\n",
      " 'name': '/mnt/0bf0c339-34bb-4500-a5fb-f3c2a863de29/DATA/MSM-REPPTIS/1D-experiments/REPPTIS/000',\n",
      " 'ncycle': 30002,\n",
      " 'newpathnumbers': array([    0,     1,     2, ..., 22944, 22945, 22946]),\n",
      " 'orders': None,\n",
      " 'pathnumbers': array([    2,     3,     4, ..., 25262, 25263, 25264]),\n",
      " 'shootlinks': array([None, None, None, ..., None, None, None], dtype=object),\n",
      " 'totaltime': 89326461,\n",
      " 'weights': array([1, 1, 1, ..., 1, 1, 1])}\n",
      "Setting orders for path ensemble /mnt/0bf0c339-34bb-4500-a5fb-f3c2a863de29/DATA/MSM-REPPTIS/1D-experiments/REPPTIS/000\n",
      "Loaded orders from file, NOT CHECKING FOR CONSISTENCY.\n",
      "################################################################################\n",
      "/mnt/0bf0c339-34bb-4500-a5fb-f3c2a863de29/DATA/MSM-REPPTIS/1D-experiments/REPPTIS/001\n",
      "pathensemble info: \n",
      "{'cyclenumbers': array([    0,     1,     2, ..., 29998, 29999, 30000]),\n",
      " 'dirs': array([   0.,  570.,  287., ...,  259.,  379., 1299.]),\n",
      " 'flags': array(['ACC', 'ACC', 'ACC', ..., 'FTL', 'FTL', 'ACC'], dtype='<U3'),\n",
      " 'generation': array(['ld', 'sh', 'sh', ..., 'sh', 'sh', 'sh'], dtype='<U2'),\n",
      " 'has_zero_minus_one': False,\n",
      " 'in_zero_minus': False,\n",
      " 'in_zero_plus': True,\n",
      " 'interfaces': [[-0.1, -0.1, 0.0], ['l_[0]', 'l_[0]', 'l_[1]']],\n",
      " 'istar_idx': array([[  0,   0],\n",
      "       [  0,  65],\n",
      "       [  0, 600],\n",
      "       ...,\n",
      "       [  0,  54],\n",
      "       [  0, 156],\n",
      "       [  0, 157]]),\n",
      " 'lambmaxs': array([7.16780000e-05, 1.07753557e-04, 1.64856243e-04, ...,\n",
      "       8.88076386e-06, 7.52771041e-06, 2.18340902e-05]),\n",
      " 'lambmins': array([-0.10408197, -0.10000713, -0.10015337, ..., -0.02951238,\n",
      "       -0.08028394, -0.10000017]),\n",
      " 'lengths': array([ 100,  676,  324, ...,  428,  583, 2743]),\n",
      " 'lmrs': array(['LMR', 'LMR', 'LMR', ..., 'R**', 'R**', 'LMR'], dtype='<U3'),\n",
      " 'name': '/mnt/0bf0c339-34bb-4500-a5fb-f3c2a863de29/DATA/MSM-REPPTIS/1D-experiments/REPPTIS/001',\n",
      " 'ncycle': 30002,\n",
      " 'newpathnumbers': array([    0,     1,     2, ..., 15610, 15610, 15611]),\n",
      " 'orders': None,\n",
      " 'pathnumbers': array([    1,     2,     3, ..., 16773, 16773, 16774]),\n",
      " 'shootlinks': array([None, None, None, ..., None, None, None], dtype=object),\n",
      " 'totaltime': 26405956,\n",
      " 'weights': array([1, 1, 1, ..., 0, 0, 1])}\n",
      "Setting orders for path ensemble /mnt/0bf0c339-34bb-4500-a5fb-f3c2a863de29/DATA/MSM-REPPTIS/1D-experiments/REPPTIS/001\n",
      "Loaded orders from file, NOT CHECKING FOR CONSISTENCY.\n",
      "################################################################################\n",
      "/mnt/0bf0c339-34bb-4500-a5fb-f3c2a863de29/DATA/MSM-REPPTIS/1D-experiments/REPPTIS/002\n",
      "pathensemble info: \n",
      "{'cyclenumbers': array([    0,     1,     2, ..., 29998, 29999, 30000]),\n",
      " 'dirs': array([   0.,  573.,  287., ...,  310., 1092.,    0.]),\n",
      " 'flags': array(['ACC', 'ACC', 'ACC', ..., 'FTL', 'ACC', 'BTL'], dtype='<U3'),\n",
      " 'generation': array(['ld', 'sh', 'sh', ..., 'sh', 'sh', 'sh'], dtype='<U2'),\n",
      " 'has_zero_minus_one': False,\n",
      " 'in_zero_minus': False,\n",
      " 'in_zero_plus': False,\n",
      " 'interfaces': [[-0.1, 0.0, 0.1], ['l_[0]', 'l_[1]', 'l_[2]']],\n",
      " 'istar_idx': array([[  0,   0],\n",
      "       [  0,  68],\n",
      "       [  0, 601],\n",
      "       ...,\n",
      "       [  0,  64],\n",
      "       [  0, 447],\n",
      "       [  0, 155]]),\n",
      " 'lambmaxs': array([0.10187987, 0.10002098, 0.10026747, ..., 0.10001097, 0.10013122,\n",
      "       0.07874775]),\n",
      " 'lambmins': array([-0.10408197, -0.10006048, -0.1000584 , ...,  0.05894393,\n",
      "       -0.10004563, -0.00799636]),\n",
      " 'lengths': array([ 204, 1350,  646, ...,  595, 1452, 2379]),\n",
      " 'lmrs': array(['LMR', 'LMR', 'LMR', ..., 'R**', 'RML', '*M*'], dtype='<U3'),\n",
      " 'name': '/mnt/0bf0c339-34bb-4500-a5fb-f3c2a863de29/DATA/MSM-REPPTIS/1D-experiments/REPPTIS/002',\n",
      " 'ncycle': 30002,\n",
      " 'newpathnumbers': array([    0,     1,     2, ..., 15553, 15554, 15554]),\n",
      " 'orders': None,\n",
      " 'pathnumbers': array([    1,     2,     3, ..., 16320, 16321, 16321]),\n",
      " 'shootlinks': array([None, None, None, ..., None, None, None], dtype=object),\n",
      " 'totaltime': 47766325,\n",
      " 'weights': array([1, 1, 1, ..., 0, 2, 0])}\n",
      "Setting orders for path ensemble /mnt/0bf0c339-34bb-4500-a5fb-f3c2a863de29/DATA/MSM-REPPTIS/1D-experiments/REPPTIS/002\n",
      "Loaded orders from file, NOT CHECKING FOR CONSISTENCY.\n",
      "################################################################################\n",
      "/mnt/0bf0c339-34bb-4500-a5fb-f3c2a863de29/DATA/MSM-REPPTIS/1D-experiments/REPPTIS/003\n",
      "pathensemble info: \n",
      "{'cyclenumbers': array([    0,     1,     2, ..., 29998, 29999, 30000]),\n",
      " 'dirs': array([   0.,  655.,  338., ...,  311., 1092.,    0.]),\n",
      " 'flags': array(['ACC', 'ACC', 'ACC', ..., 'FTL', 'ACC', 'BTL'], dtype='<U3'),\n",
      " 'generation': array(['ld', 'sh', 'sh', ..., 'sh', 'sh', 'sh'], dtype='<U2'),\n",
      " 'has_zero_minus_one': False,\n",
      " 'in_zero_minus': False,\n",
      " 'in_zero_plus': False,\n",
      " 'interfaces': [[0.0, 0.1, 0.2], ['l_[1]', 'l_[2]', 'l_[3]']],\n",
      " 'istar_idx': array([[  0,   0],\n",
      "       [  0, 104],\n",
      "       [  0, 706],\n",
      "       ...,\n",
      "       [  0,  64],\n",
      "       [  0, 447],\n",
      "       [  0, 155]]),\n",
      " 'lambmaxs': array([0.20206748, 0.20006424, 0.20004445, ..., 0.20004223, 0.20009333,\n",
      "       0.17870986]),\n",
      " 'lambmins': array([-2.76450000e-05, -1.72100461e-05, -2.81423845e-04, ...,\n",
      "        1.58975177e-01, -8.35159068e-05,  9.19657591e-02]),\n",
      " 'lengths': array([ 180, 1350,  646, ...,  595, 1452, 2379]),\n",
      " 'lmrs': array(['LMR', 'LMR', 'LMR', ..., 'R**', 'RML', '*M*'], dtype='<U3'),\n",
      " 'name': '/mnt/0bf0c339-34bb-4500-a5fb-f3c2a863de29/DATA/MSM-REPPTIS/1D-experiments/REPPTIS/003',\n",
      " 'ncycle': 30002,\n",
      " 'newpathnumbers': array([    0,     1,     2, ..., 15432, 15433, 15433]),\n",
      " 'orders': None,\n",
      " 'pathnumbers': array([    1,     2,     3, ..., 16199, 16200, 16200]),\n",
      " 'shootlinks': array([None, None, None, ..., None, None, None], dtype=object),\n",
      " 'totaltime': 48304923,\n",
      " 'weights': array([1, 1, 2, ..., 0, 2, 0])}\n",
      "Setting orders for path ensemble /mnt/0bf0c339-34bb-4500-a5fb-f3c2a863de29/DATA/MSM-REPPTIS/1D-experiments/REPPTIS/003\n",
      "Loaded orders from file, NOT CHECKING FOR CONSISTENCY.\n",
      "################################################################################\n",
      "/mnt/0bf0c339-34bb-4500-a5fb-f3c2a863de29/DATA/MSM-REPPTIS/1D-experiments/REPPTIS/004\n",
      "pathensemble info: \n",
      "{'cyclenumbers': array([    0,     1,     2, ..., 29998, 29999, 30000]),\n",
      " 'dirs': array([   0.,   76.,   42., ...,    0.,  311., 1092.]),\n",
      " 'flags': array(['ACC', 'ACC', 'ACC', ..., 'BTL', 'FTL', 'ACC'], dtype='<U3'),\n",
      " 'generation': array(['ld', 'sh', 'sh', ..., 'sh', 'sh', 'sh'], dtype='<U2'),\n",
      " 'has_zero_minus_one': False,\n",
      " 'in_zero_minus': False,\n",
      " 'in_zero_plus': False,\n",
      " 'interfaces': [[0.1, 0.2, 0.3], ['l_[2]', 'l_[3]', 'l_[4]']],\n",
      " 'istar_idx': array([[  0,   0],\n",
      "       [  0,  10],\n",
      "       [  0,  88],\n",
      "       ...,\n",
      "       [  0, 428],\n",
      "       [  0,  64],\n",
      "       [  0, 447]]),\n",
      " 'lambmaxs': array([0.31401354, 0.30006626, 0.30000764, ..., 0.155866  , 0.30006056,\n",
      "       0.30011167]),\n",
      " 'lambmins': array([0.09713131, 0.09998481, 0.09999235, ..., 0.11868532, 0.25899351,\n",
      "       0.09993482]),\n",
      " 'lengths': array([ 237, 1350,  645, ...,  746,  595, 1452]),\n",
      " 'lmrs': array(['LMR', 'LMR', 'LMR', ..., '***', 'R**', 'RML'], dtype='<U3'),\n",
      " 'name': '/mnt/0bf0c339-34bb-4500-a5fb-f3c2a863de29/DATA/MSM-REPPTIS/1D-experiments/REPPTIS/004',\n",
      " 'ncycle': 30001,\n",
      " 'newpathnumbers': array([    0,     1,     2, ..., 15570, 15570, 15571]),\n",
      " 'orders': None,\n",
      " 'pathnumbers': array([    1,     2,     3, ..., 17502, 17502, 17503]),\n",
      " 'shootlinks': array([None, None, None, ..., None, None, None], dtype=object),\n",
      " 'totaltime': 48321774,\n",
      " 'weights': array([1, 1, 2, ..., 0, 0, 1])}\n",
      "Setting orders for path ensemble /mnt/0bf0c339-34bb-4500-a5fb-f3c2a863de29/DATA/MSM-REPPTIS/1D-experiments/REPPTIS/004\n",
      "Loaded orders from file, NOT CHECKING FOR CONSISTENCY.\n"
     ]
    }
   ],
   "source": [
    "# !!! last lines !!!  allow to speed up this notebook\n",
    "# pe.set_orders(load=False...)  -> 1st time you run the code, this will store npy files\n",
    "# pe.set_orders(load=True...)  -> next time you run the code, you can read npy files\n",
    "\n",
    "# Reading all input\n",
    "#===================\n",
    "interfaces, zero_left, timestep = read_inputfile(inputfile)\n",
    "LMR_interfaces, LMR_strings = get_LMR_interfaces(interfaces, zero_left)\n",
    "pathensembles = []\n",
    "for i,fol in enumerate(folders):\n",
    "    print(\"#\"*80)\n",
    "    print(fol)\n",
    "    pe = read_pathensemble(fol+\"/pathensemble.txt\")\n",
    "    pe.set_name(fol)\n",
    "    pe.set_interfaces([LMR_interfaces[i], LMR_strings[i]])\n",
    "    if i==0:\n",
    "        pe.set_zero_minus_one(zero_minus_one)   # TODO this is never used\n",
    "        pe.set_in_zero_minus(True)\n",
    "    if i==1:\n",
    "        pe.set_in_zero_plus(True)\n",
    "    w, _ = get_weights(pe.flags, ACCFLAGS, REJFLAGS, verbose = False)\n",
    "    pe.set_weights(w)\n",
    "    print(\"pathensemble info: \")\n",
    "    pprint(vars(pe))\n",
    "    pathensembles.append(pe)\n",
    "    # read order parameters order.txt/order.npy into path ensemble object\n",
    "    #pe.set_orders(load=False, acc_only=True, save=False) # if saving doesn't work\n",
    "    #### CHANGE HERE ####\n",
    "    # pe.set_orders(load=False, acc_only=True, save=True) # for the 1st time\n",
    "    pe.set_orders(load=True, acc_only=True) # for the next times, save=True/False is not important"
   ]
  },
  {
   "cell_type": "code",
   "execution_count": 20,
   "metadata": {},
   "outputs": [
    {
     "name": "stdout",
     "output_type": "stream",
     "text": [
      "-experiments/REPPTIS\n",
      "PE 0\n",
      "{'LML': 0, 'LMR': 0, 'RMR': 25270, 'RML': 0, 'LM*': 0, '*M*': 0, '***': 1273, 'RM*': 3458, 'L**': 0, '**R': 0, 'R**': 0}\n",
      "{'LML': 0, 'LMR': 0, 'RMR': 30002, 'RML': 0, 'LM*': 0, '*M*': 0, '***': 0, 'RM*': 0, 'L**': 0, '**R': 0, 'R**': 0}\n",
      "code {'NCR': 0, 'FTL': 2696, 'BTL': 1274, 'BWI': 0, 'ACC': 25263}\n",
      "code w {'NCR': 0, 'FTL': 0, 'BTL': 0, 'BWI': 0, 'ACC': 30002}\n",
      "\n",
      "PE 1\n",
      "{'LML': 0, 'LMR': 9364, 'RMR': 0, 'RML': 8574, 'LM*': 2480, '*M*': 769, '***': 6342, 'RM*': 0, 'L**': 0, '**R': 5, 'R**': 2464}\n",
      "{'LML': 0, 'LMR': 14963, 'RMR': 0, 'RML': 15039, 'LM*': 0, '*M*': 0, '***': 0, 'RM*': 0, 'L**': 0, '**R': 0, 'R**': 0}\n",
      "code {'NCR': 0, 'FTL': 4954, 'BTL': 6351, 'BWI': 0, 'ACC': 16774}\n",
      "code w {'NCR': 0, 'FTL': 0, 'BTL': 0, 'BWI': 0, 'ACC': 30002}\n",
      "\n",
      "PE 2\n",
      "{'LML': 0, 'LMR': 8157, 'RMR': 0, 'RML': 8170, 'LM*': 2364, '*M*': 2837, '***': 3429, 'RM*': 2283, 'L**': 766, '**R': 1, 'R**': 777}\n",
      "{'LML': 0, 'LMR': 15019, 'RMR': 0, 'RML': 14983, 'LM*': 0, '*M*': 0, '***': 0, 'RM*': 0, 'L**': 0, '**R': 0, 'R**': 0}\n",
      "code {'NCR': 0, 'FTL': 5090, 'BTL': 6272, 'BWI': 0, 'ACC': 16321}\n",
      "code w {'NCR': 0, 'FTL': 0, 'BTL': 0, 'BWI': 0, 'ACC': 30002}\n",
      "\n",
      "PE 3\n",
      "{'LML': 0, 'LMR': 8119, 'RMR': 0, 'RML': 8084, 'LM*': 2418, '*M*': 2852, '***': 3419, 'RM*': 2351, 'L**': 796, '**R': 1, 'R**': 823}\n",
      "{'LML': 0, 'LMR': 15127, 'RMR': 0, 'RML': 14875, 'LM*': 0, '*M*': 0, '***': 0, 'RM*': 0, 'L**': 0, '**R': 0, 'R**': 0}\n",
      "code {'NCR': 0, 'FTL': 5205, 'BTL': 6278, 'BWI': 0, 'ACC': 16200}\n",
      "code w {'NCR': 0, 'FTL': 0, 'BTL': 0, 'BWI': 0, 'ACC': 30002}\n",
      "\n",
      "PE 4\n",
      "{'LML': 0, 'LMR': 8808, 'RMR': 0, 'RML': 8699, 'LM*': 2336, '*M*': 2867, '***': 3404, 'RM*': 1804, 'L**': 755, '**R': 1, 'R**': 774}\n",
      "{'LML': 0, 'LMR': 15053, 'RMR': 0, 'RML': 14948, 'LM*': 0, '*M*': 0, '***': 0, 'RM*': 0, 'L**': 0, '**R': 0, 'R**': 0}\n",
      "code {'NCR': 0, 'FTL': 5070, 'BTL': 6274, 'BWI': 0, 'ACC': 17503}\n",
      "code w {'NCR': 0, 'FTL': 0, 'BTL': 0, 'BWI': 0, 'ACC': 30001}\n",
      "\n",
      "0 2880.6507144836323\n",
      "LMRlen 0 2880.6507144836323\n",
      "1 753.3196208191737\n",
      "LMRlen 1 753.3196208191737\n",
      "2 1552.801225490196\n",
      "LMRlen 2 1552.801225490196\n",
      "3 1552.5861472930428\n",
      "LMRlen 3 1552.5861472930428\n",
      "4 1534.2483144783453\n",
      "LMRlen 4 1534.2483144783453\n"
     ]
    }
   ],
   "source": [
    "# pathtype_cycles\n",
    "print(indir[-20:])\n",
    "pathtypes = (\"LML\", \"LMR\", \"RMR\", \"RML\", \"LM*\", \"*M*\", \"***\", \"RM*\", \"L**\", \"**R\", \"R**\")\n",
    "pathtype_cycles = {}\n",
    "pathtype_w = {}\n",
    "for i, pe in enumerate(pathensembles):\n",
    "    print(f\"PE {i}\")\n",
    "    for ptype in pathtypes:\n",
    "        pathtype_cycles[ptype] = np.sum((pathensembles[i].lmrs == ptype).astype(int))\n",
    "        pathtype_w[ptype] = np.sum(unwrap_by_weight((pathensembles[i].lmrs == ptype).astype(int), pathensembles[i].weights))\n",
    "    print(pathtype_cycles)\n",
    "    print(pathtype_w)\n",
    "\n",
    "    pathcodes = (\"NCR\", \"FTL\", \"BTL\", \"BWI\", \"ACC\")\n",
    "    pathcode_cycles = {}\n",
    "    pathcode_w = {}\n",
    "    for code in pathcodes:\n",
    "        pathcode_cycles[code] = np.sum((pathensembles[i].flags == code).astype(int))\n",
    "        pathcode_w[code] = np.sum(unwrap_by_weight((pathensembles[i].flags == code).astype(int), pathensembles[i].weights))\n",
    "    print(\"code\", pathcode_cycles)\n",
    "    print(\"code w\", pathcode_w)\n",
    "    print()\n",
    "\n",
    "for i in range(len(pathensembles)):\n",
    "    accmask = get_flag_mask(pathensembles[i], \"ACC\")\n",
    "    loadmask = get_generation_mask(pathensembles[i], \"ld\")\n",
    "    mask = get_lmr_masks(pathensembles[i])\n",
    "    print(i, np.average(select_with_masks(pathensembles[i].lengths, [~loadmask, accmask])))\n",
    "    print(\"LMRlen\", i, np.average(select_with_masks(pathensembles[i].lengths, [~loadmask, accmask])))"
   ]
  },
  {
   "cell_type": "code",
   "execution_count": 21,
   "metadata": {},
   "outputs": [
    {
     "name": "stdout",
     "output_type": "stream",
     "text": [
      "ensemble 0:\n",
      "# FTL: 2696, # BTL: 1274, # NCR: 0, # BWI: 0, # ILL: 0, tot: 3970\n",
      "mean uniform nr: 0.8099179117032288, variance: 0.17897297671600412\n",
      "ensemble 1:\n",
      "# FTL: 4954, # BTL: 6351, # NCR: 0, # BWI: 0, # ILL: 0, tot: 11305\n",
      "mean uniform nr: 0.7111631865615431, variance: 0.30345344329957274\n",
      "ensemble 2:\n",
      "# FTL: 5090, # BTL: 6272, # NCR: 0, # BWI: 0, # ILL: 0, tot: 11362\n",
      "mean uniform nr: 0.7188239699767731, variance: 0.28911990212547406\n",
      "ensemble 3:\n",
      "# FTL: 5205, # BTL: 6278, # NCR: 0, # BWI: 0, # ILL: 0, tot: 11483\n",
      "mean uniform nr: 0.7127396475366575, variance: 0.300720586592191\n",
      "ensemble 4:\n",
      "# FTL: 5070, # BTL: 6274, # NCR: 0, # BWI: 0, # ILL: 0, tot: 11344\n",
      "mean uniform nr: 0.6414261514341452, variance: 0.057818078757572645\n"
     ]
    }
   ],
   "source": [
    "for i in range(len(pathensembles)):\n",
    "    accmask = get_flag_mask(pathensembles[i], \"ACC\")\n",
    "    loadmask = get_generation_mask(pathensembles[i], \"ld\")\n",
    "    mask = get_lmr_masks(pathensembles[i])\n",
    "    btlnrs = pathensembles[i].cyclenumbers[pathensembles[i].flags == \"BTL\"]\n",
    "    btllens = pathensembles[i].lengths[pathensembles[i].flags == \"BTL\"]\n",
    "    ftlnrs = pathensembles[i].cyclenumbers[pathensembles[i].flags == \"FTL\"]\n",
    "    ftllens = pathensembles[i].lengths[pathensembles[i].flags == \"FTL\"]\n",
    "    ncrnrs = pathensembles[i].cyclenumbers[pathensembles[i].flags == \"NCR\"]\n",
    "    ncrlens = pathensembles[i].lengths[pathensembles[i].flags == \"NCR\"]\n",
    "    bwinrs = pathensembles[i].cyclenumbers[pathensembles[i].flags == \"BWI\"]\n",
    "    bwilens = pathensembles[i].lengths[pathensembles[i].flags == \"BWI\"]\n",
    "    illnrs = pathensembles[i].cyclenumbers[pathensembles[i].flags == \"ILL\"]\n",
    "    illlens = pathensembles[i].lengths[pathensembles[i].flags == \"ILL\"]\n",
    "\n",
    "    unis = []\n",
    "\n",
    "    for nr in btlnrs:\n",
    "        accid = nr\n",
    "        while pathensembles[i].flags[accid-1] != \"ACC\":\n",
    "            accid -= 1\n",
    "        unis.append((pathensembles[i].lengths[accid-1]-2)/(pathensembles[i].lengths[nr]-1))\n",
    "    for nr in ftlnrs:\n",
    "        accid = nr\n",
    "        while pathensembles[i].flags[accid-1] != \"ACC\":\n",
    "            accid -= 1\n",
    "        unis.append((pathensembles[i].lengths[accid-1]-2)/(pathensembles[i].lengths[nr]-2))\n",
    "    for nr in ncrnrs:\n",
    "        accid = nr\n",
    "        while pathensembles[i].flags[accid-1] != \"ACC\":\n",
    "            accid -= 1\n",
    "    for nr in bwinrs:\n",
    "        accid = nr\n",
    "        while pathensembles[i].flags[accid-1] != \"ACC\":\n",
    "            accid -= 1\n",
    "    \n",
    "    \n",
    "    print(f\"ensemble {i}:\")\n",
    "    print(f\"# FTL: {len(ftllens)}, # BTL: {len(btllens)}, # NCR: {len(ncrlens)}, # BWI: {len(bwilens)}, # ILL: {len(illlens)}, tot: {len(illlens)+len(ftllens)+len(btllens)+len(ncrlens)+len(bwilens)}\")\n",
    "    print(f\"mean uniform nr: {np.average(unis)}, variance: {np.var(unis)}\")"
   ]
  },
  {
   "cell_type": "code",
   "execution_count": 9,
   "metadata": {},
   "outputs": [
    {
     "ename": "NameError",
     "evalue": "name 'plot_rv_star' is not defined",
     "output_type": "error",
     "traceback": [
      "\u001b[0;31m---------------------------------------------------------------------------\u001b[0m",
      "\u001b[0;31mNameError\u001b[0m                                 Traceback (most recent call last)",
      "Cell \u001b[0;32mIn[9], line 4\u001b[0m\n\u001b[1;32m      2\u001b[0m     plot_rv_repptis(pathensembles, interfaces, \u001b[38;5;241m3\u001b[39m)\n\u001b[1;32m      3\u001b[0m \u001b[38;5;28;01melse\u001b[39;00m:\n\u001b[0;32m----> 4\u001b[0m     \u001b[43mplot_rv_star\u001b[49m(pathensembles, interfaces, \u001b[38;5;241m3\u001b[39m)\n",
      "\u001b[0;31mNameError\u001b[0m: name 'plot_rv_star' is not defined"
     ]
    }
   ],
   "source": [
    "if 'repptis' in fol:\n",
    "    plot_rv_repptis(pathensembles, interfaces, 3)\n",
    "else:\n",
    "    plot_rv_star(pathensembles, interfaces, 3)"
   ]
  },
  {
   "cell_type": "markdown",
   "metadata": {},
   "source": [
    "# Analysis"
   ]
  },
  {
   "cell_type": "code",
   "execution_count": 22,
   "metadata": {},
   "outputs": [
    {
     "name": "stdout",
     "output_type": "stream",
     "text": [
      "0\n",
      "Calculating path lengths.\n",
      "Done.\n",
      "Calculating first hitting lengths to middle interface\n",
      "Done.\n",
      "1\n",
      "Calculating path lengths.\n",
      "Done.\n",
      "Calculating first hitting lengths to middle interface\n",
      "Done.\n",
      "2\n",
      "Calculating path lengths.\n",
      "Done.\n",
      "Calculating first hitting lengths to middle interface\n",
      "Done.\n",
      "3\n",
      "Calculating path lengths.\n",
      "Done.\n",
      "Calculating first hitting lengths to middle interface\n",
      "Done.\n",
      "4\n",
      "Calculating path lengths.\n",
      "Done.\n",
      "Calculating first hitting lengths to middle interface\n",
      "Done.\n"
     ]
    }
   ],
   "source": [
    "# Setting path ensemble properties\n",
    "#==================================\n",
    "for i,fol in enumerate(folders):\n",
    "    print(i)\n",
    "    print(\"Calculating path lengths.\")\n",
    "    set_tau_distrib(pathensembles[i])\n",
    "    print(\"Done.\")\n",
    "\n",
    "    if True:\n",
    "        print(\"Calculating first hitting lengths to middle interface\")\n",
    "        set_tau_first_hit_M_distrib(pathensembles[i])\n",
    "        print(\"Done.\")"
   ]
  },
  {
   "cell_type": "code",
   "execution_count": 23,
   "metadata": {},
   "outputs": [
    {
     "name": "stdout",
     "output_type": "stream",
     "text": [
      "doing pathensemble 0\n",
      "doing pathensemble 1\n",
      "Weights of the different paths:\n",
      "wRMR = 0\n",
      "wRML = 15039\n",
      "wLMR = 14962\n",
      "wLML = 0\n",
      "Local crossing probabilities:\n",
      "pRMR = 0.0\n",
      "pRML = 1.0\n",
      "pLMR = 1.0\n",
      "pLML = 0.0\n",
      "Local crossing probabilities:\n",
      "p2R = 0.49871670944301855\n",
      "p2L = 0.5012832905569814\n",
      "doing pathensemble 2\n",
      "Weights of the different paths:\n",
      "wRMR = 0\n",
      "wRML = 14983\n",
      "wLMR = 15018\n",
      "wLML = 0\n",
      "Local crossing probabilities:\n",
      "pRMR = 0.0\n",
      "pRML = 1.0\n",
      "pLMR = 1.0\n",
      "pLML = 0.0\n",
      "Local crossing probabilities:\n",
      "p2R = 0.500583313889537\n",
      "p2L = 0.49941668611046297\n",
      "doing pathensemble 3\n",
      "Weights of the different paths:\n",
      "wRMR = 0\n",
      "wRML = 14875\n",
      "wLMR = 15126\n",
      "wLML = 0\n",
      "Local crossing probabilities:\n",
      "pRMR = 0.0\n",
      "pRML = 1.0\n",
      "pLMR = 1.0\n",
      "pLML = 0.0\n",
      "Local crossing probabilities:\n",
      "p2R = 0.5041831938935368\n",
      "p2L = 0.4958168061064631\n",
      "doing pathensemble 4\n",
      "Weights of the different paths:\n",
      "wRMR = 0\n",
      "wRML = 14948\n",
      "wLMR = 15052\n",
      "wLML = 0\n",
      "Local crossing probabilities:\n",
      "pRMR = 0.0\n",
      "pRML = 1.0\n",
      "pLMR = 1.0\n",
      "pLML = 0.0\n",
      "Local crossing probabilities:\n",
      "p2R = 0.5017333333333334\n",
      "p2L = 0.4982666666666667\n"
     ]
    }
   ],
   "source": [
    "# Analyze the pptis simulation.\n",
    "# Analysis output is saved to the data dictionary.\n",
    "data = {}\n",
    "for i, pe in enumerate(pathensembles):\n",
    "    print(\"doing pathensemble {}\".format(i))\n",
    "    if i == 0:\n",
    "        data[i] = {}\n",
    "        continue  # TODO: make [0-] analysis ???\n",
    "\n",
    "    # masks - TODO not used further on?\n",
    "    # TODO these functions are duplicate in repptis_analysis\n",
    "    #masks = get_lmr_masks(pe)\n",
    "    #loadmask = get_generation_mask(pe, \"ld\")\n",
    "    #print(\"Amount of loads: {}\".format(np.sum(loadmask)))\n",
    "    ##hardloadmask = get_hard_load_mask(loadmask)\n",
    "    #accmask = get_flag_mask(pe, \"ACC\")\n",
    "\n",
    "    # pathtype_cycles\n",
    "    pathtypes = (\"LML\", \"LMR\", \"RML\", \"RMR\")\n",
    "    pathtype_cycles = {}\n",
    "    for ptype in pathtypes:\n",
    "        pathtype_cycles[ptype] = unwrap_by_weight(\n",
    "                (pe.lmrs == ptype).astype(int), pe.weights)\n",
    "    \n",
    "    # running average analysis: [\"running\"]\n",
    "    data[i] = {}\n",
    "    data[i][\"running\"] = {}\n",
    "    data[i][\"running\"][\"plocal\"] = {}\n",
    "    # you'll still have to hardload select pe.weigths... TODO. # this is comment wouter?\n",
    "    for (ptype, p_loc) in zip(pathtypes, \n",
    "                              running_avg_local_probs(pathtype_cycles, \n",
    "                                                      pe.weights, tr = False)):\n",
    "        data[i][\"running\"][\"plocal\"][ptype] = p_loc\n",
    "\n",
    "    # analysis using all data: [\"full\"]\n",
    "    plocfull = get_local_probs(pe, tr=False)\n",
    "    data[i][\"full\"] = {}\n",
    "    for ptype in pathtypes:\n",
    "        data[i][\"full\"][ptype] = plocfull[ptype]\n",
    "\n",
    "    # data[i] have now [\"full\"] and [\"running\"]"
   ]
  },
  {
   "cell_type": "code",
   "execution_count": 24,
   "metadata": {
    "scrolled": true
   },
   "outputs": [
    {
     "name": "stdout",
     "output_type": "stream",
     "text": [
      "Are all weights 1?  True\n",
      "Are all paths accepted?  True\n",
      "Are all weights 1?  True\n",
      "Are all paths accepted?  True\n",
      "Are all weights 1?  True\n",
      "Are all paths accepted?  True\n",
      "Are all weights 1?  True\n",
      "Are all paths accepted?  True\n",
      "Are all weights 1?  True\n",
      "Are all paths accepted?  True\n"
     ]
    }
   ],
   "source": [
    "\n",
    "for i, pe in enumerate(pathensembles):\n",
    "    upe = pe.unify_pe()\n",
    "    # Pathlength distribution\n",
    "    data[i][\"pathlengths\"] = pathlength_distr(upe)  # these might be used later or not! TODO\n",
    "        \n",
    "#=======================================\n",
    "# make figures\n",
    "makefigs = True \n",
    "if makefigs:\n",
    "    for i, pe in enumerate(pathensembles):     \n",
    "        if i == 0:\n",
    "            continue\n",
    "        # Cross distances distribution\n",
    "        L, M, R, lmlpercs, lmllambs, rmrpercs, rmrlambs = cross_dist_distr(pe)\n",
    "        fig,ax = plt.subplots()\n",
    "        ax.plot(lmllambs, lmlpercs, lw=1, c=\"g\")\n",
    "        ax.plot(rmrlambs, rmrpercs, lw=1, c=\"r\")\n",
    "        for lamb in (L,M,R):\n",
    "            ax.axvline(lamb, color='k', linestyle='--', lw = 0.5)\n",
    "        ax.set_xlabel('Cross distance')\n",
    "        ax.set_ylabel('Frequency')\n",
    "        ax.set_title(\"Ensemble {}. L = {}, M = {}, R = {}\".format(\n",
    "            pe.name, L, M, R))\n",
    "        ax.set_ylim(0)\n",
    "        fig.savefig(f\"pathensemble_{i}_crossdist.pdf\")\n",
    "        plt.close(fig)\n",
    "\n",
    "        # Pathlength distribution      \n",
    "        for ptype in pathtypes:\n",
    "            fig, ax = plt.subplots()\n",
    "            ax.plot(data[i][\"pathlengths\"][ptype][\"bin_centers\"], \n",
    "                data[i][\"pathlengths\"][ptype][\"hist\"])\n",
    "            ax.set_xlabel('Pathlength')\n",
    "            ax.set_ylabel('Frequency')\n",
    "            ax.set_title(f\"{np.sum(data[i]['pathlengths'][ptype]['hist'])} \" + \\\n",
    "                         f\"{ptype} paths. \")\n",
    "            ax.legend([f\"mean = {data[i]['pathlengths'][ptype]['mean']:.2f}, \" + \\\n",
    "                          f\"std = {data[i]['pathlengths'][ptype]['std']:.2f}\"])\n",
    "            fig.savefig(f\"pathensemble_{i}_pathlength_{ptype}.pdf\")\n",
    "            plt.close(fig)"
   ]
  },
  {
   "cell_type": "markdown",
   "metadata": {},
   "source": [
    "# Pcross with recursive relations"
   ]
  },
  {
   "cell_type": "code",
   "execution_count": 26,
   "metadata": {},
   "outputs": [],
   "source": [
    "# Global crossing probabilities\n",
    "# WITHOUT ERRORS #  \n",
    "# Full data \n",
    "psfull = []\n",
    "for i in range(1, len(pathensembles)):   # do not use the 0- ensemble\n",
    "    psfull.append({\"LMR\": data[i][\"full\"][\"LMR\"], \n",
    "               \"RML\": data[i][\"full\"][\"RML\"], \n",
    "               \"RMR\": data[i][\"full\"][\"RMR\"],\n",
    "               \"LML\": data[i][\"full\"][\"LML\"]})\n",
    "\n",
    "Pminfull, Pplusfull, Pcrossfull = get_global_probs_from_dict(psfull)"
   ]
  },
  {
   "cell_type": "code",
   "execution_count": 27,
   "metadata": {},
   "outputs": [
    {
     "name": "stderr",
     "output_type": "stream",
     "text": [
      "/tmp/ipykernel_133421/76830505.py:42: UserWarning: FigureCanvasAgg is non-interactive, and thus cannot be shown\n",
      "  fig.show()\n"
     ]
    },
    {
     "name": "stdout",
     "output_type": "stream",
     "text": [
      "This should be the same as the repptis_report.pdf value: 1.0\n",
      "which is the case!\n",
      "[1.0, 1.0, 1.0, 1.0]\n",
      "[1.0, 1.0, 1.0]\n",
      "Here, the load immediately disappeared. For a simulation where this is\n",
      "not the case, the above code should be adapted a little bit.\n"
     ]
    },
    {
     "data": {
      "image/png": "[encoded data removed]",
      "text/plain": [
       "<Figure size 640x480 with 1 Axes>"
      ]
     },
     "metadata": {},
     "output_type": "display_data"
    }
   ],
   "source": [
    "# Make a figure of the global crossing probabilities\n",
    "fig, ax = plt.subplots()\n",
    "ax.set_yscale(\"log\")\n",
    "ax.plot(Pcrossfull, \"o\", c = \"r\")\n",
    "ax.errorbar([i for i in range(len(Pcrossfull))], Pcrossfull, fmt=\"-o\", c = \"b\", ecolor=\"r\", capsize=6)\n",
    "\n",
    "\n",
    "# cosdip meta\n",
    "# ax.errorbar([i for i in range(7)], Pcrossfull, yerr=[0, 0.004830, Pcrossfull[2]*0.05068988646, Pcrossfull[3]*0.05189862680, Pcrossfull[4]*0.05071184896, Pcrossfull[5]*0.05083284286, Pcrossfull[6]*0.05067963543], fmt=\"-o\", c = \"b\", ecolor=\"r\", capsize=6)\n",
    "\n",
    "# cosbump meta\n",
    "# ax.errorbar([i for i in range(7)], Pcrossfull, yerr=[0, 0.002535, Pcrossfull[2]*0.04393065503, Pcrossfull[3]*0.04910273500, Pcrossfull[4]*0.05239942040, Pcrossfull[5]*0.05789033634, Pcrossfull[6]*0.0614468], fmt=\"-o\", c = \"b\", ecolor=\"r\", capsize=6)\n",
    "\n",
    "# cosbump meta true\n",
    "# ax.errorbar([i for i in range(7)], Pcrossfull, yerr=[0, 0.002629, Pcrossfull[2]*0.03973528878, Pcrossfull[3]*0.03900922030, Pcrossfull[4]*0.05239942040, Pcrossfull[5]*0.03734118282, Pcrossfull[6]*0.03899369101], fmt=\"-o\", c = \"b\", ecolor=\"r\", capsize=6)\n",
    "\n",
    "# 2 cosdips\n",
    "# ax.errorbar([i for i in range(5)], Pcrossfull, yerr=[0, 0.007239, Pcrossfull[2]*0.0414296, Pcrossfull[3]*0.0445266, Pcrossfull[4]*0.0483538], fmt=\"-o\", c = \"b\", ecolor=\"r\", capsize=6)\n",
    "\n",
    "# 3 cosbumps\n",
    "# ax.errorbar([i for i in range(7)], Pcrossfull, yerr=[0, 0.002295, Pcrossfull[2]*0.0328798, Pcrossfull[3]*0.031594, Pcrossfull[4]*0.031474, Pcrossfull[5]*0.03080392, Pcrossfull[6]*0.0308589], fmt=\"-o\", c = \"b\", ecolor=\"r\", capsize=6)\n",
    "\n",
    "# 2 cosbumps\n",
    "#ax.errorbar([i for i in range(5)], Pcrossfull, yerr=[0, 0.002768, Pcrossfull[2]*0.04440278, Pcrossfull[3]*0.043053, Pcrossfull[4]*0.0463156], fmt=\"-o\", c = \"b\", ecolor=\"r\", capsize=6)\n",
    "\n",
    "# 2 cosbumps Langevin\n",
    "# ax.errorbar([i for i in range(5)], Pcrossfull, yerr=[0, 0.006395, Pcrossfull[2]*0.02092401277, Pcrossfull[3]*0.01899419954, Pcrossfull[4]*0.01929952226], fmt=\"-o\", c = \"b\", ecolor=\"r\", capsize=6)\n",
    "\n",
    "# flat dt=0.00002 30k cycles\n",
    "# ax.errorbar([i for i in range(5)], Pcrossfull, yerr=[0, 0.003294, Pcrossfull[2]*0.07640968, Pcrossfull[3]*0.07789262, Pcrossfull[4]*0.0812692], fmt=\"-o\", c = \"b\", ecolor=\"r\", capsize=6)\n",
    "\n",
    "# flat 100k cycles\n",
    "# ax.errorbar([i for i in range(5)], Pcrossfull, yerr=[0, 0.002741, Pcrossfull[2]*0.034092, Pcrossfull[3]*0.033621, Pcrossfull[4]*0.0398], fmt=\"-o\", c = \"b\", ecolor=\"r\", capsize=6)\n",
    "\n",
    "# flat Langevin\n",
    "# ax.errorbar([i for i in range(5)], Pcrossfull, yerr=[0, 0.013684, Pcrossfull[2]*0.0825226801, Pcrossfull[3]*0.01027325454, Pcrossfull[4]*0.02130629112], fmt=\"-o\", c = \"b\", ecolor=\"r\", capsize=6)\n",
    "\n",
    "ax.set_xlabel(\"intf\")\n",
    "ax.set_ylabel(r\"$P_A(\\lambda_i|\\lambda_A)$\")\n",
    "ax.set_xticks(np.arange(len(interfaces)))\n",
    "fig.tight_layout()\n",
    "fig.show()\n",
    "fig.savefig(\"Global_probs.pdf\")\n",
    "\n",
    "print(\"This should be the same as the repptis_report.pdf value:\", Pcrossfull[-1])\n",
    "print(\"which is the case!\")\n",
    "print(Pcrossfull)\n",
    "print([Pcrossfull[i]/Pcrossfull[i-1] for i in range(1,len(Pcrossfull))])\n",
    "print(\"Here, the load immediately disappeared. For a simulation where this is\")\n",
    "print(\"not the case, the above code should be adapted a little bit.\")"
   ]
  },
  {
   "cell_type": "code",
   "execution_count": 28,
   "metadata": {},
   "outputs": [
    {
     "name": "stdout",
     "output_type": "stream",
     "text": [
      "This should be the same as the repptis_report.pdf value: 1.0\n"
     ]
    }
   ],
   "source": [
    "# TODO I am not sure what this is\n",
    "\n",
    "# Construct lists of the local probs\n",
    "\n",
    "# Or we can use the get_global_probz function, using lists of the local probs\n",
    "# These do not use the 0- ensemble\n",
    "pmps = [data[i][\"full\"][\"LMR\"] for i in range(1,len(pathensembles))]\n",
    "pmms = [data[i][\"full\"][\"LML\"] for i in range(1,len(pathensembles))]\n",
    "ppps = [data[i][\"full\"][\"RMR\"] for i in range(1,len(pathensembles))]\n",
    "ppms = [data[i][\"full\"][\"RML\"] for i in range(1,len(pathensembles))]\n",
    "a,b,c = get_global_probs_from_local(pmps, pmms, ppps, ppms)\n",
    "print(\"This should be the same as the repptis_report.pdf value:\", c[-1])"
   ]
  },
  {
   "cell_type": "markdown",
   "metadata": {},
   "source": [
    "# Now work with MSM"
   ]
  },
  {
   "cell_type": "code",
   "execution_count": 30,
   "metadata": {},
   "outputs": [],
   "source": [
    "from tistools import construct_M\n",
    "from tistools import global_pcross_msm\n",
    "from tistools import mfpt_to_first_last_state, mfpt_to_absorbing_states\n",
    "\n",
    "from tistools import create_labels_states"
   ]
  },
  {
   "cell_type": "code",
   "execution_count": 31,
   "metadata": {},
   "outputs": [],
   "source": [
    "def print_vector(g, states=None):\n",
    "    if states is None:\n",
    "        for i in range(len(g)):\n",
    "            print(\"state\", i, g[i])\n",
    "    else:\n",
    "        for i in range(len(g)):\n",
    "            print(\"state\", states[i], g[i][0])"
   ]
  },
  {
   "cell_type": "code",
   "execution_count": 32,
   "metadata": {},
   "outputs": [
    {
     "name": "stdout",
     "output_type": "stream",
     "text": [
      "[-0.1, 0.0, 0.1, 0.2, 0.3]\n",
      "N 5\n",
      "len pmms 4\n",
      "NS 15\n"
     ]
    }
   ],
   "source": [
    "print(interfaces)\n",
    "N = len(interfaces)\n",
    "# assert N >= 4\n",
    "NS = 4*N-5\n",
    "print(\"N\", N)\n",
    "print(\"len pmms\", len(pmms))\n",
    "print(\"NS\", NS)\n",
    "\n",
    "#labels2 = [\"0+- LML\",\"0+- LMR\",\"0+- RML\",\"1+- LML\",\"1+- LMR\",\n",
    "#           \"1+- RML\", \"1+- RMR\", \"2+- LML\", \"2+- LMR\",\n",
    "#           \"2+- RML\", \"2+- RMR\", \"3+- LML\", \"3+- LMR\",]\n",
    "labels1, labels2 = create_labels_states(N)"
   ]
  },
  {
   "cell_type": "code",
   "execution_count": 33,
   "metadata": {},
   "outputs": [
    {
     "name": "stdout",
     "output_type": "stream",
     "text": [
      "mm [0.0, 0.0, 0.0, 0.0]\n",
      "mp [1.0, 1.0, 1.0, 1.0]\n",
      "pm [1.0, 1.0, 1.0, 1.0]\n",
      "pp [0.0, 0.0, 0.0, 0.0]\n",
      "sum [1. 1. 1. 1.]\n",
      "sum [1. 1. 1. 1.]\n"
     ]
    }
   ],
   "source": [
    "print(\"mm\", pmms)\n",
    "print(\"mp\", pmps)\n",
    "print(\"pm\", ppms)\n",
    "print(\"pp\", ppps)\n",
    "print(\"sum\", np.array(pmms)+np.array(pmps))\n",
    "print(\"sum\", np.array(ppms)+np.array(ppps))\n",
    "M = construct_M(pmms, pmps, ppms, ppps, N)\n",
    "\n",
    "#Local crossing probabilities:\n",
    "#pRMR = 0.34205627942625644.  #ppps\n",
    "#pRML = 0.6579437205737436.   #ppms\n",
    "#pLMR = 0.25316455696202533.  #pmps\n",
    "#pLML = 0.7468354430379747.   #pmms"
   ]
  },
  {
   "cell_type": "code",
   "execution_count": 34,
   "metadata": {
    "scrolled": true
   },
   "outputs": [
    {
     "name": "stdout",
     "output_type": "stream",
     "text": [
      "M\n",
      "shape (15, 15)\n",
      "sum prob in rows [1. 1. 1. 1. 1. 1. 1. 1. 1. 1. 1. 1. 1. 1. 1.]\n",
      "[[0. 0. 1. 0. 0. 0. 0. 0. 0. 0. 0. 0. 0. 0. 0.]\n",
      " [1. 0. 0. 0. 0. 0. 0. 0. 0. 0. 0. 0. 0. 0. 0.]\n",
      " [0. 0. 0. 0. 0. 1. 0. 0. 0. 0. 0. 0. 0. 0. 0.]\n",
      " [1. 0. 0. 0. 0. 0. 0. 0. 0. 0. 0. 0. 0. 0. 0.]\n",
      " [0. 0. 0. 1. 0. 0. 0. 0. 0. 0. 0. 0. 0. 0. 0.]\n",
      " [0. 0. 0. 0. 0. 0. 0. 0. 0. 1. 0. 0. 0. 0. 0.]\n",
      " [0. 0. 0. 1. 0. 0. 0. 0. 0. 0. 0. 0. 0. 0. 0.]\n",
      " [0. 0. 0. 0. 0. 0. 0. 0. 0. 1. 0. 0. 0. 0. 0.]\n",
      " [0. 0. 0. 0. 0. 0. 1. 0. 0. 0. 0. 0. 0. 0. 0.]\n",
      " [0. 0. 0. 0. 0. 0. 0. 0. 0. 0. 0. 0. 0. 1. 0.]\n",
      " [0. 0. 0. 0. 0. 0. 1. 0. 0. 0. 0. 0. 0. 0. 0.]\n",
      " [0. 0. 0. 0. 0. 0. 0. 0. 0. 0. 0. 0. 0. 1. 0.]\n",
      " [0. 0. 0. 0. 0. 0. 0. 0. 0. 0. 1. 0. 0. 0. 0.]\n",
      " [0. 0. 0. 0. 0. 0. 0. 0. 0. 0. 0. 0. 0. 0. 1.]\n",
      " [1. 0. 0. 0. 0. 0. 0. 0. 0. 0. 0. 0. 0. 0. 0.]]\n"
     ]
    }
   ],
   "source": [
    "print(\"M\")\n",
    "print(\"shape\", M.shape)\n",
    "print(\"sum prob in rows\", np.sum(M,axis=1))\n",
    "print(M)\n",
    "# row 8, 10, 12, 14. # counting starts from 0   not okay!!!!"
   ]
  },
  {
   "cell_type": "markdown",
   "metadata": {},
   "source": [
    "# Look at this Markov model"
   ]
  },
  {
   "cell_type": "code",
   "execution_count": 35,
   "metadata": {},
   "outputs": [
    {
     "name": "stdout",
     "output_type": "stream",
     "text": [
      "[ 0. +0.j         0. +0.j         0. +0.j         0. +0.j\n",
      "  0. +0.j         0. +0.j         0. +0.j         0. +0.j\n",
      "  0. +0.j        -1. +0.j        -0.5+0.8660254j -0.5-0.8660254j\n",
      "  0.5+0.8660254j  0.5-0.8660254j  1. +0.j       ]\n",
      "[-1. +0.j        -0.5+0.8660254j -0.5-0.8660254j  0.5+0.8660254j\n",
      "  0.5-0.8660254j  1. +0.j         0. +0.j         0. +0.j\n",
      "  0. +0.j         0. +0.j         0. +0.j         0. +0.j\n",
      "  0. +0.j         0. +0.j         0. +0.j       ]\n",
      "array([[0., 0., 1., 0., 0., 0., 0., 0., 0., 0., 0., 0., 0., 0., 0.],\n",
      "       [1., 0., 0., 0., 0., 0., 0., 0., 0., 0., 0., 0., 0., 0., 0.],\n",
      "       [0., 0., 0., 0., 0., 1., 0., 0., 0., 0., 0., 0., 0., 0., 0.],\n",
      "       [1., 0., 0., 0., 0., 0., 0., 0., 0., 0., 0., 0., 0., 0., 0.],\n",
      "       [0., 0., 0., 1., 0., 0., 0., 0., 0., 0., 0., 0., 0., 0., 0.],\n",
      "       [0., 0., 0., 0., 0., 0., 0., 0., 0., 1., 0., 0., 0., 0., 0.],\n",
      "       [0., 0., 0., 1., 0., 0., 0., 0., 0., 0., 0., 0., 0., 0., 0.],\n",
      "       [0., 0., 0., 0., 0., 0., 0., 0., 0., 1., 0., 0., 0., 0., 0.],\n",
      "       [0., 0., 0., 0., 0., 0., 1., 0., 0., 0., 0., 0., 0., 0., 0.],\n",
      "       [0., 0., 0., 0., 0., 0., 0., 0., 0., 0., 0., 0., 0., 1., 0.],\n",
      "       [0., 0., 0., 0., 0., 0., 1., 0., 0., 0., 0., 0., 0., 0., 0.],\n",
      "       [0., 0., 0., 0., 0., 0., 0., 0., 0., 0., 0., 0., 0., 1., 0.],\n",
      "       [0., 0., 0., 0., 0., 0., 0., 0., 0., 0., 1., 0., 0., 0., 0.],\n",
      "       [0., 0., 0., 0., 0., 0., 0., 0., 0., 0., 0., 0., 0., 0., 1.],\n",
      "       [1., 0., 0., 0., 0., 0., 0., 0., 0., 0., 0., 0., 0., 0., 0.]])\n"
     ]
    }
   ],
   "source": [
    "#import numpy.linalg\n",
    "vals, vecs = np.linalg.eig(M)\n",
    "print(vals)\n",
    "vals, vecs = np.linalg.eig(M.T)\n",
    "print(vals)\n",
    "pprint(M)"
   ]
  },
  {
   "cell_type": "code",
   "execution_count": 36,
   "metadata": {
    "scrolled": true
   },
   "outputs": [
    {
     "name": "stdout",
     "output_type": "stream",
     "text": [
      "what if chain propagates\n",
      "A[0,:]\n",
      "[0. 0. 0. 0. 0. 1. 0. 0. 0. 0. 0. 0. 0. 0. 0.]\n",
      "1.0\n",
      "[0. 0. 0. 0. 0. 0. 0. 0. 0. 1. 0. 0. 0. 0. 0.]\n",
      "1.0\n",
      "[0. 0. 0. 0. 0. 0. 0. 0. 0. 0. 0. 0. 0. 1. 0.]\n",
      "1.0\n",
      "[0. 0. 0. 0. 0. 0. 0. 0. 0. 0. 0. 0. 0. 0. 1.]\n",
      "1.0\n",
      "[1. 0. 0. 0. 0. 0. 0. 0. 0. 0. 0. 0. 0. 0. 0.]\n",
      "1.0\n",
      "[0. 0. 1. 0. 0. 0. 0. 0. 0. 0. 0. 0. 0. 0. 0.]\n",
      "1.0\n",
      "[0. 0. 0. 0. 0. 1. 0. 0. 0. 0. 0. 0. 0. 0. 0.]\n",
      "1.0\n",
      "[0. 0. 0. 0. 0. 0. 0. 0. 0. 1. 0. 0. 0. 0. 0.]\n",
      "1.0\n",
      "[0. 0. 0. 0. 0. 0. 0. 0. 0. 0. 0. 0. 0. 1. 0.]\n",
      "1.0\n",
      "[0. 0. 0. 0. 0. 0. 0. 0. 0. 0. 0. 0. 0. 0. 1.]\n",
      "1.0\n"
     ]
    }
   ],
   "source": [
    "print(\"what if chain propagates\")\n",
    "print(\"A[0,:]\")\n",
    "# check stationary behavior\n",
    "A = M\n",
    "for n in range(10):\n",
    "    A = np.dot(A,M)\n",
    "    #print(A)\n",
    "    print(A[0,:])\n",
    "    print(np.sum(A[0,:]))  # is 1 indeed"
   ]
  },
  {
   "cell_type": "markdown",
   "metadata": {},
   "source": [
    "# Pcross with MSM"
   ]
  },
  {
   "cell_type": "code",
   "execution_count": 38,
   "metadata": {},
   "outputs": [
    {
     "name": "stdout",
     "output_type": "stream",
     "text": [
      "Z\n",
      "state 0-      0\n",
      "state B       1\n",
      "state 0+- LML 0.0\n",
      "state 0+- LMR 1.0\n",
      "state 0+- RML 0.0\n",
      "state 1+- LML 0.0\n",
      "state 1+- LMR 1.0\n",
      "state 1+- RML 0.0\n",
      "state 1+- RMR 1.0\n",
      "state 2+- LML 0.0\n",
      "state 2+- LMR 1.0\n",
      "state 2+- RML 0.0\n",
      "state 2+- RMR 1.0\n",
      "state 3+- LML 0.0\n",
      "state 3+- LMR 1.0\n",
      "Y\n",
      "state 0-      1.0\n",
      "state B       0.0\n",
      "state 0+- LML 0.0\n",
      "state 0+- LMR 1.0\n",
      "state 0+- RML 0.0\n",
      "state 1+- LML 0.0\n",
      "state 1+- LMR 1.0\n",
      "state 1+- RML 0.0\n",
      "state 1+- RMR 1.0\n",
      "state 2+- LML 0.0\n",
      "state 2+- LMR 1.0\n",
      "state 2+- RML 0.0\n",
      "state 2+- RMR 1.0\n",
      "state 3+- LML 0.0\n",
      "state 3+- LMR 1.0\n",
      "global crossing prob [1.]\n"
     ]
    }
   ],
   "source": [
    "# global crossing prob\n",
    "z1, z2, y1, y2 = global_pcross_msm(M)\n",
    "print(\"Z\")\n",
    "print_vector(z1, labels1)\n",
    "print_vector(z2, labels2)\n",
    "print(\"Y\")\n",
    "print_vector(y1, labels1)\n",
    "print_vector(y2, labels2)\n",
    "print(\"global crossing prob\", y1[0])"
   ]
  },
  {
   "cell_type": "markdown",
   "metadata": {},
   "source": [
    "# Collecting times"
   ]
  },
  {
   "cell_type": "code",
   "execution_count": 39,
   "metadata": {},
   "outputs": [],
   "source": [
    "def print_all_tau(pathensembles, taumm, taump, taupm, taupp):\n",
    "    # print all tau\n",
    "    print(f\"                  mm            mp            pm            pp\")\n",
    "    for i in range(len(pathensembles)):\n",
    "        print(f\"{i} {pathensembles[i].name}  {taumm[i]:13.1f} {taump[i]:13.1f} {taupm[i]:13.1f} {taupp[i]:13.1f}\")"
   ]
  },
  {
   "cell_type": "code",
   "execution_count": 40,
   "metadata": {},
   "outputs": [
    {
     "name": "stdout",
     "output_type": "stream",
     "text": [
      "Collect tau\n",
      "ensemble 0 /mnt/0bf0c339-34bb-4500-a5fb-f3c2a863de29/DATA/MSM-REPPTIS/1D-experiments/REPPTIS/000\n",
      "ensemble 1 /mnt/0bf0c339-34bb-4500-a5fb-f3c2a863de29/DATA/MSM-REPPTIS/1D-experiments/REPPTIS/001\n",
      "ensemble 2 /mnt/0bf0c339-34bb-4500-a5fb-f3c2a863de29/DATA/MSM-REPPTIS/1D-experiments/REPPTIS/002\n",
      "ensemble 3 /mnt/0bf0c339-34bb-4500-a5fb-f3c2a863de29/DATA/MSM-REPPTIS/1D-experiments/REPPTIS/003\n",
      "ensemble 4 /mnt/0bf0c339-34bb-4500-a5fb-f3c2a863de29/DATA/MSM-REPPTIS/1D-experiments/REPPTIS/004\n",
      "Collect tau1\n",
      "Collect tau2\n",
      "Collect taum\n"
     ]
    }
   ],
   "source": [
    "tau_mm, tau_mp, tau_pm, tau_pp = collect_tau(pathensembles)\n",
    "tau1_mm, tau1_mp, tau1_pm, tau1_pp = collect_tau1(pathensembles)\n",
    "tau2_mm, tau2_mp, tau2_pm, tau2_pp = collect_tau2(pathensembles)\n",
    "taum_mm, taum_mp, taum_pm, taum_pp = collect_taum(pathensembles)"
   ]
  },
  {
   "cell_type": "code",
   "execution_count": 41,
   "metadata": {},
   "outputs": [
    {
     "name": "stdout",
     "output_type": "stream",
     "text": [
      "tau\n",
      "                  mm            mp            pm            pp\n",
      "0 /mnt/0bf0c339-34bb-4500-a5fb-f3c2a863de29/DATA/MSM-REPPTIS/1D-experiments/REPPTIS/000            nan           nan           nan        2837.4\n",
      "1 /mnt/0bf0c339-34bb-4500-a5fb-f3c2a863de29/DATA/MSM-REPPTIS/1D-experiments/REPPTIS/001            nan         618.9         621.5           nan\n",
      "2 /mnt/0bf0c339-34bb-4500-a5fb-f3c2a863de29/DATA/MSM-REPPTIS/1D-experiments/REPPTIS/002            nan        1246.4        1264.3           nan\n",
      "3 /mnt/0bf0c339-34bb-4500-a5fb-f3c2a863de29/DATA/MSM-REPPTIS/1D-experiments/REPPTIS/003            nan        1239.7        1269.8           nan\n",
      "4 /mnt/0bf0c339-34bb-4500-a5fb-f3c2a863de29/DATA/MSM-REPPTIS/1D-experiments/REPPTIS/004            nan        1266.9        1274.2           nan\n",
      "\n",
      "tau1\n",
      "                  mm            mp            pm            pp\n",
      "0 /mnt/0bf0c339-34bb-4500-a5fb-f3c2a863de29/DATA/MSM-REPPTIS/1D-experiments/REPPTIS/000            nan           nan           nan           0.0\n",
      "1 /mnt/0bf0c339-34bb-4500-a5fb-f3c2a863de29/DATA/MSM-REPPTIS/1D-experiments/REPPTIS/001            nan           0.0         621.5           nan\n",
      "2 /mnt/0bf0c339-34bb-4500-a5fb-f3c2a863de29/DATA/MSM-REPPTIS/1D-experiments/REPPTIS/002            nan         623.2         632.1           nan\n",
      "3 /mnt/0bf0c339-34bb-4500-a5fb-f3c2a863de29/DATA/MSM-REPPTIS/1D-experiments/REPPTIS/003            nan         619.8         634.9           nan\n",
      "4 /mnt/0bf0c339-34bb-4500-a5fb-f3c2a863de29/DATA/MSM-REPPTIS/1D-experiments/REPPTIS/004            nan         633.5         637.1           nan\n",
      "\n",
      "taum\n",
      "                  mm            mp            pm            pp\n",
      "0 /mnt/0bf0c339-34bb-4500-a5fb-f3c2a863de29/DATA/MSM-REPPTIS/1D-experiments/REPPTIS/000            0.0           0.0           0.0        2837.4\n",
      "1 /mnt/0bf0c339-34bb-4500-a5fb-f3c2a863de29/DATA/MSM-REPPTIS/1D-experiments/REPPTIS/001            0.0           0.0           0.0           0.0\n",
      "2 /mnt/0bf0c339-34bb-4500-a5fb-f3c2a863de29/DATA/MSM-REPPTIS/1D-experiments/REPPTIS/002            0.0           0.0           0.0           0.0\n",
      "3 /mnt/0bf0c339-34bb-4500-a5fb-f3c2a863de29/DATA/MSM-REPPTIS/1D-experiments/REPPTIS/003            0.0           0.0           0.0           0.0\n",
      "4 /mnt/0bf0c339-34bb-4500-a5fb-f3c2a863de29/DATA/MSM-REPPTIS/1D-experiments/REPPTIS/004            0.0           0.0           0.0           0.0\n",
      "\n",
      "tau2\n",
      "                  mm            mp            pm            pp\n",
      "0 /mnt/0bf0c339-34bb-4500-a5fb-f3c2a863de29/DATA/MSM-REPPTIS/1D-experiments/REPPTIS/000            nan           nan           nan           0.0\n",
      "1 /mnt/0bf0c339-34bb-4500-a5fb-f3c2a863de29/DATA/MSM-REPPTIS/1D-experiments/REPPTIS/001            nan         618.9           0.0           nan\n",
      "2 /mnt/0bf0c339-34bb-4500-a5fb-f3c2a863de29/DATA/MSM-REPPTIS/1D-experiments/REPPTIS/002            nan         623.2         632.1           nan\n",
      "3 /mnt/0bf0c339-34bb-4500-a5fb-f3c2a863de29/DATA/MSM-REPPTIS/1D-experiments/REPPTIS/003            nan         619.8         634.9           nan\n",
      "4 /mnt/0bf0c339-34bb-4500-a5fb-f3c2a863de29/DATA/MSM-REPPTIS/1D-experiments/REPPTIS/004            nan         633.4         637.1           nan\n"
     ]
    }
   ],
   "source": [
    "print(\"tau\")\n",
    "print_all_tau(pathensembles, tau_mm, tau_mp, tau_pm, tau_pp)\n",
    "print(\"\\ntau1\")\n",
    "print_all_tau(pathensembles, tau1_mm, tau1_mp, tau1_pm, tau1_pp)\n",
    "print(\"\\ntaum\")\n",
    "print_all_tau(pathensembles, taum_mm, taum_mp, taum_pm, taum_pp)\n",
    "print(\"\\ntau2\")\n",
    "print_all_tau(pathensembles, tau2_mm, tau2_mp, tau2_pm, tau2_pp)"
   ]
  },
  {
   "cell_type": "code",
   "execution_count": 42,
   "metadata": {},
   "outputs": [],
   "source": [
    "def construct_tau_vector(N, NS, taumm, taump, taupm, taupp):\n",
    "    assert N>=3\n",
    "    assert NS==4*N-5\n",
    "    assert len(taumm) == N\n",
    "    assert len(taump) == N\n",
    "    assert len(taupm) == N\n",
    "    assert len(taupp) == N\n",
    "    # unravel the values into one vector\n",
    "    tau = np.zeros(NS)\n",
    "    # [0-]\n",
    "    tau[0] = taupp[0]\n",
    "    # [0+-]\n",
    "    tau[1] = taumm[1]\n",
    "    tau[2] = taump[1]\n",
    "    tau[3] = taupm[1]\n",
    "    # [1+-] etc\n",
    "    for i in range(1,N-2):\n",
    "        tau[4*i]   = taumm[i+1]\n",
    "        tau[4*i+1] = taump[i+1]\n",
    "        tau[4*i+2] = taupm[i+1]\n",
    "        tau[4*i+3] = taupp[i+1]\n",
    "    # [(N-2)^(-1)]\n",
    "    tau[-3] = taumm[-1]\n",
    "    tau[-2] = taump[-1]\n",
    "    # B\n",
    "    tau[-1] = 0.   # whatever\n",
    "    return tau"
   ]
  },
  {
   "cell_type": "code",
   "execution_count": 43,
   "metadata": {
    "scrolled": true
   },
   "outputs": [
    {
     "name": "stdout",
     "output_type": "stream",
     "text": [
      "tau\n",
      "[2837.39300713           nan  618.92053733  621.52609881           nan\n",
      " 1246.39410081 1264.25568978           nan           nan 1239.68433926\n",
      " 1269.77478992           nan           nan 1266.91636219    0.        ]\n",
      "\n",
      "\n",
      "tau1\n",
      "[  0.                  nan   0.         621.51971541          nan\n",
      " 623.18543179 632.12934659          nan          nan 619.83235275\n",
      " 634.88517647          nan          nan 633.46535574   0.        ]\n",
      "taum\n",
      "[2.83739301e+03 0.00000000e+00 5.94800508e-03 6.38340315e-03\n",
      " 0.00000000e+00 5.92582729e-03 5.07241540e-03 0.00000000e+00\n",
      " 0.00000000e+00 7.00733787e-03 6.18487395e-03 0.00000000e+00\n",
      " 0.00000000e+00 6.17817046e-03 0.00000000e+00]\n",
      "tau2\n",
      "[  0.                  nan 618.91458932   0.                  nan\n",
      " 623.20274319 632.12127077          nan          nan 619.84497918\n",
      " 634.88342857          nan          nan 633.44482827   0.        ]\n",
      "\n",
      "\n",
      "tau = tau1+taum+tau2 => difference is nan\n"
     ]
    }
   ],
   "source": [
    "tau  = construct_tau_vector(N, NS, tau_mm, tau_mp, tau_pm, tau_pp)\n",
    "tau1 = construct_tau_vector(N, NS, tau1_mm, tau1_mp, tau1_pm, tau1_pp)\n",
    "taum = construct_tau_vector(N, NS, taum_mm, taum_mp, taum_pm, taum_pp)\n",
    "tau2 = construct_tau_vector(N, NS, tau2_mm, tau2_mp, tau2_pm, tau2_pp)\n",
    "tau_m = tau-tau1-tau2  # yes, this is the same thing as taum\n",
    "\n",
    "print(\"tau\")\n",
    "print(tau)\n",
    "print(\"\\n\")\n",
    "print(\"tau1\")\n",
    "print(tau1)\n",
    "print(\"taum\")\n",
    "print(taum)\n",
    "print(\"tau2\")\n",
    "print(tau2)\n",
    "\n",
    "print(\"\\n\")\n",
    "print(\"tau = tau1+taum+tau2 => difference is\", np.sum((tau-tau1-taum-tau2)**2))"
   ]
  },
  {
   "cell_type": "markdown",
   "metadata": {},
   "source": [
    "# Compute tau for [0+]"
   ]
  },
  {
   "cell_type": "code",
   "execution_count": null,
   "metadata": {},
   "outputs": [
    {
     "name": "stdout",
     "output_type": "stream",
     "text": [
      "G\n",
      "state 0-      0.0\n",
      "state 0+- LML 5332.82520643558\n",
      "state 0+- LMR 5332.82520643558\n"
     ]
    }
   ],
   "source": [
    "absor = np.array([NS - 1])\n",
    "kept = np.array([i for i in range(NS) if i not in absor])\n",
    "\n",
    "g1, g2, h1, h2 = mfpt_to_absorbing_states(M, np.nan_to_num(tau1), np.nan_to_num(tau_m), np.nan_to_num(tau2), absor, kept) #, doprint=True)\n",
    "print(\"G\")\n",
    "print_vector(g1, labels1[-1])\n",
    "print_vector(g2, labels1[0] + labels2)\n",
    "print(\"H\")\n",
    "print_vector(h1, labels1)\n",
    "print_vector(h2, labels2)\n",
    "print(\"interesting\")\n",
    "print(h1[0])"
   ]
  },
  {
   "cell_type": "code",
   "execution_count": null,
   "metadata": {},
   "outputs": [
    {
     "name": "stdout",
     "output_type": "stream",
     "text": [
      "G\n",
      "state 0-      0.0\n",
      "state B       0.0\n",
      "state 0+- LML 0.0\n",
      "state 0+- LMR 2495.432199302723\n",
      "state 0+- RML 0.00638340315174446\n",
      "state 1+- LML 0.00638340315174446\n",
      "state 1+- LMR 1876.5116619773203\n",
      "state 1+- RML 632.1327265920992\n",
      "state 1+- RMR 1253.302992958078\n",
      "state 2+- LML 632.1327265920992\n",
      "state 2+- LMR 1253.302992958078\n",
      "state 2+- RML 1267.0223400374775\n",
      "state 2+- RMR 633.4510064438982\n",
      "state 3+- LML 1267.0223400374775\n",
      "state 3+- LMR 633.4510064438982\n",
      "H\n",
      "state 0-      2495.4321993027224\n",
      "state B       0.0\n",
      "state 0+- LML 0.0\n",
      "state 0+- LMR 2495.426251297644\n",
      "state 0+- RML 0.0\n",
      "state 1+- LML 0.00638340315174446\n",
      "state 1+- LMR 1876.5057361500349\n",
      "state 1+- RML 632.127654176695\n",
      "state 1+- RMR 1253.302992958078\n",
      "state 2+- LML 632.1327265920992\n",
      "state 2+- LMR 1253.2959856202053\n",
      "state 2+- RML 1267.0161551635279\n",
      "state 2+- RMR 633.4510064438982\n",
      "state 3+- LML 1267.0223400374775\n",
      "state 3+- LMR 633.4448282734338\n",
      "interesting\n",
      "[2495.4321993]\n"
     ]
    }
   ],
   "source": [
    "g1, g2, h1, h2 = mfpt_to_first_last_state(M, np.nan_to_num(tau1), np.nan_to_num(tau_m), np.nan_to_num(tau2)) #, doprint=True)\n",
    "print(\"G\")\n",
    "print_vector(g1, labels1)\n",
    "print_vector(g2, labels2)\n",
    "print(\"H\")\n",
    "print_vector(h1, labels1)\n",
    "print_vector(h2, labels2)\n",
    "print(\"interesting\")\n",
    "print(h1[0])"
   ]
  },
  {
   "cell_type": "code",
   "execution_count": 60,
   "metadata": {
    "scrolled": true
   },
   "outputs": [
    {
     "name": "stdout",
     "output_type": "stream",
     "text": [
      "2495.4321993027224\n"
     ]
    }
   ],
   "source": [
    "print(h1[0][0])"
   ]
  },
  {
   "cell_type": "markdown",
   "metadata": {},
   "source": [
    "# Flux"
   ]
  },
  {
   "cell_type": "code",
   "execution_count": null,
   "metadata": {
    "scrolled": false
   },
   "outputs": [
    {
     "name": "stdout",
     "output_type": "stream",
     "text": [
      "0.9375893276918338 1/time\n"
     ]
    },
    {
     "ename": "",
     "evalue": "",
     "output_type": "error",
     "traceback": [
      "\u001b[1;31mThe Kernel crashed while executing code in the current cell or a previous cell. \n",
      "\u001b[1;31mPlease review the code in the cell(s) to identify a possible cause of the failure. \n",
      "\u001b[1;31mClick <a href='https://aka.ms/vscodeJupyterKernelCrash'>here</a> for more info. \n",
      "\u001b[1;31mView Jupyter <a href='command:jupyter.viewOutput'>log</a> for further details."
     ]
    }
   ],
   "source": [
    "flux = 1/(tau[0]+h1[0][0])\n",
    "dt = 0.0002\n",
    "flux\n",
    "print(flux/dt, \"1/time\")"
   ]
  },
  {
   "cell_type": "code",
   "execution_count": null,
   "metadata": {},
   "outputs": [],
   "source": []
  },
  {
   "cell_type": "code",
   "execution_count": null,
   "metadata": {},
   "outputs": [],
   "source": []
  }
 ],
 "metadata": {
  "kernelspec": {
   "display_name": "test",
   "language": "python",
   "name": "python3"
  },
  "language_info": {
   "codemirror_mode": {
    "name": "ipython",
    "version": 3
   },
   "file_extension": ".py",
   "mimetype": "text/x-python",
   "name": "python",
   "nbconvert_exporter": "python",
   "pygments_lexer": "ipython3",
   "version": "3.12.2"
  }
 },
 "nbformat": 4,
 "nbformat_minor": 4
}
