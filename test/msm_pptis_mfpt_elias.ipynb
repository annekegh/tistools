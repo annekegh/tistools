{
 "cells": [
  {
   "cell_type": "code",
   "execution_count": 31,
   "metadata": {},
   "outputs": [
    {
     "name": "stdout",
     "output_type": "stream",
     "text": [
      "The autoreload extension is already loaded. To reload it, use:\n",
      "  %reload_ext autoreload\n"
     ]
    }
   ],
   "source": [
    "%load_ext autoreload\n",
    "%autoreload 2\n",
    "\n",
    "import matplotlib.pyplot as plt\n",
    "import numpy as np\n",
    "#%matplotlib qt   # doesn't work on my laptop\n",
    "from tistools import read_inputfile, get_LMR_interfaces, read_pathensemble, get_weights\n",
    "from tistools import set_tau_distrib, set_tau_first_hit_M_distrib, cross_dist_distr, pathlength_distr\n",
    "from tistools import ACCFLAGS, REJFLAGS\n",
    "\n",
    "from tistools import get_lmr_masks, get_generation_mask, get_flag_mask\n",
    "from tistools import unwrap_by_weight, running_avg_local_probs, get_local_probs, get_globall_probs, get_global_probz\n",
    "\n",
    "from pprint import pprint    # to print the vars of the pathensemble object"
   ]
  },
  {
   "cell_type": "code",
   "execution_count": 32,
   "metadata": {},
   "outputs": [
    {
     "name": "stderr",
     "output_type": "stream",
     "text": [
      "UsageError: unrecognized arguments: # something with pip install -e .\n"
     ]
    }
   ],
   "source": [
    "%autoreload 2   # something with pip install -e ."
   ]
  },
  {
   "cell_type": "markdown",
   "metadata": {},
   "source": [
    "# Reading"
   ]
  },
  {
   "cell_type": "code",
   "execution_count": 33,
   "metadata": {},
   "outputs": [
    {
     "name": "stdout",
     "output_type": "stream",
     "text": [
      "/mnt/0bf0c339-34bb-4500-a5fb-f3c2a863de29/DATA/MSM-REPPTIS/HPC/cosbump2-walls/langevin-gamma5/REPPTIS\n",
      "['/mnt/0bf0c339-34bb-4500-a5fb-f3c2a863de29/DATA/MSM-REPPTIS/HPC/cosbump2-walls/langevin-gamma5/REPPTIS/000', '/mnt/0bf0c339-34bb-4500-a5fb-f3c2a863de29/DATA/MSM-REPPTIS/HPC/cosbump2-walls/langevin-gamma5/REPPTIS/001', '/mnt/0bf0c339-34bb-4500-a5fb-f3c2a863de29/DATA/MSM-REPPTIS/HPC/cosbump2-walls/langevin-gamma5/REPPTIS/002', '/mnt/0bf0c339-34bb-4500-a5fb-f3c2a863de29/DATA/MSM-REPPTIS/HPC/cosbump2-walls/langevin-gamma5/REPPTIS/003', '/mnt/0bf0c339-34bb-4500-a5fb-f3c2a863de29/DATA/MSM-REPPTIS/HPC/cosbump2-walls/langevin-gamma5/REPPTIS/004']\n"
     ]
    }
   ],
   "source": [
    "# zero_minus_one = True if lambda_-1 interface is set\n",
    "# zero_minus_one = False if lambda_-1 interface is not set\n",
    "\n",
    "# data the maze\n",
    "#---------------\n",
    "indir = \"/Users/an/Documents/0_mfpt/repptis2/\"\n",
    "zero_minus_one = True\n",
    "inputfile = indir + \"/out.rst\"\n",
    "#inputfile = indir + \"/retis.rst\"\n",
    "\n",
    "# new data Elias\n",
    "#---------------\n",
    "# indir = \"/mnt/0bf0c339-34bb-4500-a5fb-f3c2a863de29/DATA/MSM-REPPTIS/HPC/flat_w-walls/browian-gamma5/100k-cycles/REPPTIS\"\n",
    "# indir = \"/mnt/0bf0c339-34bb-4500-a5fb-f3c2a863de29/DATA/MSM-REPPTIS/HPC/flat_w-walls/newtonian/REPPTIS\"\n",
    "# indir = \"/mnt/0bf0c339-34bb-4500-a5fb-f3c2a863de29/DATA/MSM-REPPTIS/HPC/flat_w-walls/dt-0.00002/REPPTIS\"\n",
    "# indir = \"/mnt/0bf0c339-34bb-4500-a5fb-f3c2a863de29/DATA/MSM-REPPTIS/HPC/flat_w-walls/langevin-gamma5/REPPTIS\"\n",
    "indir = \"/mnt/0bf0c339-34bb-4500-a5fb-f3c2a863de29/DATA/MSM-REPPTIS/HPC/cosbump2-walls/langevin-gamma5/REPPTIS\"\n",
    "# indir = \"/mnt/0bf0c339-34bb-4500-a5fb-f3c2a863de29/DATA/MSM-REPPTIS/HPC/cosbump3-walls/REPPTIS\"\n",
    "# indir = \"/mnt/0bf0c339-34bb-4500-a5fb-f3c2a863de29/DATA/MSM-REPPTIS/HPC/cosdip2-walls/REPPTIS\"\n",
    "# indir = \"/mnt/0bf0c339-34bb-4500-a5fb-f3c2a863de29/DATA/MSM-REPPTIS/HPC/cosbumpmeta-walls/REPPTIS\"\n",
    "# indir = \"/mnt/0bf0c339-34bb-4500-a5fb-f3c2a863de29/DATA/MSM-REPPTIS/HPC/cosdipmeta-walls/REPPTIS\"\n",
    "# indir = \"/mnt/0bf0c339-34bb-4500-a5fb-f3c2a863de29/DATA/MSM-REPPTIS/2D-experiments/2D-maze/Wouter-2022/repptis3\"\n",
    "zero_minus_one = False\n",
    "inputfile = indir + \"/out.rst\"\n",
    "\n",
    "# old data bump An\n",
    "#------------------\n",
    "#indir = \"/Users/an/wwork/current-work/0_TitusEnrico/repp/1D-flat.ppr-Febr6-2022d/\"\n",
    "##indir = \"/Users/an/wwork/current-work/0_TitusEnrico/repp/bump-ppretis/\"\n",
    "#inputfile = indir + \"/out.rst\"\n",
    "\n",
    "import os\n",
    "import glob\n",
    "os.chdir(indir)\n",
    "print(os.getcwd())\n",
    "\n",
    "folders = glob.glob(indir + \"/0[0-9][0-9]\")\n",
    "folders = sorted(folders)\n",
    "print(folders)"
   ]
  },
  {
   "cell_type": "code",
   "execution_count": 37,
   "metadata": {},
   "outputs": [
    {
     "name": "stdout",
     "output_type": "stream",
     "text": [
      "################################################################################\n",
      "/mnt/0bf0c339-34bb-4500-a5fb-f3c2a863de29/DATA/MSM-REPPTIS/HPC/cosbump2-walls/langevin-gamma5/REPPTIS/000\n",
      "pathensemble info: \n",
      "{'cyclenumbers': array([    0,     1,     2, ..., 29998, 29999, 30000]),\n",
      " 'flags': array(['ACC', 'ACC', 'ACC', ..., 'FTL', 'ACC', 'FTL'], dtype='<U3'),\n",
      " 'generation': array(['ki', 'sh', 'sh', ..., 'sh', 'sh', 'sh'], dtype='<U2'),\n",
      " 'has_zero_minus_one': False,\n",
      " 'in_zero_minus': True,\n",
      " 'in_zero_plus': False,\n",
      " 'interfaces': [[-0.1, -0.1, -0.1], ['l_[0]', 'l_[0]', 'l_[0]']],\n",
      " 'lambmaxs': array([-0.0998876 , -0.09985364, -0.09985525, ..., -0.09992359,\n",
      "       -0.09988771, -0.09993588]),\n",
      " 'lambmins': array([-0.39183776, -0.39233455, -0.29408372, ..., -0.12956467,\n",
      "       -0.10524033, -0.11456793]),\n",
      " 'lengths': array([3189, 4157, 3533, ...,  153,  155,  238]),\n",
      " 'lmrs': array(['RMR', 'RMR', 'RMR', ..., 'RM*', 'RMR', 'RM*'], dtype='<U3'),\n",
      " 'name': '/mnt/0bf0c339-34bb-4500-a5fb-f3c2a863de29/DATA/MSM-REPPTIS/HPC/cosbump2-walls/langevin-gamma5/REPPTIS/000',\n",
      " 'ncycle': 30002,\n",
      " 'newpathnumbers': array([    0,     1,     2, ..., 17497, 17498, 17498]),\n",
      " 'orders': None,\n",
      " 'pathnumbers': array([    1,     2,     3, ..., 20224, 20225, 20225]),\n",
      " 'shootlinks': array([None, None, None, ..., None, None, None], dtype=object),\n",
      " 'totaltime': 93421689,\n",
      " 'weights': array([1, 1, 2, ..., 0, 2, 0])}\n",
      "Setting orders for path ensemble /mnt/0bf0c339-34bb-4500-a5fb-f3c2a863de29/DATA/MSM-REPPTIS/HPC/cosbump2-walls/langevin-gamma5/REPPTIS/000\n",
      "Everything matches, setting orders.\n",
      "Saving orders to /mnt/0bf0c339-34bb-4500-a5fb-f3c2a863de29/DATA/MSM-REPPTIS/HPC/cosbump2-walls/langevin-gamma5/REPPTIS/000/order.npy\n",
      "################################################################################\n",
      "/mnt/0bf0c339-34bb-4500-a5fb-f3c2a863de29/DATA/MSM-REPPTIS/HPC/cosbump2-walls/langevin-gamma5/REPPTIS/001\n",
      "pathensemble info: \n",
      "{'cyclenumbers': array([    0,     1,     2, ..., 29998, 29999, 30000]),\n",
      " 'flags': array(['ACC', 'ACC', 'ACC', ..., 'FTL', 'BTL', 'ACC'], dtype='<U3'),\n",
      " 'generation': array(['ki', 'sh', 'sh', ..., 'sh', 'sh', 'sh'], dtype='<U2'),\n",
      " 'has_zero_minus_one': False,\n",
      " 'in_zero_minus': False,\n",
      " 'in_zero_plus': True,\n",
      " 'interfaces': [[-0.1, -0.1, 0.0], ['l_[0]', 'l_[0]', 'l_[1]']],\n",
      " 'lambmaxs': array([-0.03519087, -0.08571157, -0.02896337, ...,  0.00012571,\n",
      "       -0.0524572 ,  0.00022994]),\n",
      " 'lambmins': array([-0.10002621, -0.10013593, -0.10021123, ..., -0.10006197,\n",
      "       -0.09564163, -0.10003042]),\n",
      " 'lengths': array([ 585,  543,  629, ...,  290,  359, 1640]),\n",
      " 'lmrs': array(['LML', 'LML', 'LML', ..., 'RML', '***', 'RML'], dtype='<U3'),\n",
      " 'name': '/mnt/0bf0c339-34bb-4500-a5fb-f3c2a863de29/DATA/MSM-REPPTIS/HPC/cosbump2-walls/langevin-gamma5/REPPTIS/001',\n",
      " 'ncycle': 30002,\n",
      " 'newpathnumbers': array([    0,     1,     2, ..., 17969, 17969, 17970]),\n",
      " 'orders': None,\n",
      " 'pathnumbers': array([    1,     2,     3, ..., 19367, 19367, 19368]),\n",
      " 'shootlinks': array([None, None, None, ..., None, None, None], dtype=object),\n",
      " 'totaltime': 21204802,\n",
      " 'weights': array([1, 1, 1, ..., 0, 0, 1])}\n",
      "Setting orders for path ensemble /mnt/0bf0c339-34bb-4500-a5fb-f3c2a863de29/DATA/MSM-REPPTIS/HPC/cosbump2-walls/langevin-gamma5/REPPTIS/001\n",
      "Everything matches, setting orders.\n",
      "Saving orders to /mnt/0bf0c339-34bb-4500-a5fb-f3c2a863de29/DATA/MSM-REPPTIS/HPC/cosbump2-walls/langevin-gamma5/REPPTIS/001/order.npy\n",
      "################################################################################\n",
      "/mnt/0bf0c339-34bb-4500-a5fb-f3c2a863de29/DATA/MSM-REPPTIS/HPC/cosbump2-walls/langevin-gamma5/REPPTIS/002\n",
      "pathensemble info: \n",
      "{'cyclenumbers': array([    2,     3,     4, ..., 29998, 29999, 30000]),\n",
      " 'flags': array(['ACC', 'ACC', 'ACC', ..., 'BTL', 'BTL', 'FTL'], dtype='<U3'),\n",
      " 'generation': array(['sh', 'sh', 'sh', ..., 'sh', 'sh', 'sh'], dtype='<U2'),\n",
      " 'has_zero_minus_one': False,\n",
      " 'in_zero_minus': False,\n",
      " 'in_zero_plus': False,\n",
      " 'interfaces': [[-0.1, 0.0, 0.1], ['l_[0]', 'l_[1]', 'l_[2]']],\n",
      " 'lambmaxs': array([ 0.1002307 ,  0.10011356,  0.10001612, ..., -0.0208722 ,\n",
      "        0.00086995, -0.01794857]),\n",
      " 'lambmins': array([-0.10015488, -0.10008176, -0.10005667, ..., -0.08139971,\n",
      "       -0.0151698 , -0.10003834]),\n",
      " 'lengths': array([ 634, 1072,  435, ...,  633,  528,  456]),\n",
      " 'lmrs': array(['LMR', 'RML', 'LMR', ..., '***', '*M*', 'L**'], dtype='<U3'),\n",
      " 'name': '/mnt/0bf0c339-34bb-4500-a5fb-f3c2a863de29/DATA/MSM-REPPTIS/HPC/cosbump2-walls/langevin-gamma5/REPPTIS/002',\n",
      " 'ncycle': 30000,\n",
      " 'newpathnumbers': array([   1,    2,    3, ..., 9680, 9680, 9680]),\n",
      " 'orders': None,\n",
      " 'pathnumbers': array([    2,     3,     4, ..., 10288, 10288, 10288]),\n",
      " 'shootlinks': array([None, None, None, ..., None, None, None], dtype=object),\n",
      " 'totaltime': 29660543,\n",
      " 'weights': array([1, 1, 6, ..., 0, 0, 0])}\n",
      "Setting orders for path ensemble /mnt/0bf0c339-34bb-4500-a5fb-f3c2a863de29/DATA/MSM-REPPTIS/HPC/cosbump2-walls/langevin-gamma5/REPPTIS/002\n",
      "Everything matches, setting orders.\n",
      "Saving orders to /mnt/0bf0c339-34bb-4500-a5fb-f3c2a863de29/DATA/MSM-REPPTIS/HPC/cosbump2-walls/langevin-gamma5/REPPTIS/002/order.npy\n",
      "################################################################################\n",
      "/mnt/0bf0c339-34bb-4500-a5fb-f3c2a863de29/DATA/MSM-REPPTIS/HPC/cosbump2-walls/langevin-gamma5/REPPTIS/003\n",
      "pathensemble info: \n",
      "{'cyclenumbers': array([    0,     1,     2, ..., 29998, 29999, 30000]),\n",
      " 'flags': array(['ACC', 'BTL', 'BTL', ..., 'ACC', 'FTL', 'BTL'], dtype='<U3'),\n",
      " 'generation': array(['ki', 'sh', 'sh', ..., 'sh', 'sh', 'sh'], dtype='<U2'),\n",
      " 'has_zero_minus_one': False,\n",
      " 'in_zero_minus': False,\n",
      " 'in_zero_plus': False,\n",
      " 'interfaces': [[0.0, 0.1, 0.2], ['l_[1]', 'l_[2]', 'l_[3]']],\n",
      " 'lambmaxs': array([0.20015397, 0.07300633, 0.08453814, ..., 0.20006173, 0.18520012,\n",
      "       0.17586599]),\n",
      " 'lambmins': array([-0.00021742,  0.04536616,  0.02457786, ..., -0.00012207,\n",
      "       -0.00051524,  0.03996748]),\n",
      " 'lengths': array([ 486,  817,  803, ..., 1267, 2149, 1376]),\n",
      " 'lmrs': array(['LMR', '***', '***', ..., 'LMR', 'LM*', '*M*'], dtype='<U3'),\n",
      " 'name': '/mnt/0bf0c339-34bb-4500-a5fb-f3c2a863de29/DATA/MSM-REPPTIS/HPC/cosbump2-walls/langevin-gamma5/REPPTIS/003',\n",
      " 'ncycle': 30002,\n",
      " 'newpathnumbers': array([    0,     0,     0, ..., 13025, 13025, 13025]),\n",
      " 'orders': None,\n",
      " 'pathnumbers': array([    1,     1,     1, ..., 13808, 13808, 13808]),\n",
      " 'shootlinks': array([None, None, None, ..., None, None, None], dtype=object),\n",
      " 'totaltime': 80103762,\n",
      " 'weights': array([10,  0,  0, ...,  3,  0,  0])}\n",
      "Setting orders for path ensemble /mnt/0bf0c339-34bb-4500-a5fb-f3c2a863de29/DATA/MSM-REPPTIS/HPC/cosbump2-walls/langevin-gamma5/REPPTIS/003\n",
      "Mismatch in REJ paths for lengths, ignoring.\n",
      "Everything matched for the ACC paths, setting orders.\n",
      "Saving orders to /mnt/0bf0c339-34bb-4500-a5fb-f3c2a863de29/DATA/MSM-REPPTIS/HPC/cosbump2-walls/langevin-gamma5/REPPTIS/003/order.npy\n",
      "################################################################################\n",
      "/mnt/0bf0c339-34bb-4500-a5fb-f3c2a863de29/DATA/MSM-REPPTIS/HPC/cosbump2-walls/langevin-gamma5/REPPTIS/004\n",
      "pathensemble info: \n",
      "{'cyclenumbers': array([    0,     1,     2, ..., 29998, 29999, 30000]),\n",
      " 'flags': array(['ACC', 'ACC', 'NCR', ..., 'ACC', 'NCR', 'BTL'], dtype='<U3'),\n",
      " 'generation': array(['ki', 'sh', 'sh', ..., 'sh', 'sh', 'sh'], dtype='<U2'),\n",
      " 'has_zero_minus_one': False,\n",
      " 'in_zero_minus': False,\n",
      " 'in_zero_plus': False,\n",
      " 'interfaces': [[0.1, 0.2, 0.3], ['l_[2]', 'l_[3]', 'l_[4]']],\n",
      " 'lambmaxs': array([0.3000145 , 0.30002814, 0.30020882, ..., 0.30000263, 0.13269232,\n",
      "       0.26849244]),\n",
      " 'lambmins': array([0.09972903, 0.09983596, 0.23384735, ..., 0.09991428, 0.09998214,\n",
      "       0.2243339 ]),\n",
      " 'lengths': array([ 921, 1303,  914, ...,  422,  742,  473]),\n",
      " 'lmrs': array(['LMR', 'LMR', 'R*R', ..., 'LMR', 'L*L', '***'], dtype='<U3'),\n",
      " 'name': '/mnt/0bf0c339-34bb-4500-a5fb-f3c2a863de29/DATA/MSM-REPPTIS/HPC/cosbump2-walls/langevin-gamma5/REPPTIS/004',\n",
      " 'ncycle': 30001,\n",
      " 'newpathnumbers': array([   0,    1,    1, ..., 9797, 9797, 9797]),\n",
      " 'orders': None,\n",
      " 'pathnumbers': array([    1,     2,     2, ..., 11774, 11774, 11774]),\n",
      " 'shootlinks': array([None, None, None, ..., None, None, None], dtype=object),\n",
      " 'totaltime': 29887468,\n",
      " 'weights': array([1, 3, 0, ..., 3, 0, 0])}\n",
      "Setting orders for path ensemble /mnt/0bf0c339-34bb-4500-a5fb-f3c2a863de29/DATA/MSM-REPPTIS/HPC/cosbump2-walls/langevin-gamma5/REPPTIS/004\n",
      "Everything matches, setting orders.\n",
      "Saving orders to /mnt/0bf0c339-34bb-4500-a5fb-f3c2a863de29/DATA/MSM-REPPTIS/HPC/cosbump2-walls/langevin-gamma5/REPPTIS/004/order.npy\n"
     ]
    }
   ],
   "source": [
    "# !!! last lines !!!  allow to speed up this notebook\n",
    "# pe.set_orders(load=False...)  -> 1st time you run the code, this will store npy files\n",
    "# pe.set_orders(load=True...)  -> next time you run the code, you can read npy files\n",
    "\n",
    "# Reading all input\n",
    "#===================\n",
    "interfaces, zero_left, timestep = read_inputfile(inputfile)\n",
    "LMR_interfaces, LMR_strings = get_LMR_interfaces(interfaces, zero_left)\n",
    "pathensembles = []\n",
    "for i,fol in enumerate(folders):\n",
    "    print(\"#\"*80)\n",
    "    print(fol)\n",
    "    pe = read_pathensemble(fol+\"/pathensemble.txt\")\n",
    "    pe.set_name(fol)\n",
    "    pe.set_interfaces([LMR_interfaces[i], LMR_strings[i]])\n",
    "    if i==0:\n",
    "        pe.set_zero_minus_one(zero_minus_one)   # TODO this is never used\n",
    "        pe.set_in_zero_minus(True)\n",
    "    if i==1:\n",
    "        pe.set_in_zero_plus(True)\n",
    "    w, _ = get_weights(pe.flags, ACCFLAGS, REJFLAGS, verbose = False)\n",
    "    pe.set_weights(w)\n",
    "    print(\"pathensemble info: \")\n",
    "    pprint(vars(pe))\n",
    "    pathensembles.append(pe)\n",
    "    # read order parameters order.txt/order.npy into path ensemble object\n",
    "    #pe.set_orders(load=False, acc_only=True, save=False) # if saving doesn't work\n",
    "    #### CHANGE HERE ####\n",
    "    # pe.set_orders(load=False, acc_only=True, save=True) # for the 1st time\n",
    "    pe.set_orders(load=True, acc_only=True) # for the next times, save=True/False is not important"
   ]
  },
  {
   "cell_type": "markdown",
   "metadata": {},
   "source": [
    "# Analysis"
   ]
  },
  {
   "cell_type": "code",
   "execution_count": 38,
   "metadata": {},
   "outputs": [
    {
     "name": "stdout",
     "output_type": "stream",
     "text": [
      "0\n",
      "Calculating path lengths.\n",
      "Done.\n",
      "1\n",
      "2\n",
      "Calculating path lengths.\n",
      "Done.\n",
      "Calculating first hitting lengths to middle interface\n",
      "NOT LAST\n",
      "Done.\n",
      "3\n",
      "Calculating path lengths.\n",
      "Done.\n",
      "Calculating first hitting lengths to middle interface\n",
      "NOT LAST\n",
      "Done.\n",
      "4\n",
      "Calculating path lengths.\n",
      "Done.\n",
      "Calculating first hitting lengths to middle interface\n",
      "NOT LAST\n",
      "Done.\n"
     ]
    }
   ],
   "source": [
    "# Setting path ensemble properties\n",
    "#==================================\n",
    "for i,fol in enumerate(folders):\n",
    "    print(i)\n",
    "    if i != 1:\n",
    "        print(\"Calculating path lengths.\")\n",
    "        set_tau_distrib(pathensembles[i])\n",
    "        print(\"Done.\")\n",
    "    #else:\n",
    "        #TODO problem with ...\n",
    "    if i > 1:\n",
    "        print(\"Calculating first hitting lengths to middle interface\")\n",
    "        set_tau_first_hit_M_distrib(pathensembles[i])\n",
    "        print(\"Done.\")\n",
    "    #else:\n",
    "        # TODO problem with ...."
   ]
  },
  {
   "cell_type": "code",
   "execution_count": 39,
   "metadata": {},
   "outputs": [
    {
     "name": "stdout",
     "output_type": "stream",
     "text": [
      "doing pathensemble 0\n",
      "doing pathensemble 1\n",
      "Weights of the different paths:\n",
      "wRMR = 0\n",
      "wRML = 7478\n",
      "wLMR = 7514\n",
      "wLML = 15010\n",
      "Local crossing probabilities:\n",
      "pRMR = 0.0\n",
      "pRML = 1.0\n",
      "pLMR = 0.3335997158586397\n",
      "pLML = 0.6664002841413603\n",
      "doing pathensemble 2\n",
      "Weights of the different paths:\n",
      "wRMR = 693\n",
      "wRML = 14420\n",
      "wLMR = 14148\n",
      "wLML = 739\n",
      "Local crossing probabilities:\n",
      "pRMR = 0.04585456229735989\n",
      "pRML = 0.9541454377026402\n",
      "pLMR = 0.9503593739504266\n",
      "pLML = 0.04964062604957346\n",
      "doing pathensemble 3\n",
      "Weights of the different paths:\n",
      "wRMR = 4096\n",
      "wRML = 10984\n",
      "wLMR = 10953\n",
      "wLML = 3969\n",
      "Local crossing probabilities:\n",
      "pRMR = 0.2716180371352785\n",
      "pRML = 0.7283819628647215\n",
      "pLMR = 0.7340168878166465\n",
      "pLML = 0.26598311218335347\n",
      "doing pathensemble 4\n",
      "Weights of the different paths:\n",
      "wRMR = 703\n",
      "wRML = 14181\n",
      "wLMR = 14338\n",
      "wLML = 779\n",
      "Local crossing probabilities:\n",
      "pRMR = 0.0472319269013706\n",
      "pRML = 0.9527680730986294\n",
      "pLMR = 0.9484686114969901\n",
      "pLML = 0.05153138850300985\n"
     ]
    },
    {
     "name": "stderr",
     "output_type": "stream",
     "text": [
      "/home/elias/anaconda3/envs/pastime/lib/python3.10/site-packages/tistools-0.1-py3.10.egg/tistools/repptis_analysis.py:555: RuntimeWarning: invalid value encountered in divide\n",
      "  p_PP = cumsums['RMR']/(cumsums['RML']+cumsums['RMR'])\n",
      "/home/elias/anaconda3/envs/pastime/lib/python3.10/site-packages/tistools-0.1-py3.10.egg/tistools/repptis_analysis.py:556: RuntimeWarning: invalid value encountered in divide\n",
      "  p_PN = cumsums['RML']/(cumsums['RML']+cumsums['RMR'])\n"
     ]
    }
   ],
   "source": [
    "# Analyze the pptis simulation.\n",
    "# Analysis output is saved to the data dictionary.\n",
    "data = {}\n",
    "for i, pe in enumerate(pathensembles):\n",
    "    print(\"doing pathensemble {}\".format(i))\n",
    "    if i == 0:\n",
    "        data[i] = {}\n",
    "        continue  # TODO: make [0-] analysis ???\n",
    "\n",
    "    # masks - TODO not used further on?\n",
    "    # TODO these functions are duplicate in repptis_analysis\n",
    "    #masks = get_lmr_masks(pe)\n",
    "    #loadmask = get_generation_mask(pe, \"ld\")\n",
    "    #print(\"Amount of loads: {}\".format(np.sum(loadmask)))\n",
    "    ##hardloadmask = get_hard_load_mask(loadmask)\n",
    "    #accmask = get_flag_mask(pe, \"ACC\")\n",
    "\n",
    "    # pathtype_cycles\n",
    "    pathtypes = (\"LML\", \"LMR\", \"RML\", \"RMR\")\n",
    "    pathtype_cycles = {}\n",
    "    for ptype in pathtypes:\n",
    "        pathtype_cycles[ptype] = unwrap_by_weight(\n",
    "                (pe.lmrs == ptype).astype(int), pe.weights)\n",
    "    \n",
    "    # running average analysis: [\"running\"]\n",
    "    data[i] = {}\n",
    "    data[i][\"running\"] = {}\n",
    "    data[i][\"running\"][\"plocal\"] = {}\n",
    "    # you'll still have to hardload select pe.weigths... TODO. # this is comment wouter?\n",
    "    for (ptype, p_loc) in zip(pathtypes, \n",
    "                              running_avg_local_probs(pathtype_cycles, \n",
    "                                                      pe.weights, tr = False)):\n",
    "        data[i][\"running\"][\"plocal\"][ptype] = p_loc\n",
    "\n",
    "    # analysis using all data: [\"full\"]\n",
    "    plocfull = get_local_probs(pe, tr=False)\n",
    "    data[i][\"full\"] = {}\n",
    "    for ptype in pathtypes:\n",
    "        data[i][\"full\"][ptype] = plocfull[ptype]\n",
    "\n",
    "    # data[i] have now [\"full\"] and [\"running\"]"
   ]
  },
  {
   "cell_type": "code",
   "execution_count": 40,
   "metadata": {
    "scrolled": true
   },
   "outputs": [
    {
     "name": "stdout",
     "output_type": "stream",
     "text": [
      "Are all weights 1?  True\n",
      "Are all paths accepted?  True\n",
      "Are all weights 1?  True\n",
      "Are all paths accepted?  True\n",
      "Are all weights 1?  True\n",
      "Are all paths accepted?  True\n",
      "Are all weights 1?  True\n",
      "Are all paths accepted?  True\n",
      "Are all weights 1?  True\n",
      "Are all paths accepted?  True\n"
     ]
    },
    {
     "name": "stderr",
     "output_type": "stream",
     "text": [
      "/home/elias/anaconda3/envs/pastime/lib/python3.10/site-packages/numpy/core/fromnumeric.py:3504: RuntimeWarning: Mean of empty slice.\n",
      "  return _methods._mean(a, axis=axis, dtype=dtype,\n",
      "/home/elias/anaconda3/envs/pastime/lib/python3.10/site-packages/numpy/core/_methods.py:129: RuntimeWarning: invalid value encountered in scalar divide\n",
      "  ret = ret.dtype.type(ret / rcount)\n",
      "/home/elias/anaconda3/envs/pastime/lib/python3.10/site-packages/numpy/core/_methods.py:206: RuntimeWarning: Degrees of freedom <= 0 for slice\n",
      "  ret = _var(a, axis=axis, dtype=dtype, out=out, ddof=ddof,\n",
      "/home/elias/anaconda3/envs/pastime/lib/python3.10/site-packages/numpy/core/_methods.py:163: RuntimeWarning: invalid value encountered in divide\n",
      "  arrmean = um.true_divide(arrmean, div, out=arrmean,\n",
      "/home/elias/anaconda3/envs/pastime/lib/python3.10/site-packages/numpy/core/_methods.py:198: RuntimeWarning: invalid value encountered in scalar divide\n",
      "  ret = ret.dtype.type(ret / rcount)\n"
     ]
    }
   ],
   "source": [
    "\n",
    "for i, pe in enumerate(pathensembles):\n",
    "    upe = pe.unify_pe()\n",
    "    # Pathlength distribution\n",
    "    data[i][\"pathlengths\"] = pathlength_distr(upe)  # these might be used later or not! TODO\n",
    "        \n",
    "#=======================================\n",
    "# make figures\n",
    "makefigs = True \n",
    "if makefigs:\n",
    "    for i, pe in enumerate(pathensembles):     \n",
    "        if i == 0:\n",
    "            continue\n",
    "        # Cross distances distribution\n",
    "        L, M, R, lmlpercs, lmllambs, rmrpercs, rmrlambs = cross_dist_distr(pe)\n",
    "        fig,ax = plt.subplots()\n",
    "        ax.plot(lmllambs, lmlpercs, lw=1, c=\"g\")\n",
    "        ax.plot(rmrlambs, rmrpercs, lw=1, c=\"r\")\n",
    "        for lamb in (L,M,R):\n",
    "            ax.axvline(lamb, color='k', linestyle='--', lw = 0.5)\n",
    "        ax.set_xlabel('Cross distance')\n",
    "        ax.set_ylabel('Frequency')\n",
    "        ax.set_title(\"Ensemble {}. L = {}, M = {}, R = {}\".format(\n",
    "            pe.name, L, M, R))\n",
    "        ax.set_ylim(0)\n",
    "        fig.savefig(f\"pathensemble_{i}_crossdist.pdf\")\n",
    "        plt.close(fig)\n",
    "\n",
    "        # Pathlength distribution      \n",
    "        for ptype in pathtypes:\n",
    "            fig, ax = plt.subplots()\n",
    "            ax.plot(data[i][\"pathlengths\"][ptype][\"bin_centers\"], \n",
    "                data[i][\"pathlengths\"][ptype][\"hist\"])\n",
    "            ax.set_xlabel('Pathlength')\n",
    "            ax.set_ylabel('Frequency')\n",
    "            ax.set_title(f\"{np.sum(data[i]['pathlengths'][ptype]['hist'])} \" + \\\n",
    "                         f\"{ptype} paths. \")\n",
    "            ax.legend([f\"mean = {data[i]['pathlengths'][ptype]['mean']:.2f}, \" + \\\n",
    "                          f\"std = {data[i]['pathlengths'][ptype]['std']:.2f}\"])\n",
    "            fig.savefig(f\"pathensemble_{i}_pathlength_{ptype}.pdf\")\n",
    "            plt.close(fig)"
   ]
  },
  {
   "cell_type": "markdown",
   "metadata": {},
   "source": [
    "# Pcross with recursive relations"
   ]
  },
  {
   "cell_type": "code",
   "execution_count": 41,
   "metadata": {},
   "outputs": [
    {
     "name": "stdout",
     "output_type": "stream",
     "text": [
      "[1.0, 0.3335997158586397, 0.317039617113457, 0.23558576407175627, 0.22691196234246697]\n"
     ]
    }
   ],
   "source": [
    "# Global crossing probabilities\n",
    "# WITHOUT ERRORS #  \n",
    "# Full data \n",
    "psfull = []\n",
    "for i in range(1, len(pathensembles)):   # do not use the 0- ensemble\n",
    "    psfull.append({\"LMR\": data[i][\"full\"][\"LMR\"], \n",
    "               \"RML\": data[i][\"full\"][\"RML\"], \n",
    "               \"RMR\": data[i][\"full\"][\"RMR\"],\n",
    "               \"LML\": data[i][\"full\"][\"LML\"]})\n",
    "\n",
    "Pminfull, Pplusfull, Pcrossfull = get_globall_probs(psfull)\n",
    "print(Pcrossfull)"
   ]
  },
  {
   "cell_type": "code",
   "execution_count": 64,
   "metadata": {},
   "outputs": [
    {
     "name": "stdout",
     "output_type": "stream",
     "text": [
      "This should be the same as the repptis_report.pdf value: 0.22691196234246697\n",
      "which is the case!\n",
      "Here, the load immediately disappeared. For a simulation where this is\n",
      "not the case, the above code should be adapted a little bit.\n"
     ]
    },
    {
     "name": "stderr",
     "output_type": "stream",
     "text": [
      "/tmp/ipykernel_49314/2225595878.py:37: UserWarning: FigureCanvasAgg is non-interactive, and thus cannot be shown\n",
      "  fig.show()\n"
     ]
    },
    {
     "data": {
      "image/png": "[encoded data removed]",
      "text/plain": [
       "<Figure size 640x480 with 1 Axes>"
      ]
     },
     "metadata": {},
     "output_type": "display_data"
    },
    {
     "ename": "",
     "evalue": "",
     "output_type": "error",
     "traceback": [
      "\u001b[1;31mThe Kernel crashed while executing code in the current cell or a previous cell. \n",
      "\u001b[1;31mPlease review the code in the cell(s) to identify a possible cause of the failure. \n",
      "\u001b[1;31mClick <a href='https://aka.ms/vscodeJupyterKernelCrash'>here</a> for more info. \n",
      "\u001b[1;31mView Jupyter <a href='command:jupyter.viewOutput'>log</a> for further details."
     ]
    }
   ],
   "source": [
    "# Make a figure of the global crossing probabilities\n",
    "fig, ax = plt.subplots()\n",
    "ax.set_yscale(\"log\")\n",
    "# ax.plot(Pcrossfull, \"o\", c = \"r\")\n",
    "\n",
    "# cosdip meta\n",
    "# ax.errorbar([i for i in range(7)], Pcrossfull, yerr=[0, 0.004830, Pcrossfull[2]*0.05068988646, Pcrossfull[3]*0.05189862680, Pcrossfull[4]*0.05071184896, Pcrossfull[5]*0.05083284286, Pcrossfull[6]*0.05067963543], fmt=\"-o\", c = \"b\", ecolor=\"r\", capsize=6)\n",
    "\n",
    "# cosbump meta\n",
    "# ax.errorbar([i for i in range(7)], Pcrossfull, yerr=[0, 0.002535, Pcrossfull[2]*0.04393065503, Pcrossfull[3]*0.04910273500, Pcrossfull[4]*0.05239942040, Pcrossfull[5]*0.05789033634, Pcrossfull[6]*0.0614468], fmt=\"-o\", c = \"b\", ecolor=\"r\", capsize=6)\n",
    "\n",
    "# 2 cosdips\n",
    "# ax.errorbar([i for i in range(5)], Pcrossfull, yerr=[0, 0.007239, Pcrossfull[2]*0.0414296, Pcrossfull[3]*0.0445266, Pcrossfull[4]*0.0483538], fmt=\"-o\", c = \"b\", ecolor=\"r\", capsize=6)\n",
    "\n",
    "# 3 cosbumps\n",
    "# ax.errorbar([i for i in range(7)], Pcrossfull, yerr=[0, 0.002295, Pcrossfull[2]*0.0328798, Pcrossfull[3]*0.031594, Pcrossfull[4]*0.031474, Pcrossfull[5]*0.03080392, Pcrossfull[6]*0.0308589], fmt=\"-o\", c = \"b\", ecolor=\"r\", capsize=6)\n",
    "\n",
    "# 2 cosbumps\n",
    "#ax.errorbar([i for i in range(5)], Pcrossfull, yerr=[0, 0.002768, Pcrossfull[2]*0.04440278, Pcrossfull[3]*0.043053, Pcrossfull[4]*0.0463156], fmt=\"-o\", c = \"b\", ecolor=\"r\", capsize=6)\n",
    "\n",
    "# 2 cosbumps Langevin\n",
    "ax.errorbar([i for i in range(5)], Pcrossfull, yerr=[0, 0.006395, Pcrossfull[2]*0.02092401277, Pcrossfull[3]*0.01899419954, Pcrossfull[4]*0.01929952226], fmt=\"-o\", c = \"b\", ecolor=\"r\", capsize=6)\n",
    "\n",
    "# flat dt=0.00002 30k cycles\n",
    "# ax.errorbar([i for i in range(5)], Pcrossfull, yerr=[0, 0.003294, Pcrossfull[2]*0.07640968, Pcrossfull[3]*0.07789262, Pcrossfull[4]*0.0812692], fmt=\"-o\", c = \"b\", ecolor=\"r\", capsize=6)\n",
    "\n",
    "# flat 100k cycles\n",
    "# ax.errorbar([i for i in range(5)], Pcrossfull, yerr=[0, 0.002741, Pcrossfull[2]*0.034092, Pcrossfull[3]*0.033621, Pcrossfull[4]*0.0398], fmt=\"-o\", c = \"b\", ecolor=\"r\", capsize=6)\n",
    "\n",
    "# flat Langevin\n",
    "# ax.errorbar([i for i in range(5)], Pcrossfull, yerr=[0, 0.013684, Pcrossfull[2]*0.0825226801, Pcrossfull[3]*0.01027325454, Pcrossfull[4]*0.02130629112], fmt=\"-o\", c = \"b\", ecolor=\"r\", capsize=6)\n",
    "\n",
    "ax.set_xlabel(\"intf\")\n",
    "ax.set_ylabel(r\"$P_A(\\lambda_i|\\lambda_A)$\")\n",
    "ax.set_xticks(np.arange(len(interfaces)))\n",
    "fig.tight_layout()\n",
    "fig.show()\n",
    "fig.savefig(\"Global_probs.pdf\")\n",
    "\n",
    "print(\"This should be the same as the repptis_report.pdf value:\", Pcrossfull[-1])\n",
    "print(\"which is the case!\")\n",
    "print(\"Here, the load immediately disappeared. For a simulation where this is\")\n",
    "print(\"not the case, the above code should be adapted a little bit.\")"
   ]
  },
  {
   "cell_type": "code",
   "execution_count": 43,
   "metadata": {},
   "outputs": [
    {
     "name": "stdout",
     "output_type": "stream",
     "text": [
      "This should be the same as the repptis_report.pdf value: 0.22691196234246697\n"
     ]
    }
   ],
   "source": [
    "# TODO I am not sure what this is\n",
    "\n",
    "# Construct lists of the local probs\n",
    "\n",
    "# Or we can use the get_global_probz function, using lists of the local probs\n",
    "# These do not use the 0- ensemble\n",
    "pmps = [data[i][\"full\"][\"LMR\"] for i in range(1,len(pathensembles))]\n",
    "pmms = [data[i][\"full\"][\"LML\"] for i in range(1,len(pathensembles))]\n",
    "ppps = [data[i][\"full\"][\"RMR\"] for i in range(1,len(pathensembles))]\n",
    "ppms = [data[i][\"full\"][\"RML\"] for i in range(1,len(pathensembles))]\n",
    "a,b,c = get_global_probz(pmps, pmms, ppps, ppms)\n",
    "print(\"This should be the same as the repptis_report.pdf value:\", c[-1])"
   ]
  },
  {
   "cell_type": "markdown",
   "metadata": {},
   "source": [
    "# Now work with MSM"
   ]
  },
  {
   "cell_type": "code",
   "execution_count": 44,
   "metadata": {},
   "outputs": [],
   "source": [
    "from tistools import construct_M\n",
    "from tistools import global_cross_prob\n",
    "from tistools import vector_G"
   ]
  },
  {
   "cell_type": "code",
   "execution_count": 45,
   "metadata": {},
   "outputs": [],
   "source": [
    "def create_labels_states(N):\n",
    "    assert N>=3\n",
    "    labels1 = [\"0-     \",\"B      \"]\n",
    "    labels2 = [\"0+- LML\",\"0+- LMR\",\"0+- RML\",\"1+- LML\",\"1+- LMR\"]\n",
    "    if N>3:\n",
    "        for i in range(1,N-2):\n",
    "            labels2.append(str(i)  +\"+- RML\")\n",
    "            labels2.append(str(i)  +\"+- RMR\")\n",
    "            labels2.append(str(i+1)+\"+- LML\")\n",
    "            labels2.append(str(i+1)+\"+- LMR\")\n",
    "    return labels1, labels2\n",
    "\n",
    "def print_vector(g, states=None):\n",
    "    if states is None:\n",
    "        for i in range(len(g)):\n",
    "            print(\"state\", i, g[i])\n",
    "    else:\n",
    "        for i in range(len(g)):\n",
    "            print(\"state\", states[i], g[i][0])"
   ]
  },
  {
   "cell_type": "code",
   "execution_count": 46,
   "metadata": {},
   "outputs": [
    {
     "name": "stdout",
     "output_type": "stream",
     "text": [
      "[-0.1, 0.0, 0.1, 0.2, 0.3]\n",
      "N 5\n",
      "len pmms 4\n",
      "NS 15\n"
     ]
    }
   ],
   "source": [
    "print(interfaces)\n",
    "N = len(interfaces)\n",
    "assert N >= 4\n",
    "NS = 4*N-5\n",
    "print(\"N\", N)\n",
    "print(\"len pmms\", len(pmms))\n",
    "print(\"NS\", NS)\n",
    "\n",
    "#labels2 = [\"0+- LML\",\"0+- LMR\",\"0+- RML\",\"1+- LML\",\"1+- LMR\",\n",
    "#           \"1+- RML\", \"1+- RMR\", \"2+- LML\", \"2+- LMR\",\n",
    "#           \"2+- RML\", \"2+- RMR\", \"3+- LML\", \"3+- LMR\",]\n",
    "labels1, labels2 = create_labels_states(N)"
   ]
  },
  {
   "cell_type": "code",
   "execution_count": 47,
   "metadata": {},
   "outputs": [
    {
     "name": "stdout",
     "output_type": "stream",
     "text": [
      "mm [0.6664002841413603, 0.04964062604957346, 0.26598311218335347, 0.05153138850300985]\n",
      "mp [0.3335997158586397, 0.9503593739504266, 0.7340168878166465, 0.9484686114969901]\n",
      "pm [1.0, 0.9541454377026402, 0.7283819628647215, 0.9527680730986294]\n",
      "pp [0.0, 0.04585456229735989, 0.2716180371352785, 0.0472319269013706]\n",
      "sum [1. 1. 1. 1.]\n",
      "sum [1. 1. 1. 1.]\n"
     ]
    }
   ],
   "source": [
    "print(\"mm\", pmms)\n",
    "print(\"mp\", pmps)\n",
    "print(\"pm\", ppms)\n",
    "print(\"pp\", ppps)\n",
    "print(\"sum\", np.array(pmms)+np.array(pmps))\n",
    "print(\"sum\", np.array(ppms)+np.array(ppps))\n",
    "M = construct_M(pmms, pmps, ppms, ppps, NS, N)\n",
    "\n",
    "#Local crossing probabilities:\n",
    "#pRMR = 0.34205627942625644.  #ppps\n",
    "#pRML = 0.6579437205737436.   #ppms\n",
    "#pLMR = 0.25316455696202533.  #pmps\n",
    "#pLML = 0.7468354430379747.   #pmms"
   ]
  },
  {
   "cell_type": "code",
   "execution_count": 48,
   "metadata": {
    "scrolled": true
   },
   "outputs": [
    {
     "name": "stdout",
     "output_type": "stream",
     "text": [
      "M\n",
      "shape (15, 15)\n",
      "sum prob in rows [1. 1. 1. 1. 1. 1. 1. 1. 1. 1. 1. 1. 1. 1. 1.]\n",
      "[[0.         0.66640028 0.33359972 0.         0.         0.\n",
      "  0.         0.         0.         0.         0.         0.\n",
      "  0.         0.         0.        ]\n",
      " [1.         0.         0.         0.         0.         0.\n",
      "  0.         0.         0.         0.         0.         0.\n",
      "  0.         0.         0.        ]\n",
      " [0.         0.         0.         0.         0.04964063 0.95035937\n",
      "  0.         0.         0.         0.         0.         0.\n",
      "  0.         0.         0.        ]\n",
      " [1.         0.         0.         0.         0.         0.\n",
      "  0.         0.         0.         0.         0.         0.\n",
      "  0.         0.         0.        ]\n",
      " [0.         0.         0.         1.         0.         0.\n",
      "  0.         0.         0.         0.         0.         0.\n",
      "  0.         0.         0.        ]\n",
      " [0.         0.         0.         0.         0.         0.\n",
      "  0.         0.         0.26598311 0.73401689 0.         0.\n",
      "  0.         0.         0.        ]\n",
      " [0.         0.         0.         1.         0.         0.\n",
      "  0.         0.         0.         0.         0.         0.\n",
      "  0.         0.         0.        ]\n",
      " [0.         0.         0.         0.         0.         0.\n",
      "  0.         0.         0.26598311 0.73401689 0.         0.\n",
      "  0.         0.         0.        ]\n",
      " [0.         0.         0.         0.         0.         0.\n",
      "  0.95414544 0.04585456 0.         0.         0.         0.\n",
      "  0.         0.         0.        ]\n",
      " [0.         0.         0.         0.         0.         0.\n",
      "  0.         0.         0.         0.         0.         0.\n",
      "  0.05153139 0.94846861 0.        ]\n",
      " [0.         0.         0.         0.         0.         0.\n",
      "  0.95414544 0.04585456 0.         0.         0.         0.\n",
      "  0.         0.         0.        ]\n",
      " [0.         0.         0.         0.         0.         0.\n",
      "  0.         0.         0.         0.         0.         0.\n",
      "  0.05153139 0.94846861 0.        ]\n",
      " [0.         0.         0.         0.         0.         0.\n",
      "  0.         0.         0.         0.         0.72838196 0.27161804\n",
      "  0.         0.         0.        ]\n",
      " [0.         0.         0.         0.         0.         0.\n",
      "  0.         0.         0.         0.         0.         0.\n",
      "  0.         0.         1.        ]\n",
      " [1.         0.         0.         0.         0.         0.\n",
      "  0.         0.         0.         0.         0.         0.\n",
      "  0.         0.         0.        ]]\n"
     ]
    }
   ],
   "source": [
    "print(\"M\")\n",
    "print(\"shape\", M.shape)\n",
    "print(\"sum prob in rows\", np.sum(M,axis=1))\n",
    "print(M)\n",
    "# row 8, 10, 12, 14. # counting starts from 0   not okay!!!!"
   ]
  },
  {
   "cell_type": "markdown",
   "metadata": {},
   "source": [
    "# Look at this Markov model"
   ]
  },
  {
   "cell_type": "code",
   "execution_count": 49,
   "metadata": {},
   "outputs": [
    {
     "name": "stdout",
     "output_type": "stream",
     "text": [
      "[-1.00000000e+00+0.00000000e+00j  1.00000000e+00+0.00000000e+00j\n",
      " -4.50762232e-01+5.87301846e-01j -4.50762232e-01-5.87301846e-01j\n",
      "  4.50762232e-01+5.87301846e-01j  4.50762232e-01-5.87301846e-01j\n",
      " -7.38961710e-17+1.54701601e-01j -7.38961710e-17-1.54701601e-01j\n",
      " -2.14378582e-08+0.00000000e+00j  2.14378575e-08+0.00000000e+00j\n",
      "  1.19767397e-16+0.00000000e+00j -1.35438925e-17+1.37422891e-17j\n",
      " -1.35438925e-17-1.37422891e-17j  5.01956607e-19+0.00000000e+00j\n",
      "  0.00000000e+00+0.00000000e+00j]\n",
      "[-1.00000000e+00+0.00000000e+00j  1.00000000e+00+0.00000000e+00j\n",
      " -4.50762232e-01+5.87301846e-01j -4.50762232e-01-5.87301846e-01j\n",
      "  4.50762232e-01+5.87301846e-01j  4.50762232e-01-5.87301846e-01j\n",
      " -2.62570882e-16+1.54701601e-01j -2.62570882e-16-1.54701601e-01j\n",
      "  2.34199878e-16+5.29571960e-09j  2.34199878e-16-5.29571960e-09j\n",
      " -4.66018949e-17+0.00000000e+00j  9.21958022e-17+5.64649517e-18j\n",
      "  9.21958022e-17-5.64649517e-18j  5.62521302e-17+0.00000000e+00j\n",
      " -2.38298746e-18+0.00000000e+00j]\n"
     ]
    }
   ],
   "source": [
    "#import numpy.linalg\n",
    "vals, vecs = np.linalg.eig(M)\n",
    "print(vals)\n",
    "vals, vecs = np.linalg.eig(M.T)\n",
    "print(vals)"
   ]
  },
  {
   "cell_type": "code",
   "execution_count": 50,
   "metadata": {
    "scrolled": true
   },
   "outputs": [
    {
     "name": "stdout",
     "output_type": "stream",
     "text": [
      "what if chain propagates\n",
      "A[0,:]\n",
      "[0.66640028 0.         0.         0.         0.0165601  0.31703962\n",
      " 0.         0.         0.         0.         0.         0.\n",
      " 0.         0.         0.        ]\n",
      "1.0\n",
      "[0.         0.44408934 0.22231095 0.0165601  0.         0.\n",
      " 0.         0.         0.08432718 0.23271243 0.         0.\n",
      " 0.         0.         0.        ]\n",
      "1.0\n",
      "[0.46064944 0.         0.         0.         0.01103565 0.21127529\n",
      " 0.0804604  0.00386679 0.         0.         0.         0.\n",
      " 0.01199199 0.22072044 0.        ]\n",
      "1.0\n",
      "[0.         0.30697692 0.15367252 0.09149605 0.         0.\n",
      " 0.         0.         0.05722416 0.15791792 0.00873475 0.00325724\n",
      " 0.         0.         0.22072044]\n",
      "1.0\n",
      "[0.61919341 0.         0.         0.         0.0076284  0.14604412\n",
      " 0.06293439 0.00302452 0.         0.         0.         0.\n",
      " 0.00830558 0.15286958 0.        ]\n",
      "1.0000000000000002\n",
      "[0.         0.41263066 0.20656274 0.0705628  0.         0.\n",
      " 0.         0.         0.03964974 0.1094189  0.00604963 0.00225595\n",
      " 0.         0.         0.15286958]\n",
      "1.0000000000000002\n",
      "[0.63606304 0.         0.         0.         0.0102539  0.19630884\n",
      " 0.04360385 0.00209552 0.         0.         0.         0.\n",
      " 0.00575476 0.10592008 0.        ]\n",
      "1.0\n",
      "[0.         0.42387259 0.21219045 0.05385775 0.         0.\n",
      " 0.         0.         0.05277221 0.14563215 0.00419166 0.0015631\n",
      " 0.         0.         0.10592008]\n",
      "1.0\n",
      "[0.58365043 0.         0.         0.         0.01053327 0.20165718\n",
      " 0.05435182 0.00261205 0.         0.         0.         0.\n",
      " 0.00758518 0.13961008 0.        ]\n",
      "1.0\n",
      "[0.         0.38894481 0.19470562 0.06488509 0.         0.\n",
      " 0.         0.         0.05433217 0.14993707 0.00552491 0.00206027\n",
      " 0.         0.         0.13961008]\n",
      "1.0\n"
     ]
    }
   ],
   "source": [
    "print(\"what if chain propagates\")\n",
    "print(\"A[0,:]\")\n",
    "# check stationary behavior\n",
    "A = M\n",
    "for n in range(10):\n",
    "    A = np.dot(A,M)\n",
    "    #print(A)\n",
    "    print(A[0,:])\n",
    "    print(np.sum(A[0,:]))  # is 1 indeed"
   ]
  },
  {
   "cell_type": "markdown",
   "metadata": {},
   "source": [
    "# Pcross with MSM"
   ]
  },
  {
   "cell_type": "code",
   "execution_count": 51,
   "metadata": {},
   "outputs": [
    {
     "name": "stdout",
     "output_type": "stream",
     "text": [
      "Z\n",
      "state 0-      0\n",
      "state B       1\n",
      "state 0+- LML 0.0\n",
      "state 0+- LMR 0.6801923129893167\n",
      "state 0+- RML 0.0\n",
      "state 1+- LML 0.0\n",
      "state 1+- LMR 0.7157211594198443\n",
      "state 1+- RML 0.0\n",
      "state 1+- RMR 0.7157211594198443\n",
      "state 2+- LML 0.0328190804921559\n",
      "state 2+- LMR 0.9631819784889574\n",
      "state 2+- RML 0.0328190804921559\n",
      "state 2+- RMR 0.9631819784889574\n",
      "state 3+- LML 0.2855224246695364\n",
      "state 3+- LMR 1.0\n",
      "Y\n",
      "state 0-      0.22691196234246697\n",
      "state B       0.0\n",
      "state 0+- LML 0.0\n",
      "state 0+- LMR 0.6801923129893167\n",
      "state 0+- RML 0.0\n",
      "state 1+- LML 0.0\n",
      "state 1+- LMR 0.7157211594198443\n",
      "state 1+- RML 0.0\n",
      "state 1+- RMR 0.7157211594198443\n",
      "state 2+- LML 0.0328190804921559\n",
      "state 2+- LMR 0.9631819784889574\n",
      "state 2+- RML 0.0328190804921559\n",
      "state 2+- RMR 0.9631819784889574\n",
      "state 3+- LML 0.2855224246695365\n",
      "state 3+- LMR 1.0\n",
      "global crossing prob [0.22691196]\n"
     ]
    }
   ],
   "source": [
    "# global crossing prob\n",
    "z1, z2, y1, y2 = global_cross_prob(M)\n",
    "print(\"Z\")\n",
    "print_vector(z1, labels1)\n",
    "print_vector(z2, labels2)\n",
    "print(\"Y\")\n",
    "print_vector(y1, labels1)\n",
    "print_vector(y2, labels2)\n",
    "print(\"global crossing prob\", y1[0])"
   ]
  },
  {
   "cell_type": "markdown",
   "metadata": {},
   "source": [
    "# Collecting times"
   ]
  },
  {
   "cell_type": "code",
   "execution_count": 52,
   "metadata": {},
   "outputs": [],
   "source": [
    "#TODO I need data too?"
   ]
  },
  {
   "cell_type": "code",
   "execution_count": 53,
   "metadata": {},
   "outputs": [],
   "source": [
    "def collect_tau(pathensembles, data):\n",
    "    # pathensembles -- list of pathensemble instances\n",
    "    \n",
    "    print(\"Collect tau\")\n",
    "    \n",
    "    # average path lengths\n",
    "    taumm = np.zeros(len(pathensembles))\n",
    "    taump = np.zeros(len(pathensembles))\n",
    "    taupm = np.zeros(len(pathensembles))\n",
    "    taupp = np.zeros(len(pathensembles))\n",
    "    \n",
    "    # for [1+-] and higher (i>=2)\n",
    "    for i in range(2,len(pathensembles)):\n",
    "        print(\"ensemble\", i, pathensembles[i].name)\n",
    "        taumm[i] = pathensembles[i].tauavg['LML']-2\n",
    "        taump[i] = pathensembles[i].tauavg['LMR']-2\n",
    "        taupm[i] = pathensembles[i].tauavg['RML']-2\n",
    "        taupp[i] = pathensembles[i].tauavg['RMR']-2\n",
    "\n",
    "    # for [0-] (i=0)\n",
    "    print(\"ensemble\", 0, pathensembles[0].name)\n",
    "    if pe.has_zero_minus_one:\n",
    "        # TODO pieces missing\n",
    "        taumm[0] = pathensembles[0].tauavg['LML']-2\n",
    "        taump[0] = pathensembles[0].tauavg['LMR']-2\n",
    "        taupm[0] = pathensembles[0].tauavg['RML']-2\n",
    "        taupp[0] = pathensembles[0].tauavg['RMR']-2\n",
    "    else:\n",
    "        taupp[0] = pathensembles[0].tauavg['RMR']-2\n",
    "\n",
    "    # for [0+-] (i=1)\n",
    "    print(\"ensemble\", 1, pathensembles[1].name)\n",
    "    taumm[1] = data[1][\"pathlengths\"][\"LML\"][\"mean\"] - 2\n",
    "    taump[1] = data[1][\"pathlengths\"][\"LMR\"][\"mean\"] - 2\n",
    "    taupm[1] = data[1][\"pathlengths\"][\"RML\"][\"mean\"] - 2\n",
    "    #taupp[1] = data[1][\"pathlengths\"][\"RMR\"][\"mean\"] - 2\n",
    "\n",
    "    return taumm, taump, taupm, taupp\n",
    "\n",
    "# this is the same:\n",
    "# 1) after:\n",
    "#   data[2][\"pathlengths\"] = pathlength_distr(upe)  # use correct upe!\n",
    "#   This gives the whole distrib, mean, std, etc\n",
    "#   print(data[2][\"pathlengths\"][\"RMR\"][\"mean\"])\n",
    "# 2) after:\n",
    "#   set_tau_distrib(pathensembles[2])\n",
    "#   print(pathensembles[2].tauavg['RMR'])\n",
    "\n",
    "# TODO for [0-]\n",
    "# likely not okay yet, what about L*L etc??????\n",
    "# There are paths missing TODO!!!!!!!! when lambda-1"
   ]
  },
  {
   "cell_type": "code",
   "execution_count": 54,
   "metadata": {
    "scrolled": true
   },
   "outputs": [],
   "source": [
    "# TODO fix +-1 issues!!!!!!\n",
    "# TODO tau1 is not fool proof if you have too many phase points!!\n",
    "\n",
    "def collect_tau1(pathensembles, data):\n",
    "    # average path lengths, but only the part before the 1st crossing\n",
    "    #---------------------------\n",
    "    print(\"Collect tau1\")\n",
    "    taumm1 = np.zeros(len(pathensembles))\n",
    "    taump1 = np.zeros(len(pathensembles))\n",
    "    taupm1 = np.zeros(len(pathensembles))\n",
    "    taupp1 = np.zeros(len(pathensembles))\n",
    "    \n",
    "    # for [1+-] and higher (i>=2)\n",
    "    for i in range(2,len(pathensembles)):\n",
    "        taumm1[i] = pathensembles[i].tau1avg['LML'] - 1\n",
    "        taump1[i] = pathensembles[i].tau1avg['LMR'] - 1\n",
    "        taupm1[i] = pathensembles[i].tau1avg['RML'] - 1\n",
    "        taupp1[i] = pathensembles[i].tau1avg['RMR'] - 1\n",
    "    # for [0-] (i=0) -> just 0\n",
    "    # for [0+-] (i=1) LML -> just 0\n",
    "    # for [0+-] (i=1) LMR -> just 0\n",
    "    # for [0+-] (i=1) RML\n",
    "    taupm1[1] = data[1][\"pathlengths\"][\"RML\"][\"mean\"] - 2\n",
    "    \n",
    "    return taumm1, taump1, taupm1, taupp1\n",
    "\n",
    "def collect_tau2(pathensembles, data):\n",
    "    # average path lengths, but only the part after the last crossing\n",
    "    #---------------------------\n",
    "    print(\"Collect tau2\")\n",
    "    taumm2 = np.zeros(len(pathensembles))\n",
    "    taump2 = np.zeros(len(pathensembles))\n",
    "    taupm2 = np.zeros(len(pathensembles))\n",
    "    taupp2 = np.zeros(len(pathensembles))\n",
    "    \n",
    "    # for [1+-] and higher (i>=2)\n",
    "    for i in range(2,len(pathensembles)):\n",
    "        taumm2[i] = pathensembles[i].tau2avg['LML'] - 1\n",
    "        taump2[i] = pathensembles[i].tau2avg['LMR'] - 1\n",
    "        taupm2[i] = pathensembles[i].tau2avg['RML'] - 1\n",
    "        taupp2[i] = pathensembles[i].tau2avg['RMR'] - 1\n",
    "    # for [0-] (i=0) -> just 0\n",
    "    # for [0+-] (i=1) LML -> just 0\n",
    "    # for [0+-] (i=1) LMR\n",
    "    taump2[1] = data[1][\"pathlengths\"][\"LMR\"][\"mean\"] - 2\n",
    "    # for [0+-] (i=1) RML -> just 0\n",
    "    \n",
    "    return taumm2, taump2, taupm2, taupp2\n",
    "\n",
    "def collect_taum(pathensembles, data):\n",
    "    # average path lengths, but only the part between first/last crossing\n",
    "    #---------------------------\n",
    "    print(\"Collect taum\")\n",
    "    taumm_m = np.zeros(len(pathensembles))\n",
    "    taump_m = np.zeros(len(pathensembles))\n",
    "    taupm_m = np.zeros(len(pathensembles))\n",
    "    taupp_m = np.zeros(len(pathensembles))\n",
    "    \n",
    "    # for [1+-] and higher (i>=2)\n",
    "    for i in range(2,len(pathensembles)):\n",
    "        #print(\"ensemble\", i, pathensembles[i].name)\n",
    "        taumm_m[i] = pathensembles[i].tauavg['LML'] \\\n",
    "                   - pathensembles[i].tau1avg['LML'] \\\n",
    "                   - pathensembles[i].tau2avg['LML']\n",
    "        taump_m[i] = pathensembles[i].tauavg['LMR'] \\\n",
    "                   - pathensembles[i].tau1avg['LMR'] \\\n",
    "                   - pathensembles[i].tau2avg['LMR']\n",
    "        taupm_m[i] = pathensembles[i].tauavg['RML'] \\\n",
    "                   - pathensembles[i].tau1avg['RML'] \\\n",
    "                   - pathensembles[i].tau2avg['RML']\n",
    "        taupp_m[i] = pathensembles[i].tauavg['RMR'] \\\n",
    "                   - pathensembles[i].tau1avg['RMR'] \\\n",
    "                   - pathensembles[i].tau2avg['RMR']\n",
    "\n",
    "    # for [0-] (i=0)\n",
    "    if pe.has_zero_minus_one:\n",
    "        # TODO there are more paths!!!\n",
    "        taumm_m[0] = pathensembles[0].tauavg['LML']-2\n",
    "        taump_m[0] = pathensembles[0].tauavg['LMR']-2\n",
    "        taupm_m[0] = pathensembles[0].tauavg['RML']-2\n",
    "        taupp_m[0] = pathensembles[0].tauavg['RMR']-2\n",
    "    else:\n",
    "        taupp_m[0] = pathensembles[0].tauavg['RMR']-2\n",
    "\n",
    "    # for [0+-] (i=1) LML\n",
    "    taumm_m[1] = data[1][\"pathlengths\"][\"LML\"][\"mean\"] - 2\n",
    "    # for [0+-] (i=1) LMR -> just 0\n",
    "    # for [0+-] (i=1) RML -> just 0\n",
    "\n",
    "    return taumm_m, taump_m, taupm_m, taupp_m\n"
   ]
  },
  {
   "cell_type": "code",
   "execution_count": 55,
   "metadata": {},
   "outputs": [],
   "source": [
    "def print_all_tau(pathensembles, taumm, taump, taupm, taupp):\n",
    "    # print all tau\n",
    "    print(f\"                  mm            mp            pm            pp\")\n",
    "    for i in range(len(pathensembles)):\n",
    "        print(f\"{i} {pathensembles[i].name[-3:]}  {taumm[i]:13.1f} {taump[i]:13.1f} {taupm[i]:13.1f} {taupp[i]:13.1f}\")"
   ]
  },
  {
   "cell_type": "code",
   "execution_count": 56,
   "metadata": {},
   "outputs": [
    {
     "name": "stdout",
     "output_type": "stream",
     "text": [
      "Collect tau\n",
      "ensemble 2 /mnt/0bf0c339-34bb-4500-a5fb-f3c2a863de29/DATA/MSM-REPPTIS/HPC/cosbump2-walls/langevin-gamma5/REPPTIS/002\n",
      "ensemble 3 /mnt/0bf0c339-34bb-4500-a5fb-f3c2a863de29/DATA/MSM-REPPTIS/HPC/cosbump2-walls/langevin-gamma5/REPPTIS/003\n",
      "ensemble 4 /mnt/0bf0c339-34bb-4500-a5fb-f3c2a863de29/DATA/MSM-REPPTIS/HPC/cosbump2-walls/langevin-gamma5/REPPTIS/004\n",
      "ensemble 0 /mnt/0bf0c339-34bb-4500-a5fb-f3c2a863de29/DATA/MSM-REPPTIS/HPC/cosbump2-walls/langevin-gamma5/REPPTIS/000\n",
      "ensemble 1 /mnt/0bf0c339-34bb-4500-a5fb-f3c2a863de29/DATA/MSM-REPPTIS/HPC/cosbump2-walls/langevin-gamma5/REPPTIS/001\n",
      "Collect tau1\n",
      "Collect tau2\n",
      "Collect taum\n"
     ]
    }
   ],
   "source": [
    "taumm, taump, taupm, taupp = collect_tau(pathensembles, data)\n",
    "taumm1, taump1, taupm1, taupp1 = collect_tau1(pathensembles, data)\n",
    "taumm2, taump2, taupm2, taupp2 = collect_tau2(pathensembles, data)\n",
    "taumm_m, taump_m, taupm_m, taupp_m = collect_taum(pathensembles, data)"
   ]
  },
  {
   "cell_type": "code",
   "execution_count": 57,
   "metadata": {},
   "outputs": [
    {
     "name": "stdout",
     "output_type": "stream",
     "text": [
      "tau\n",
      "                  mm            mp            pm            pp\n",
      "0 000            0.0           0.0           0.0        2838.1\n",
      "1 001          773.1         425.7         432.4           0.0\n",
      "2 002         1589.0         843.7         843.5        1557.6\n",
      "3 003         3720.1        1795.2        1777.5        3789.3\n",
      "4 004         1589.8         841.8         846.2        1597.4\n",
      "\n",
      "tau1\n",
      "                  mm            mp            pm            pp\n",
      "0 000            0.0           0.0           0.0           0.0\n",
      "1 001            0.0           0.0         432.4           0.0\n",
      "2 002          634.7         413.3         415.6         615.7\n",
      "3 003          495.6         398.6         388.5         506.9\n",
      "4 004          613.6         417.6         422.3         602.2\n",
      "\n",
      "tau_m\n",
      "                  mm            mp            pm            pp\n",
      "0 000            0.0           0.0           0.0        2838.1\n",
      "1 001          773.1           0.0           0.0           0.0\n",
      "2 002          348.1           5.3           5.4         373.3\n",
      "3 003         2722.2         997.5         991.0        2788.2\n",
      "4 004          362.4           7.0           3.9         373.6\n",
      "\n",
      "tau2\n",
      "                  mm            mp            pm            pp\n",
      "0 000            0.0           0.0           0.0           0.0\n",
      "1 001            0.0         425.7           0.0           0.0\n",
      "2 002          606.2         425.0         422.5         568.6\n",
      "3 003          502.3         399.2         398.0         494.1\n",
      "4 004          613.9         417.2         420.1         621.6\n"
     ]
    }
   ],
   "source": [
    "print(\"tau\")\n",
    "print_all_tau(pathensembles, taumm, taump, taupm, taupp)\n",
    "print(\"\\ntau1\")\n",
    "print_all_tau(pathensembles, taumm1, taump1, taupm1, taupp1)\n",
    "print(\"\\ntau_m\")\n",
    "print_all_tau(pathensembles, taumm_m, taump_m, taupm_m, taupp_m)\n",
    "print(\"\\ntau2\")\n",
    "print_all_tau(pathensembles, taumm2, taump2, taupm2, taupp2)"
   ]
  },
  {
   "cell_type": "code",
   "execution_count": 58,
   "metadata": {},
   "outputs": [],
   "source": [
    "def construct_tau_vector(N, NS, taumm, taump, taupm, taupp):\n",
    "    assert N>=4\n",
    "    assert NS==4*N-5\n",
    "    assert len(taumm) == N\n",
    "    assert len(taump) == N\n",
    "    assert len(taupm) == N\n",
    "    assert len(taupp) == N\n",
    "    # unravel the values into one vector\n",
    "    tau = np.zeros(NS)\n",
    "    # [0-]\n",
    "    tau[0] = taupp[0]\n",
    "    # [0+-]\n",
    "    tau[1] = taumm[1]\n",
    "    tau[2] = taump[1]\n",
    "    tau[3] = taupm[1]\n",
    "    # [1+-] etc\n",
    "    for i in range(1,N-2):\n",
    "        tau[4*i]   = taumm[i+1]\n",
    "        tau[4*i+1] = taump[i+1]\n",
    "        tau[4*i+2] = taupm[i+1]\n",
    "        tau[4*i+3] = taupp[i+1]\n",
    "    # [(N-2)^(-1)]\n",
    "    tau[-3] = taumm[-1]\n",
    "    tau[-2] = taump[-1]\n",
    "    # B\n",
    "    tau[-1] = 0.   # whatever\n",
    "    return tau"
   ]
  },
  {
   "cell_type": "code",
   "execution_count": 59,
   "metadata": {
    "scrolled": true
   },
   "outputs": [
    {
     "name": "stdout",
     "output_type": "stream",
     "text": [
      "tau\n",
      "[2838.12962469  773.09933378  425.66382752  432.35303557 1589.01894452\n",
      "  843.73056262  843.5334258  1557.61183261 3720.13983371 1795.19181959\n",
      " 1777.47496358 3789.25830078 1589.84724005  841.83603013    0.        ]\n",
      "\n",
      "\n",
      "tau1\n",
      "[  0.           0.           0.         432.35303557 634.71989175\n",
      " 413.34230987 415.63127601 615.70562771 495.58226253 398.58038893\n",
      " 388.53095412 506.91577148 613.5648267  417.61856605   0.        ]\n",
      "taum\n",
      "[2838.12962469  773.09933378    0.            0.          348.08660352\n",
      "    5.33884648    5.44722607  373.28138528 2722.24162257  997.45923491\n",
      "  990.96913693 2788.20605469  362.41848524    6.9708467     0.        ]\n",
      "tau2\n",
      "[  0.           0.         425.66382752   0.         606.21244926\n",
      " 425.04940628 422.45492372 568.62481962 502.3159486  399.15219575\n",
      " 397.97487254 494.13647461 613.86392811 417.24661738   0.        ]\n",
      "\n",
      "\n",
      "tau = tau1+taum+tau2 => difference is 6.462348535570529e-27\n"
     ]
    }
   ],
   "source": [
    "tau  = construct_tau_vector(N, NS, taumm, taump, taupm, taupp)\n",
    "tau1 = construct_tau_vector(N, NS, taumm1, taump1, taupm1, taupp1)\n",
    "taum = construct_tau_vector(N, NS, taumm_m, taump_m, taupm_m, taupp_m)\n",
    "tau2 = construct_tau_vector(N, NS, taumm2, taump2, taupm2, taupp2)\n",
    "tau_m = tau-tau1-tau2  # yes, this is the same thing\n",
    "\n",
    "print(\"tau\")\n",
    "print(tau)\n",
    "print(\"\\n\")\n",
    "print(\"tau1\")\n",
    "print(tau1)\n",
    "print(\"taum\")\n",
    "print(taum)\n",
    "print(\"tau2\")\n",
    "print(tau2)\n",
    "\n",
    "print(\"\\n\")\n",
    "print(\"tau = tau1+taum+tau2 => difference is\", np.sum((tau-tau1-taum-tau2)**2))"
   ]
  },
  {
   "cell_type": "markdown",
   "metadata": {},
   "source": [
    "# Compute tau for [0+]"
   ]
  },
  {
   "cell_type": "code",
   "execution_count": 60,
   "metadata": {},
   "outputs": [
    {
     "name": "stdout",
     "output_type": "stream",
     "text": [
      "G\n",
      "state 0-      0.0\n",
      "state B       0.0\n",
      "state 0+- LML 773.0993337774817\n",
      "state 0+- LMR 3218.6535202956848\n",
      "state 0+- RML 0.0\n",
      "state 1+- LML 954.299052774019\n",
      "state 1+- LMR 2889.0309977609877\n",
      "state 1+- RML 427.9021497919556\n",
      "state 1+- RMR 3400.5489499106193\n",
      "state 2+- LML 3788.7691388526637\n",
      "state 2+- LMR 1976.649532443134\n",
      "state 2+- RML 1953.1555771443623\n",
      "state 2+- RMR 3862.3806310817417\n",
      "state 3+- LML 3448.0179520947786\n",
      "state 3+- LMR 424.2174640814619\n",
      "H\n",
      "state 0-      1588.9355155168605\n",
      "state B       0.0\n",
      "state 0+- LML 0.0\n",
      "state 0+- LMR 3218.6535202956843\n",
      "state 0+- RML 0.0\n",
      "state 1+- LML 606.212449255751\n",
      "state 1+- LMR 2883.6921512809195\n",
      "state 1+- RML 422.4549237170596\n",
      "state 1+- RMR 3027.2675646292337\n",
      "state 2+- LML 1066.5275162777075\n",
      "state 2+- LMR 979.1902975303246\n",
      "state 2+- RML 962.1864402179236\n",
      "state 2+- RMR 1074.1745763942417\n",
      "state 3+- LML 3085.599466857295\n",
      "state 3+- LMR 417.24661738038776\n",
      "interesting\n",
      "[1588.93551552]\n"
     ]
    }
   ],
   "source": [
    "g1, g2, h1, h2 = vector_G(M, tau1, tau_m, tau2) #, doprint=True)\n",
    "print(\"G\")\n",
    "print_vector(g1, labels1)\n",
    "print_vector(g2, labels2)\n",
    "print(\"H\")\n",
    "print_vector(h1, labels1)\n",
    "print_vector(h2, labels2)\n",
    "print(\"interesting\")\n",
    "print(h1[0])"
   ]
  },
  {
   "cell_type": "code",
   "execution_count": 61,
   "metadata": {
    "scrolled": true
   },
   "outputs": [
    {
     "name": "stdout",
     "output_type": "stream",
     "text": [
      "[1588.93551552]\n"
     ]
    }
   ],
   "source": [
    "print(h1[0])"
   ]
  },
  {
   "cell_type": "markdown",
   "metadata": {},
   "source": [
    "# Flux"
   ]
  },
  {
   "cell_type": "code",
   "execution_count": 62,
   "metadata": {
    "scrolled": false
   },
   "outputs": [
    {
     "name": "stdout",
     "output_type": "stream",
     "text": [
      "[1.12941641] 1/time\n"
     ]
    }
   ],
   "source": [
    "flux = 1/(tau[0]+h1[0])\n",
    "dt = 0.0002\n",
    "# dt = 0.00002\n",
    "# dt = 0.01\n",
    "flux\n",
    "print(flux/dt, \"1/time\")"
   ]
  },
  {
   "cell_type": "code",
   "execution_count": null,
   "metadata": {},
   "outputs": [],
   "source": []
  }
 ],
 "metadata": {
  "kernelspec": {
   "display_name": "Python 3 (ipykernel)",
   "language": "python",
   "name": "python3"
  },
  "language_info": {
   "codemirror_mode": {
    "name": "ipython",
    "version": 3
   },
   "file_extension": ".py",
   "mimetype": "text/x-python",
   "name": "python",
   "nbconvert_exporter": "python",
   "pygments_lexer": "ipython3",
   "version": "3.10.13"
  }
 },
 "nbformat": 4,
 "nbformat_minor": 4
}
