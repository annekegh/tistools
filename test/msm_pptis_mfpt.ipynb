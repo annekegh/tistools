{
 "cells": [
  {
   "cell_type": "code",
   "execution_count": 1,
   "metadata": {},
   "outputs": [],
   "source": [
    "%load_ext autoreload\n",
    "%autoreload 2\n",
    "\n",
    "import matplotlib.pyplot as plt\n",
    "import numpy as np\n",
    "#%matplotlib qt   # doesn't work on my laptop\n",
    "from tistools import read_inputfile, get_LMR_interfaces, read_pathensemble, get_weights\n",
    "from tistools import set_tau_distrib, set_tau_first_hit_M_distrib, cross_dist_distr, pathlength_distr\n",
    "from tistools import ACCFLAGS, REJFLAGS\n",
    "\n",
    "from tistools import get_lmr_masks, get_generation_mask, get_flag_mask\n",
    "from tistools import unwrap_by_weight, running_avg_local_probs, get_local_probs, get_globall_probs, get_global_probz\n",
    "\n",
    "from pprint import pprint    # to print the vars of the pathensemble object"
   ]
  },
  {
   "cell_type": "code",
   "execution_count": 2,
   "metadata": {},
   "outputs": [],
   "source": [
    "%autoreload 2   # something with pip install -e ."
   ]
  },
  {
   "cell_type": "markdown",
   "metadata": {},
   "source": [
    "# Reading"
   ]
  },
  {
   "cell_type": "code",
   "execution_count": 3,
   "metadata": {},
   "outputs": [
    {
     "name": "stdout",
     "output_type": "stream",
     "text": [
      "['/Users/an/Documents/0_mfpt/elias/flat-w-walls/50k-cycles/REPPTIS/000', '/Users/an/Documents/0_mfpt/elias/flat-w-walls/50k-cycles/REPPTIS/001', '/Users/an/Documents/0_mfpt/elias/flat-w-walls/50k-cycles/REPPTIS/002', '/Users/an/Documents/0_mfpt/elias/flat-w-walls/50k-cycles/REPPTIS/003', '/Users/an/Documents/0_mfpt/elias/flat-w-walls/50k-cycles/REPPTIS/004']\n"
     ]
    }
   ],
   "source": [
    "# zero_minus_one = True if lambda_-1 interface is set\n",
    "# zero_minus_one = False if lambda_-1 interface is not set\n",
    "\n",
    "# data the maze\n",
    "#---------------\n",
    "indir = \"/Users/an/Documents/0_mfpt/repptis1/\"\n",
    "zero_minus_one = True\n",
    "inputfile = indir + \"/out.rst\"\n",
    "#inputfile = indir + \"/retis.rst\"\n",
    "\n",
    "# new data Elias\n",
    "#---------------\n",
    "indir = \"/Users/an/Documents/0_mfpt/elias/flat-no-walls/REPPTIS/\"\n",
    "#indir = \"/Users/an/Documents/0_mfpt/elias/flat-no-walls/RETIS/\"\n",
    "zero_minus_one = True\n",
    "indir = \"/Users/an/Documents/0_mfpt/elias/flat-w-walls/50k-cycles/REPPTIS/\"\n",
    "zero_minus_one = False\n",
    "#indir = \"/Users/an/Documents/0_mfpt/elias/cosbump2-walls/REPPTIS/\"\n",
    "#zero_minus_one = False\n",
    "inputfile = indir + \"/out.rst\"\n",
    "\n",
    "# old data bump An\n",
    "#------------------\n",
    "#indir = \"/Users/an/wwork/current-work/0_TitusEnrico/repp/1D-flat.ppr-Febr6-2022d/\"\n",
    "##indir = \"/Users/an/wwork/current-work/0_TitusEnrico/repp/bump-ppretis/\"\n",
    "#inputfile = indir + \"/out.rst\"\n",
    "\n",
    "import os\n",
    "import glob\n",
    "os.chdir(indir)\n",
    "\n",
    "folders = glob.glob(indir + \"/0[0-9][0-9]\")\n",
    "folders = sorted(folders)\n",
    "print(folders)"
   ]
  },
  {
   "cell_type": "code",
   "execution_count": 4,
   "metadata": {},
   "outputs": [
    {
     "name": "stdout",
     "output_type": "stream",
     "text": [
      "################################################################################\n",
      "/Users/an/Documents/0_mfpt/elias/flat-w-walls/50k-cycles/REPPTIS/000\n",
      "pathensemble info: \n",
      "{'cyclenumbers': array([    0,     1,     2, ..., 49998, 49999, 50000]),\n",
      " 'flags': array(['ACC', 'ACC', 'BTL', ..., 'ACC', 'BTL', 'BTL'], dtype='<U3'),\n",
      " 'generation': array(['ki', 'sh', 'sh', ..., 'sh', 'sh', 'sh'], dtype='<U2'),\n",
      " 'has_zero_minus_one': False,\n",
      " 'in_zero_minus': True,\n",
      " 'in_zero_plus': False,\n",
      " 'interfaces': [[-0.1, -0.1, -0.1], ['l_[0]', 'l_[0]', 'l_[0]']],\n",
      " 'lambmaxs': array([-0.08922184, -0.08137773, -0.10142089, ..., -0.08895494,\n",
      "       -0.09672198, -0.10088395]),\n",
      " 'lambmins': array([-0.105     , -0.10142089, -0.11016192, ..., -0.10088395,\n",
      "       -0.10088395, -0.10473833]),\n",
      " 'lengths': array([5, 3, 2, ..., 3, 2, 2]),\n",
      " 'lmrs': array(['RMR', 'RMR', '***', ..., 'RMR', '*MR', '***'], dtype='<U3'),\n",
      " 'name': '000',\n",
      " 'ncycle': 50001,\n",
      " 'newpathnumbers': array([    0,     1,     1, ..., 15351, 15351, 15351]),\n",
      " 'orders': None,\n",
      " 'pathnumbers': array([    1,     2,     2, ..., 20284, 20284, 20284]),\n",
      " 'shootlinks': array([None, None, None, ..., None, None, None], dtype=object),\n",
      " 'totaltime': 3972362,\n",
      " 'weights': array([1, 6, 0, ..., 3, 0, 0])}\n",
      "Setting orders for path ensemble 000\n",
      "Loaded orders from file, NOT CHECKING FOR CONSISTENCY.\n",
      "################################################################################\n",
      "/Users/an/Documents/0_mfpt/elias/flat-w-walls/50k-cycles/REPPTIS/001\n",
      "pathensemble info: \n",
      "{'cyclenumbers': array([    0,     1,     2, ..., 49998, 49999, 50000]),\n",
      " 'flags': array(['ACC', 'FTL', 'ACC', ..., 'BTL', 'BTL', 'BTL'], dtype='<U3'),\n",
      " 'generation': array(['ki', 'sh', 'sh', ..., 'sh', 'sh', 'sh'], dtype='<U2'),\n",
      " 'has_zero_minus_one': False,\n",
      " 'in_zero_minus': False,\n",
      " 'in_zero_plus': True,\n",
      " 'interfaces': [[-0.1, -0.1, 0.0], ['l_[0]', 'l_[0]', 'l_[1]']],\n",
      " 'lambmaxs': array([ 0.00709888,  0.000772  , -0.07868864, ..., -0.087259  ,\n",
      "       -0.0838907 , -0.09792473]),\n",
      " 'lambmins': array([-0.10142089, -0.06342883, -0.10532479, ..., -0.09792473,\n",
      "       -0.09792473, -0.10389729]),\n",
      " 'lengths': array([18, 28,  8, ...,  2,  4,  2]),\n",
      " 'lmrs': array(['LMR', 'R**', 'LML', ..., '***', '***', '*ML'], dtype='<U3'),\n",
      " 'name': '001',\n",
      " 'ncycle': 50001,\n",
      " 'newpathnumbers': array([    0,     0,     1, ..., 16483, 16483, 16483]),\n",
      " 'orders': None,\n",
      " 'pathnumbers': array([    1,     1,     2, ..., 18978, 18978, 18978]),\n",
      " 'shootlinks': array([None, None, None, ..., None, None, None], dtype=object),\n",
      " 'totaltime': 1476808,\n",
      " 'weights': array([2, 0, 2, ..., 0, 0, 0])}\n",
      "Setting orders for path ensemble 001\n",
      "Loaded orders from file, NOT CHECKING FOR CONSISTENCY.\n",
      "################################################################################\n",
      "/Users/an/Documents/0_mfpt/elias/flat-w-walls/50k-cycles/REPPTIS/002\n",
      "pathensemble info: \n",
      "{'cyclenumbers': array([    0,     1,     2, ..., 49998, 49999, 50000]),\n",
      " 'flags': array(['ACC', 'FTL', 'NCR', ..., 'NCR', 'ACC', 'ACC'], dtype='<U3'),\n",
      " 'generation': array(['ki', 'sh', 'sh', ..., 'sh', 'sh', 'sh'], dtype='<U2'),\n",
      " 'has_zero_minus_one': False,\n",
      " 'in_zero_minus': False,\n",
      " 'in_zero_plus': False,\n",
      " 'interfaces': [[-0.1, 0.0, 0.1], ['l_[0]', 'l_[1]', 'l_[2]']],\n",
      " 'lambmaxs': array([ 0.10225519,  0.10222714, -0.08248023, ..., -0.01287124,\n",
      "        0.10834378,  0.06050722]),\n",
      " 'lambmins': array([-0.1055843 , -0.04829347, -0.10952618, ..., -0.10161801,\n",
      "       -0.10161525, -0.11211222]),\n",
      " 'lengths': array([ 66, 109,  11, ..., 173, 383, 360]),\n",
      " 'lmrs': array(['LMR', 'RM*', 'L*L', ..., 'L*L', 'LMR', 'LML'], dtype='<U3'),\n",
      " 'name': '002',\n",
      " 'ncycle': 50001,\n",
      " 'newpathnumbers': array([    0,     0,     0, ..., 23592, 23593, 23594]),\n",
      " 'orders': None,\n",
      " 'pathnumbers': array([    1,     1,     1, ..., 24315, 24316, 24317]),\n",
      " 'shootlinks': array([None, None, None, ..., None, None, None], dtype=object),\n",
      " 'totaltime': 8616064,\n",
      " 'weights': array([5, 0, 0, ..., 0, 1, 1])}\n",
      "Setting orders for path ensemble 002\n",
      "Loaded orders from file, NOT CHECKING FOR CONSISTENCY.\n",
      "################################################################################\n",
      "/Users/an/Documents/0_mfpt/elias/flat-w-walls/50k-cycles/REPPTIS/003\n",
      "pathensemble info: \n",
      "{'cyclenumbers': array([    0,     1,     2, ..., 49998, 49999, 50000]),\n",
      " 'flags': array(['ACC', 'ACC', 'NCR', ..., 'NCR', 'ACC', 'ACC'], dtype='<U3'),\n",
      " 'generation': array(['ki', 'sh', 'sh', ..., 'sh', 'sh', 'sh'], dtype='<U2'),\n",
      " 'has_zero_minus_one': False,\n",
      " 'in_zero_minus': False,\n",
      " 'in_zero_plus': False,\n",
      " 'interfaces': [[0.0, 0.1, 0.2], ['l_[1]', 'l_[2]', 'l_[3]']],\n",
      " 'lambmaxs': array([0.20772259, 0.20258016, 0.20240325, ..., 0.20941509, 0.21169879,\n",
      "       0.11629317]),\n",
      " 'lambmins': array([-0.00529874,  0.0977565 ,  0.18264735, ...,  0.11379303,\n",
      "       -0.01121091, -0.00256751]),\n",
      " 'lengths': array([ 65,  52,  11, ...,  60, 226,  94]),\n",
      " 'lmrs': array(['LMR', 'RMR', 'R*R', ..., 'R*R', 'RML', 'LML'], dtype='<U3'),\n",
      " 'name': '003',\n",
      " 'ncycle': 50001,\n",
      " 'newpathnumbers': array([    0,     1,     1, ..., 23593, 23594, 23595]),\n",
      " 'orders': None,\n",
      " 'pathnumbers': array([    1,     2,     2, ..., 24828, 24829, 24830]),\n",
      " 'shootlinks': array([None, None, None, ..., None, None, None], dtype=object),\n",
      " 'totaltime': 9000013,\n",
      " 'weights': array([ 1, 10,  0, ...,  0,  1,  1])}\n",
      "Setting orders for path ensemble 003\n",
      "Loaded orders from file, NOT CHECKING FOR CONSISTENCY.\n",
      "################################################################################\n",
      "/Users/an/Documents/0_mfpt/elias/flat-w-walls/50k-cycles/REPPTIS/004\n",
      "pathensemble info: \n",
      "{'cyclenumbers': array([    0,     1,     2, ..., 49998, 49999, 50000]),\n",
      " 'flags': array(['ACC', 'FTL', 'NCR', ..., 'ACC', 'ACC', 'BTL'], dtype='<U3'),\n",
      " 'generation': array(['ki', 'sh', 'sh', ..., 'sh', 'sh', 'sh'], dtype='<U2'),\n",
      " 'has_zero_minus_one': False,\n",
      " 'in_zero_minus': False,\n",
      " 'in_zero_plus': False,\n",
      " 'interfaces': [[0.1, 0.2, 0.3], ['l_[2]', 'l_[3]', 'l_[4]']],\n",
      " 'lambmaxs': array([0.30689643, 0.30686839, 0.12216101, ..., 0.22644511, 0.31264524,\n",
      "       0.29021202]),\n",
      " 'lambmins': array([0.09905695, 0.15634778, 0.09511506, ..., 0.092717  , 0.0986711 ,\n",
      "       0.1315691 ]),\n",
      " 'lengths': array([ 66, 109,  11, ..., 220, 232, 384]),\n",
      " 'lmrs': array(['LMR', 'RM*', 'L*L', ..., 'LML', 'LMR', '*M*'], dtype='<U3'),\n",
      " 'name': '004',\n",
      " 'ncycle': 50001,\n",
      " 'newpathnumbers': array([    0,     0,     0, ..., 23432, 23433, 23433]),\n",
      " 'orders': None,\n",
      " 'pathnumbers': array([    1,     1,     1, ..., 26658, 26659, 26659]),\n",
      " 'shootlinks': array([None, None, None, ..., None, None, None], dtype=object),\n",
      " 'totaltime': 8920631,\n",
      " 'weights': array([5, 0, 0, ..., 1, 2, 0])}\n",
      "Setting orders for path ensemble 004\n",
      "Loaded orders from file, NOT CHECKING FOR CONSISTENCY.\n"
     ]
    }
   ],
   "source": [
    "# !!! last lines !!!  allow to speed up this notebook\n",
    "# pe.set_orders(load=False...)  -> 1st time you run the code, this will store npy files\n",
    "# pe.set_orders(load=True...)  -> next time you run the code, you can read npy files\n",
    "\n",
    "# Reading all input\n",
    "#===================\n",
    "interfaces, zero_left, timestep = read_inputfile(inputfile)\n",
    "LMR_interfaces, LMR_strings = get_LMR_interfaces(interfaces, zero_left)\n",
    "pathensembles = []\n",
    "for i,fol in enumerate(folders):\n",
    "    print(\"#\"*80)\n",
    "    print(fol)\n",
    "    pe = read_pathensemble(fol+\"/pathensemble.txt\")\n",
    "    pe.set_name(fol[len(indir):])\n",
    "    pe.set_interfaces([LMR_interfaces[i], LMR_strings[i]])\n",
    "    if i==0:\n",
    "        pe.set_zero_minus_one(zero_minus_one)   # TODO this is never used\n",
    "        pe.set_in_zero_minus(True)\n",
    "    if i==1:\n",
    "        pe.set_in_zero_plus(True)\n",
    "    w, _ = get_weights(pe.flags, ACCFLAGS, REJFLAGS, verbose = False)\n",
    "    pe.set_weights(w)\n",
    "    print(\"pathensemble info: \")\n",
    "    pprint(vars(pe))\n",
    "    pathensembles.append(pe)\n",
    "    # read order parameters order.txt/order.npy into path ensemble object\n",
    "    #pe.set_orders(load=False, acc_only=True, save=False) # if saving doesn't work\n",
    "    #### CHANGE HERE ####\n",
    "    #pe.set_orders(load=False, acc_only=True, save=True) # for the 1st time\n",
    "    pe.set_orders(load=True, acc_only=True) # for the next times, save=True/False is not important"
   ]
  },
  {
   "cell_type": "markdown",
   "metadata": {},
   "source": [
    "# Analysis"
   ]
  },
  {
   "cell_type": "code",
   "execution_count": 5,
   "metadata": {},
   "outputs": [
    {
     "name": "stdout",
     "output_type": "stream",
     "text": [
      "0\n",
      "Calculating path lengths.\n",
      "Done.\n",
      "1\n",
      "2\n",
      "Calculating path lengths.\n",
      "Done.\n",
      "Calculating first hitting lengths to middle interface\n",
      "NOT LAST\n",
      "Done.\n",
      "3\n",
      "Calculating path lengths.\n",
      "Done.\n",
      "Calculating first hitting lengths to middle interface\n",
      "NOT LAST\n",
      "Done.\n",
      "4\n",
      "Calculating path lengths.\n",
      "Done.\n",
      "Calculating first hitting lengths to middle interface\n",
      "NOT LAST\n",
      "Done.\n"
     ]
    }
   ],
   "source": [
    "# Setting path ensemble properties\n",
    "#==================================\n",
    "for i,fol in enumerate(folders):\n",
    "    print(i)\n",
    "    if i != 1:\n",
    "        print(\"Calculating path lengths.\")\n",
    "        set_tau_distrib(pathensembles[i])\n",
    "        print(\"Done.\")\n",
    "    #else:\n",
    "        #TODO problem with ...\n",
    "    if i > 1:\n",
    "        print(\"Calculating first hitting lengths to middle interface\")\n",
    "        set_tau_first_hit_M_distrib(pathensembles[i])\n",
    "        print(\"Done.\")\n",
    "    #else:\n",
    "        # TODO problem with ...."
   ]
  },
  {
   "cell_type": "code",
   "execution_count": 6,
   "metadata": {},
   "outputs": [
    {
     "name": "stdout",
     "output_type": "stream",
     "text": [
      "doing pathensemble 0\n",
      "doing pathensemble 1\n",
      "Weights of the different paths:\n",
      "wRMR = 0\n",
      "wRML = 4701\n",
      "wLMR = 4412\n",
      "wLML = 40888\n",
      "Local crossing probabilities:\n",
      "pRMR = 0.0\n",
      "pRML = 1.0\n",
      "pLMR = 0.09739514348785872\n",
      "pLML = 0.9026048565121413\n",
      "doing pathensemble 2\n",
      "Weights of the different paths:\n",
      "wRMR = 11810\n",
      "wRML = 13385\n",
      "wLMR = 12952\n",
      "wLML = 11854\n",
      "Local crossing probabilities:\n",
      "pRMR = 0.468743798372693\n",
      "pRML = 0.531256201627307\n",
      "pLMR = 0.5221317423204064\n",
      "pLML = 0.4778682576795936\n",
      "doing pathensemble 3\n",
      "Weights of the different paths:\n",
      "wRMR = 11962\n",
      "wRML = 13105\n",
      "wLMR = 13124\n",
      "wLML = 11810\n",
      "Local crossing probabilities:\n",
      "pRMR = 0.47720110104918817\n",
      "pRML = 0.5227988989508118\n",
      "pLMR = 0.5263495628459132\n",
      "pLML = 0.4736504371540868\n",
      "doing pathensemble 4\n",
      "Weights of the different paths:\n",
      "wRMR = 11931\n",
      "wRML = 13431\n",
      "wLMR = 12867\n",
      "wLML = 11772\n",
      "Local crossing probabilities:\n",
      "pRMR = 0.47042819966879584\n",
      "pRML = 0.5295718003312042\n",
      "pLMR = 0.522220869353464\n",
      "pLML = 0.477779130646536\n"
     ]
    },
    {
     "name": "stderr",
     "output_type": "stream",
     "text": [
      "/Users/an/opt/anaconda3/lib/python3.9/site-packages/tistools-0.1-py3.9.egg/tistools/repptis_analysis.py:555: RuntimeWarning: invalid value encountered in true_divide\n",
      "/Users/an/opt/anaconda3/lib/python3.9/site-packages/tistools-0.1-py3.9.egg/tistools/repptis_analysis.py:556: RuntimeWarning: invalid value encountered in true_divide\n"
     ]
    }
   ],
   "source": [
    "# Analyze the pptis simulation.\n",
    "# Analysis output is saved to the data dictionary.\n",
    "data = {}\n",
    "for i, pe in enumerate(pathensembles):\n",
    "    print(\"doing pathensemble {}\".format(i))\n",
    "    if i == 0:\n",
    "        data[i] = {}\n",
    "        continue  # TODO: make [0-] analysis ???\n",
    "\n",
    "    # masks - TODO not used further on?\n",
    "    # TODO these functions are duplicate in repptis_analysis\n",
    "    #masks = get_lmr_masks(pe)\n",
    "    #loadmask = get_generation_mask(pe, \"ld\")\n",
    "    #print(\"Amount of loads: {}\".format(np.sum(loadmask)))\n",
    "    ##hardloadmask = get_hard_load_mask(loadmask)\n",
    "    #accmask = get_flag_mask(pe, \"ACC\")\n",
    "\n",
    "    # pathtype_cycles\n",
    "    pathtypes = (\"LML\", \"LMR\", \"RML\", \"RMR\")\n",
    "    pathtype_cycles = {}\n",
    "    for ptype in pathtypes:\n",
    "        pathtype_cycles[ptype] = unwrap_by_weight(\n",
    "                (pe.lmrs == ptype).astype(int), pe.weights)\n",
    "    \n",
    "    # running average analysis: [\"running\"]\n",
    "    data[i] = {}\n",
    "    data[i][\"running\"] = {}\n",
    "    data[i][\"running\"][\"plocal\"] = {}\n",
    "    # you'll still have to hardload select pe.weigths... TODO. # this is comment wouter?\n",
    "    for (ptype, p_loc) in zip(pathtypes, \n",
    "                              running_avg_local_probs(pathtype_cycles, \n",
    "                                                      pe.weights, tr = False)):\n",
    "        data[i][\"running\"][\"plocal\"][ptype] = p_loc\n",
    "\n",
    "    # analysis using all data: [\"full\"]\n",
    "    plocfull = get_local_probs(pe, tr=False)\n",
    "    data[i][\"full\"] = {}\n",
    "    for ptype in pathtypes:\n",
    "        data[i][\"full\"][ptype] = plocfull[ptype]\n",
    "\n",
    "    # data[i] have now [\"full\"] and [\"running\"]"
   ]
  },
  {
   "cell_type": "code",
   "execution_count": 7,
   "metadata": {
    "scrolled": true
   },
   "outputs": [
    {
     "name": "stdout",
     "output_type": "stream",
     "text": [
      "Are all weights 1?  True\n",
      "Are all paths accepted?  True\n",
      "Are all weights 1?  True\n",
      "Are all paths accepted?  True\n",
      "Are all weights 1?  True\n",
      "Are all paths accepted?  True\n",
      "Are all weights 1?  True\n",
      "Are all paths accepted?  True\n",
      "Are all weights 1?  True\n",
      "Are all paths accepted?  True\n"
     ]
    },
    {
     "name": "stderr",
     "output_type": "stream",
     "text": [
      "/Users/an/opt/anaconda3/lib/python3.9/site-packages/numpy/core/fromnumeric.py:3440: RuntimeWarning: Mean of empty slice.\n",
      "  return _methods._mean(a, axis=axis, dtype=dtype,\n",
      "/Users/an/opt/anaconda3/lib/python3.9/site-packages/numpy/core/_methods.py:189: RuntimeWarning: invalid value encountered in double_scalars\n",
      "  ret = ret.dtype.type(ret / rcount)\n",
      "/Users/an/opt/anaconda3/lib/python3.9/site-packages/numpy/core/_methods.py:262: RuntimeWarning: Degrees of freedom <= 0 for slice\n",
      "  ret = _var(a, axis=axis, dtype=dtype, out=out, ddof=ddof,\n",
      "/Users/an/opt/anaconda3/lib/python3.9/site-packages/numpy/core/_methods.py:222: RuntimeWarning: invalid value encountered in true_divide\n",
      "  arrmean = um.true_divide(arrmean, div, out=arrmean, casting='unsafe',\n",
      "/Users/an/opt/anaconda3/lib/python3.9/site-packages/numpy/core/_methods.py:254: RuntimeWarning: invalid value encountered in double_scalars\n",
      "  ret = ret.dtype.type(ret / rcount)\n"
     ]
    }
   ],
   "source": [
    "\n",
    "for i, pe in enumerate(pathensembles):\n",
    "    upe = pe.unify_pe()\n",
    "    # Pathlength distribution\n",
    "    data[i][\"pathlengths\"] = pathlength_distr(upe)  # these might be used later or not! TODO\n",
    "        \n",
    "#=======================================\n",
    "# make figures\n",
    "makefigs = True \n",
    "if makefigs:\n",
    "    for i, pe in enumerate(pathensembles):     \n",
    "        if i == 0:\n",
    "            continue\n",
    "        # Cross distances distribution\n",
    "        L, M, R, lmlpercs, lmllambs, rmrpercs, rmrlambs = cross_dist_distr(pe)\n",
    "        fig,ax = plt.subplots()\n",
    "        ax.plot(lmllambs, lmlpercs, lw=1, c=\"g\")\n",
    "        ax.plot(rmrlambs, rmrpercs, lw=1, c=\"r\")\n",
    "        for lamb in (L,M,R):\n",
    "            ax.axvline(lamb, color='k', linestyle='--', lw = 0.5)\n",
    "        ax.set_xlabel('Cross distance')\n",
    "        ax.set_ylabel('Frequency')\n",
    "        ax.set_title(\"Ensemble {}. L = {}, M = {}, R = {}\".format(\n",
    "            pe.name, L, M, R))\n",
    "        ax.set_ylim(0)\n",
    "        fig.savefig(f\"pathensemble_{i}_crossdist.pdf\")\n",
    "        plt.close(fig)\n",
    "\n",
    "        # Pathlength distribution      \n",
    "        for ptype in pathtypes:\n",
    "            fig, ax = plt.subplots()\n",
    "            ax.plot(data[i][\"pathlengths\"][ptype][\"bin_centers\"], \n",
    "                data[i][\"pathlengths\"][ptype][\"hist\"])\n",
    "            ax.set_xlabel('Pathlength')\n",
    "            ax.set_ylabel('Frequency')\n",
    "            ax.set_title(f\"{np.sum(data[i]['pathlengths'][ptype]['hist'])} \" + \\\n",
    "                         f\"{ptype} paths. \")\n",
    "            ax.legend([f\"mean = {data[i]['pathlengths'][ptype]['mean']:.2f}, \" + \\\n",
    "                          f\"std = {data[i]['pathlengths'][ptype]['std']:.2f}\"])\n",
    "            fig.savefig(f\"pathensemble_{i}_pathlength_{ptype}.pdf\")\n",
    "            plt.close(fig)"
   ]
  },
  {
   "cell_type": "markdown",
   "metadata": {},
   "source": [
    "# Pcross with recursive relations"
   ]
  },
  {
   "cell_type": "code",
   "execution_count": 8,
   "metadata": {},
   "outputs": [],
   "source": [
    "# Global crossing probabilities\n",
    "# WITHOUT ERRORS #  \n",
    "# Full data \n",
    "psfull = []\n",
    "for i in range(1, len(pathensembles)):   # do not use the 0- ensemble\n",
    "    psfull.append({\"LMR\": data[i][\"full\"][\"LMR\"], \n",
    "               \"RML\": data[i][\"full\"][\"RML\"], \n",
    "               \"RMR\": data[i][\"full\"][\"RMR\"],\n",
    "               \"LML\": data[i][\"full\"][\"LML\"]})\n",
    "\n",
    "Pminfull, Pplusfull, Pcrossfull = get_globall_probs(psfull)"
   ]
  },
  {
   "cell_type": "code",
   "execution_count": 9,
   "metadata": {},
   "outputs": [
    {
     "name": "stdout",
     "output_type": "stream",
     "text": [
      "This should be the same as the repptis_report.pdf value: 0.025934440580135998\n",
      "which is the case!\n",
      "Here, the load immediately disappeared. For a simulation where this is\n",
      "not the case, the above code should be adapted a little bit.\n"
     ]
    },
    {
     "name": "stderr",
     "output_type": "stream",
     "text": [
      "/var/folders/n7/pwfrkg556gn5m722jq91lq_h0000gn/T/ipykernel_5950/2475102732.py:9: UserWarning: Matplotlib is currently using module://matplotlib_inline.backend_inline, which is a non-GUI backend, so cannot show the figure.\n",
      "  fig.show()\n"
     ]
    },
    {
     "data": {
      "image/png": "[encoded data removed]",
      "text/plain": [
       "<Figure size 640x480 with 1 Axes>"
      ]
     },
     "metadata": {},
     "output_type": "display_data"
    }
   ],
   "source": [
    "# Make a figure of the global crossing probabilities\n",
    "fig, ax = plt.subplots()\n",
    "ax.set_yscale(\"log\")\n",
    "ax.plot(Pcrossfull, \"o\", c = \"r\")\n",
    "ax.set_xlabel(\"intf\")\n",
    "ax.set_ylabel(r\"$P_A(\\lambda_i|\\lambda_A)$\")\n",
    "ax.set_xticks(np.arange(len(interfaces)))\n",
    "fig.tight_layout()\n",
    "fig.show()\n",
    "fig.savefig(\"Global_probs.pdf\")\n",
    "\n",
    "print(\"This should be the same as the repptis_report.pdf value:\", Pcrossfull[-1])\n",
    "print(\"which is the case!\")\n",
    "print(\"Here, the load immediately disappeared. For a simulation where this is\")\n",
    "print(\"not the case, the above code should be adapted a little bit.\")"
   ]
  },
  {
   "cell_type": "code",
   "execution_count": 10,
   "metadata": {},
   "outputs": [
    {
     "name": "stdout",
     "output_type": "stream",
     "text": [
      "This should be the same as the repptis_report.pdf value: 0.025934440580135998\n"
     ]
    }
   ],
   "source": [
    "# TODO I am not sure what this is\n",
    "\n",
    "# Construct lists of the local probs\n",
    "\n",
    "# Or we can use the get_global_probz function, using lists of the local probs\n",
    "# These do not use the 0- ensemble\n",
    "pmps = [data[i][\"full\"][\"LMR\"] for i in range(1,len(pathensembles))]\n",
    "pmms = [data[i][\"full\"][\"LML\"] for i in range(1,len(pathensembles))]\n",
    "ppps = [data[i][\"full\"][\"RMR\"] for i in range(1,len(pathensembles))]\n",
    "ppms = [data[i][\"full\"][\"RML\"] for i in range(1,len(pathensembles))]\n",
    "a,b,c = get_global_probz(pmps, pmms, ppps, ppms)\n",
    "print(\"This should be the same as the repptis_report.pdf value:\", c[-1])"
   ]
  },
  {
   "cell_type": "markdown",
   "metadata": {},
   "source": [
    "# Now work with MSM"
   ]
  },
  {
   "cell_type": "code",
   "execution_count": 11,
   "metadata": {},
   "outputs": [],
   "source": [
    "from tistools import construct_M\n",
    "from tistools import global_cross_prob\n",
    "from tistools import vector_G"
   ]
  },
  {
   "cell_type": "code",
   "execution_count": 12,
   "metadata": {},
   "outputs": [],
   "source": [
    "def create_labels_states(N):\n",
    "    assert N>=3\n",
    "    labels1 = [\"0-     \",\"B      \"]\n",
    "    labels2 = [\"0+- LML\",\"0+- LMR\",\"0+- RML\",\"1+- LML\",\"1+- LMR\"]\n",
    "    if N>3:\n",
    "        for i in range(1,N-2):\n",
    "            labels2.append(str(i)  +\"+- RML\")\n",
    "            labels2.append(str(i)  +\"+- RMR\")\n",
    "            labels2.append(str(i+1)+\"+- LML\")\n",
    "            labels2.append(str(i+1)+\"+- LMR\")\n",
    "    return labels1, labels2\n",
    "\n",
    "def print_vector(g, states=None):\n",
    "    if states is None:\n",
    "        for i in range(len(g)):\n",
    "            print(\"state\", i, g[i])\n",
    "    else:\n",
    "        for i in range(len(g)):\n",
    "            print(\"state\", states[i], g[i][0])"
   ]
  },
  {
   "cell_type": "code",
   "execution_count": 13,
   "metadata": {},
   "outputs": [
    {
     "name": "stdout",
     "output_type": "stream",
     "text": [
      "[-0.1, 0.0, 0.1, 0.2, 0.3]\n",
      "N 5\n",
      "len pmms 4\n",
      "NS 15\n"
     ]
    }
   ],
   "source": [
    "print(interfaces)\n",
    "N = len(interfaces)\n",
    "assert N >= 4\n",
    "NS = 4*N-5\n",
    "print(\"N\", N)\n",
    "print(\"len pmms\", len(pmms))\n",
    "print(\"NS\", NS)\n",
    "\n",
    "#labels2 = [\"0+- LML\",\"0+- LMR\",\"0+- RML\",\"1+- LML\",\"1+- LMR\",\n",
    "#           \"1+- RML\", \"1+- RMR\", \"2+- LML\", \"2+- LMR\",\n",
    "#           \"2+- RML\", \"2+- RMR\", \"3+- LML\", \"3+- LMR\",]\n",
    "labels1, labels2 = create_labels_states(N)"
   ]
  },
  {
   "cell_type": "code",
   "execution_count": 14,
   "metadata": {},
   "outputs": [
    {
     "name": "stdout",
     "output_type": "stream",
     "text": [
      "mm [0.9026048565121413, 0.4778682576795936, 0.4736504371540868, 0.477779130646536]\n",
      "mp [0.09739514348785872, 0.5221317423204064, 0.5263495628459132, 0.522220869353464]\n",
      "pm [1.0, 0.531256201627307, 0.5227988989508118, 0.5295718003312042]\n",
      "pp [0.0, 0.468743798372693, 0.47720110104918817, 0.47042819966879584]\n",
      "sum [1. 1. 1. 1.]\n",
      "sum [1. 1. 1. 1.]\n"
     ]
    }
   ],
   "source": [
    "print(\"mm\", pmms)\n",
    "print(\"mp\", pmps)\n",
    "print(\"pm\", ppms)\n",
    "print(\"pp\", ppps)\n",
    "print(\"sum\", np.array(pmms)+np.array(pmps))\n",
    "print(\"sum\", np.array(ppms)+np.array(ppps))\n",
    "M = construct_M(pmms, pmps, ppms, ppps, NS, N)\n",
    "\n",
    "#Local crossing probabilities:\n",
    "#pRMR = 0.34205627942625644.  #ppps\n",
    "#pRML = 0.6579437205737436.   #ppms\n",
    "#pLMR = 0.25316455696202533.  #pmps\n",
    "#pLML = 0.7468354430379747.   #pmms"
   ]
  },
  {
   "cell_type": "code",
   "execution_count": 15,
   "metadata": {
    "scrolled": true
   },
   "outputs": [
    {
     "name": "stdout",
     "output_type": "stream",
     "text": [
      "M\n",
      "shape (15, 15)\n",
      "sum prob in rows [1. 1. 1. 1. 1. 1. 1. 1. 1. 1. 1. 1. 1. 1. 1.]\n",
      "[[0.         0.90260486 0.09739514 0.         0.         0.\n",
      "  0.         0.         0.         0.         0.         0.\n",
      "  0.         0.         0.        ]\n",
      " [1.         0.         0.         0.         0.         0.\n",
      "  0.         0.         0.         0.         0.         0.\n",
      "  0.         0.         0.        ]\n",
      " [0.         0.         0.         0.         0.47786826 0.52213174\n",
      "  0.         0.         0.         0.         0.         0.\n",
      "  0.         0.         0.        ]\n",
      " [1.         0.         0.         0.         0.         0.\n",
      "  0.         0.         0.         0.         0.         0.\n",
      "  0.         0.         0.        ]\n",
      " [0.         0.         0.         1.         0.         0.\n",
      "  0.         0.         0.         0.         0.         0.\n",
      "  0.         0.         0.        ]\n",
      " [0.         0.         0.         0.         0.         0.\n",
      "  0.         0.         0.47365044 0.52634956 0.         0.\n",
      "  0.         0.         0.        ]\n",
      " [0.         0.         0.         1.         0.         0.\n",
      "  0.         0.         0.         0.         0.         0.\n",
      "  0.         0.         0.        ]\n",
      " [0.         0.         0.         0.         0.         0.\n",
      "  0.         0.         0.47365044 0.52634956 0.         0.\n",
      "  0.         0.         0.        ]\n",
      " [0.         0.         0.         0.         0.         0.\n",
      "  0.5312562  0.4687438  0.         0.         0.         0.\n",
      "  0.         0.         0.        ]\n",
      " [0.         0.         0.         0.         0.         0.\n",
      "  0.         0.         0.         0.         0.         0.\n",
      "  0.47777913 0.52222087 0.        ]\n",
      " [0.         0.         0.         0.         0.         0.\n",
      "  0.5312562  0.4687438  0.         0.         0.         0.\n",
      "  0.         0.         0.        ]\n",
      " [0.         0.         0.         0.         0.         0.\n",
      "  0.         0.         0.         0.         0.         0.\n",
      "  0.47777913 0.52222087 0.        ]\n",
      " [0.         0.         0.         0.         0.         0.\n",
      "  0.         0.         0.         0.         0.5227989  0.4772011\n",
      "  0.         0.         0.        ]\n",
      " [0.         0.         0.         0.         0.         0.\n",
      "  0.         0.         0.         0.         0.         0.\n",
      "  0.         0.         1.        ]\n",
      " [1.         0.         0.         0.         0.         0.\n",
      "  0.         0.         0.         0.         0.         0.\n",
      "  0.         0.         0.        ]]\n"
     ]
    }
   ],
   "source": [
    "print(\"M\")\n",
    "print(\"shape\", M.shape)\n",
    "print(\"sum prob in rows\", np.sum(M,axis=1))\n",
    "print(M)\n",
    "# row 8, 10, 12, 14. # counting starts from 0   not okay!!!!"
   ]
  },
  {
   "cell_type": "markdown",
   "metadata": {},
   "source": [
    "# Look at this Markov model"
   ]
  },
  {
   "cell_type": "code",
   "execution_count": 16,
   "metadata": {},
   "outputs": [
    {
     "name": "stdout",
     "output_type": "stream",
     "text": [
      "[ 1.00000000e+00+0.j         -1.00000000e+00+0.j\n",
      " -6.02227220e-01+0.j          6.02227220e-01+0.j\n",
      "  1.18309315e-01+0.j         -1.18309315e-01+0.j\n",
      " -7.78430325e-17+0.15508846j -7.78430325e-17-0.15508846j\n",
      " -8.59230508e-09+0.j          8.59230673e-09+0.j\n",
      " -1.53660901e-16+0.j         -1.29675303e-15+0.j\n",
      "  9.82269662e-17+0.j         -1.51915328e-19+0.j\n",
      "  0.00000000e+00+0.j        ]\n",
      "[ 1.00000000e+00+0.00000000e+00j -1.00000000e+00+0.00000000e+00j\n",
      "  6.02227220e-01+0.00000000e+00j -6.02227220e-01+0.00000000e+00j\n",
      "  9.10729825e-17+1.55088459e-01j  9.10729825e-17-1.55088459e-01j\n",
      " -1.18309315e-01+0.00000000e+00j  1.18309315e-01+0.00000000e+00j\n",
      "  9.71445147e-17+9.17236146e-09j  9.71445147e-17-9.17236146e-09j\n",
      "  9.96339507e-16+0.00000000e+00j -8.62289512e-16+0.00000000e+00j\n",
      "  1.27781148e-16+0.00000000e+00j -2.89536280e-17+2.27378084e-17j\n",
      " -2.89536280e-17-2.27378084e-17j]\n"
     ]
    }
   ],
   "source": [
    "#import numpy.linalg\n",
    "vals, vecs = np.linalg.eig(M)\n",
    "print(vals)\n",
    "vals, vecs = np.linalg.eig(M.T)\n",
    "print(vals)"
   ]
  },
  {
   "cell_type": "code",
   "execution_count": 17,
   "metadata": {
    "scrolled": true
   },
   "outputs": [
    {
     "name": "stdout",
     "output_type": "stream",
     "text": [
      "what if chain propagates\n",
      "A[0,:]\n",
      "[0.90260486 0.         0.         0.         0.04654205 0.0508531\n",
      " 0.         0.         0.         0.         0.         0.\n",
      " 0.         0.         0.        ]\n",
      "1.0\n",
      "[0.         0.81469553 0.08790933 0.04654205 0.         0.\n",
      " 0.         0.         0.02408659 0.0267665  0.         0.\n",
      " 0.         0.         0.        ]\n",
      "0.9999999999999999\n",
      "[0.86123757 0.         0.         0.         0.04200908 0.04590025\n",
      " 0.01279615 0.01129044 0.         0.         0.         0.\n",
      " 0.01278848 0.01397803 0.        ]\n",
      "1.0\n",
      "[0.         0.77735722 0.08388036 0.05480523 0.         0.\n",
      " 0.         0.         0.0270884  0.0301023  0.0066858  0.00610268\n",
      " 0.         0.         0.01397803]\n",
      "1.0\n",
      "[0.84614047 0.         0.         0.         0.04008376 0.0437966\n",
      " 0.01794275 0.01583145 0.         0.         0.         0.\n",
      " 0.01729798 0.01890699 0.        ]\n",
      "0.9999999999999999\n",
      "[0.         0.7637305  0.08240997 0.05802651 0.         0.\n",
      " 0.         0.         0.02824285 0.03138519 0.00904336 0.00825461\n",
      " 0.         0.         0.01890699]\n",
      "0.9999999999999999\n",
      "[0.840664   0.         0.         0.         0.03938111 0.04302886\n",
      " 0.01980853 0.01747768 0.         0.         0.         0.\n",
      " 0.01893907 0.02070074 0.        ]\n",
      "0.9999999999999999\n",
      "[0.         0.75878741 0.08187659 0.05918964 0.         0.\n",
      " 0.         0.         0.02865895 0.03184759 0.00990133 0.00903775\n",
      " 0.         0.         0.02070074]\n",
      "0.9999999999999999\n",
      "[0.83867779 0.         0.         0.         0.03912622 0.04275037\n",
      " 0.02048539 0.01807489 0.         0.         0.         0.\n",
      " 0.01953416 0.02135118 0.        ]\n",
      "0.9999999999999999\n",
      "[0.         0.75699465 0.08168314 0.05961161 0.         0.\n",
      " 0.         0.         0.02880991 0.03201535 0.01021244 0.00932172\n",
      " 0.         0.         0.02135118]\n",
      "0.9999999999999998\n"
     ]
    }
   ],
   "source": [
    "print(\"what if chain propagates\")\n",
    "print(\"A[0,:]\")\n",
    "# check stationary behavior\n",
    "A = M\n",
    "for n in range(10):\n",
    "    A = np.dot(A,M)\n",
    "    #print(A)\n",
    "    print(A[0,:])\n",
    "    print(np.sum(A[0,:]))  # is 1 indeed"
   ]
  },
  {
   "cell_type": "markdown",
   "metadata": {},
   "source": [
    "# Pcross with MSM"
   ]
  },
  {
   "cell_type": "code",
   "execution_count": 18,
   "metadata": {},
   "outputs": [
    {
     "name": "stdout",
     "output_type": "stream",
     "text": [
      "Z\n",
      "state 0-      0\n",
      "state B       1\n",
      "state 0+- LML 0.0\n",
      "state 0+- LMR 0.26628063424301013\n",
      "state 0+- RML 0.0\n",
      "state 1+- LML 0.0\n",
      "state 1+- LMR 0.5099874469604778\n",
      "state 1+- RML 0.0\n",
      "state 1+- RMR 0.5099874469604778\n",
      "state 2+- LML 0.23905345301064668\n",
      "state 2+- LMR 0.7537950108546798\n",
      "state 2+- RML 0.2390534530106467\n",
      "state 2+- RMR 0.7537950108546798\n",
      "state 3+- LML 0.48468869116959373\n",
      "state 3+- LMR 1.0\n",
      "Y\n",
      "state 0-      0.025934440580135998\n",
      "state B       0.0\n",
      "state 0+- LML 0.0\n",
      "state 0+- LMR 0.26628063424301013\n",
      "state 0+- RML 0.0\n",
      "state 1+- LML 0.0\n",
      "state 1+- LMR 0.5099874469604778\n",
      "state 1+- RML 0.0\n",
      "state 1+- RMR 0.5099874469604778\n",
      "state 2+- LML 0.23905345301064668\n",
      "state 2+- LMR 0.7537950108546798\n",
      "state 2+- RML 0.23905345301064668\n",
      "state 2+- RMR 0.7537950108546798\n",
      "state 3+- LML 0.4846886911695937\n",
      "state 3+- LMR 1.0\n",
      "global crossing prob [0.02593444]\n"
     ]
    }
   ],
   "source": [
    "# global crossing prob\n",
    "z1, z2, y1, y2 = global_cross_prob(M)\n",
    "print(\"Z\")\n",
    "print_vector(z1, labels1)\n",
    "print_vector(z2, labels2)\n",
    "print(\"Y\")\n",
    "print_vector(y1, labels1)\n",
    "print_vector(y2, labels2)\n",
    "print(\"global crossing prob\", y1[0])"
   ]
  },
  {
   "cell_type": "markdown",
   "metadata": {},
   "source": [
    "# Collecting times"
   ]
  },
  {
   "cell_type": "code",
   "execution_count": 19,
   "metadata": {},
   "outputs": [],
   "source": [
    "#TODO I need data too?"
   ]
  },
  {
   "cell_type": "code",
   "execution_count": 20,
   "metadata": {},
   "outputs": [],
   "source": [
    "def collect_tau(pathensembles, data):\n",
    "    # pathensembles -- list of pathensemble instances\n",
    "    \n",
    "    print(\"Collect tau\")\n",
    "    \n",
    "    # average path lengths\n",
    "    taumm = np.zeros(len(pathensembles))\n",
    "    taump = np.zeros(len(pathensembles))\n",
    "    taupm = np.zeros(len(pathensembles))\n",
    "    taupp = np.zeros(len(pathensembles))\n",
    "    \n",
    "    # for [1+-] and higher (i>=2)\n",
    "    for i in range(2,len(pathensembles)):\n",
    "        print(\"ensemble\", i, pathensembles[i].name)\n",
    "        taumm[i] = pathensembles[i].tauavg['LML']-2\n",
    "        taump[i] = pathensembles[i].tauavg['LMR']-2\n",
    "        taupm[i] = pathensembles[i].tauavg['RML']-2\n",
    "        taupp[i] = pathensembles[i].tauavg['RMR']-2\n",
    "\n",
    "    # for [0-] (i=0)\n",
    "    print(\"ensemble\", 0, pathensembles[0].name)\n",
    "    if pe.has_zero_minus_one:\n",
    "        # TODO pieces missing\n",
    "        taumm[0] = pathensembles[0].tauavg['LML']-2\n",
    "        taump[0] = pathensembles[0].tauavg['LMR']-2\n",
    "        taupm[0] = pathensembles[0].tauavg['RML']-2\n",
    "        taupp[0] = pathensembles[0].tauavg['RMR']-2\n",
    "    else:\n",
    "        taupp[0] = pathensembles[0].tauavg['RMR']-2\n",
    "\n",
    "    # for [0+-] (i=1)\n",
    "    print(\"ensemble\", 1, pathensembles[1].name)\n",
    "    taumm[1] = data[1][\"pathlengths\"][\"LML\"][\"mean\"] - 2\n",
    "    taump[1] = data[1][\"pathlengths\"][\"LMR\"][\"mean\"] - 2\n",
    "    taupm[1] = data[1][\"pathlengths\"][\"RML\"][\"mean\"] - 2\n",
    "    #taupp[1] = data[1][\"pathlengths\"][\"RMR\"][\"mean\"] - 2\n",
    "\n",
    "    return taumm, taump, taupm, taupp\n",
    "\n",
    "# this is the same:\n",
    "# 1) after:\n",
    "#   data[2][\"pathlengths\"] = pathlength_distr(upe)  # use correct upe!\n",
    "#   This gives the whole distrib, mean, std, etc\n",
    "#   print(data[2][\"pathlengths\"][\"RMR\"][\"mean\"])\n",
    "# 2) after:\n",
    "#   set_tau_distrib(pathensembles[2])\n",
    "#   print(pathensembles[2].tauavg['RMR'])\n",
    "\n",
    "# TODO for [0-]\n",
    "# likely not okay yet, what about L*L etc??????\n",
    "# There are paths missing TODO!!!!!!!! when lambda-1"
   ]
  },
  {
   "cell_type": "code",
   "execution_count": 21,
   "metadata": {
    "scrolled": true
   },
   "outputs": [],
   "source": [
    "# TODO fix +-1 issues!!!!!!\n",
    "# TODO tau1 is not fool proof if you have too many phase points!!\n",
    "\n",
    "def collect_tau1(pathensembles, data):\n",
    "    # average path lengths, but only the part before the 1st crossing\n",
    "    #---------------------------\n",
    "    print(\"Collect tau1\")\n",
    "    taumm1 = np.zeros(len(pathensembles))\n",
    "    taump1 = np.zeros(len(pathensembles))\n",
    "    taupm1 = np.zeros(len(pathensembles))\n",
    "    taupp1 = np.zeros(len(pathensembles))\n",
    "    \n",
    "    # for [1+-] and higher (i>=2)\n",
    "    for i in range(2,len(pathensembles)):\n",
    "        taumm1[i] = pathensembles[i].tau1avg['LML'] - 1\n",
    "        taump1[i] = pathensembles[i].tau1avg['LMR'] - 1\n",
    "        taupm1[i] = pathensembles[i].tau1avg['RML'] - 1\n",
    "        taupp1[i] = pathensembles[i].tau1avg['RMR'] - 1\n",
    "    # for [0-] (i=0) -> just 0\n",
    "    # for [0+-] (i=1) LML -> just 0\n",
    "    # for [0+-] (i=1) LMR -> just 0\n",
    "    # for [0+-] (i=1) RML\n",
    "    taupm1[1] = data[1][\"pathlengths\"][\"RML\"][\"mean\"] - 2\n",
    "    \n",
    "    return taumm1, taump1, taupm1, taupp1\n",
    "\n",
    "def collect_tau2(pathensembles, data):\n",
    "    # average path lengths, but only the part after the last crossing\n",
    "    #---------------------------\n",
    "    print(\"Collect tau2\")\n",
    "    taumm2 = np.zeros(len(pathensembles))\n",
    "    taump2 = np.zeros(len(pathensembles))\n",
    "    taupm2 = np.zeros(len(pathensembles))\n",
    "    taupp2 = np.zeros(len(pathensembles))\n",
    "    \n",
    "    # for [1+-] and higher (i>=2)\n",
    "    for i in range(2,len(pathensembles)):\n",
    "        taumm2[i] = pathensembles[i].tau2avg['LML'] - 1\n",
    "        taump2[i] = pathensembles[i].tau2avg['LMR'] - 1\n",
    "        taupm2[i] = pathensembles[i].tau2avg['RML'] - 1\n",
    "        taupp2[i] = pathensembles[i].tau2avg['RMR'] - 1\n",
    "    # for [0-] (i=0) -> just 0\n",
    "    # for [0+-] (i=1) LML -> just 0\n",
    "    # for [0+-] (i=1) LMR\n",
    "    taump2[1] = data[1][\"pathlengths\"][\"LMR\"][\"mean\"] - 2\n",
    "    # for [0+-] (i=1) RML -> just 0\n",
    "    \n",
    "    return taumm2, taump2, taupm2, taupp2\n",
    "\n",
    "def collect_taum(pathensembles, data):\n",
    "    # average path lengths, but only the part between first/last crossing\n",
    "    #---------------------------\n",
    "    print(\"Collect taum\")\n",
    "    taumm_m = np.zeros(len(pathensembles))\n",
    "    taump_m = np.zeros(len(pathensembles))\n",
    "    taupm_m = np.zeros(len(pathensembles))\n",
    "    taupp_m = np.zeros(len(pathensembles))\n",
    "    \n",
    "    # for [1+-] and higher (i>=2)\n",
    "    for i in range(2,len(pathensembles)):\n",
    "        #print(\"ensemble\", i, pathensembles[i].name)\n",
    "        taumm_m[i] = pathensembles[i].tauavg['LML'] \\\n",
    "                   - pathensembles[i].tau1avg['LML'] \\\n",
    "                   - pathensembles[i].tau2avg['LML']\n",
    "        taump_m[i] = pathensembles[i].tauavg['LMR'] \\\n",
    "                   - pathensembles[i].tau1avg['LMR'] \\\n",
    "                   - pathensembles[i].tau2avg['LMR']\n",
    "        taupm_m[i] = pathensembles[i].tauavg['RML'] \\\n",
    "                   - pathensembles[i].tau1avg['RML'] \\\n",
    "                   - pathensembles[i].tau2avg['RML']\n",
    "        taupp_m[i] = pathensembles[i].tauavg['RMR'] \\\n",
    "                   - pathensembles[i].tau1avg['RMR'] \\\n",
    "                   - pathensembles[i].tau2avg['RMR']\n",
    "\n",
    "    # for [0-] (i=0)\n",
    "    if pe.has_zero_minus_one:\n",
    "        # TODO there are more paths!!!\n",
    "        taumm_m[0] = pathensembles[0].tauavg['LML']-2\n",
    "        taump_m[0] = pathensembles[0].tauavg['LMR']-2\n",
    "        taupm_m[0] = pathensembles[0].tauavg['RML']-2\n",
    "        taupp_m[0] = pathensembles[0].tauavg['RMR']-2\n",
    "    else:\n",
    "        taupp_m[0] = pathensembles[0].tauavg['RMR']-2\n",
    "\n",
    "    # for [0+-] (i=1) LML\n",
    "    taumm_m[1] = data[1][\"pathlengths\"][\"LML\"][\"mean\"] - 2\n",
    "    # for [0+-] (i=1) LMR -> just 0\n",
    "    # for [0+-] (i=1) RML -> just 0\n",
    "\n",
    "    return taumm_m, taump_m, taupm_m, taupp_m\n"
   ]
  },
  {
   "cell_type": "code",
   "execution_count": 22,
   "metadata": {},
   "outputs": [],
   "source": [
    "def print_all_tau(pathensembles, taumm, taump, taupm, taupp):\n",
    "    # print all tau\n",
    "    print(f\"                  mm            mp            pm            pp\")\n",
    "    for i in range(len(pathensembles)):\n",
    "        print(f\"{i} {pathensembles[i].name}  {taumm[i]:13.1f} {taump[i]:13.1f} {taupm[i]:13.1f} {taupp[i]:13.1f}\")"
   ]
  },
  {
   "cell_type": "code",
   "execution_count": 23,
   "metadata": {},
   "outputs": [
    {
     "name": "stdout",
     "output_type": "stream",
     "text": [
      "Collect tau\n",
      "ensemble 2 002\n",
      "ensemble 3 003\n",
      "ensemble 4 004\n",
      "ensemble 0 000\n",
      "ensemble 1 001\n",
      "Collect tau1\n",
      "Collect tau2\n",
      "Collect taum\n"
     ]
    }
   ],
   "source": [
    "taumm, taump, taupm, taupp = collect_tau(pathensembles, data)\n",
    "taumm1, taump1, taupm1, taupp1 = collect_tau1(pathensembles, data)\n",
    "taumm2, taump2, taupm2, taupp2 = collect_tau2(pathensembles, data)\n",
    "taumm_m, taump_m, taupm_m, taupp_m = collect_taum(pathensembles, data)"
   ]
  },
  {
   "cell_type": "code",
   "execution_count": 24,
   "metadata": {},
   "outputs": [
    {
     "name": "stdout",
     "output_type": "stream",
     "text": [
      "tau\n",
      "                  mm            mp            pm            pp\n",
      "0 000            0.0           0.0           0.0          63.5\n",
      "1 001            9.5          50.2          49.0           0.0\n",
      "2 002          193.5         183.2         181.7         195.0\n",
      "3 003          192.6         184.1         183.2         191.8\n",
      "4 004          190.6         181.7         178.9         191.5\n",
      "\n",
      "tau1\n",
      "                  mm            mp            pm            pp\n",
      "0 000            0.0           0.0           0.0           0.0\n",
      "1 001            0.0           0.0          49.0           0.0\n",
      "2 002           50.1          49.4          49.5          50.5\n",
      "3 003           50.2          49.8          49.6          50.6\n",
      "4 004           50.0          49.6          50.2          51.0\n",
      "\n",
      "tau_m\n",
      "                  mm            mp            pm            pp\n",
      "0 000            0.0           0.0           0.0          63.5\n",
      "1 001            9.5           0.0           0.0           0.0\n",
      "2 002           93.1          83.7          82.1          94.4\n",
      "3 003           92.6          83.4          82.9          91.9\n",
      "4 004           90.2          81.7          78.9          90.9\n",
      "\n",
      "tau2\n",
      "                  mm            mp            pm            pp\n",
      "0 000            0.0           0.0           0.0           0.0\n",
      "1 001            0.0          50.2           0.0           0.0\n",
      "2 002           50.3          50.1          50.2          50.2\n",
      "3 003           49.8          50.8          50.7          49.3\n",
      "4 004           50.4          50.4          49.8          49.6\n"
     ]
    }
   ],
   "source": [
    "print(\"tau\")\n",
    "print_all_tau(pathensembles, taumm, taump, taupm, taupp)\n",
    "print(\"\\ntau1\")\n",
    "print_all_tau(pathensembles, taumm1, taump1, taupm1, taupp1)\n",
    "print(\"\\ntau_m\")\n",
    "print_all_tau(pathensembles, taumm_m, taump_m, taupm_m, taupp_m)\n",
    "print(\"\\ntau2\")\n",
    "print_all_tau(pathensembles, taumm2, taump2, taupm2, taupp2)"
   ]
  },
  {
   "cell_type": "code",
   "execution_count": 25,
   "metadata": {},
   "outputs": [],
   "source": [
    "def construct_tau_vector(N, NS, taumm, taump, taupm, taupp):\n",
    "    assert N>=4\n",
    "    assert NS==4*N-5\n",
    "    assert len(taumm) == N\n",
    "    assert len(taump) == N\n",
    "    assert len(taupm) == N\n",
    "    assert len(taupp) == N\n",
    "    # unravel the values into one vector\n",
    "    tau = np.zeros(NS)\n",
    "    # [0-]\n",
    "    tau[0] = taupp[0]\n",
    "    # [0+-]\n",
    "    tau[1] = taumm[1]\n",
    "    tau[2] = taump[1]\n",
    "    tau[3] = taupm[1]\n",
    "    # [1+-] etc\n",
    "    for i in range(1,N-2):\n",
    "        tau[4*i]   = taumm[i+1]\n",
    "        tau[4*i+1] = taump[i+1]\n",
    "        tau[4*i+2] = taupm[i+1]\n",
    "        tau[4*i+3] = taupp[i+1]\n",
    "    # [(N-2)^(-1)]\n",
    "    tau[-3] = taumm[-1]\n",
    "    tau[-2] = taump[-1]\n",
    "    # B\n",
    "    tau[-1] = 0.   # whatever\n",
    "    return tau"
   ]
  },
  {
   "cell_type": "code",
   "execution_count": 26,
   "metadata": {
    "scrolled": true
   },
   "outputs": [
    {
     "name": "stdout",
     "output_type": "stream",
     "text": [
      "tau\n",
      "[ 63.45321094   9.46194482  50.18132366  48.95341417 193.49544458\n",
      " 183.21564237 181.72842734 195.04276037 192.55165114 184.0532612\n",
      " 183.1943533  191.79685671 190.625807   181.68267661   0.        ]\n",
      "\n",
      "\n",
      "tau1\n",
      "[ 0.          0.          0.         48.95341417 50.06310106 49.39731316\n",
      " 49.50011207 50.45224386 50.18653683 49.80272783 49.61732163 50.55718107\n",
      " 49.99974516 49.58047719  0.        ]\n",
      "taum\n",
      "[63.45321094  9.46194482  0.          0.         93.10772735 83.6695491\n",
      " 82.05648114 94.37451312 92.57815411 83.41626029 82.90629531 91.90361144\n",
      " 90.19011213 81.69184736  0.        ]\n",
      "tau2\n",
      "[ 0.          0.         50.18132366  0.         50.32461616 50.14878011\n",
      " 50.17183414 50.21600339 49.7869602  50.83427309 50.67073636 49.3360642\n",
      " 50.43594971 50.41035206  0.        ]\n",
      "\n",
      "\n",
      "tau = tau1+taum+tau2 => difference is 2.524354896707238e-28\n"
     ]
    }
   ],
   "source": [
    "tau  = construct_tau_vector(N, NS, taumm, taump, taupm, taupp)\n",
    "tau1 = construct_tau_vector(N, NS, taumm1, taump1, taupm1, taupp1)\n",
    "taum = construct_tau_vector(N, NS, taumm_m, taump_m, taupm_m, taupp_m)\n",
    "tau2 = construct_tau_vector(N, NS, taumm2, taump2, taupm2, taupp2)\n",
    "tau_m = tau-tau1-tau2  # yes, this is the same thing\n",
    "\n",
    "print(\"tau\")\n",
    "print(tau)\n",
    "print(\"\\n\")\n",
    "print(\"tau1\")\n",
    "print(tau1)\n",
    "print(\"taum\")\n",
    "print(taum)\n",
    "print(\"tau2\")\n",
    "print(tau2)\n",
    "\n",
    "print(\"\\n\")\n",
    "print(\"tau = tau1+taum+tau2 => difference is\", np.sum((tau-tau1-taum-tau2)**2))"
   ]
  },
  {
   "cell_type": "markdown",
   "metadata": {},
   "source": [
    "# Compute tau for [0+]"
   ]
  },
  {
   "cell_type": "code",
   "execution_count": 27,
   "metadata": {},
   "outputs": [
    {
     "name": "stdout",
     "output_type": "stream",
     "text": [
      "G\n",
      "state 0-      0.0\n",
      "state B       0.0\n",
      "state 0+- LML 9.461944824887498\n",
      "state 0+- LMR 461.21100825774704\n",
      "state 0+- RML 0.0\n",
      "state 1+- LML 143.43234351273833\n",
      "state 1+- LMR 655.9415809190699\n",
      "state 1+- RML 132.2283152782966\n",
      "state 1+- RMR 666.7137682149357\n",
      "state 2+- LML 525.130170972673\n",
      "state 2+- LMR 519.4173909469614\n",
      "state 2+- RML 516.3420883300687\n",
      "state 2+- RMR 526.4065332125152\n",
      "state 3+- LML 661.7709143510791\n",
      "state 3+- LMR 132.10219942488536\n",
      "H\n",
      "state 0-      53.46010967843664\n",
      "state B       0.0\n",
      "state 0+- LML 0.0\n",
      "state 0+- LMR 461.21100825774704\n",
      "state 0+- RML 0.0\n",
      "state 1+- LML 50.3246161633204\n",
      "state 1+- LMR 572.2720318146846\n",
      "state 1+- RML 50.17183414269705\n",
      "state 1+- RMR 572.339255090465\n",
      "state 2+- LML 432.55201686598366\n",
      "state 2+- LMR 436.0011306604634\n",
      "state 2+- RML 433.4357930229339\n",
      "state 2+- RMR 434.5029217763007\n",
      "state 3+- LML 571.5808022206\n",
      "state 3+- LMR 50.410352063418046\n",
      "interesting\n",
      "[53.46010968]\n"
     ]
    }
   ],
   "source": [
    "g1, g2, h1, h2 = vector_G(M, tau1, tau_m, tau2) #, doprint=True)\n",
    "print(\"G\")\n",
    "print_vector(g1, labels1)\n",
    "print_vector(g2, labels2)\n",
    "print(\"H\")\n",
    "print_vector(h1, labels1)\n",
    "print_vector(h2, labels2)\n",
    "print(\"interesting\")\n",
    "print(h1[0])"
   ]
  },
  {
   "cell_type": "code",
   "execution_count": 28,
   "metadata": {
    "scrolled": true
   },
   "outputs": [
    {
     "name": "stdout",
     "output_type": "stream",
     "text": [
      "[53.46010968]\n"
     ]
    }
   ],
   "source": [
    "print(h1[0])"
   ]
  },
  {
   "cell_type": "markdown",
   "metadata": {},
   "source": [
    "# Flux"
   ]
  },
  {
   "cell_type": "code",
   "execution_count": 29,
   "metadata": {},
   "outputs": [
    {
     "name": "stdout",
     "output_type": "stream",
     "text": [
      "[42.76672644] 1/time\n"
     ]
    }
   ],
   "source": [
    "flux = 1/(tau[0]+h1[0])\n",
    "dt = 0.0002\n",
    "flux\n",
    "print(flux/dt, \"1/time\")"
   ]
  },
  {
   "cell_type": "code",
   "execution_count": null,
   "metadata": {},
   "outputs": [],
   "source": []
  }
 ],
 "metadata": {
  "kernelspec": {
   "display_name": "Python 3 (ipykernel)",
   "language": "python",
   "name": "python3"
  },
  "language_info": {
   "codemirror_mode": {
    "name": "ipython",
    "version": 3
   },
   "file_extension": ".py",
   "mimetype": "text/x-python",
   "name": "python",
   "nbconvert_exporter": "python",
   "pygments_lexer": "ipython3",
   "version": "3.12.2"
  }
 },
 "nbformat": 4,
 "nbformat_minor": 4
}
