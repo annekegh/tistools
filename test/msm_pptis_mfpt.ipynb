{
 "cells": [
  {
   "cell_type": "code",
   "execution_count": 1,
   "metadata": {},
   "outputs": [],
   "source": [
    "%load_ext autoreload\n",
    "%autoreload 2\n",
    "\n",
    "import matplotlib.pyplot as plt\n",
    "import numpy as np\n",
    "#%matplotlib qt   # doesn't work on my laptop\n",
    "from tistools import read_inputfile, get_LMR_interfaces, read_pathensemble, get_weights\n",
    "from tistools import set_tau_distrib, set_tau_first_hit_M_distrib, cross_dist_distr, pathlength_distr\n",
    "from tistools import collect_tau, collect_tau1, collect_tau2, collect_taum\n",
    "from tistools import ACCFLAGS, REJFLAGS\n",
    "\n",
    "from tistools import get_lmr_masks, get_generation_mask, get_flag_mask\n",
    "from tistools import unwrap_by_weight, running_avg_local_probs, get_local_probs, get_globall_probs, get_global_probz\n",
    "\n",
    "from pprint import pprint    # to print the vars of the pathensemble object"
   ]
  },
  {
   "cell_type": "code",
   "execution_count": 2,
   "metadata": {},
   "outputs": [],
   "source": [
    "%autoreload 2   \n",
    "# something with pip install -e ."
   ]
  },
  {
   "cell_type": "markdown",
   "metadata": {},
   "source": [
    "# Reading"
   ]
  },
  {
   "cell_type": "code",
   "execution_count": 3,
   "metadata": {},
   "outputs": [
    {
     "name": "stdout",
     "output_type": "stream",
     "text": [
      "['/Users/an/Documents/0_mfpt/elias/cosbump2-walls/REPPTIS/000', '/Users/an/Documents/0_mfpt/elias/cosbump2-walls/REPPTIS/001', '/Users/an/Documents/0_mfpt/elias/cosbump2-walls/REPPTIS/002', '/Users/an/Documents/0_mfpt/elias/cosbump2-walls/REPPTIS/003', '/Users/an/Documents/0_mfpt/elias/cosbump2-walls/REPPTIS/004']\n"
     ]
    }
   ],
   "source": [
    "# zero_minus_one = True if lambda_-1 interface is set\n",
    "# zero_minus_one = False if lambda_-1 interface is not set\n",
    "\n",
    "# data the maze\n",
    "#---------------\n",
    "indir = \"/Users/an/Documents/0_mfpt/repptis1/\"\n",
    "zero_minus_one = True\n",
    "inputfile = indir + \"/out.rst\"\n",
    "#inputfile = indir + \"/retis.rst\"\n",
    "\n",
    "# new data Elias\n",
    "#---------------\n",
    "indir = \"/Users/an/Documents/0_mfpt/elias/flat-no-walls/REPPTIS/\"\n",
    "#indir = \"/Users/an/Documents/0_mfpt/elias/flat-no-walls/RETIS/\"\n",
    "zero_minus_one = True\n",
    "#indir = \"/Users/an/Documents/0_mfpt/elias/flat-w-walls/50k-cycles/REPPTIS/\"\n",
    "zero_minus_one = False\n",
    "indir = \"/Users/an/Documents/0_mfpt/elias/cosbump2-walls/REPPTIS/\"\n",
    "zero_minus_one = False\n",
    "#indir = \"/Users/an/Documents/0_mfpt/elias/flat-w-walls/newtonian/REPPTIS/\"\n",
    "#zero_minus_one = False\n",
    "inputfile = indir + \"/out.rst\"\n",
    "\n",
    "# old data bump An\n",
    "#------------------\n",
    "#indir = \"/Users/an/wwork/current-work/0_TitusEnrico/repp/1D-flat.ppr-Febr6-2022d/\"\n",
    "##indir = \"/Users/an/wwork/current-work/0_TitusEnrico/repp/bump-ppretis/\"\n",
    "#inputfile = indir + \"/out.rst\"\n",
    "\n",
    "import os\n",
    "import glob\n",
    "os.chdir(indir)\n",
    "\n",
    "folders = glob.glob(indir + \"/0[0-9][0-9]\")\n",
    "folders = sorted(folders)\n",
    "print(folders)"
   ]
  },
  {
   "cell_type": "code",
   "execution_count": 4,
   "metadata": {},
   "outputs": [
    {
     "name": "stdout",
     "output_type": "stream",
     "text": [
      "################################################################################\n",
      "/Users/an/Documents/0_mfpt/elias/cosbump2-walls/REPPTIS/000\n",
      "pathensemble info: \n",
      "{'cyclenumbers': array([    0,     1,     2, ..., 29998, 29999, 30000]),\n",
      " 'flags': array(['ACC', 'ACC', 'BTL', ..., 'BTL', 'FTL', 'BTL'], dtype='<U3'),\n",
      " 'generation': array(['ki', 'sh', 'sh', ..., 'sh', 'sh', 'sh'], dtype='<U2'),\n",
      " 'has_zero_minus_one': False,\n",
      " 'in_zero_minus': True,\n",
      " 'in_zero_plus': False,\n",
      " 'interfaces': [[-0.1, -0.1, -0.1], ['l_[0]', 'l_[0]', 'l_[0]']],\n",
      " 'lambmaxs': array([-0.08922184, -0.08137773, -0.10142089, ..., -0.10475691,\n",
      "       -0.0912448 , -0.09951847]),\n",
      " 'lambmins': array([-0.105     , -0.10142089, -0.11016192, ..., -0.10531599,\n",
      "       -0.10531599, -0.10531599]),\n",
      " 'lengths': array([5, 3, 2, ..., 2, 4, 3]),\n",
      " 'lmrs': array(['RMR', 'RMR', '***', ..., '***', 'RM*', '*MR'], dtype='<U3'),\n",
      " 'name': '000',\n",
      " 'ncycle': 30001,\n",
      " 'newpathnumbers': array([   0,    1,    1, ..., 9187, 9187, 9187]),\n",
      " 'orders': None,\n",
      " 'pathnumbers': array([    1,     2,     2, ..., 12229, 12229, 12229]),\n",
      " 'shootlinks': array([None, None, None, ..., None, None, None], dtype=object),\n",
      " 'totaltime': 2328924,\n",
      " 'weights': array([1, 6, 0, ..., 0, 0, 0])}\n",
      "Setting orders for path ensemble 000\n",
      "Loaded orders from file, NOT CHECKING FOR CONSISTENCY.\n",
      "################################################################################\n",
      "/Users/an/Documents/0_mfpt/elias/cosbump2-walls/REPPTIS/001\n",
      "pathensemble info: \n",
      "{'cyclenumbers': array([    0,     1,     2, ..., 29998, 29999, 30000]),\n",
      " 'flags': array(['ACC', 'BTL', 'ACC', ..., 'ACC', 'BTL', 'FTL'], dtype='<U3'),\n",
      " 'generation': array(['ki', 'sh', 'sh', ..., 'sh', 'sh', 'sh'], dtype='<U2'),\n",
      " 'has_zero_minus_one': False,\n",
      " 'in_zero_minus': False,\n",
      " 'in_zero_plus': True,\n",
      " 'interfaces': [[-0.1, -0.1, 0.0], ['l_[0]', 'l_[0]', 'l_[1]']],\n",
      " 'lambmaxs': array([ 3.03705675e-04, -1.33612418e-02, -7.99593987e-02, ...,\n",
      "        1.79895200e-05, -4.96006097e-02, -4.54420239e-02]),\n",
      " 'lambmins': array([-0.10142089, -0.08116193, -0.10800358, ..., -0.10642385,\n",
      "       -0.09809069, -0.10365347]),\n",
      " 'lengths': array([20, 31, 15, ..., 23, 33, 59]),\n",
      " 'lmrs': array(['LMR', '***', 'LML', ..., 'LMR', '***', 'LM*'], dtype='<U3'),\n",
      " 'name': '001',\n",
      " 'ncycle': 30001,\n",
      " 'newpathnumbers': array([    0,     0,     1, ..., 10503, 10503, 10503]),\n",
      " 'orders': None,\n",
      " 'pathnumbers': array([    1,     1,     2, ..., 12051, 12051, 12051]),\n",
      " 'shootlinks': array([None, None, None, ..., None, None, None], dtype=object),\n",
      " 'totaltime': 739027,\n",
      " 'weights': array([2, 0, 1, ..., 3, 0, 0])}\n",
      "Setting orders for path ensemble 001\n",
      "Loaded orders from file, NOT CHECKING FOR CONSISTENCY.\n",
      "################################################################################\n",
      "/Users/an/Documents/0_mfpt/elias/cosbump2-walls/REPPTIS/002\n",
      "pathensemble info: \n",
      "{'cyclenumbers': array([    0,     1,     2, ..., 29998, 29999, 30000]),\n",
      " 'flags': array(['ACC', 'FTL', 'NCR', ..., 'ACC', 'BTL', 'BTL'], dtype='<U3'),\n",
      " 'generation': array(['ki', 'sh', 'sh', ..., 'sh', 'sh', 'sh'], dtype='<U2'),\n",
      " 'has_zero_minus_one': False,\n",
      " 'in_zero_minus': False,\n",
      " 'in_zero_plus': False,\n",
      " 'interfaces': [[-0.1, 0.0, 0.1], ['l_[0]', 'l_[1]', 'l_[2]']],\n",
      " 'lambmaxs': array([0.10070164, 0.10669339, 0.10142894, ..., 0.01431329, 0.05368969,\n",
      "       0.02555405]),\n",
      " 'lambmins': array([-0.10952382, -0.04168242,  0.03038711, ..., -0.1023209 ,\n",
      "       -0.09460343, -0.05666308]),\n",
      " 'lengths': array([ 69, 115,  39, ...,  78, 116,  82]),\n",
      " 'lmrs': array(['LMR', 'RM*', 'R*R', ..., 'LML', '*M*', '*M*'], dtype='<U3'),\n",
      " 'name': '002',\n",
      " 'ncycle': 30001,\n",
      " 'newpathnumbers': array([    0,     0,     0, ..., 11922, 11922, 11922]),\n",
      " 'orders': None,\n",
      " 'pathnumbers': array([    1,     1,     1, ..., 12330, 12330, 12330]),\n",
      " 'shootlinks': array([None, None, None, ..., None, None, None], dtype=object),\n",
      " 'totaltime': 3720758,\n",
      " 'weights': array([4, 0, 0, ..., 3, 0, 0])}\n",
      "Setting orders for path ensemble 002\n",
      "Loaded orders from file, NOT CHECKING FOR CONSISTENCY.\n",
      "################################################################################\n",
      "/Users/an/Documents/0_mfpt/elias/cosbump2-walls/REPPTIS/003\n",
      "pathensemble info: \n",
      "{'cyclenumbers': array([    0,     1,     2, ..., 29998, 29999, 30000]),\n",
      " 'flags': array(['ACC', 'NCR', 'NCR', ..., 'FTL', 'BTL', 'NCR'], dtype='<U3'),\n",
      " 'generation': array(['ki', 'sh', 'sh', ..., 'sh', 'sh', 'sh'], dtype='<U2'),\n",
      " 'has_zero_minus_one': False,\n",
      " 'in_zero_minus': False,\n",
      " 'in_zero_plus': False,\n",
      " 'interfaces': [[0.0, 0.1, 0.2], ['l_[1]', 'l_[2]', 'l_[3]']],\n",
      " 'lambmaxs': array([0.20538747, 0.20722896, 0.20433196, ..., 0.20282797, 0.13692832,\n",
      "       0.0753936 ]),\n",
      " 'lambmins': array([-0.01414541,  0.1231559 ,  0.17303947, ...,  0.06030827,\n",
      "        0.04897959, -0.00251279]),\n",
      " 'lengths': array([ 69,  46,  17, ..., 247, 161,  62]),\n",
      " 'lmrs': array(['LMR', 'R*R', 'R*R', ..., 'RM*', '*M*', 'L*L'], dtype='<U3'),\n",
      " 'name': '003',\n",
      " 'ncycle': 30001,\n",
      " 'newpathnumbers': array([    0,     0,     0, ..., 15239, 15239, 15239]),\n",
      " 'orders': None,\n",
      " 'pathnumbers': array([    1,     1,     1, ..., 15999, 15999, 15999]),\n",
      " 'shootlinks': array([None, None, None, ..., None, None, None], dtype=object),\n",
      " 'totaltime': 8177535,\n",
      " 'weights': array([5, 0, 0, ..., 0, 0, 0])}\n",
      "Setting orders for path ensemble 003\n",
      "Loaded orders from file, NOT CHECKING FOR CONSISTENCY.\n",
      "################################################################################\n",
      "/Users/an/Documents/0_mfpt/elias/cosbump2-walls/REPPTIS/004\n",
      "pathensemble info: \n",
      "{'cyclenumbers': array([    0,     1,     2, ..., 29998, 29999, 30000]),\n",
      " 'flags': array(['ACC', 'FTL', 'NCR', ..., 'ACC', 'NCR', 'ACC'], dtype='<U3'),\n",
      " 'generation': array(['ki', 'sh', 'sh', ..., 'sh', 'sh', 'sh'], dtype='<U2'),\n",
      " 'has_zero_minus_one': False,\n",
      " 'in_zero_minus': False,\n",
      " 'in_zero_plus': False,\n",
      " 'interfaces': [[0.1, 0.2, 0.3], ['l_[2]', 'l_[3]', 'l_[4]']],\n",
      " 'lambmaxs': array([0.30065717, 0.30660822, 0.30138628, ..., 0.30779378, 0.31836997,\n",
      "       0.3088866 ]),\n",
      " 'lambmins': array([0.09039505, 0.1582471 , 0.23034063, ..., 0.09695497, 0.26767387,\n",
      "       0.14430346]),\n",
      " 'lengths': array([ 69, 115,  39, ..., 143,  17, 316]),\n",
      " 'lmrs': array(['LMR', 'RM*', 'R*R', ..., 'LMR', 'R*R', 'RMR'], dtype='<U3'),\n",
      " 'name': '004',\n",
      " 'ncycle': 30001,\n",
      " 'newpathnumbers': array([    0,     0,     0, ..., 12071, 12071, 12072]),\n",
      " 'orders': None,\n",
      " 'pathnumbers': array([    1,     1,     1, ..., 14060, 14060, 14061]),\n",
      " 'shootlinks': array([None, None, None, ..., None, None, None], dtype=object),\n",
      " 'totaltime': 3917581,\n",
      " 'weights': array([4, 0, 0, ..., 2, 0, 1])}\n",
      "Setting orders for path ensemble 004\n",
      "Loaded orders from file, NOT CHECKING FOR CONSISTENCY.\n"
     ]
    }
   ],
   "source": [
    "# !!! last lines !!!  allow to speed up this notebook\n",
    "# pe.set_orders(load=False...)  -> 1st time you run the code, this will store npy files\n",
    "# pe.set_orders(load=True...)  -> next time you run the code, you can read npy files\n",
    "\n",
    "# Reading all input\n",
    "#===================\n",
    "interfaces, zero_left, timestep = read_inputfile(inputfile)\n",
    "LMR_interfaces, LMR_strings = get_LMR_interfaces(interfaces, zero_left)\n",
    "pathensembles = []\n",
    "for i,fol in enumerate(folders):\n",
    "    print(\"#\"*80)\n",
    "    print(fol)\n",
    "    pe = read_pathensemble(fol+\"/pathensemble.txt\")\n",
    "    pe.set_name(fol[len(indir):])\n",
    "    pe.set_interfaces([LMR_interfaces[i], LMR_strings[i]])\n",
    "    if i==0:\n",
    "        pe.set_zero_minus_one(zero_minus_one)   # TODO this is never used\n",
    "        pe.set_in_zero_minus(True)\n",
    "    if i==1:\n",
    "        pe.set_in_zero_plus(True)\n",
    "    w, _ = get_weights(pe.flags, ACCFLAGS, REJFLAGS, verbose = False)\n",
    "    pe.set_weights(w)\n",
    "    print(\"pathensemble info: \")\n",
    "    pprint(vars(pe))\n",
    "    pathensembles.append(pe)\n",
    "    # read order parameters order.txt/order.npy into path ensemble object\n",
    "    #pe.set_orders(load=False, acc_only=True, save=False) # if saving doesn't work\n",
    "    #### CHANGE HERE ####\n",
    "    #pe.set_orders(load=False, acc_only=True, save=True) # for the 1st time\n",
    "    pe.set_orders(load=True, acc_only=True) # for the next times, save=True/False is not important"
   ]
  },
  {
   "cell_type": "markdown",
   "metadata": {},
   "source": [
    "# Analysis"
   ]
  },
  {
   "cell_type": "code",
   "execution_count": 5,
   "metadata": {},
   "outputs": [
    {
     "name": "stdout",
     "output_type": "stream",
     "text": [
      "0\n",
      "Calculating path lengths.\n",
      "Done.\n",
      "Calculating first hitting lengths to middle interface\n",
      "Done.\n",
      "1\n",
      "Calculating path lengths.\n",
      "Done.\n",
      "Calculating first hitting lengths to middle interface\n",
      "Done.\n",
      "2\n",
      "Calculating path lengths.\n",
      "Done.\n",
      "Calculating first hitting lengths to middle interface\n",
      "Done.\n",
      "3\n",
      "Calculating path lengths.\n",
      "Done.\n",
      "Calculating first hitting lengths to middle interface\n",
      "Done.\n",
      "4\n",
      "Calculating path lengths.\n",
      "Done.\n",
      "Calculating first hitting lengths to middle interface\n",
      "Done.\n"
     ]
    }
   ],
   "source": [
    "# Setting path ensemble properties\n",
    "#==================================\n",
    "for i,fol in enumerate(folders):\n",
    "    print(i)\n",
    "    print(\"Calculating path lengths.\")\n",
    "    set_tau_distrib(pathensembles[i])\n",
    "    print(\"Done.\")\n",
    "\n",
    "    if True:\n",
    "        print(\"Calculating first hitting lengths to middle interface\")\n",
    "        set_tau_first_hit_M_distrib(pathensembles[i])\n",
    "        print(\"Done.\")"
   ]
  },
  {
   "cell_type": "code",
   "execution_count": 6,
   "metadata": {},
   "outputs": [
    {
     "name": "stdout",
     "output_type": "stream",
     "text": [
      "doing pathensemble 0\n",
      "doing pathensemble 1\n",
      "Weights of the different paths:\n",
      "wRMR = 0\n",
      "wRML = 1632\n",
      "wLMR = 1544\n",
      "wLML = 26825\n",
      "Local crossing probabilities:\n",
      "pRMR = 0.0\n",
      "pRML = 1.0\n",
      "pLMR = 0.05442560541436075\n",
      "pLML = 0.9455743945856393\n",
      "Local crossing probabilities:\n",
      "p2R = 0.05146495116829439\n",
      "p2L = 0.9485350488317056\n",
      "doing pathensemble 2\n",
      "Weights of the different paths:\n",
      "wRMR = 6701\n",
      "wRML = 8101\n",
      "wLMR = 8171\n",
      "wLML = 7028\n",
      "Local crossing probabilities:\n",
      "pRMR = 0.4527090933657614\n",
      "pRML = 0.5472909066342386\n",
      "pLMR = 0.5376011579709191\n",
      "pLML = 0.4623988420290809\n",
      "Local crossing probabilities:\n",
      "p2R = 0.4957168094396853\n",
      "p2L = 0.5042831905603147\n",
      "doing pathensemble 3\n",
      "Weights of the different paths:\n",
      "wRMR = 7403\n",
      "wRML = 7732\n",
      "wLMR = 7685\n",
      "wLML = 7181\n",
      "Local crossing probabilities:\n",
      "pRMR = 0.4891311529567228\n",
      "pRML = 0.5108688470432772\n",
      "pLMR = 0.5169514327996771\n",
      "pLML = 0.4830485672003229\n",
      "Local crossing probabilities:\n",
      "p2R = 0.502916569447685\n",
      "p2L = 0.4970834305523149\n",
      "doing pathensemble 4\n",
      "Weights of the different paths:\n",
      "wRMR = 6870\n",
      "wRML = 8129\n",
      "wLMR = 8028\n",
      "wLML = 6974\n",
      "Local crossing probabilities:\n",
      "pRMR = 0.4580305353690246\n",
      "pRML = 0.5419694646309754\n",
      "pLMR = 0.5351286495133982\n",
      "pLML = 0.4648713504866018\n",
      "Local crossing probabilities:\n",
      "p2R = 0.49658344721842607\n",
      "p2L = 0.5034165527815739\n"
     ]
    },
    {
     "name": "stderr",
     "output_type": "stream",
     "text": [
      "/Users/an/wwork/code/tistools/lib/repptis_analysis.py:555: RuntimeWarning: invalid value encountered in divide\n",
      "  p_PP = cumsums['RMR']/(cumsums['RML']+cumsums['RMR'])\n",
      "/Users/an/wwork/code/tistools/lib/repptis_analysis.py:556: RuntimeWarning: invalid value encountered in divide\n",
      "  p_PN = cumsums['RML']/(cumsums['RML']+cumsums['RMR'])\n"
     ]
    }
   ],
   "source": [
    "# Analyze the pptis simulation.\n",
    "# Analysis output is saved to the data dictionary.\n",
    "data = {}\n",
    "for i, pe in enumerate(pathensembles):\n",
    "    print(\"doing pathensemble {}\".format(i))\n",
    "    if i == 0:\n",
    "        data[i] = {}\n",
    "        continue  # TODO: make [0-] analysis ???\n",
    "\n",
    "    # masks - TODO not used further on?\n",
    "    # TODO these functions are duplicate in repptis_analysis\n",
    "    #masks = get_lmr_masks(pe)\n",
    "    #loadmask = get_generation_mask(pe, \"ld\")\n",
    "    #print(\"Amount of loads: {}\".format(np.sum(loadmask)))\n",
    "    ##hardloadmask = get_hard_load_mask(loadmask)\n",
    "    #accmask = get_flag_mask(pe, \"ACC\")\n",
    "\n",
    "    # pathtype_cycles\n",
    "    pathtypes = (\"LML\", \"LMR\", \"RML\", \"RMR\")\n",
    "    pathtype_cycles = {}\n",
    "    for ptype in pathtypes:\n",
    "        pathtype_cycles[ptype] = unwrap_by_weight(\n",
    "                (pe.lmrs == ptype).astype(int), pe.weights)\n",
    "    \n",
    "    # running average analysis: [\"running\"]\n",
    "    data[i] = {}\n",
    "    data[i][\"running\"] = {}\n",
    "    data[i][\"running\"][\"plocal\"] = {}\n",
    "    # you'll still have to hardload select pe.weigths... TODO. # this is comment wouter?\n",
    "    for (ptype, p_loc) in zip(pathtypes, \n",
    "                              running_avg_local_probs(pathtype_cycles, \n",
    "                                                      pe.weights, tr = False)):\n",
    "        data[i][\"running\"][\"plocal\"][ptype] = p_loc\n",
    "\n",
    "    # analysis using all data: [\"full\"]\n",
    "    plocfull = get_local_probs(pe, tr=False)\n",
    "    data[i][\"full\"] = {}\n",
    "    for ptype in pathtypes:\n",
    "        data[i][\"full\"][ptype] = plocfull[ptype]\n",
    "\n",
    "    # data[i] have now [\"full\"] and [\"running\"]"
   ]
  },
  {
   "cell_type": "code",
   "execution_count": 7,
   "metadata": {
    "scrolled": true
   },
   "outputs": [
    {
     "name": "stdout",
     "output_type": "stream",
     "text": [
      "Are all weights 1?  True\n",
      "Are all paths accepted?  True\n",
      "Are all weights 1?  True\n",
      "Are all paths accepted?  True\n",
      "Are all weights 1?  True\n",
      "Are all paths accepted?  True\n",
      "Are all weights 1?  True\n",
      "Are all paths accepted?  True\n",
      "Are all weights 1?  True\n",
      "Are all paths accepted?  True\n"
     ]
    },
    {
     "name": "stderr",
     "output_type": "stream",
     "text": [
      "/Users/an/opt/anaconda3/envs/tistools3/lib/python3.12/site-packages/numpy/core/fromnumeric.py:3504: RuntimeWarning: Mean of empty slice.\n",
      "  return _methods._mean(a, axis=axis, dtype=dtype,\n",
      "/Users/an/opt/anaconda3/envs/tistools3/lib/python3.12/site-packages/numpy/core/_methods.py:129: RuntimeWarning: invalid value encountered in scalar divide\n",
      "  ret = ret.dtype.type(ret / rcount)\n",
      "/Users/an/opt/anaconda3/envs/tistools3/lib/python3.12/site-packages/numpy/core/_methods.py:206: RuntimeWarning: Degrees of freedom <= 0 for slice\n",
      "  ret = _var(a, axis=axis, dtype=dtype, out=out, ddof=ddof,\n",
      "/Users/an/opt/anaconda3/envs/tistools3/lib/python3.12/site-packages/numpy/core/_methods.py:163: RuntimeWarning: invalid value encountered in divide\n",
      "  arrmean = um.true_divide(arrmean, div, out=arrmean,\n",
      "/Users/an/opt/anaconda3/envs/tistools3/lib/python3.12/site-packages/numpy/core/_methods.py:198: RuntimeWarning: invalid value encountered in scalar divide\n",
      "  ret = ret.dtype.type(ret / rcount)\n"
     ]
    }
   ],
   "source": [
    "\n",
    "for i, pe in enumerate(pathensembles):\n",
    "    upe = pe.unify_pe()\n",
    "    # Pathlength distribution\n",
    "    data[i][\"pathlengths\"] = pathlength_distr(upe)  # these might be used later or not! TODO\n",
    "        \n",
    "#=======================================\n",
    "# make figures\n",
    "makefigs = True \n",
    "if makefigs:\n",
    "    for i, pe in enumerate(pathensembles):     \n",
    "        if i == 0:\n",
    "            continue\n",
    "        # Cross distances distribution\n",
    "        L, M, R, lmlpercs, lmllambs, rmrpercs, rmrlambs = cross_dist_distr(pe)\n",
    "        fig,ax = plt.subplots()\n",
    "        ax.plot(lmllambs, lmlpercs, lw=1, c=\"g\")\n",
    "        ax.plot(rmrlambs, rmrpercs, lw=1, c=\"r\")\n",
    "        for lamb in (L,M,R):\n",
    "            ax.axvline(lamb, color='k', linestyle='--', lw = 0.5)\n",
    "        ax.set_xlabel('Cross distance')\n",
    "        ax.set_ylabel('Frequency')\n",
    "        ax.set_title(\"Ensemble {}. L = {}, M = {}, R = {}\".format(\n",
    "            pe.name, L, M, R))\n",
    "        ax.set_ylim(0)\n",
    "        fig.savefig(f\"pathensemble_{i}_crossdist.pdf\")\n",
    "        plt.close(fig)\n",
    "\n",
    "        # Pathlength distribution      \n",
    "        for ptype in pathtypes:\n",
    "            fig, ax = plt.subplots()\n",
    "            ax.plot(data[i][\"pathlengths\"][ptype][\"bin_centers\"], \n",
    "                data[i][\"pathlengths\"][ptype][\"hist\"])\n",
    "            ax.set_xlabel('Pathlength')\n",
    "            ax.set_ylabel('Frequency')\n",
    "            ax.set_title(f\"{np.sum(data[i]['pathlengths'][ptype]['hist'])} \" + \\\n",
    "                         f\"{ptype} paths. \")\n",
    "            ax.legend([f\"mean = {data[i]['pathlengths'][ptype]['mean']:.2f}, \" + \\\n",
    "                          f\"std = {data[i]['pathlengths'][ptype]['std']:.2f}\"])\n",
    "            fig.savefig(f\"pathensemble_{i}_pathlength_{ptype}.pdf\")\n",
    "            plt.close(fig)"
   ]
  },
  {
   "cell_type": "markdown",
   "metadata": {},
   "source": [
    "# Pcross with recursive relations"
   ]
  },
  {
   "cell_type": "code",
   "execution_count": 8,
   "metadata": {},
   "outputs": [],
   "source": [
    "# Global crossing probabilities\n",
    "# WITHOUT ERRORS #  \n",
    "# Full data \n",
    "psfull = []\n",
    "for i in range(1, len(pathensembles)):   # do not use the 0- ensemble\n",
    "    psfull.append({\"LMR\": data[i][\"full\"][\"LMR\"], \n",
    "               \"RML\": data[i][\"full\"][\"RML\"], \n",
    "               \"RMR\": data[i][\"full\"][\"RMR\"],\n",
    "               \"LML\": data[i][\"full\"][\"LML\"]})\n",
    "\n",
    "Pminfull, Pplusfull, Pcrossfull = get_globall_probs(psfull)"
   ]
  },
  {
   "cell_type": "code",
   "execution_count": 9,
   "metadata": {},
   "outputs": [
    {
     "name": "stderr",
     "output_type": "stream",
     "text": [
      "/var/folders/n7/pwfrkg556gn5m722jq91lq_h0000gn/T/ipykernel_2738/2475102732.py:9: UserWarning: FigureCanvasAgg is non-interactive, and thus cannot be shown\n",
      "  fig.show()\n"
     ]
    },
    {
     "name": "stdout",
     "output_type": "stream",
     "text": [
      "This should be the same as the repptis_report.pdf value: 0.014768152029271706\n",
      "which is the case!\n",
      "Here, the load immediately disappeared. For a simulation where this is\n",
      "not the case, the above code should be adapted a little bit.\n"
     ]
    },
    {
     "data": {
      "image/png": "[encoded data removed]",
      "text/plain": [
       "<Figure size 640x480 with 1 Axes>"
      ]
     },
     "metadata": {},
     "output_type": "display_data"
    }
   ],
   "source": [
    "# Make a figure of the global crossing probabilities\n",
    "fig, ax = plt.subplots()\n",
    "ax.set_yscale(\"log\")\n",
    "ax.plot(Pcrossfull, \"o\", c = \"r\")\n",
    "ax.set_xlabel(\"intf\")\n",
    "ax.set_ylabel(r\"$P_A(\\lambda_i|\\lambda_A)$\")\n",
    "ax.set_xticks(np.arange(len(interfaces)))\n",
    "fig.tight_layout()\n",
    "fig.show()\n",
    "fig.savefig(\"Global_probs.pdf\")\n",
    "\n",
    "print(\"This should be the same as the repptis_report.pdf value:\", Pcrossfull[-1])\n",
    "print(\"which is the case!\")\n",
    "print(\"Here, the load immediately disappeared. For a simulation where this is\")\n",
    "print(\"not the case, the above code should be adapted a little bit.\")"
   ]
  },
  {
   "cell_type": "code",
   "execution_count": 10,
   "metadata": {},
   "outputs": [
    {
     "name": "stdout",
     "output_type": "stream",
     "text": [
      "This should be the same as the repptis_report.pdf value: 0.014768152029271706\n"
     ]
    }
   ],
   "source": [
    "# TODO I am not sure what this is\n",
    "\n",
    "# Construct lists of the local probs\n",
    "\n",
    "# Or we can use the get_global_probz function, using lists of the local probs\n",
    "# These do not use the 0- ensemble\n",
    "pmps = [data[i][\"full\"][\"LMR\"] for i in range(1,len(pathensembles))]\n",
    "pmms = [data[i][\"full\"][\"LML\"] for i in range(1,len(pathensembles))]\n",
    "ppps = [data[i][\"full\"][\"RMR\"] for i in range(1,len(pathensembles))]\n",
    "ppms = [data[i][\"full\"][\"RML\"] for i in range(1,len(pathensembles))]\n",
    "a,b,c = get_global_probz(pmps, pmms, ppps, ppms)\n",
    "print(\"This should be the same as the repptis_report.pdf value:\", c[-1])"
   ]
  },
  {
   "cell_type": "markdown",
   "metadata": {},
   "source": [
    "# Now work with MSM"
   ]
  },
  {
   "cell_type": "code",
   "execution_count": 11,
   "metadata": {},
   "outputs": [],
   "source": [
    "from tistools import construct_M\n",
    "from tistools import global_cross_prob\n",
    "from tistools import mfpt_to_first_last_state\n",
    "\n",
    "from tistools import create_labels_states"
   ]
  },
  {
   "cell_type": "code",
   "execution_count": 12,
   "metadata": {},
   "outputs": [],
   "source": [
    "def print_vector(g, states=None):\n",
    "    if states is None:\n",
    "        for i in range(len(g)):\n",
    "            print(\"state\", i, g[i])\n",
    "    else:\n",
    "        for i in range(len(g)):\n",
    "            print(\"state\", states[i], g[i][0])"
   ]
  },
  {
   "cell_type": "code",
   "execution_count": 13,
   "metadata": {},
   "outputs": [
    {
     "name": "stdout",
     "output_type": "stream",
     "text": [
      "[-0.1, 0.0, 0.1, 0.2, 0.3]\n",
      "N 5\n",
      "len pmms 4\n",
      "NS 15\n"
     ]
    }
   ],
   "source": [
    "print(interfaces)\n",
    "N = len(interfaces)\n",
    "assert N >= 4\n",
    "NS = 4*N-5\n",
    "print(\"N\", N)\n",
    "print(\"len pmms\", len(pmms))\n",
    "print(\"NS\", NS)\n",
    "\n",
    "#labels2 = [\"0+- LML\",\"0+- LMR\",\"0+- RML\",\"1+- LML\",\"1+- LMR\",\n",
    "#           \"1+- RML\", \"1+- RMR\", \"2+- LML\", \"2+- LMR\",\n",
    "#           \"2+- RML\", \"2+- RMR\", \"3+- LML\", \"3+- LMR\",]\n",
    "labels1, labels2 = create_labels_states(N)"
   ]
  },
  {
   "cell_type": "code",
   "execution_count": 14,
   "metadata": {},
   "outputs": [
    {
     "name": "stdout",
     "output_type": "stream",
     "text": [
      "mm [0.9455743945856393, 0.4623988420290809, 0.4830485672003229, 0.4648713504866018]\n",
      "mp [0.05442560541436075, 0.5376011579709191, 0.5169514327996771, 0.5351286495133982]\n",
      "pm [1.0, 0.5472909066342386, 0.5108688470432772, 0.5419694646309754]\n",
      "pp [0.0, 0.4527090933657614, 0.4891311529567228, 0.4580305353690246]\n",
      "sum [1. 1. 1. 1.]\n",
      "sum [1. 1. 1. 1.]\n"
     ]
    }
   ],
   "source": [
    "print(\"mm\", pmms)\n",
    "print(\"mp\", pmps)\n",
    "print(\"pm\", ppms)\n",
    "print(\"pp\", ppps)\n",
    "print(\"sum\", np.array(pmms)+np.array(pmps))\n",
    "print(\"sum\", np.array(ppms)+np.array(ppps))\n",
    "M = construct_M(pmms, pmps, ppms, ppps, N)\n",
    "\n",
    "#Local crossing probabilities:\n",
    "#pRMR = 0.34205627942625644.  #ppps\n",
    "#pRML = 0.6579437205737436.   #ppms\n",
    "#pLMR = 0.25316455696202533.  #pmps\n",
    "#pLML = 0.7468354430379747.   #pmms"
   ]
  },
  {
   "cell_type": "code",
   "execution_count": 15,
   "metadata": {
    "scrolled": true
   },
   "outputs": [
    {
     "name": "stdout",
     "output_type": "stream",
     "text": [
      "M\n",
      "shape (15, 15)\n",
      "sum prob in rows [1. 1. 1. 1. 1. 1. 1. 1. 1. 1. 1. 1. 1. 1. 1.]\n",
      "[[0.         0.94557439 0.05442561 0.         0.         0.\n",
      "  0.         0.         0.         0.         0.         0.\n",
      "  0.         0.         0.        ]\n",
      " [1.         0.         0.         0.         0.         0.\n",
      "  0.         0.         0.         0.         0.         0.\n",
      "  0.         0.         0.        ]\n",
      " [0.         0.         0.         0.         0.46239884 0.53760116\n",
      "  0.         0.         0.         0.         0.         0.\n",
      "  0.         0.         0.        ]\n",
      " [1.         0.         0.         0.         0.         0.\n",
      "  0.         0.         0.         0.         0.         0.\n",
      "  0.         0.         0.        ]\n",
      " [0.         0.         0.         1.         0.         0.\n",
      "  0.         0.         0.         0.         0.         0.\n",
      "  0.         0.         0.        ]\n",
      " [0.         0.         0.         0.         0.         0.\n",
      "  0.         0.         0.48304857 0.51695143 0.         0.\n",
      "  0.         0.         0.        ]\n",
      " [0.         0.         0.         1.         0.         0.\n",
      "  0.         0.         0.         0.         0.         0.\n",
      "  0.         0.         0.        ]\n",
      " [0.         0.         0.         0.         0.         0.\n",
      "  0.         0.         0.48304857 0.51695143 0.         0.\n",
      "  0.         0.         0.        ]\n",
      " [0.         0.         0.         0.         0.         0.\n",
      "  0.54729091 0.45270909 0.         0.         0.         0.\n",
      "  0.         0.         0.        ]\n",
      " [0.         0.         0.         0.         0.         0.\n",
      "  0.         0.         0.         0.         0.         0.\n",
      "  0.46487135 0.53512865 0.        ]\n",
      " [0.         0.         0.         0.         0.         0.\n",
      "  0.54729091 0.45270909 0.         0.         0.         0.\n",
      "  0.         0.         0.        ]\n",
      " [0.         0.         0.         0.         0.         0.\n",
      "  0.         0.         0.         0.         0.         0.\n",
      "  0.46487135 0.53512865 0.        ]\n",
      " [0.         0.         0.         0.         0.         0.\n",
      "  0.         0.         0.         0.         0.51086885 0.48913115\n",
      "  0.         0.         0.        ]\n",
      " [0.         0.         0.         0.         0.         0.\n",
      "  0.         0.         0.         0.         0.         0.\n",
      "  0.         0.         1.        ]\n",
      " [1.         0.         0.         0.         0.         0.\n",
      "  0.         0.         0.         0.         0.         0.\n",
      "  0.         0.         0.        ]]\n"
     ]
    }
   ],
   "source": [
    "print(\"M\")\n",
    "print(\"shape\", M.shape)\n",
    "print(\"sum prob in rows\", np.sum(M,axis=1))\n",
    "print(M)\n",
    "# row 8, 10, 12, 14. # counting starts from 0   not okay!!!!"
   ]
  },
  {
   "cell_type": "markdown",
   "metadata": {},
   "source": [
    "# Look at this Markov model"
   ]
  },
  {
   "cell_type": "code",
   "execution_count": 16,
   "metadata": {},
   "outputs": [
    {
     "name": "stdout",
     "output_type": "stream",
     "text": [
      "[ 1.00000000e+00+0.00000000e+00j -1.00000000e+00+0.00000000e+00j\n",
      "  6.27272077e-01+0.00000000e+00j -6.27272077e-01+0.00000000e+00j\n",
      "  1.06963205e-01+0.00000000e+00j -1.06963205e-01+0.00000000e+00j\n",
      " -9.31854965e-17+1.15210472e-01j -9.31854965e-17-1.15210472e-01j\n",
      "  1.20104742e-16+9.87295564e-09j  1.20104742e-16-9.87295564e-09j\n",
      "  1.68221741e-16+4.73816559e-17j  1.68221741e-16-4.73816559e-17j\n",
      " -1.24783412e-16+0.00000000e+00j -1.08026334e-17+0.00000000e+00j\n",
      "  0.00000000e+00+0.00000000e+00j]\n",
      "[-1.00000000e+00+0.00000000e+00j  1.00000000e+00+0.00000000e+00j\n",
      " -6.27272077e-01+0.00000000e+00j  6.27272077e-01+0.00000000e+00j\n",
      " -1.06963205e-01+0.00000000e+00j  5.62917768e-16+1.15210472e-01j\n",
      "  5.62917768e-16-1.15210472e-01j  1.06963205e-01+0.00000000e+00j\n",
      " -4.41698496e-09+0.00000000e+00j  4.41698085e-09+0.00000000e+00j\n",
      "  3.18422486e-15+0.00000000e+00j  1.85354489e-16+0.00000000e+00j\n",
      "  5.15057393e-17+1.12120943e-16j  5.15057393e-17-1.12120943e-16j\n",
      " -1.67288920e-17+0.00000000e+00j]\n"
     ]
    }
   ],
   "source": [
    "#import numpy.linalg\n",
    "vals, vecs = np.linalg.eig(M)\n",
    "print(vals)\n",
    "vals, vecs = np.linalg.eig(M.T)\n",
    "print(vals)"
   ]
  },
  {
   "cell_type": "code",
   "execution_count": 17,
   "metadata": {
    "scrolled": true
   },
   "outputs": [
    {
     "name": "stdout",
     "output_type": "stream",
     "text": [
      "what if chain propagates\n",
      "A[0,:]\n",
      "[0.94557439 0.         0.         0.         0.02516634 0.02925927\n",
      " 0.         0.         0.         0.         0.         0.\n",
      " 0.         0.         0.        ]\n",
      "1.0\n",
      "[0.         0.89411094 0.05146346 0.02516634 0.         0.\n",
      " 0.         0.         0.01413365 0.01512562 0.         0.\n",
      " 0.         0.         0.        ]\n",
      "1.0000000000000002\n",
      "[0.91927727 0.         0.         0.         0.02379664 0.02766682\n",
      " 0.00773522 0.00639843 0.         0.         0.         0.\n",
      " 0.00703147 0.00809415 0.        ]\n",
      "1.0000000000000002\n",
      "[0.         0.86924505 0.05003222 0.03153186 0.         0.\n",
      " 0.         0.         0.01645517 0.01761008 0.00359216 0.00343931\n",
      " 0.         0.         0.00809415]\n",
      "1.0000000000000004\n",
      "[0.90887106 0.         0.         0.         0.02313484 0.02689738\n",
      " 0.01097172 0.00907561 0.         0.         0.         0.\n",
      " 0.00978526 0.01126413 0.        ]\n",
      "1.0000000000000002\n",
      "[0.         0.85940521 0.04946586 0.03410656 0.         0.\n",
      " 0.         0.         0.0173767  0.01859629 0.00499898 0.00478627\n",
      " 0.         0.         0.01126413]\n",
      "1.0000000000000002\n",
      "[0.9047759  0.         0.         0.         0.02287296 0.0265929\n",
      " 0.01224601 0.01012968 0.         0.         0.         0.\n",
      " 0.01086988 0.01251268 0.        ]\n",
      "1.0000000000000002\n",
      "[0.         0.85553292 0.04924298 0.03511896 0.         0.\n",
      " 0.         0.         0.01773879 0.01898379 0.00555308 0.0053168\n",
      " 0.         0.         0.01251268]\n",
      "1.0000000000000002\n",
      "[0.90316456 0.         0.         0.         0.0227699  0.02647308\n",
      " 0.01274743 0.01054444 0.         0.         0.         0.\n",
      " 0.01129665 0.01300394 0.        ]\n",
      "1.0000000000000004\n",
      "[0.         0.85400929 0.04915528 0.03551733 0.         0.\n",
      " 0.         0.         0.01788126 0.01913626 0.00577111 0.00552554\n",
      " 0.         0.         0.01300394]\n",
      "1.0000000000000004\n"
     ]
    }
   ],
   "source": [
    "print(\"what if chain propagates\")\n",
    "print(\"A[0,:]\")\n",
    "# check stationary behavior\n",
    "A = M\n",
    "for n in range(10):\n",
    "    A = np.dot(A,M)\n",
    "    #print(A)\n",
    "    print(A[0,:])\n",
    "    print(np.sum(A[0,:]))  # is 1 indeed"
   ]
  },
  {
   "cell_type": "markdown",
   "metadata": {},
   "source": [
    "# Pcross with MSM"
   ]
  },
  {
   "cell_type": "code",
   "execution_count": 18,
   "metadata": {},
   "outputs": [
    {
     "name": "stdout",
     "output_type": "stream",
     "text": [
      "Z\n",
      "state 0-      0\n",
      "state B       1\n",
      "state 0+- LML 0.0\n",
      "state 0+- LMR 0.2713456638072598\n",
      "state 0+- RML 0.0\n",
      "state 1+- LML 0.0\n",
      "state 1+- LMR 0.5047341505576479\n",
      "state 1+- RML 0.0\n",
      "state 1+- RMR 0.5047341505576479\n",
      "state 2+- LML 0.2284977396896905\n",
      "state 2+- LMR 0.7628543413764901\n",
      "state 2+- RML 0.2284977396896905\n",
      "state 2+- RMR 0.7628543413764901\n",
      "state 3+- LML 0.48986820036279105\n",
      "state 3+- LMR 1.0\n",
      "Y\n",
      "state 0-      0.01476815202927171\n",
      "state B       0.0\n",
      "state 0+- LML 0.0\n",
      "state 0+- LMR 0.2713456638072598\n",
      "state 0+- RML 0.0\n",
      "state 1+- LML 0.0\n",
      "state 1+- LMR 0.5047341505576479\n",
      "state 1+- RML 0.0\n",
      "state 1+- RMR 0.5047341505576479\n",
      "state 2+- LML 0.22849773968969048\n",
      "state 2+- LMR 0.7628543413764901\n",
      "state 2+- RML 0.22849773968969048\n",
      "state 2+- RMR 0.7628543413764901\n",
      "state 3+- LML 0.4898682003627911\n",
      "state 3+- LMR 1.0\n",
      "global crossing prob [0.01476815]\n"
     ]
    }
   ],
   "source": [
    "# global crossing prob\n",
    "z1, z2, y1, y2 = global_cross_prob(M)\n",
    "print(\"Z\")\n",
    "print_vector(z1, labels1)\n",
    "print_vector(z2, labels2)\n",
    "print(\"Y\")\n",
    "print_vector(y1, labels1)\n",
    "print_vector(y2, labels2)\n",
    "print(\"global crossing prob\", y1[0])"
   ]
  },
  {
   "cell_type": "markdown",
   "metadata": {},
   "source": [
    "# Collecting times"
   ]
  },
  {
   "cell_type": "code",
   "execution_count": 19,
   "metadata": {},
   "outputs": [],
   "source": [
    "def print_all_tau(pathensembles, taumm, taump, taupm, taupp):\n",
    "    # print all tau\n",
    "    print(f\"                  mm            mp            pm            pp\")\n",
    "    for i in range(len(pathensembles)):\n",
    "        print(f\"{i} {pathensembles[i].name}  {taumm[i]:13.1f} {taump[i]:13.1f} {taupm[i]:13.1f} {taupp[i]:13.1f}\")"
   ]
  },
  {
   "cell_type": "code",
   "execution_count": 20,
   "metadata": {},
   "outputs": [
    {
     "name": "stdout",
     "output_type": "stream",
     "text": [
      "Collect tau\n",
      "ensemble 0 000\n",
      "ensemble 1 001\n",
      "ensemble 2 002\n",
      "ensemble 3 003\n",
      "ensemble 4 004\n",
      "Collect tau1\n",
      "Collect tau2\n",
      "Collect taum\n"
     ]
    }
   ],
   "source": [
    "tau_mm, tau_mp, tau_pm, tau_pp = collect_tau(pathensembles)\n",
    "tau1_mm, tau1_mp, tau1_pm, tau1_pp = collect_tau1(pathensembles)\n",
    "tau2_mm, tau2_mp, tau2_pm, tau2_pp = collect_tau2(pathensembles)\n",
    "taum_mm, taum_mp, taum_pm, taum_pp = collect_taum(pathensembles)"
   ]
  },
  {
   "cell_type": "code",
   "execution_count": 21,
   "metadata": {},
   "outputs": [
    {
     "name": "stdout",
     "output_type": "stream",
     "text": [
      "tau\n",
      "                  mm            mp            pm            pp\n",
      "0 000            nan           nan           nan          61.7\n",
      "1 001           10.1          50.9          50.1           nan\n",
      "2 002          148.3         141.6         142.2         151.0\n",
      "3 003          270.1         262.9         267.1         280.2\n",
      "4 004          147.6         138.5         139.5         149.6\n",
      "\n",
      "tau1\n",
      "                  mm            mp            pm            pp\n",
      "0 000            nan           nan           nan           0.0\n",
      "1 001            0.0           0.0          50.1           nan\n",
      "2 002           48.3          48.9          49.8          49.1\n",
      "3 003           48.8          48.1          49.4          49.8\n",
      "4 004           48.8          49.4          48.3          48.2\n",
      "\n",
      "taum\n",
      "                  mm            mp            pm            pp\n",
      "0 000            0.0           0.0           0.0          61.7\n",
      "1 001           10.1           0.0           0.0           0.0\n",
      "2 002           49.7          43.5          43.0          52.3\n",
      "3 003          171.7         165.4         169.7         182.2\n",
      "4 004           50.2          40.3          42.8          52.6\n",
      "\n",
      "tau2\n",
      "                  mm            mp            pm            pp\n",
      "0 000            nan           nan           nan           0.0\n",
      "1 001            0.0          50.9           0.0           nan\n",
      "2 002           50.4          49.2          49.4          49.5\n",
      "3 003           49.6          49.3          48.0          48.2\n",
      "4 004           48.6          48.7          48.4          48.7\n"
     ]
    }
   ],
   "source": [
    "print(\"tau\")\n",
    "print_all_tau(pathensembles, tau_mm, tau_mp, tau_pm, tau_pp)\n",
    "print(\"\\ntau1\")\n",
    "print_all_tau(pathensembles, tau1_mm, tau1_mp, tau1_pm, tau1_pp)\n",
    "print(\"\\ntaum\")\n",
    "print_all_tau(pathensembles, taum_mm, taum_mp, taum_pm, taum_pp)\n",
    "print(\"\\ntau2\")\n",
    "print_all_tau(pathensembles, tau2_mm, tau2_mp, tau2_pm, tau2_pp)"
   ]
  },
  {
   "cell_type": "code",
   "execution_count": 22,
   "metadata": {},
   "outputs": [],
   "source": [
    "def construct_tau_vector(N, NS, taumm, taump, taupm, taupp):\n",
    "    assert N>=3\n",
    "    assert NS==4*N-5\n",
    "    assert len(taumm) == N\n",
    "    assert len(taump) == N\n",
    "    assert len(taupm) == N\n",
    "    assert len(taupp) == N\n",
    "    # unravel the values into one vector\n",
    "    tau = np.zeros(NS)\n",
    "    # [0-]\n",
    "    tau[0] = taupp[0]\n",
    "    # [0+-]\n",
    "    tau[1] = taumm[1]\n",
    "    tau[2] = taump[1]\n",
    "    tau[3] = taupm[1]\n",
    "    # [1+-] etc\n",
    "    for i in range(1,N-2):\n",
    "        tau[4*i]   = taumm[i+1]\n",
    "        tau[4*i+1] = taump[i+1]\n",
    "        tau[4*i+2] = taupm[i+1]\n",
    "        tau[4*i+3] = taupp[i+1]\n",
    "    # [(N-2)^(-1)]\n",
    "    tau[-3] = taumm[-1]\n",
    "    tau[-2] = taump[-1]\n",
    "    # B\n",
    "    tau[-1] = 0.   # whatever\n",
    "    return tau"
   ]
  },
  {
   "cell_type": "code",
   "execution_count": 23,
   "metadata": {
    "scrolled": true
   },
   "outputs": [
    {
     "name": "stdout",
     "output_type": "stream",
     "text": [
      "tau\n",
      "[ 61.7410753   10.06922647  50.85686528  50.09742647 148.32029027\n",
      " 141.59625505 142.24601901 150.9601552  270.08912408 262.87286923\n",
      " 267.10566477 280.20613265 147.62919415 138.47708022   0.        ]\n",
      "\n",
      "\n",
      "tau1\n",
      "[ 0.          0.          0.         50.09742647 48.27660785 48.8818994\n",
      " 49.78360696 49.09953738 48.8011419  48.14170462 49.375582   49.83776847\n",
      " 48.82133639 49.44095665  0.        ]\n",
      "taum\n",
      "[ 61.7410753   10.06922647   0.           0.          49.66220831\n",
      "  43.50605801  43.02616961  52.31771377 171.66968389 165.39453481\n",
      " 169.72478013 182.20397136  50.16360769  40.29272546   0.        ]\n",
      "tau2\n",
      "[ 0.          0.         50.85686528  0.         50.3814741  49.20829764\n",
      " 49.43624244 49.54290404 49.61829829 49.3366298  48.00530264 48.16439281\n",
      " 48.64425007 48.74339811  0.        ]\n",
      "\n",
      "\n",
      "tau = tau1+taum+tau2 => difference is 5.048709793414476e-29\n"
     ]
    }
   ],
   "source": [
    "tau  = construct_tau_vector(N, NS, tau_mm, tau_mp, tau_pm, tau_pp)\n",
    "tau1 = construct_tau_vector(N, NS, tau1_mm, tau1_mp, tau1_pm, tau1_pp)\n",
    "taum = construct_tau_vector(N, NS, taum_mm, taum_mp, taum_pm, taum_pp)\n",
    "tau2 = construct_tau_vector(N, NS, tau2_mm, tau2_mp, tau2_pm, tau2_pp)\n",
    "tau_m = tau-tau1-tau2  # yes, this is the same thing as taum\n",
    "\n",
    "print(\"tau\")\n",
    "print(tau)\n",
    "print(\"\\n\")\n",
    "print(\"tau1\")\n",
    "print(tau1)\n",
    "print(\"taum\")\n",
    "print(taum)\n",
    "print(\"tau2\")\n",
    "print(tau2)\n",
    "\n",
    "print(\"\\n\")\n",
    "print(\"tau = tau1+taum+tau2 => difference is\", np.sum((tau-tau1-taum-tau2)**2))"
   ]
  },
  {
   "cell_type": "markdown",
   "metadata": {},
   "source": [
    "# Compute tau for [0+]"
   ]
  },
  {
   "cell_type": "code",
   "execution_count": 24,
   "metadata": {},
   "outputs": [
    {
     "name": "stdout",
     "output_type": "stream",
     "text": [
      "G\n",
      "state 0-      0.0\n",
      "state B       0.0\n",
      "state 0+- LML 10.069226467847157\n",
      "state 0+- LMR 459.3768807811654\n",
      "state 0+- RML 0.0\n",
      "state 1+- LML 100.04368241320434\n",
      "state 1+- LMR 673.845149372979\n",
      "state 1+- RML 92.46241204789533\n",
      "state 1+- RMR 682.9914115431916\n",
      "state 2+- LML 581.0882421907856\n",
      "state 2+- LMR 581.1705546315103\n",
      "state 2+- RML 577.5303427884929\n",
      "state 2+- RMR 596.8077542018194\n",
      "state 3+- LML 685.7673830164989\n",
      "state 3+- LMR 89.0361235675137\n",
      "H\n",
      "state 0-      34.52306757115582\n",
      "state B       0.0\n",
      "state 0+- LML 0.0\n",
      "state 0+- LMR 459.37688078116537\n",
      "state 0+- RML 0.0\n",
      "state 1+- LML 50.38147410358566\n",
      "state 1+- LMR 630.3390913629435\n",
      "state 1+- RML 49.43624243920504\n",
      "state 1+- RMR 630.673697769128\n",
      "state 2+- LML 409.4185583027478\n",
      "state 2+- LMR 415.77601982344254\n",
      "state 2+- RML 407.80556265398695\n",
      "state 2+- RMR 414.60378283885836\n",
      "state 3+- LML 635.6037753308092\n",
      "state 3+- LMR 48.743398106626806\n",
      "interesting\n",
      "[34.52306757]\n"
     ]
    }
   ],
   "source": [
    "g1, g2, h1, h2 = mfpt_to_first_last_state(M, tau1, tau_m, tau2) #, doprint=True)\n",
    "print(\"G\")\n",
    "print_vector(g1, labels1)\n",
    "print_vector(g2, labels2)\n",
    "print(\"H\")\n",
    "print_vector(h1, labels1)\n",
    "print_vector(h2, labels2)\n",
    "print(\"interesting\")\n",
    "print(h1[0])"
   ]
  },
  {
   "cell_type": "code",
   "execution_count": 25,
   "metadata": {
    "scrolled": true
   },
   "outputs": [
    {
     "name": "stdout",
     "output_type": "stream",
     "text": [
      "34.52306757115582\n"
     ]
    }
   ],
   "source": [
    "print(h1[0][0])"
   ]
  },
  {
   "cell_type": "markdown",
   "metadata": {},
   "source": [
    "# Flux"
   ]
  },
  {
   "cell_type": "code",
   "execution_count": 26,
   "metadata": {},
   "outputs": [
    {
     "name": "stdout",
     "output_type": "stream",
     "text": [
      "51.94041988014776 1/time\n"
     ]
    }
   ],
   "source": [
    "flux = 1/(tau[0]+h1[0][0])\n",
    "dt = 0.0002\n",
    "flux\n",
    "print(flux/dt, \"1/time\")"
   ]
  },
  {
   "cell_type": "code",
   "execution_count": null,
   "metadata": {},
   "outputs": [],
   "source": []
  }
 ],
 "metadata": {
  "kernelspec": {
   "display_name": "Python 3 (ipykernel)",
   "language": "python",
   "name": "python3"
  },
  "language_info": {
   "codemirror_mode": {
    "name": "ipython",
    "version": 3
   },
   "file_extension": ".py",
   "mimetype": "text/x-python",
   "name": "python",
   "nbconvert_exporter": "python",
   "pygments_lexer": "ipython3",
   "version": "3.12.3"
  }
 },
 "nbformat": 4,
 "nbformat_minor": 4
}
