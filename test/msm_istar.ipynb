{
 "cells": [
  {
   "cell_type": "code",
   "execution_count": 1,
   "metadata": {
    "metadata": {}
   },
   "outputs": [],
   "source": [
    "%load_ext autoreload\n",
    "%autoreload 2\n",
    "\n",
    "import matplotlib.pyplot as plt\n",
    "import numpy as np\n",
    "#%matplotlib qt   # doesn't work on my laptop\n",
    "from tistools import read_inputfile, get_LMR_interfaces, read_pathensemble, get_weights\n",
    "from tistools import set_tau_distrib, set_tau_first_hit_M_distrib, cross_dist_distr, pathlength_distr\n",
    "from tistools import ACCFLAGS, REJFLAGS\n",
    "\n",
    "from tistools import get_lmr_masks, get_generation_mask, get_flag_mask, select_with_masks\n",
    "from tistools import unwrap_by_weight, running_avg_local_probs, get_local_probs, get_globall_probs, get_global_probz\n",
    "\n",
    "from pprint import pprint    # to print the vars of the pathensemble object\n",
    "\n",
    "from istar_test import *\n",
    "\n",
    "%matplotlib qt\n"
   ]
  },
  {
   "cell_type": "code",
   "execution_count": 2,
   "metadata": {
    "metadata": {}
   },
   "outputs": [],
   "source": [
    "import logging\n",
    "\n",
    "logger = logging.getLogger(__name__)"
   ]
  },
  {
   "cell_type": "code",
   "execution_count": 3,
   "metadata": {
    "metadata": {}
   },
   "outputs": [
    {
     "name": "stderr",
     "output_type": "stream",
     "text": [
      "UsageError: unrecognized arguments: # something with pip install -e .\n"
     ]
    }
   ],
   "source": [
    "%autoreload 2   # something with pip install -e ."
   ]
  },
  {
   "cell_type": "markdown",
   "metadata": {},
   "source": [
    "# Reading"
   ]
  },
  {
   "cell_type": "code",
   "execution_count": 4,
   "metadata": {
    "metadata": {}
   },
   "outputs": [
    {
     "name": "stdout",
     "output_type": "stream",
     "text": [
      "/mnt/0bf0c339-34bb-4500-a5fb-f3c2a863de29/DATA/PyRETIS3/toytis/sim_istar0br2\n",
      "['/mnt/0bf0c339-34bb-4500-a5fb-f3c2a863de29/DATA/PyRETIS3/toytis/sim_istar0br2/000', '/mnt/0bf0c339-34bb-4500-a5fb-f3c2a863de29/DATA/PyRETIS3/toytis/sim_istar0br2/001', '/mnt/0bf0c339-34bb-4500-a5fb-f3c2a863de29/DATA/PyRETIS3/toytis/sim_istar0br2/002', '/mnt/0bf0c339-34bb-4500-a5fb-f3c2a863de29/DATA/PyRETIS3/toytis/sim_istar0br2/003', '/mnt/0bf0c339-34bb-4500-a5fb-f3c2a863de29/DATA/PyRETIS3/toytis/sim_istar0br2/004']\n"
     ]
    }
   ],
   "source": [
    "# zero_minus_one = True if lambda_-1 interface is set\n",
    "# zero_minus_one = False if lambda_-1 interface is not set\n",
    "\n",
    "# data the maze\n",
    "#---------------\n",
    "indir = \"/mnt/0bf0c339-34bb-4500-a5fb-f3c2a863de29/DATA/PyRETIS3/toytis/sim_istar0br2/\"\n",
    "zero_minus_one = False\n",
    "inputfile = indir + \"logging.log\"\n",
    "\n",
    "\n",
    "import os\n",
    "import glob\n",
    "os.chdir(indir)\n",
    "print(os.getcwd())\n",
    "\n",
    "folders = glob.glob(indir + \"/0[0-9][0-9]\")\n",
    "folders = sorted(folders)\n",
    "print(folders)"
   ]
  },
  {
   "cell_type": "code",
   "execution_count": 5,
   "metadata": {
    "metadata": {}
   },
   "outputs": [
    {
     "name": "stdout",
     "output_type": "stream",
     "text": [
      "################################################################################\n",
      "/mnt/0bf0c339-34bb-4500-a5fb-f3c2a863de29/DATA/PyRETIS3/toytis/sim_istar0br2/000\n",
      "pathensemble info: \n",
      "{'cyclenumbers': array([    0,     1,     2, ..., 24998, 24999, 25000]),\n",
      " 'dirs': array([-1., -1., -1., ..., -1.,  1., -1.]),\n",
      " 'flags': array(['ACC', 'ACC', 'ACC', ..., 'ACC', 'ACC', 'ACC'], dtype='<U3'),\n",
      " 'generation': array(['ld', 'sh', 'sh', ..., '00', 'sh', 'sh'], dtype='<U2'),\n",
      " 'has_zero_minus_one': False,\n",
      " 'in_zero_minus': True,\n",
      " 'in_zero_plus': False,\n",
      " 'interfaces': [[-0.1, -0.1, -0.1], ['l_[0]', 'l_[0]', 'l_[0]']],\n",
      " 'lambmaxs': array([-0.099999  , -0.08984719, -0.08535099, ..., -0.09510395,\n",
      "       -0.09607755, -0.09401438]),\n",
      " 'lambmins': array([-0.11      , -0.10056131, -0.10056131, ..., -0.33815416,\n",
      "       -0.36583956, -0.35173255]),\n",
      " 'lengths': array([ 499,    3,    3, ...,  450, 1432,  583]),\n",
      " 'lmrs': array(['RMR', 'RMR', 'RMR', ..., 'RMR', 'RMR', 'RMR'], dtype='<U3'),\n",
      " 'name': '/mnt/0bf0c339-34bb-4500-a5fb-f3c2a863de29/DATA/PyRETIS3/toytis/sim_istar0br2/000',\n",
      " 'ncycle': 25001,\n",
      " 'newpathnumbers': array([   0,    1,    2, ..., 9978, 9979, 9980]),\n",
      " 'orders': None,\n",
      " 'pathnumbers': array([    1,     2,     3, ..., 14881, 14882, 14883]),\n",
      " 'shootlinks': array([None, None, None, ..., None, None, None], dtype=object),\n",
      " 'totaltime': 2499845,\n",
      " 'weights': array([1, 1, 1, ..., 1, 1, 1])}\n",
      "################################################################################\n",
      "/mnt/0bf0c339-34bb-4500-a5fb-f3c2a863de29/DATA/PyRETIS3/toytis/sim_istar0br2/001\n",
      "pathensemble info: \n",
      "{'cyclenumbers': array([    0,     1,     2, ..., 24998, 24999, 25000]),\n",
      " 'dirs': array([ 1.,  1., -1., ...,  1., -1., -1.]),\n",
      " 'flags': array(['ACC', 'ACC', 'BTL', ..., 'NCR', 'ACC', 'ACC'], dtype='<U3'),\n",
      " 'generation': array(['ld', 'sh', 'sh', ..., 's+', 'sh', 'sh'], dtype='<U2'),\n",
      " 'has_zero_minus_one': False,\n",
      " 'in_zero_minus': False,\n",
      " 'in_zero_plus': True,\n",
      " 'interfaces': [[-0.1, -0.1, 0.0], ['l_[0]', 'l_[0]', 'l_[1]']],\n",
      " 'lambmaxs': array([ 0.3001    , -0.07288615, -0.06485097, ...,  0.11027025,\n",
      "       -0.0466471 , -0.06582316]),\n",
      " 'lambmins': array([-0.1001    , -0.10478279, -0.09784655, ..., -0.10241148,\n",
      "       -0.11280556, -0.1046941 ]),\n",
      " 'lengths': array([499,  10,  17, ..., 238,  24,  16]),\n",
      " 'lmrs': array(['LMR', 'LML', '*M*', ..., 'LMR', 'LML', 'LML'], dtype='<U3'),\n",
      " 'name': '/mnt/0bf0c339-34bb-4500-a5fb-f3c2a863de29/DATA/PyRETIS3/toytis/sim_istar0br2/001',\n",
      " 'ncycle': 25001,\n",
      " 'newpathnumbers': array([   0,    1,    1, ..., 7518, 7519, 7520]),\n",
      " 'orders': None,\n",
      " 'pathnumbers': array([    1,     2,     2, ..., 10066, 10067, 10068]),\n",
      " 'shootlinks': array([None, None, None, ..., None, None, None], dtype=object),\n",
      " 'totaltime': 1480464,\n",
      " 'weights': array([1, 2, 0, ..., 0, 1, 1])}\n",
      "################################################################################\n",
      "/mnt/0bf0c339-34bb-4500-a5fb-f3c2a863de29/DATA/PyRETIS3/toytis/sim_istar0br2/002\n",
      "pathensemble info: \n",
      "{'cyclenumbers': array([    0,     1,     2, ..., 24998, 24999, 25000]),\n",
      " 'dirs': array([ 1., -1.,  1., ..., -1.,  1., -1.]),\n",
      " 'flags': array(['ACC', 'ACC', 'BTL', ..., 'NCR', 'ACC', 'ACC'], dtype='<U3'),\n",
      " 'generation': array(['ld', 'sh', 'sh', ..., 's-', 'sh', 'sh'], dtype='<U2'),\n",
      " 'has_zero_minus_one': False,\n",
      " 'in_zero_minus': False,\n",
      " 'in_zero_plus': False,\n",
      " 'interfaces': [[-0.1, 0.0, 0.1], ['l_[0]', 'l_[1]', 'l_[2]']],\n",
      " 'lambmaxs': array([ 0.3001    ,  0.1756785 ,  0.0933709 , ..., -0.07017881,\n",
      "        0.10514559,  0.30338458]),\n",
      " 'lambmins': array([-0.1001    , -0.10203261, -0.01801972, ..., -0.10780115,\n",
      "       -0.10581471, -0.10984943]),\n",
      " 'lengths': array([499, 252, 489, ...,  28, 388, 578]),\n",
      " 'lmrs': array(['LMR', 'RML', '*M*', ..., '***', 'LMR', 'RML'], dtype='<U3'),\n",
      " 'name': '/mnt/0bf0c339-34bb-4500-a5fb-f3c2a863de29/DATA/PyRETIS3/toytis/sim_istar0br2/002',\n",
      " 'ncycle': 25001,\n",
      " 'newpathnumbers': array([    0,     1,     1, ..., 10568, 10569, 10570]),\n",
      " 'orders': None,\n",
      " 'pathnumbers': array([    1,     2,     2, ..., 12023, 12024, 12025]),\n",
      " 'shootlinks': array([None, None, None, ..., None, None, None], dtype=object),\n",
      " 'totaltime': 6365813,\n",
      " 'weights': array([1, 3, 0, ..., 0, 1, 1])}\n",
      "################################################################################\n",
      "/mnt/0bf0c339-34bb-4500-a5fb-f3c2a863de29/DATA/PyRETIS3/toytis/sim_istar0br2/003\n",
      "pathensemble info: \n",
      "{'cyclenumbers': array([    0,     1,     2, ..., 24998, 24999, 25000]),\n",
      " 'dirs': array([ 1.,  1.,  1., ...,  1., -1., -1.]),\n",
      " 'flags': array(['ACC', 'ACC', 'FTL', ..., 'NCR', 'ACC', 'BTL'], dtype='<U3'),\n",
      " 'generation': array(['ld', 'sh', 'sh', ..., 's+', 'sh', 'sh'], dtype='<U2'),\n",
      " 'has_zero_minus_one': False,\n",
      " 'in_zero_minus': False,\n",
      " 'in_zero_plus': False,\n",
      " 'interfaces': [[0.0, 0.1, 0.2], ['l_[1]', 'l_[2]', 'l_[3]']],\n",
      " 'lambmaxs': array([0.2001    , 0.30730901, 0.18482278, ..., 0.31087916, 0.11405164,\n",
      "       0.18542317]),\n",
      " 'lambmins': array([-1.00000000e-04, -1.09493029e-01, -4.35411934e-03, ...,\n",
      "        2.90643370e-02, -9.27416255e-03,  1.95753588e-02]),\n",
      " 'lengths': array([1001,  288,  319, ...,  522,  279,  264]),\n",
      " 'lmrs': array(['LMR', 'LMR', 'LM*', ..., 'RMR', 'LML', '*M*'], dtype='<U3'),\n",
      " 'name': '/mnt/0bf0c339-34bb-4500-a5fb-f3c2a863de29/DATA/PyRETIS3/toytis/sim_istar0br2/003',\n",
      " 'ncycle': 25001,\n",
      " 'newpathnumbers': array([    0,     1,     1, ..., 10438, 10439, 10439]),\n",
      " 'orders': None,\n",
      " 'pathnumbers': array([    1,     2,     2, ..., 13139, 13140, 13140]),\n",
      " 'shootlinks': array([None, None, None, ..., None, None, None], dtype=object),\n",
      " 'totaltime': 7644749,\n",
      " 'weights': array([1, 2, 0, ..., 0, 2, 0])}\n",
      "################################################################################\n",
      "/mnt/0bf0c339-34bb-4500-a5fb-f3c2a863de29/DATA/PyRETIS3/toytis/sim_istar0br2/004\n",
      "pathensemble info: \n",
      "{'cyclenumbers': array([    0,     1,     2, ..., 24998, 24999, 25000]),\n",
      " 'dirs': array([ 1., -1.,  1., ..., -1., -1., -1.]),\n",
      " 'flags': array(['ACC', 'BWI', 'ACC', ..., 'NCR', 'BWI', 'BWI'], dtype='<U3'),\n",
      " 'generation': array(['ld', 'sh', 'sh', ..., 's-', 'sh', 'sh'], dtype='<U2'),\n",
      " 'has_zero_minus_one': False,\n",
      " 'in_zero_minus': False,\n",
      " 'in_zero_plus': False,\n",
      " 'interfaces': [[0.1, 0.2, 0.3], ['l_[2]', 'l_[3]', 'l_[4]']],\n",
      " 'lambmaxs': array([0.3001    , 0.30633502, 0.30449748, ..., 0.10407887, 0.30130991,\n",
      "       0.3004932 ]),\n",
      " 'lambmins': array([-1.00000000e-04,  2.36012161e-01, -1.05296757e-01, ...,\n",
      "       -1.00908605e-01,  1.42416315e-01,  1.85293777e-01]),\n",
      " 'lengths': array([625,  38, 408, ..., 523,  86,  98]),\n",
      " 'lmrs': array(['LMR', 'R**', 'LMR', ..., '***', 'RM*', 'RM*'], dtype='<U3'),\n",
      " 'name': '/mnt/0bf0c339-34bb-4500-a5fb-f3c2a863de29/DATA/PyRETIS3/toytis/sim_istar0br2/004',\n",
      " 'ncycle': 25001,\n",
      " 'newpathnumbers': array([   0,    0,    1, ..., 5621, 5621, 5621]),\n",
      " 'orders': None,\n",
      " 'pathnumbers': array([   1,    1,    2, ..., 9415, 9415, 9415]),\n",
      " 'shootlinks': array([None, None, None, ..., None, None, None], dtype=object),\n",
      " 'totaltime': 6003012,\n",
      " 'weights': array([2, 0, 1, ..., 0, 0, 0])}\n"
     ]
    }
   ],
   "source": [
    "# !!! last lines !!!  allow to speed up this notebook\n",
    "# pe.set_orders(load=False...)  -> 1st time you run the code, this will store npy files\n",
    "# pe.set_orders(load=True...)  -> next time you run the code, you can read npy files\n",
    "\n",
    "# Reading all input\n",
    "#===================\n",
    "interfaces, zero_left, timestep = read_inputfile(inputfile)\n",
    "LMR_interfaces, LMR_strings = get_LMR_interfaces(interfaces, zero_left)\n",
    "pathensembles = []\n",
    "for i,fol in enumerate(folders):\n",
    "    print(\"#\"*80)\n",
    "    print(fol)\n",
    "    pe = read_pathensemble(fol+\"/pathensemble.txt\")\n",
    "    pe.set_name(fol)\n",
    "    pe.set_interfaces([LMR_interfaces[i], LMR_strings[i]])\n",
    "    if i==0:\n",
    "        pe.set_zero_minus_one(zero_minus_one)   # TODO this is never used\n",
    "        pe.set_in_zero_minus(True)\n",
    "    if i==1:\n",
    "        pe.set_in_zero_plus(True)\n",
    "    w, _ = get_weights(pe.flags, ACCFLAGS, REJFLAGS, verbose = False)\n",
    "    pe.set_weights(w)\n",
    "    print(\"pathensemble info: \")\n",
    "    pprint(vars(pe))\n",
    "    pathensembles.append(pe)\n",
    "    # read order parameters order.txt/order.npy into path ensemble object\n",
    "    #pe.set_orders(load=False, acc_only=True, save=False) # if saving doesn't work\n",
    "    #### CHANGE HERE ####\n",
    "    # pe.set_orders(load=False, acc_only=True, save=True) # for the 1st time\n",
    "    # pe.set_orders(load=True, acc_only=True) # for the next times, save=True/False is not important"
   ]
  },
  {
   "cell_type": "code",
   "execution_count": 6,
   "metadata": {},
   "outputs": [
    {
     "name": "stdout",
     "output_type": "stream",
     "text": [
      "ensemble 0\n",
      "4834\n",
      "ensemble 1\n",
      "1547\n",
      "ensemble 2\n",
      "1654\n",
      "ensemble 3\n",
      "1764\n",
      "ensemble 4\n",
      "1751\n"
     ]
    }
   ],
   "source": [
    "for pe in pathensembles:\n",
    "    print(f\"ensemble {pathensembles.index(pe)}\")\n",
    "    print(max(pe.lengths))"
   ]
  },
  {
   "cell_type": "markdown",
   "metadata": {},
   "source": [
    "# Analysis"
   ]
  },
  {
   "cell_type": "code",
   "execution_count": 7,
   "metadata": {
    "metadata": {}
   },
   "outputs": [],
   "source": [
    "# Setting path ensemble properties\n",
    "#==================================\n",
    "# for i,fol in enumerate(folders):\n",
    "#     print(i)\n",
    "#     if i != 1:\n",
    "#         print(\"Calculating path lengths.\")\n",
    "#         set_tau_distrib(pathensembles[i])\n",
    "#     print(\"Done.\")\n",
    "#     #else:\n",
    "#         #TODO problem with ...\n",
    "#     if i > 1:\n",
    "#         print(\"Calculating first hitting lengths to middle interface\")\n",
    "#         set_tau_first_hit_M_distrib(pathensembles[i])\n",
    "#         print(\"Done.\")\n",
    "#     #else:\n",
    "#         # TODO problem with ...."
   ]
  },
  {
   "cell_type": "code",
   "execution_count": 8,
   "metadata": {
    "metadata": {}
   },
   "outputs": [
    {
     "name": "stdout",
     "output_type": "stream",
     "text": [
      "p:  [[0.89964    0.04368    0.02336    0.01684    0.01648   ]\n",
      " [       nan 0.         0.38373016 0.28518519 0.33108466]\n",
      " [0.62003955 0.37996045 0.         0.36407933 0.63592067]\n",
      " [0.3303087  0.27184284 0.39784846 0.                nan]\n",
      " [0.         0.         0.         0.         0.        ]]\n",
      "Local crossing probabilities computed\n",
      "zerooo  nan [0. 0.] 1 0\n",
      "zerooo  0.0 [0. 1.] 1 1\n",
      "zerooo  0.0 [0. 1.] 2 2\n",
      "zerooo  0.0 [0. 1.] 3 3\n",
      "zerooo  nan [0. 0.] 3 4\n",
      "zerooo  0.0 [0. 1.] 4 4\n",
      "p:  [[0.89964    0.19229641 0.12320856 0.11012828 0.15777228]\n",
      " [       nan 0.         0.38373016 0.30369534 0.46223979]\n",
      " [0.62003955 0.37996045 0.         0.36407933 0.63592067]\n",
      " [0.3981643  0.27922324 0.39784846 0.                nan]\n",
      " [0.         0.         0.         0.         0.        ]]\n",
      "Local crossing probabilities computed\n",
      "{'full': array([[0.89964   , 0.19229641, 0.12320856, 0.11012828, 0.15777228],\n",
      "       [       nan, 0.        , 0.38373016, 0.30369534, 0.46223979],\n",
      "       [0.62003955, 0.37996045, 0.        , 0.36407933, 0.63592067],\n",
      "       [0.3981643 , 0.27922324, 0.39784846, 0.        ,        nan],\n",
      "       [0.        , 0.        , 0.        , 0.        , 0.        ]]),\n",
      " 'full1': array([[0.89964   , 0.04368   , 0.02336   , 0.01684   , 0.01648   ],\n",
      "       [       nan, 0.        , 0.38373016, 0.28518519, 0.33108466],\n",
      "       [0.62003955, 0.37996045, 0.        , 0.36407933, 0.63592067],\n",
      "       [0.3303087 , 0.27184284, 0.39784846, 0.        ,        nan],\n",
      "       [0.        , 0.        , 0.        , 0.        , 0.        ]]),\n",
      " 'running': {}}\n"
     ]
    },
    {
     "name": "stderr",
     "output_type": "stream",
     "text": [
      "/mnt/0bf0c339-34bb-4500-a5fb-f3c2a863de29/DATA/i_star/tistools/test/istar_funcs.py:850: RuntimeWarning: invalid value encountered in scalar divide\n",
      "  p[i][k] = (w_path[i+1][\"ends\"][i][k] + w_path[i][\"ends\"][i][k]) / (np.sum(w_path[i+1][\"ends\"][i][:i]) + np.sum(w_path[i][\"ends\"][i][:i]))\n",
      "/mnt/0bf0c339-34bb-4500-a5fb-f3c2a863de29/DATA/i_star/tistools/test/istar_funcs.py:843: RuntimeWarning: invalid value encountered in scalar divide\n",
      "  p[i][k] = (w_path[i+1][\"ends\"][i][k]) / np.sum(w_path[i+1][\"ends\"][i][i:])\n",
      "/mnt/0bf0c339-34bb-4500-a5fb-f3c2a863de29/DATA/i_star/tistools/test/istar_funcs.py:969: RuntimeWarning: invalid value encountered in scalar divide\n",
      "  p[i][k] = counts[0] / counts[1]\n"
     ]
    }
   ],
   "source": [
    "# Analyze the [i*] simulation.\n",
    "# Analysis output is saved to the data dictionary.\n",
    "data = {}\n",
    "\n",
    "data[\"running\"] = {}\n",
    "\n",
    "# analysis using all data: [\"full\"]\n",
    "# data[\"full\"] = get_transition_probs(pathensembles, interfaces)\n",
    "# pprint(data)\n",
    "# print(\"\\n\\n\")\n",
    "# data[\"full\"] = get_transition_probzz2(pathensembles, interfaces)\n",
    "# data[\"full\"] = get_transition_probzz(pathensembles, interfaces)\n",
    "data[\"full1\"] = get_simple_probs(pathensembles, interfaces)\n",
    "data[\"full\"] = get_summed_probs(pathensembles, interfaces)\n",
    "pprint(data)\n",
    "\n",
    "# for i, pe in enumerate(pathensembles):\n",
    "#     print(\"doing pathensemble {}\".format(i))\n",
    "#     if i == 0:\n",
    "#         data[i] = {}\n",
    "#         continue  # TODO: make [0-] analysis ???\n",
    "\n",
    "    # masks - TODO not used further on?\n",
    "    # TODO these functions are duplicate in repptis_analysis\n",
    "    #masks = get_lmr_masks(pe)\n",
    "    #loadmask = get_generation_mask(pe, \"ld\")\n",
    "    #print(\"Amount of loads: {}\".format(np.sum(loadmask)))\n",
    "    ##hardloadmask = get_hard_load_mask(loadmask)\n",
    "    #accmask = get_flag_mask(pe, \"ACC\")\n",
    "\n",
    "    # pathtype_cycles\n",
    "    # pathtypes = (\"LML\", \"LMR\", \"RML\", \"RMR\")\n",
    "    # pathtype_cycles = {}\n",
    "    # for ptype in pathtypes:\n",
    "    #     pathtype_cycles[ptype] = unwrap_by_weight(\n",
    "    #             (pe.lmrs == ptype).astype(int), pe.weights)\n",
    "    \n",
    "    # # running average analysis: [\"running\"]\n",
    "    # data[i] = {}\n",
    "    # data[i][\"running\"] = {}\n",
    "    # data[i][\"running\"][\"plocal\"] = {}\n",
    "    # # you'll still have to hardload select pe.weigths... TODO. # this is comment wouter?\n",
    "    # for (ptype, p_loc) in zip(pathtypes, \n",
    "    #                           running_avg_local_probs(pathtype_cycles, \n",
    "    #                                                   pe.weights, tr = False)):\n",
    "    #     data[i][\"running\"][\"plocal\"][ptype] = p_loc\n",
    "\n",
    "    # analysis using all data: [\"full\"]\n",
    "    # plocfull = get_local_probs(pe, tr=False)\n",
    "    # data[i][\"full\"] = {}\n",
    "    # for ptype in pathtypes:\n",
    "    #     data[i][\"full\"][ptype] = plocfull[ptype]\n",
    "\n",
    "    # data[i] have now [\"full\"] and [\"running\"]"
   ]
  },
  {
   "cell_type": "code",
   "execution_count": 9,
   "metadata": {
    "metadata": {},
    "scrolled": true
   },
   "outputs": [],
   "source": [
    "\n",
    "# for i, pe in enumerate(pathensembles):\n",
    "#     upe = pe.unify_pe()\n",
    "#     # Pathlength distribution\n",
    "#     data[i][\"pathlengths\"] = pathlength_distr(upe)  # these might be used later or not! TODO\n",
    "        \n",
    "# #=======================================\n",
    "# # make figures\n",
    "# makefigs = True \n",
    "# if makefigs:\n",
    "#     for i, pe in enumerate(pathensembles):     \n",
    "#         if i == 0:\n",
    "#             continue\n",
    "#         # Cross distances distribution\n",
    "#         L, M, R, lmlpercs, lmllambs, rmrpercs, rmrlambs = cross_dist_distr(pe)\n",
    "#         fig,ax = plt.subplots()\n",
    "#         ax.plot(lmllambs, lmlpercs, lw=1, c=\"g\")\n",
    "#         ax.plot(rmrlambs, rmrpercs, lw=1, c=\"r\")\n",
    "#         for lamb in (L,M,R):\n",
    "#             ax.axvline(lamb, color='k', linestyle='--', lw = 0.5)\n",
    "#         ax.set_xlabel('Cross distance')\n",
    "#         ax.set_ylabel('Frequency')\n",
    "#         ax.set_title(\"Ensemble {}. L = {}, M = {}, R = {}\".format(\n",
    "#             pe.name, L, M, R))\n",
    "#         ax.set_ylim(0)\n",
    "#         fig.savefig(f\"pathensemble_{i}_crossdist.pdf\")\n",
    "#         plt.close(fig)\n",
    "\n",
    "#         # Pathlength distribution      \n",
    "#         for ptype in pathtypes:\n",
    "#             fig, ax = plt.subplots()\n",
    "#             ax.plot(data[i][\"pathlengths\"][ptype][\"bin_centers\"], \n",
    "#                 data[i][\"pathlengths\"][ptype][\"hist\"])\n",
    "#             ax.set_xlabel('Pathlength')\n",
    "#             ax.set_ylabel('Frequency')\n",
    "#             ax.set_title(f\"{np.sum(data[i]['pathlengths'][ptype]['hist'])} \" + \\\n",
    "#                          f\"{ptype} paths. \")\n",
    "#             ax.legend([f\"mean = {data[i]['pathlengths'][ptype]['mean']:.2f}, \" + \\\n",
    "#                           f\"std = {data[i]['pathlengths'][ptype]['std']:.2f}\"])\n",
    "#             fig.savefig(f\"pathensemble_{i}_pathlength_{ptype}.pdf\")\n",
    "#             plt.close(fig)"
   ]
  },
  {
   "cell_type": "code",
   "execution_count": 10,
   "metadata": {
    "metadata": {}
   },
   "outputs": [],
   "source": [
    "# Make a figure of the global crossing probabilities\n",
    "# fig, ax = plt.subplots()\n",
    "# ax.set_yscale(\"log\")\n",
    "# ax.plot(Pcrossfull, \"o\", c = \"r\")\n",
    "\n",
    "# cosdip meta\n",
    "# ax.errorbar([i for i in range(7)], Pcrossfull, yerr=[0, 0.004830, Pcrossfull[2]*0.05068988646, Pcrossfull[3]*0.05189862680, Pcrossfull[4]*0.05071184896, Pcrossfull[5]*0.05083284286, Pcrossfull[6]*0.05067963543], fmt=\"-o\", c = \"b\", ecolor=\"r\", capsize=6)\n",
    "\n",
    "# cosbump meta\n",
    "# ax.errorbar([i for i in range(7)], Pcrossfull, yerr=[0, 0.002535, Pcrossfull[2]*0.04393065503, Pcrossfull[3]*0.04910273500, Pcrossfull[4]*0.05239942040, Pcrossfull[5]*0.05789033634, Pcrossfull[6]*0.0614468], fmt=\"-o\", c = \"b\", ecolor=\"r\", capsize=6)\n",
    "\n",
    "# 2 cosdips\n",
    "# ax.errorbar([i for i in range(5)], Pcrossfull, yerr=[0, 0.007239, Pcrossfull[2]*0.0414296, Pcrossfull[3]*0.0445266, Pcrossfull[4]*0.0483538], fmt=\"-o\", c = \"b\", ecolor=\"r\", capsize=6)\n",
    "\n",
    "# 3 cosbumps\n",
    "# ax.errorbar([i for i in range(7)], Pcrossfull, yerr=[0, 0.002295, Pcrossfull[2]*0.0328798, Pcrossfull[3]*0.031594, Pcrossfull[4]*0.031474, Pcrossfull[5]*0.03080392, Pcrossfull[6]*0.0308589], fmt=\"-o\", c = \"b\", ecolor=\"r\", capsize=6)\n",
    "\n",
    "# 2 cosbumps\n",
    "#ax.errorbar([i for i in range(5)], Pcrossfull, yerr=[0, 0.002768, Pcrossfull[2]*0.04440278, Pcrossfull[3]*0.043053, Pcrossfull[4]*0.0463156], fmt=\"-o\", c = \"b\", ecolor=\"r\", capsize=6)\n",
    "\n",
    "# flat dt=0.00002 30k cycles\n",
    "# ax.errorbar([i for i in range(5)], Pcrossfull, yerr=[0, 0.003294, Pcrossfull[2]*0.07640968, Pcrossfull[3]*0.07789262, Pcrossfull[4]*0.0812692], fmt=\"-o\", c = \"b\", ecolor=\"r\", capsize=6)\n",
    "\n",
    "# flat 100k cycles\n",
    "#ax.errorbar([i for i in range(5)], Pcrossfull, yerr=[0, 0.002741, Pcrossfull[2]*0.034092, Pcrossfull[3]*0.033621, Pcrossfull[4]*0.0398], fmt=\"-o\", c = \"b\", ecolor=\"r\", capsize=6)\n",
    "\n",
    "# ax.set_xlabel(\"intf\")\n",
    "# ax.set_ylabel(r\"$P_A(\\lambda_i|\\lambda_A)$\")\n",
    "# ax.set_xticks(np.arange(len(interfaces)))\n",
    "# fig.tight_layout()\n",
    "# fig.show()\n",
    "# fig.savefig(\"Global_probs.pdf\")\n",
    "\n",
    "# print(\"This should be the same as the repptis_report.pdf value:\", Pcrossfull[-1])\n",
    "# print(\"which is the case!\")\n",
    "# print(\"Here, the load immediately disappeared. For a simulation where this is\")\n",
    "# print(\"not the case, the above code should be adapted a little bit.\")"
   ]
  },
  {
   "cell_type": "markdown",
   "metadata": {},
   "source": [
    "# Now work with MSM"
   ]
  },
  {
   "cell_type": "code",
   "execution_count": 11,
   "metadata": {
    "metadata": {}
   },
   "outputs": [],
   "source": [
    "from tistools import construct_M\n",
    "from tistools import global_cross_prob\n",
    "from tistools import mfpt_to_first_last_state\n",
    "\n",
    "from tistools import create_labels_states"
   ]
  },
  {
   "cell_type": "code",
   "execution_count": 12,
   "metadata": {
    "metadata": {}
   },
   "outputs": [],
   "source": [
    "def print_vector(g, states=None):\n",
    "    if states is None:\n",
    "        for i in range(len(g)):\n",
    "            print(\"state\", i, g[i])\n",
    "    else:\n",
    "        for i in range(len(g)):\n",
    "            print(\"state\", states[i], g[i][0])"
   ]
  },
  {
   "cell_type": "code",
   "execution_count": 13,
   "metadata": {
    "metadata": {}
   },
   "outputs": [
    {
     "name": "stdout",
     "output_type": "stream",
     "text": [
      "[-0.1, 0.0, 0.1, 0.2, 0.3]\n",
      "N 5\n",
      "NS 10\n",
      "['0-     ', 'B      '] ['0+- LML', '0+- LMR', '0+- RML', '1+- LML', '1+- LMR', '1+- RML', '1+- RMR', '2+- LML', '2+- LMR', '2+- RML', '2+- RMR', '3+- LML', '3+- LMR']\n"
     ]
    }
   ],
   "source": [
    "print(interfaces)\n",
    "N = len(interfaces)\n",
    "assert N >= 3\n",
    "NS = 2*N\n",
    "print(\"N\", N)\n",
    "print(\"NS\", NS)\n",
    "\n",
    "#labels2 = [\"0+- LML\",\"0+- LMR\",\"0+- RML\",\"1+- LML\",\"1+- LMR\",\n",
    "#           \"1+- RML\", \"1+- RMR\", \"2+- LML\", \"2+- LMR\",\n",
    "#           \"2+- RML\", \"2+- RMR\", \"3+- LML\", \"3+- LMR\",]\n",
    "labels1, labels2 = create_labels_states(N)\n",
    "print(labels1, labels2)"
   ]
  },
  {
   "cell_type": "code",
   "execution_count": 14,
   "metadata": {
    "metadata": {}
   },
   "outputs": [],
   "source": [
    "def construct_M_istar(P, NS, N):\n",
    "    \"\"\"Construct transition matrix M\"\"\"\n",
    "    # N -- number of interfaces\n",
    "    # NS -- dimension of MSM, 4*N-5 when N>=4\n",
    "    # P -- ndarray of probabilities for paths between end turns\n",
    "    \n",
    "    assert N>=3\n",
    "    assert N==P.shape[0]\n",
    "    assert N==P.shape[1]\n",
    "    assert NS==2*N\n",
    "\n",
    "    # construct transition matrix\n",
    "    M = np.zeros((NS,NS))\n",
    "    \n",
    "    # states [0-] and [0*+-]\n",
    "    M[0,2] = 1\n",
    "    M[2,1] = P[0,0]\n",
    "    M[2,N+1:] = P[0, 1:]\n",
    "    M[1,0] = 1\n",
    "    M[-1,0] = 1\n",
    "    M[N+1:,1] = P[1:, 0]\n",
    "\n",
    "    for i in range(1,N):\n",
    "        #print(\"starting from state i\",i)\n",
    "        M[2+i, N+i:2*N] = P[i,i:]\n",
    "        M[N+i, 3:2+i] = P[i, 1:i]\n",
    "    \n",
    "\n",
    "    for i in range(NS):\n",
    "        if np.sum(M[i]) > 0:\n",
    "            M[i] = M[i]/np.sum(M[i])\n",
    "        else:\n",
    "            M[i] = 0\n",
    "    M[N+1,1] = 1\n",
    "    # return np.delete(np.delete(M, N, 0), N, 1)\n",
    "    return M"
   ]
  },
  {
   "cell_type": "code",
   "execution_count": 16,
   "metadata": {
    "metadata": {}
   },
   "outputs": [
    {
     "name": "stdout",
     "output_type": "stream",
     "text": [
      "p matrix:  [[0.89964    0.19229641 0.12320856 0.11012828 0.15777228]\n",
      " [       nan 0.         0.38373016 0.30369534 0.46223979]\n",
      " [0.62003955 0.37996045 0.         0.36407933 0.63592067]\n",
      " [0.3981643  0.27922324 0.39784846 0.                nan]\n",
      " [0.         0.         0.         0.         0.        ]]\n",
      "sum rows of p:\n",
      "0.0 1.4830455298884653\n",
      "nan 1.149665288631724\n",
      "1.0 1.0\n",
      "1.075236001066373 0.0\n",
      "0.0 0.0\n"
     ]
    }
   ],
   "source": [
    "p_ini = data[\"full\"]\n",
    "print(\"p matrix: \", p_ini)\n",
    "p_ini[-2][-1] = 0\n",
    "print(\"sum rows of p:\")\n",
    "for i in range(p_ini.shape[0]):\n",
    "    print(np.sum(p_ini[i][:i]), np.sum(p_ini[i][i:]))\n",
    "M = construct_M_istar(p_ini, NS, N)\n",
    "M1 = construct_M_istar(data[\"full1\"], NS, N)\n",
    "\n",
    "#Local crossing probabilities:\n",
    "#pRMR = 0.34205627942625644.  #ppps\n",
    "#pRML = 0.6579437205737436.   #ppms\n",
    "#pLMR = 0.25316455696202533.  #pmps\n",
    "#pLML = 0.7468354430379747.   #pmms"
   ]
  },
  {
   "cell_type": "code",
   "execution_count": 80,
   "metadata": {
    "metadata": {},
    "scrolled": true
   },
   "outputs": [
    {
     "name": "stdout",
     "output_type": "stream",
     "text": [
      "M\n",
      "shape (10, 10)\n",
      "sum prob in rows [1. 1. 1. 1. 1. 0. 1. 1. 1. 1.]\n",
      "[[0.         0.         1.         0.         0.         0.\n",
      "  0.         0.         0.         0.        ]\n",
      " [1.         0.         0.         0.         0.         0.\n",
      "  0.         0.         0.         0.        ]\n",
      " [0.         0.89964    0.         0.         0.         0.\n",
      "  0.04368    0.02336    0.01684    0.01648   ]\n",
      " [0.         0.         0.         0.         0.         0.\n",
      "  0.         0.38373016 0.28518519 0.33108466]\n",
      " [0.         0.         0.         0.         0.         0.\n",
      "  0.         0.         0.36407933 0.63592067]\n",
      " [0.         0.         0.         0.         0.         0.\n",
      "  0.         0.         0.         0.        ]\n",
      " [0.         1.         0.         0.         0.         0.\n",
      "  0.         0.         0.         0.        ]\n",
      " [0.         0.62003955 0.         0.37996045 0.         0.\n",
      "  0.         0.         0.         0.        ]\n",
      " [0.         0.3303087  0.         0.27184284 0.39784846 0.\n",
      "  0.         0.         0.         0.        ]\n",
      " [1.         0.         0.         0.         0.         0.\n",
      "  0.         0.         0.         0.        ]]\n",
      "[[0.         0.         1.         0.         0.         0.\n",
      "  0.         0.         0.         0.        ]\n",
      " [1.         0.         0.         0.         0.         0.\n",
      "  0.         0.         0.         0.        ]\n",
      " [0.         0.89964    0.         0.         0.         0.\n",
      "  0.04368    0.02336    0.01684    0.01648   ]\n",
      " [0.         0.         0.         0.         0.         0.\n",
      "  0.         0.38373016 0.28518519 0.33108466]\n",
      " [0.         0.         0.         0.         0.         0.\n",
      "  0.         0.         0.36407933 0.63592067]\n",
      " [0.         0.         0.         0.         0.         0.\n",
      "  0.         0.         0.         0.        ]\n",
      " [0.         1.         0.         0.         0.         0.\n",
      "  0.         0.         0.         0.        ]\n",
      " [0.         0.62003955 0.         0.37996045 0.         0.\n",
      "  0.         0.         0.         0.        ]\n",
      " [0.         0.3303087  0.         0.27184284 0.39784846 0.\n",
      "  0.         0.         0.         0.        ]\n",
      " [1.         0.         0.         0.         0.         0.\n",
      "  0.         0.         0.         0.        ]]\n"
     ]
    }
   ],
   "source": [
    "print(\"M\")\n",
    "print(\"shape\", M.shape)\n",
    "print(\"sum prob in rows\", np.sum(M,axis=1))\n",
    "print(M)\n",
    "print(M1)\n",
    "# row 8, 10, 12, 14. # counting starts from 0   not okay!!!!"
   ]
  },
  {
   "cell_type": "markdown",
   "metadata": {},
   "source": [
    "# Look at this Markov model"
   ]
  },
  {
   "cell_type": "code",
   "execution_count": 81,
   "metadata": {
    "metadata": {}
   },
   "outputs": [
    {
     "name": "stdout",
     "output_type": "stream",
     "text": [
      "[-4.63791266e-01+0.84052555j -4.63791266e-01-0.84052555j\n",
      "  1.00000000e+00+0.j          5.24799704e-01+0.j\n",
      " -5.44704323e-01+0.j         -2.70973643e-01+0.j\n",
      "  2.66880931e-01+0.j         -4.84201364e-02+0.j\n",
      " -1.20021078e-17+0.j          0.00000000e+00+0.j        ]\n",
      "[-4.63791266e-01+0.84052555j -4.63791266e-01-0.84052555j\n",
      "  1.00000000e+00+0.j         -5.44704323e-01+0.j\n",
      "  5.24799704e-01+0.j          2.66880931e-01+0.j\n",
      " -2.70973643e-01+0.j         -4.84201364e-02+0.j\n",
      "  9.01854126e-18+0.j          0.00000000e+00+0.j        ]\n"
     ]
    }
   ],
   "source": [
    "#import numpy.linalg\n",
    "vals, vecs = np.linalg.eig(M)\n",
    "print(vals)\n",
    "vals, vecs = np.linalg.eig(M.T)\n",
    "print(vals)"
   ]
  },
  {
   "cell_type": "code",
   "execution_count": 82,
   "metadata": {
    "metadata": {},
    "scrolled": true
   },
   "outputs": [
    {
     "name": "stdout",
     "output_type": "stream",
     "text": [
      "what if chain propagates\n",
      "A[0,:]\n",
      "[0.      0.89964 0.      0.      0.      0.      0.04368 0.02336 0.01684\n",
      " 0.01648]\n",
      "1.0\n",
      "[0.91612    0.06372652 0.         0.01345371 0.00669977 0.\n",
      " 0.         0.         0.         0.        ]\n",
      "1.0000000000000002\n",
      "[0.06372652 0.         0.91612    0.         0.         0.\n",
      " 0.         0.00516259 0.00627605 0.00871484]\n",
      "1.0\n",
      "[0.00871484 0.82945224 0.06372652 0.00366768 0.00249692 0.\n",
      " 0.04001612 0.02140056 0.01542746 0.01509766]\n",
      "1.0\n",
      "[0.8445499  0.11571207 0.00871484 0.01232521 0.00613779 0.\n",
      " 0.00278357 0.00289605 0.0030282  0.00385237]\n",
      "1.0\n",
      "[1.19564436e-01 1.34196973e-02 8.44549899e-01 1.92357867e-03\n",
      " 1.20476379e-03 0.00000000e+00 3.80664114e-04 4.93313432e-03\n",
      " 5.89636885e-03 8.12745770e-03]\n",
      "1.0\n",
      "[0.02154715 0.7651779  0.11956444 0.00347728 0.00234586 0.\n",
      " 0.03688994 0.02046682 0.01520943 0.01532118]\n",
      "1.0\n",
      "[0.78049908 0.16216893 0.02154715 0.01191116 0.00605105 0.\n",
      " 0.00522257 0.00412736 0.00385921 0.00461348]\n",
      "1.0\n",
      "[0.16678241 0.02844112 0.78049908 0.00261733 0.00153538 0.\n",
      " 0.00094118 0.00507401 0.0059628  0.00814668]\n",
      "1.0\n",
      "[0.0365878  0.70822502 0.16678241 0.00354887 0.00237229 0.\n",
      " 0.0340922  0.01923681 0.01444903 0.01470557]\n",
      "1.0000000000000002\n"
     ]
    }
   ],
   "source": [
    "print(\"what if chain propagates\")\n",
    "print(\"A[0,:]\")\n",
    "# check stationary behavior\n",
    "A = M\n",
    "for n in range(10):\n",
    "    A = np.dot(A,M)\n",
    "    #print(A)\n",
    "    print(A[0,:])\n",
    "    print(np.sum(A[0,:]))  # is 1 indeed"
   ]
  },
  {
   "cell_type": "markdown",
   "metadata": {},
   "source": [
    "# Pcross with MSM"
   ]
  },
  {
   "cell_type": "code",
   "execution_count": 83,
   "metadata": {
    "metadata": {}
   },
   "outputs": [],
   "source": [
    "def global_cross_prob_star(M, doprint=False):\n",
    "    # probability to arrive in -1 before 0\n",
    "    # given that you are at 0 now and that you are leaving 0\n",
    "    # = crossing probability from 0 to -1\n",
    "\n",
    "    NS = len(M)\n",
    "    assert NS>2\n",
    "\n",
    "    # take pieces of transition matrix\n",
    "    Mp = M[2:-1,2:-1]\n",
    "    a = np.identity(NS-3)-Mp    # 1-Mp\n",
    "    # a1 = np.linalg.inv(a)       # (1-Mp)^(-1)  --> bad practice!\n",
    "\n",
    "    # other pieces\n",
    "    D = M[2:-1, np.array([0,-1])]\n",
    "    E = M[np.array([0,-1]), 2:-1]\n",
    "    M11 = M[np.array([0,-1]),np.array([0,-1])]\n",
    "\n",
    "    # compute Z vector\n",
    "    z1 = np.array([[0],[1]])\n",
    "    # z2 = np.dot(a1,np.dot(D,z1))\n",
    "    z2 = np.linalg.solve(a, np.dot(D,z1))\n",
    "\n",
    "    # compute H vector\n",
    "    y1 = np.dot(M11,z1) + np.dot(E,z2)\n",
    "    y2 = np.dot(D,z1) + np.dot(Mp,z2)\n",
    "\n",
    "    if doprint:\n",
    "        print(\"Mp eigenvals\")\n",
    "        vals, vecs = np.linalg.eig(Mp)\n",
    "        print(vals)\n",
    "        print(\"1-Mp eigenvals\")\n",
    "        vals, vecs = np.linalg.eig(a)\n",
    "        print(vals)\n",
    "        #print(np.dot(a,a1)  # identity matrix indeed\n",
    "        print(\"other pieces M\")\n",
    "        print(D)\n",
    "        print(E)\n",
    "        print(M11)\n",
    "        print(\"vector z1,z2\")\n",
    "        print(z1)\n",
    "        print(z2)\n",
    "        print(\"vector y1,y2\")\n",
    "        print(y1)\n",
    "        print(y2)\n",
    "        print(\"check\", np.sum((y2-z2)**2))  # 0, so z2 and y2 indeed the same\n",
    "    return z1, z2, y1, y2"
   ]
  },
  {
   "cell_type": "code",
   "execution_count": 84,
   "metadata": {
    "metadata": {}
   },
   "outputs": [
    {
     "name": "stdout",
     "output_type": "stream",
     "text": [
      "Mp eigenvals\n",
      "[ 0.         -0.54505874 -0.26662183  0.54505874  0.26662183  0.\n",
      "  0.        ]\n",
      "1-Mp eigenvals\n",
      "[1.         0.45494126 0.73337817 1.54505874 1.26662183 1.\n",
      " 1.        ]\n",
      "other pieces M\n",
      "[[0.         0.01648   ]\n",
      " [0.         0.33108466]\n",
      " [0.         0.63592067]\n",
      " [0.         0.        ]\n",
      " [0.         0.        ]\n",
      " [0.         0.        ]\n",
      " [0.         0.        ]]\n",
      "[[1. 0. 0. 0. 0. 0. 0.]\n",
      " [0. 0. 0. 0. 0. 0. 0.]]\n",
      "[0. 0.]\n",
      "vector z1,z2\n",
      "[[0]\n",
      " [1]]\n",
      "[[ 0.02920453]\n",
      " [ 0.54412015]\n",
      " [ 0.80660964]\n",
      " [-0.        ]\n",
      " [ 0.        ]\n",
      " [ 0.20674414]\n",
      " [ 0.46882357]]\n",
      "vector y1,y2\n",
      "[[0.02920453]\n",
      " [0.        ]]\n",
      "[[0.02920453]\n",
      " [0.54412015]\n",
      " [0.80660964]\n",
      " [0.        ]\n",
      " [0.        ]\n",
      " [0.20674414]\n",
      " [0.46882357]]\n",
      "check 1.6189848595005201e-32\n",
      "Z\n",
      "state 0-      0\n",
      "state B       1\n",
      "state 0+- LML 0.029204531985093662\n",
      "state 0+- LMR 0.5441201536559118\n",
      "state 0+- RML 0.806609641675825\n",
      "state 1+- LML -0.0\n",
      "state 1+- LMR 0.0\n",
      "state 1+- RML 0.20674413748666284\n",
      "state 1+- RMR 0.46882357086729304\n",
      "Y\n",
      "state 0-      0.029204531985093662\n",
      "state B       0.0\n",
      "state 0+- LML 0.02920453198509366\n",
      "state 0+- LMR 0.5441201536559117\n",
      "state 0+- RML 0.806609641675825\n",
      "state 1+- LML 0.0\n",
      "state 1+- LMR 0.0\n",
      "state 1+- RML 0.20674413748666287\n",
      "state 1+- RMR 0.4688235708672931\n",
      "global crossing prob [0.02920453]\n"
     ]
    }
   ],
   "source": [
    "# global crossing prob\n",
    "z1, z2, y1, y2 = global_cross_prob_star(M, True)\n",
    "print(\"Z\")\n",
    "print_vector(z1, labels1)\n",
    "print_vector(z2, labels2)\n",
    "print(\"Y\")\n",
    "print_vector(y1, labels1)\n",
    "print_vector(y2, labels2)\n",
    "print(\"global crossing prob\", y1[0])"
   ]
  },
  {
   "cell_type": "markdown",
   "metadata": {},
   "source": [
    "# Collecting times"
   ]
  },
  {
   "cell_type": "code",
   "execution_count": 282,
   "metadata": {
    "metadata": {}
   },
   "outputs": [],
   "source": [
    "#TODO I need data too?"
   ]
  },
  {
   "cell_type": "code",
   "execution_count": 283,
   "metadata": {},
   "outputs": [],
   "source": [
    "def collect_tau(pathensembles, data):\n",
    "    # pathensembles -- list of pathensemble instances\n",
    "    \n",
    "    print(\"Collect tau\")\n",
    "    \n",
    "    # average path lengths\n",
    "    taumm = np.zeros(len(pathensembles))\n",
    "    taump = np.zeros(len(pathensembles))\n",
    "    taupm = np.zeros(len(pathensembles))\n",
    "    taupp = np.zeros(len(pathensembles))\n",
    "    \n",
    "    # for [1+-] and higher (i>=2)\n",
    "    for i in range(2,len(pathensembles)):\n",
    "        print(\"ensemble\", i, pathensembles[i].name)\n",
    "        taumm[i] = pathensembles[i].tauavg['LML']-2\n",
    "        taump[i] = pathensembles[i].tauavg['LMR']-2\n",
    "        taupm[i] = pathensembles[i].tauavg['RML']-2\n",
    "        taupp[i] = pathensembles[i].tauavg['RMR']-2\n",
    "\n",
    "    # for [0-] (i=0)\n",
    "    print(\"ensemble\", 0, pathensembles[0].name)\n",
    "    if pe.has_zero_minus_one:\n",
    "        # TODO pieces missing\n",
    "        taumm[0] = pathensembles[0].tauavg['LML']-2\n",
    "        taump[0] = pathensembles[0].tauavg['LMR']-2\n",
    "        taupm[0] = pathensembles[0].tauavg['RML']-2\n",
    "        taupp[0] = pathensembles[0].tauavg['RMR']-2\n",
    "    else:\n",
    "        taupp[0] = pathensembles[0].tauavg['RMR']-2\n",
    "\n",
    "    # for [0+-] (i=1)\n",
    "    print(\"ensemble\", 1, pathensembles[1].name)\n",
    "    taumm[1] = data[1][\"pathlengths\"][\"LML\"][\"mean\"] - 2\n",
    "    taump[1] = data[1][\"pathlengths\"][\"LMR\"][\"mean\"] - 2\n",
    "    taupm[1] = data[1][\"pathlengths\"][\"RML\"][\"mean\"] - 2\n",
    "    #taupp[1] = data[1][\"pathlengths\"][\"RMR\"][\"mean\"] - 2\n",
    "\n",
    "    return taumm, taump, taupm, taupp\n",
    "\n",
    "# this is the same:\n",
    "# 1) after:\n",
    "#   data[2][\"pathlengths\"] = pathlength_distr(upe)  # use correct upe!\n",
    "#   This gives the whole distrib, mean, std, etc\n",
    "#   print(data[2][\"pathlengths\"][\"RMR\"][\"mean\"])\n",
    "# 2) after:\n",
    "#   set_tau_distrib(pathensembles[2])\n",
    "#   print(pathensembles[2].tauavg['RMR'])\n",
    "\n",
    "# TODO for [0-]\n",
    "# likely not okay yet, what about L*L etc??????\n",
    "# There are paths missing TODO!!!!!!!! when lambda-1"
   ]
  },
  {
   "cell_type": "code",
   "execution_count": 284,
   "metadata": {
    "scrolled": true
   },
   "outputs": [],
   "source": [
    "# TODO fix +-1 issues!!!!!!\n",
    "# TODO tau1 is not fool proof if you have too many phase points!!\n",
    "\n",
    "def collect_tau1(pathensembles, data):\n",
    "    # average path lengths, but only the part before the 1st crossing\n",
    "    #---------------------------\n",
    "    print(\"Collect tau1\")\n",
    "    taumm1 = np.zeros(len(pathensembles))\n",
    "    taump1 = np.zeros(len(pathensembles))\n",
    "    taupm1 = np.zeros(len(pathensembles))\n",
    "    taupp1 = np.zeros(len(pathensembles))\n",
    "    \n",
    "    # for [1+-] and higher (i>=2)\n",
    "    for i in range(2,len(pathensembles)):\n",
    "        taumm1[i] = pathensembles[i].tau1avg['LML'] - 1\n",
    "        taump1[i] = pathensembles[i].tau1avg['LMR'] - 1\n",
    "        taupm1[i] = pathensembles[i].tau1avg['RML'] - 1\n",
    "        taupp1[i] = pathensembles[i].tau1avg['RMR'] - 1\n",
    "    # for [0-] (i=0) -> just 0\n",
    "    # for [0+-] (i=1) LML -> just 0\n",
    "    # for [0+-] (i=1) LMR -> just 0\n",
    "    # for [0+-] (i=1) RML\n",
    "    taupm1[1] = data[1][\"pathlengths\"][\"RML\"][\"mean\"] - 2\n",
    "    \n",
    "    return taumm1, taump1, taupm1, taupp1\n",
    "\n",
    "def collect_tau2(pathensembles, data):\n",
    "    # average path lengths, but only the part after the last crossing\n",
    "    #---------------------------\n",
    "    print(\"Collect tau2\")\n",
    "    taumm2 = np.zeros(len(pathensembles))\n",
    "    taump2 = np.zeros(len(pathensembles))\n",
    "    taupm2 = np.zeros(len(pathensembles))\n",
    "    taupp2 = np.zeros(len(pathensembles))\n",
    "    \n",
    "    # for [1+-] and higher (i>=2)\n",
    "    for i in range(2,len(pathensembles)):\n",
    "        taumm2[i] = pathensembles[i].tau2avg['LML'] - 1\n",
    "        taump2[i] = pathensembles[i].tau2avg['LMR'] - 1\n",
    "        taupm2[i] = pathensembles[i].tau2avg['RML'] - 1\n",
    "        taupp2[i] = pathensembles[i].tau2avg['RMR'] - 1\n",
    "    # for [0-] (i=0) -> just 0\n",
    "    # for [0+-] (i=1) LML -> just 0\n",
    "    # for [0+-] (i=1) LMR\n",
    "    taump2[1] = data[1][\"pathlengths\"][\"LMR\"][\"mean\"] - 2\n",
    "    # for [0+-] (i=1) RML -> just 0\n",
    "    \n",
    "    return taumm2, taump2, taupm2, taupp2\n",
    "\n",
    "def collect_taum(pathensembles, data):\n",
    "    # average path lengths, but only the part between first/last crossing\n",
    "    #---------------------------\n",
    "    print(\"Collect taum\")\n",
    "    taumm_m = np.zeros(len(pathensembles))\n",
    "    taump_m = np.zeros(len(pathensembles))\n",
    "    taupm_m = np.zeros(len(pathensembles))\n",
    "    taupp_m = np.zeros(len(pathensembles))\n",
    "    \n",
    "    # for [1+-] and higher (i>=2)\n",
    "    for i in range(2,len(pathensembles)):\n",
    "        #print(\"ensemble\", i, pathensembles[i].name)\n",
    "        taumm_m[i] = pathensembles[i].tauavg['LML'] \\\n",
    "                   - pathensembles[i].tau1avg['LML'] \\\n",
    "                   - pathensembles[i].tau2avg['LML']\n",
    "        taump_m[i] = pathensembles[i].tauavg['LMR'] \\\n",
    "                   - pathensembles[i].tau1avg['LMR'] \\\n",
    "                   - pathensembles[i].tau2avg['LMR']\n",
    "        taupm_m[i] = pathensembles[i].tauavg['RML'] \\\n",
    "                   - pathensembles[i].tau1avg['RML'] \\\n",
    "                   - pathensembles[i].tau2avg['RML']\n",
    "        taupp_m[i] = pathensembles[i].tauavg['RMR'] \\\n",
    "                   - pathensembles[i].tau1avg['RMR'] \\\n",
    "                   - pathensembles[i].tau2avg['RMR']\n",
    "\n",
    "    # for [0-] (i=0)\n",
    "    if pe.has_zero_minus_one:\n",
    "        # TODO there are more paths!!!\n",
    "        taumm_m[0] = pathensembles[0].tauavg['LML']-2\n",
    "        taump_m[0] = pathensembles[0].tauavg['LMR']-2\n",
    "        taupm_m[0] = pathensembles[0].tauavg['RML']-2\n",
    "        taupp_m[0] = pathensembles[0].tauavg['RMR']-2\n",
    "    else:\n",
    "        taupp_m[0] = pathensembles[0].tauavg['RMR']-2\n",
    "\n",
    "    # for [0+-] (i=1) LML\n",
    "    taumm_m[1] = data[1][\"pathlengths\"][\"LML\"][\"mean\"] - 2\n",
    "    # for [0+-] (i=1) LMR -> just 0\n",
    "    # for [0+-] (i=1) RML -> just 0\n",
    "\n",
    "    return taumm_m, taump_m, taupm_m, taupp_m\n"
   ]
  },
  {
   "cell_type": "code",
   "execution_count": 285,
   "metadata": {},
   "outputs": [],
   "source": [
    "def print_all_tau(pathensembles, taumm, taump, taupm, taupp):\n",
    "    # print all tau\n",
    "    print(f\"                  mm            mp            pm            pp\")\n",
    "    for i in range(len(pathensembles)):\n",
    "        print(f\"{i} {pathensembles[i].name[-3:]}  {taumm[i]:13.1f} {taump[i]:13.1f} {taupm[i]:13.1f} {taupp[i]:13.1f}\")"
   ]
  },
  {
   "cell_type": "code",
   "execution_count": 286,
   "metadata": {},
   "outputs": [
    {
     "name": "stdout",
     "output_type": "stream",
     "text": [
      "Collect tau\n",
      "ensemble 2 /mnt/0bf0c339-34bb-4500-a5fb-f3c2a863de29/DATA/PyRETIS3/toytis/sim_istar0br2/002\n"
     ]
    },
    {
     "ename": "AttributeError",
     "evalue": "'PathEnsemble' object has no attribute 'tauavg'",
     "output_type": "error",
     "traceback": [
      "\u001b[0;31m---------------------------------------------------------------------------\u001b[0m",
      "\u001b[0;31mAttributeError\u001b[0m                            Traceback (most recent call last)",
      "Cell \u001b[0;32mIn[286], line 1\u001b[0m\n\u001b[0;32m----> 1\u001b[0m taumm, taump, taupm, taupp \u001b[38;5;241m=\u001b[39m \u001b[43mcollect_tau\u001b[49m\u001b[43m(\u001b[49m\u001b[43mpathensembles\u001b[49m\u001b[43m,\u001b[49m\u001b[43m \u001b[49m\u001b[43mdata\u001b[49m\u001b[43m)\u001b[49m\n\u001b[1;32m      2\u001b[0m taumm1, taump1, taupm1, taupp1 \u001b[38;5;241m=\u001b[39m collect_tau1(pathensembles, data)\n\u001b[1;32m      3\u001b[0m taumm2, taump2, taupm2, taupp2 \u001b[38;5;241m=\u001b[39m collect_tau2(pathensembles, data)\n",
      "Cell \u001b[0;32mIn[283], line 15\u001b[0m, in \u001b[0;36mcollect_tau\u001b[0;34m(pathensembles, data)\u001b[0m\n\u001b[1;32m     13\u001b[0m \u001b[38;5;28;01mfor\u001b[39;00m i \u001b[38;5;129;01min\u001b[39;00m \u001b[38;5;28mrange\u001b[39m(\u001b[38;5;241m2\u001b[39m,\u001b[38;5;28mlen\u001b[39m(pathensembles)):\n\u001b[1;32m     14\u001b[0m     \u001b[38;5;28mprint\u001b[39m(\u001b[38;5;124m\"\u001b[39m\u001b[38;5;124mensemble\u001b[39m\u001b[38;5;124m\"\u001b[39m, i, pathensembles[i]\u001b[38;5;241m.\u001b[39mname)\n\u001b[0;32m---> 15\u001b[0m     taumm[i] \u001b[38;5;241m=\u001b[39m \u001b[43mpathensembles\u001b[49m\u001b[43m[\u001b[49m\u001b[43mi\u001b[49m\u001b[43m]\u001b[49m\u001b[38;5;241;43m.\u001b[39;49m\u001b[43mtauavg\u001b[49m[\u001b[38;5;124m'\u001b[39m\u001b[38;5;124mLML\u001b[39m\u001b[38;5;124m'\u001b[39m]\u001b[38;5;241m-\u001b[39m\u001b[38;5;241m2\u001b[39m\n\u001b[1;32m     16\u001b[0m     taump[i] \u001b[38;5;241m=\u001b[39m pathensembles[i]\u001b[38;5;241m.\u001b[39mtauavg[\u001b[38;5;124m'\u001b[39m\u001b[38;5;124mLMR\u001b[39m\u001b[38;5;124m'\u001b[39m]\u001b[38;5;241m-\u001b[39m\u001b[38;5;241m2\u001b[39m\n\u001b[1;32m     17\u001b[0m     taupm[i] \u001b[38;5;241m=\u001b[39m pathensembles[i]\u001b[38;5;241m.\u001b[39mtauavg[\u001b[38;5;124m'\u001b[39m\u001b[38;5;124mRML\u001b[39m\u001b[38;5;124m'\u001b[39m]\u001b[38;5;241m-\u001b[39m\u001b[38;5;241m2\u001b[39m\n",
      "\u001b[0;31mAttributeError\u001b[0m: 'PathEnsemble' object has no attribute 'tauavg'"
     ]
    }
   ],
   "source": [
    "taumm, taump, taupm, taupp = collect_tau(pathensembles, data)\n",
    "taumm1, taump1, taupm1, taupp1 = collect_tau1(pathensembles, data)\n",
    "taumm2, taump2, taupm2, taupp2 = collect_tau2(pathensembles, data)\n",
    "taumm_m, taump_m, taupm_m, taupp_m = collect_taum(pathensembles, data)"
   ]
  },
  {
   "cell_type": "code",
   "execution_count": null,
   "metadata": {},
   "outputs": [
    {
     "name": "stdout",
     "output_type": "stream",
     "text": [
      "tau\n",
      "                  mm            mp            pm            pp\n",
      "0 000            0.0           0.0           0.0         122.6\n",
      "1 001           41.0         132.9         129.9           0.0\n",
      "2 002          558.3         690.8         697.8         849.9\n",
      "3 003          857.0         578.4         574.5         468.0\n",
      "4 004          220.2         169.6         170.6         196.5\n",
      "5 005          174.1         139.2         137.9         163.1\n",
      "6 006          144.0         114.5         112.1         141.0\n",
      "\n",
      "tau1\n",
      "                  mm            mp            pm            pp\n",
      "0 000            0.0           0.0           0.0           0.0\n",
      "1 001            0.0           0.0         129.9           0.0\n",
      "2 002          135.1         133.9         330.5         305.8\n",
      "3 003          338.2         321.8          54.6          55.0\n",
      "4 004           54.1          53.4          55.7          54.6\n",
      "5 005           55.7          54.7          41.4          42.9\n",
      "6 006           43.1          41.4          34.5          36.8\n",
      "\n",
      "tau_m\n",
      "                  mm            mp            pm            pp\n",
      "0 000            0.0           0.0           0.0         122.6\n",
      "1 001           41.0           0.0           0.0           0.0\n",
      "2 002          288.4         226.5         229.4         234.1\n",
      "3 003          185.5         201.9         197.2         358.4\n",
      "4 004          112.0          61.4          61.1          86.6\n",
      "5 005           63.1          42.2          41.9          76.9\n",
      "6 006           57.6          39.0          36.9          67.8\n",
      "\n",
      "tau2\n",
      "                  mm            mp            pm            pp\n",
      "0 000            0.0           0.0           0.0           0.0\n",
      "1 001            0.0         132.9           0.0           0.0\n",
      "2 002          134.7         330.4         137.8         310.0\n",
      "3 003          333.3          54.6         322.8          54.5\n",
      "4 004           54.2          54.9          53.9          55.3\n",
      "5 005           55.3          42.2          54.5          43.3\n",
      "6 006           43.3          34.2          40.8          36.5\n"
     ]
    }
   ],
   "source": [
    "print(\"tau\")\n",
    "print_all_tau(pathensembles, taumm, taump, taupm, taupp)\n",
    "print(\"\\ntau1\")\n",
    "print_all_tau(pathensembles, taumm1, taump1, taupm1, taupp1)\n",
    "print(\"\\ntau_m\")\n",
    "print_all_tau(pathensembles, taumm_m, taump_m, taupm_m, taupp_m)\n",
    "print(\"\\ntau2\")\n",
    "print_all_tau(pathensembles, taumm2, taump2, taupm2, taupp2)"
   ]
  },
  {
   "cell_type": "code",
   "execution_count": null,
   "metadata": {},
   "outputs": [],
   "source": [
    "def construct_tau_vector(N, NS, taumm, taump, taupm, taupp):\n",
    "    assert N>=4\n",
    "    assert NS==4*N-5\n",
    "    assert len(taumm) == N\n",
    "    assert len(taump) == N\n",
    "    assert len(taupm) == N\n",
    "    assert len(taupp) == N\n",
    "    # unravel the values into one vector\n",
    "    tau = np.zeros(NS)\n",
    "    # [0-]\n",
    "    tau[0] = taupp[0]\n",
    "    # [0+-]\n",
    "    tau[1] = taumm[1]\n",
    "    tau[2] = taump[1]\n",
    "    tau[3] = taupm[1]\n",
    "    # [1+-] etc\n",
    "    for i in range(1,N-2):\n",
    "        tau[4*i]   = taumm[i+1]\n",
    "        tau[4*i+1] = taump[i+1]\n",
    "        tau[4*i+2] = taupm[i+1]\n",
    "        tau[4*i+3] = taupp[i+1]\n",
    "    # [(N-2)^(-1)]\n",
    "    tau[-3] = taumm[-1]\n",
    "    tau[-2] = taump[-1]\n",
    "    # B\n",
    "    tau[-1] = 0.   # whatever\n",
    "    return tau"
   ]
  },
  {
   "cell_type": "code",
   "execution_count": 287,
   "metadata": {
    "scrolled": true
   },
   "outputs": [
    {
     "ename": "NameError",
     "evalue": "name 'construct_tau_vector' is not defined",
     "output_type": "error",
     "traceback": [
      "\u001b[0;31m---------------------------------------------------------------------------\u001b[0m",
      "\u001b[0;31mNameError\u001b[0m                                 Traceback (most recent call last)",
      "Cell \u001b[0;32mIn[287], line 1\u001b[0m\n\u001b[0;32m----> 1\u001b[0m tau  \u001b[38;5;241m=\u001b[39m \u001b[43mconstruct_tau_vector\u001b[49m(N, NS, taumm, taump, taupm, taupp)\n\u001b[1;32m      2\u001b[0m tau1 \u001b[38;5;241m=\u001b[39m construct_tau_vector(N, NS, taumm1, taump1, taupm1, taupp1)\n\u001b[1;32m      3\u001b[0m taum \u001b[38;5;241m=\u001b[39m construct_tau_vector(N, NS, taumm_m, taump_m, taupm_m, taupp_m)\n",
      "\u001b[0;31mNameError\u001b[0m: name 'construct_tau_vector' is not defined"
     ]
    }
   ],
   "source": [
    "tau  = construct_tau_vector(N, NS, taumm, taump, taupm, taupp)\n",
    "tau1 = construct_tau_vector(N, NS, taumm1, taump1, taupm1, taupp1)\n",
    "taum = construct_tau_vector(N, NS, taumm_m, taump_m, taupm_m, taupp_m)\n",
    "tau2 = construct_tau_vector(N, NS, taumm2, taump2, taupm2, taupp2)\n",
    "tau_m = tau-tau1-tau2  # yes, this is the same thing\n",
    "\n",
    "print(\"tau\")\n",
    "print(tau)\n",
    "print(\"\\n\")\n",
    "print(\"tau1\")\n",
    "print(tau1)\n",
    "print(\"taum\")\n",
    "print(taum)\n",
    "print(\"tau2\")\n",
    "print(tau2)\n",
    "\n",
    "print(\"\\n\")\n",
    "print(\"tau = tau1+taum+tau2 => difference is\", np.sum((tau-tau1-taum-tau2)**2))"
   ]
  },
  {
   "cell_type": "markdown",
   "metadata": {},
   "source": [
    "# Compute tau for [0+]"
   ]
  },
  {
   "cell_type": "code",
   "execution_count": 288,
   "metadata": {},
   "outputs": [
    {
     "ename": "NameError",
     "evalue": "name 'vector_G' is not defined",
     "output_type": "error",
     "traceback": [
      "\u001b[0;31m---------------------------------------------------------------------------\u001b[0m",
      "\u001b[0;31mNameError\u001b[0m                                 Traceback (most recent call last)",
      "Cell \u001b[0;32mIn[288], line 1\u001b[0m\n\u001b[0;32m----> 1\u001b[0m g1, g2, h1, h2 \u001b[38;5;241m=\u001b[39m \u001b[43mvector_G\u001b[49m(M, tau1, tau_m, tau2) \u001b[38;5;66;03m#, doprint=True)\u001b[39;00m\n\u001b[1;32m      2\u001b[0m \u001b[38;5;28mprint\u001b[39m(\u001b[38;5;124m\"\u001b[39m\u001b[38;5;124mG\u001b[39m\u001b[38;5;124m\"\u001b[39m)\n\u001b[1;32m      3\u001b[0m print_vector(g1, labels1)\n",
      "\u001b[0;31mNameError\u001b[0m: name 'vector_G' is not defined"
     ]
    }
   ],
   "source": [
    "g1, g2, h1, h2 = vector_G(M, tau1, tau_m, tau2) #, doprint=True)\n",
    "print(\"G\")\n",
    "print_vector(g1, labels1)\n",
    "print_vector(g2, labels2)\n",
    "print(\"H\")\n",
    "print_vector(h1, labels1)\n",
    "print_vector(h2, labels2)\n",
    "print(\"interesting\")\n",
    "print(h1[0])"
   ]
  },
  {
   "cell_type": "code",
   "execution_count": null,
   "metadata": {
    "scrolled": true
   },
   "outputs": [
    {
     "name": "stdout",
     "output_type": "stream",
     "text": [
      "[93.16899943]\n"
     ]
    }
   ],
   "source": [
    "print(h1[0])"
   ]
  },
  {
   "cell_type": "markdown",
   "metadata": {},
   "source": [
    "# Flux"
   ]
  },
  {
   "cell_type": "code",
   "execution_count": 115,
   "metadata": {
    "scrolled": false
   },
   "outputs": [
    {
     "name": "stdout",
     "output_type": "stream",
     "text": [
      "[0.46346194] 1/time\n"
     ]
    }
   ],
   "source": [
    "flux = 1/(tau[0]+h1[0])\n",
    "# dt = 0.0002\n",
    "# dt = 0.00002\n",
    "dt = 0.01\n",
    "flux\n",
    "print(flux/dt, \"1/time\")"
   ]
  },
  {
   "cell_type": "code",
   "execution_count": null,
   "metadata": {},
   "outputs": [],
   "source": []
  }
 ],
 "metadata": {
  "kernelspec": {
   "display_name": "Python 3 (ipykernel)",
   "language": "python",
   "name": "python3"
  },
  "language_info": {
   "codemirror_mode": {
    "name": "ipython",
    "version": 3
   },
   "file_extension": ".py",
   "mimetype": "text/x-python",
   "name": "python",
   "nbconvert_exporter": "python",
   "pygments_lexer": "ipython3",
   "version": "3.12.0"
  }
 },
 "nbformat": 4,
 "nbformat_minor": 4
}
