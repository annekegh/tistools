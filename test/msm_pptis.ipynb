{
 "cells": [
  {
   "cell_type": "code",
   "execution_count": 1,
   "metadata": {},
   "outputs": [],
   "source": [
    "import matplotlib.pyplot as plt\n",
    "%matplotlib qt\n",
    "from tistools import *\n",
    "from pprint import pprint"
   ]
  },
  {
   "cell_type": "code",
   "execution_count": 2,
   "metadata": {},
   "outputs": [
    {
     "name": "stdout",
     "output_type": "stream",
     "text": [
      "################################################################################\n",
      "./000\n",
      "pathensemble info: \n",
      "{'cyclenumbers': array([     0,      1,      2, ...,  99998,  99999, 100000]),\n",
      " 'flags': array(['ACC', 'ACC', 'ACC', ..., 'FTL', 'BTL', 'FTL'], dtype='<U3'),\n",
      " 'generation': array(['ld', 'sh', 'sh', ..., 'sh', 'sh', 'sh'], dtype='<U2'),\n",
      " 'has_zero_minus_one': False,\n",
      " 'in_zero_minus': False,\n",
      " 'in_zero_plus': False,\n",
      " 'interfaces': [[0.1, 0.15000000000000002, 0.2],\n",
      "                ['l_[-1]', '( l_[-1] + l_[0] ) / 2', 'l_[0]']],\n",
      " 'lambmaxs': array([0.18995829, 0.20115691, 0.20129873, ..., 0.16037035, 0.18323515,\n",
      "       0.17180941]),\n",
      " 'lambmins': array([0.08995829, 0.17135828, 0.0973619 , ..., 0.09888888, 0.12286248,\n",
      "       0.09614375]),\n",
      " 'lengths': array([  4,  69, 104, ...,  81,  62,  67]),\n",
      " 'lmrs': array(['LM*', 'R*R', 'LMR', ..., 'LM*', '*M*', 'LM*'], dtype='<U3'),\n",
      " 'name': '000',\n",
      " 'ncycle': 100001,\n",
      " 'newpathnumbers': array([    0,     1,     2, ..., 44278, 44278, 44278]),\n",
      " 'orders': None,\n",
      " 'pathnumbers': array([    1,     2,     3, ..., 51461, 51461, 51461]),\n",
      " 'set_in_zero_minus_one': True,\n",
      " 'set_zero_minus_one': True,\n",
      " 'shootlinks': array([None, None, None, ..., None, None, None], dtype=object),\n",
      " 'totaltime': 5617831,\n",
      " 'weights': array([1, 1, 1, ..., 0, 0, 0])}\n",
      "Setting orders for path ensemble 000\n",
      "Loaded orders from file, NOT CHECKING FOR CONSISTENCY.\n",
      "################################################################################\n",
      "./001\n",
      "pathensemble info: \n",
      "{'cyclenumbers': array([     0,      1,      2, ...,  99998,  99999, 100000]),\n",
      " 'flags': array(['ACC', 'ACC', 'ACC', ..., 'ACC', 'BTL', 'BTL'], dtype='<U3'),\n",
      " 'generation': array(['ld', 'sh', 'sh', ..., 'sh', 'sh', 'sh'], dtype='<U2'),\n",
      " 'has_zero_minus_one': False,\n",
      " 'in_zero_minus': False,\n",
      " 'in_zero_plus': False,\n",
      " 'interfaces': [[0.2, 0.2, 0.325], ['l_[0]', 'l_[0]', 'l_[1]']],\n",
      " 'lambmaxs': array([0.31080894, 0.26015789, 0.32732854, ..., 0.20958158, 0.24622974,\n",
      "       0.23802609]),\n",
      " 'lambmins': array([0.18995829, 0.19733626, 0.196972  , ..., 0.19872157, 0.2084224 ,\n",
      "       0.20341397]),\n",
      " 'lengths': array([  5,  90, 208, ...,  15,  19,  22]),\n",
      " 'lmrs': array(['LM*', 'LML', 'LMR', ..., 'LML', '***', '***'], dtype='<U3'),\n",
      " 'name': '001',\n",
      " 'ncycle': 100001,\n",
      " 'newpathnumbers': array([    0,     1,     2, ..., 42574, 42574, 42574]),\n",
      " 'orders': None,\n",
      " 'pathnumbers': array([    1,     2,     3, ..., 45148, 45148, 45148]),\n",
      " 'set_in_zero_plus': True,\n",
      " 'shootlinks': array([None, None, None, ..., None, None, None], dtype=object),\n",
      " 'totaltime': 9018438,\n",
      " 'weights': array([1, 1, 1, ..., 3, 0, 0])}\n",
      "Setting orders for path ensemble 001\n",
      "Loaded orders from file, NOT CHECKING FOR CONSISTENCY.\n",
      "################################################################################\n",
      "./002\n",
      "pathensemble info: \n",
      "{'cyclenumbers': array([     0,      1,      2, ...,  99998,  99999, 100000]),\n",
      " 'flags': array(['ACC', 'ACC', 'FTL', ..., 'ACC', 'BTL', 'ACC'], dtype='<U3'),\n",
      " 'generation': array(['ld', 'sh', 'sh', ..., 'sh', 'sh', 'sh'], dtype='<U2'),\n",
      " 'has_zero_minus_one': False,\n",
      " 'in_zero_minus': False,\n",
      " 'in_zero_plus': False,\n",
      " 'interfaces': [[0.2, 0.325, 0.55], ['l_[0]', 'l_[1]', 'l_[2]']],\n",
      " 'lambmaxs': array([0.51980894, 0.44095421, 0.44600155, ..., 0.3795687 , 0.35725121,\n",
      "       0.341873  ]),\n",
      " 'lambmins': array([0.18995829, 0.19736609, 0.19824918, ..., 0.19799253, 0.23799667,\n",
      "       0.19931371]),\n",
      " 'lengths': array([  9, 741, 911, ..., 338, 351, 276]),\n",
      " 'lmrs': array(['LM*', 'LML', 'LM*', ..., 'LML', '*M*', 'LML'], dtype='<U3'),\n",
      " 'name': '002',\n",
      " 'ncycle': 100001,\n",
      " 'newpathnumbers': array([    0,     1,     1, ..., 44217, 44217, 44218]),\n",
      " 'orders': None,\n",
      " 'pathnumbers': array([    1,     2,     2, ..., 44752, 44752, 44753]),\n",
      " 'shootlinks': array([None, None, None, ..., None, None, None], dtype=object),\n",
      " 'totaltime': 53248884,\n",
      " 'weights': array([1, 2, 0, ..., 2, 0, 1])}\n",
      "Setting orders for path ensemble 002\n",
      "Loaded orders from file, NOT CHECKING FOR CONSISTENCY.\n",
      "Calculating first hitting lengths to middle interface\n",
      "Done.\n",
      "Calculating path lengths.\n",
      "Done.\n",
      "################################################################################\n",
      "./003\n",
      "pathensemble info: \n",
      "{'cyclenumbers': array([     0,      1,      2, ...,  99998,  99999, 100000]),\n",
      " 'flags': array(['ACC', 'NCR', 'NCR', ..., 'ACC', 'ACC', 'ACC'], dtype='<U3'),\n",
      " 'generation': array(['ld', 'sh', 'sh', ..., 'sh', 'sh', 'sh'], dtype='<U2'),\n",
      " 'has_zero_minus_one': False,\n",
      " 'in_zero_minus': False,\n",
      " 'in_zero_plus': False,\n",
      " 'interfaces': [[0.325, 0.55, 0.69], ['l_[1]', 'l_[2]', 'l_[3]']],\n",
      " 'lambmaxs': array([0.60980893, 0.53938025, 0.49635931, ..., 0.69117321, 0.69230302,\n",
      "       0.69217107]),\n",
      " 'lambmins': array([0.31080894, 0.32364773, 0.31848935, ..., 0.47700023, 0.41981191,\n",
      "       0.43524219]),\n",
      " 'lengths': array([   7,  800,  788, ..., 2169, 1768,  771]),\n",
      " 'lmrs': array(['LM*', 'L*L', 'L*L', ..., 'RMR', 'RMR', 'RMR'], dtype='<U3'),\n",
      " 'name': '003',\n",
      " 'ncycle': 100001,\n",
      " 'newpathnumbers': array([    0,     0,     0, ..., 41926, 41927, 41928]),\n",
      " 'orders': None,\n",
      " 'pathnumbers': array([    1,     1,     1, ..., 42854, 42855, 42856]),\n",
      " 'shootlinks': array([None, None, None, ..., None, None, None], dtype=object),\n",
      " 'totaltime': 98514701,\n",
      " 'weights': array([3, 0, 0, ..., 1, 1, 1])}\n",
      "Setting orders for path ensemble 003\n",
      "Loaded orders from file, NOT CHECKING FOR CONSISTENCY.\n",
      "Calculating first hitting lengths to middle interface\n",
      "Done.\n",
      "Calculating path lengths.\n",
      "Done.\n",
      "################################################################################\n",
      "./004\n",
      "pathensemble info: \n",
      "{'cyclenumbers': array([     0,      1,      2, ...,  99998,  99999, 100000]),\n",
      " 'flags': array(['ACC', 'NCR', 'ACC', ..., 'NCR', 'NCR', 'ACC'], dtype='<U3'),\n",
      " 'generation': array(['ld', 'sh', 'sh', ..., 'sh', 'sh', 'sh'], dtype='<U2'),\n",
      " 'has_zero_minus_one': False,\n",
      " 'in_zero_minus': False,\n",
      " 'in_zero_plus': False,\n",
      " 'interfaces': [[0.55, 0.69, 0.75], ['l_[2]', 'l_[3]', 'l_[4]']],\n",
      " 'lambmaxs': array([0.70980893, 0.75064684, 0.71142491, ..., 0.75247327, 0.68870715,\n",
      "       0.75036272]),\n",
      " 'lambmins': array([0.51980894, 0.70516924, 0.5440733 , ..., 0.69461492, 0.54929646,\n",
      "       0.54832797]),\n",
      " 'lengths': array([  4,  69, 591, ..., 116, 269, 320]),\n",
      " 'lmrs': array(['LM*', 'R*R', 'LML', ..., 'R*R', 'L*L', 'RML'], dtype='<U3'),\n",
      " 'name': '004',\n",
      " 'ncycle': 100001,\n",
      " 'newpathnumbers': array([    0,     0,     1, ..., 36855, 36855, 36856]),\n",
      " 'orders': None,\n",
      " 'pathnumbers': array([    1,     1,     2, ..., 39134, 39134, 39135]),\n",
      " 'shootlinks': array([None, None, None, ..., None, None, None], dtype=object),\n",
      " 'totaltime': 33498414,\n",
      " 'weights': array([2, 0, 5, ..., 0, 0, 1])}\n",
      "Setting orders for path ensemble 004\n",
      "Loaded orders from file, NOT CHECKING FOR CONSISTENCY.\n",
      "Calculating first hitting lengths to middle interface\n",
      "Done.\n",
      "Calculating path lengths.\n",
      "Done.\n",
      "################################################################################\n",
      "./005\n",
      "pathensemble info: \n",
      "{'cyclenumbers': array([     0,      1,      2, ...,  99998,  99999, 100000]),\n",
      " 'flags': array(['ACC', 'ACC', 'ACC', ..., 'FTL', 'NCR', 'NCR'], dtype='<U3'),\n",
      " 'generation': array(['ld', 'sh', 'sh', ..., 'sh', 'sh', 'sh'], dtype='<U2'),\n",
      " 'has_zero_minus_one': False,\n",
      " 'in_zero_minus': False,\n",
      " 'in_zero_plus': False,\n",
      " 'interfaces': [[0.69, 0.75, 0.9], ['l_[3]', 'l_[4]', 'l_[5]']],\n",
      " 'lambmaxs': array([0.85980893, 0.90024806, 0.90113038, ..., 0.80933267, 0.73791334,\n",
      "       0.73205419]),\n",
      " 'lambmins': array([0.60980893, 0.68691522, 0.72786856, ..., 0.68752205, 0.68934318,\n",
      "       0.6852491 ]),\n",
      " 'lengths': array([   5, 2539, 1558, ...,  353,   99,   45]),\n",
      " 'lmrs': array(['LM*', 'LMR', 'RMR', ..., 'LM*', 'L*L', 'L*L'], dtype='<U3'),\n",
      " 'name': '005',\n",
      " 'ncycle': 100001,\n",
      " 'newpathnumbers': array([    0,     1,     2, ..., 46865, 46865, 46865]),\n",
      " 'orders': None,\n",
      " 'pathnumbers': array([    1,     2,     3, ..., 53360, 53360, 53360]),\n",
      " 'shootlinks': array([None, None, None, ..., None, None, None], dtype=object),\n",
      " 'totaltime': 39711260,\n",
      " 'weights': array([1, 1, 1, ..., 0, 0, 0])}\n",
      "Setting orders for path ensemble 005\n",
      "Loaded orders from file, NOT CHECKING FOR CONSISTENCY.\n",
      "Calculating first hitting lengths to middle interface\n",
      "Done.\n",
      "Calculating path lengths.\n",
      "Done.\n"
     ]
    }
   ],
   "source": [
    "inputfile = \"./retis.rst\"\n",
    "indir = \"./\"\n",
    "folders = glob.glob(\"./0[0-9][0-9]\")\n",
    "folders = sorted(folders)\n",
    "interfaces, zero_left, timestep = read_inputfile(inputfile)\n",
    "LMR_interfaces, LMR_strings = get_LMR_interfaces(interfaces, zero_left)\n",
    "pathensembles = []\n",
    "for i,fol in enumerate(folders):\n",
    "    print(\"#\"*80)\n",
    "    print(fol)\n",
    "    pe = read_pathensemble(fol+\"/pathensemble.txt\")\n",
    "    pe.set_name(fol[len(indir):])\n",
    "    pe.set_interfaces([LMR_interfaces[i], LMR_strings[i]])\n",
    "    if i==0:\n",
    "        pe.set_zero_minus_one = True\n",
    "        pe.set_in_zero_minus_one = True\n",
    "    if i==1:\n",
    "        pe.set_in_zero_plus = True \n",
    "    w, _ = get_weights(pe.flags, ACCFLAGS, REJFLAGS, verbose = False)\n",
    "    pe.set_weights(w)\n",
    "    print(\"pathensemble info: \")\n",
    "    pprint(vars(pe))\n",
    "    pathensembles.append(pe)\n",
    "    pe.set_orders(load=True, acc_only=True, save=True)\n",
    "    if i > 1:\n",
    "        print(\"Calculating first hitting lengths to middle interface\")\n",
    "        set_tau_first_hit_M_distrib(pe)\n",
    "        print(\"Done.\")\n",
    "        print(\"Calculating path lengths.\")\n",
    "        set_tau_distrib(pe)\n",
    "        print(\"Done.\")"
   ]
  },
  {
   "cell_type": "code",
   "execution_count": 3,
   "metadata": {},
   "outputs": [
    {
     "name": "stdout",
     "output_type": "stream",
     "text": [
      "doing pathensemble 0\n",
      "doing pathensemble 1\n",
      "Amount of loads: 1\n",
      "Weights of the different paths:\n",
      "wRMR = 0\n",
      "wRML = 8268\n",
      "wLMR = 8311\n",
      "wLML = 83421\n",
      "Local crossing probabilities:\n",
      "pRMR = 0.0\n",
      "pRML = 1.0\n",
      "pLMR = 0.0906008808267562\n",
      "pLML = 0.9093991191732438\n",
      "Are all weights 1?  True\n",
      "Are all paths accepted?  True\n"
     ]
    },
    {
     "name": "stderr",
     "output_type": "stream",
     "text": [
      "/home/wouter/miniconda3/envs/msming/lib/python3.8/site-packages/tistools/repptis_analysis.py:553: RuntimeWarning: invalid value encountered in divide\n",
      "  p_NP = cumsums['LMR']/(cumsums['LMR']+cumsums['LML'])\n",
      "/home/wouter/miniconda3/envs/msming/lib/python3.8/site-packages/tistools/repptis_analysis.py:554: RuntimeWarning: invalid value encountered in divide\n",
      "  p_NN = cumsums['LML']/(cumsums['LMR']+cumsums['LML'])\n",
      "/home/wouter/miniconda3/envs/msming/lib/python3.8/site-packages/tistools/repptis_analysis.py:555: RuntimeWarning: invalid value encountered in divide\n",
      "  p_PP = cumsums['RMR']/(cumsums['RML']+cumsums['RMR'])\n",
      "/home/wouter/miniconda3/envs/msming/lib/python3.8/site-packages/tistools/repptis_analysis.py:556: RuntimeWarning: invalid value encountered in divide\n",
      "  p_PN = cumsums['RML']/(cumsums['RML']+cumsums['RMR'])\n",
      "/home/wouter/miniconda3/envs/msming/lib/python3.8/site-packages/numpy/core/fromnumeric.py:3432: RuntimeWarning: Mean of empty slice.\n",
      "  return _methods._mean(a, axis=axis, dtype=dtype,\n",
      "/home/wouter/miniconda3/envs/msming/lib/python3.8/site-packages/numpy/core/_methods.py:190: RuntimeWarning: invalid value encountered in double_scalars\n",
      "  ret = ret.dtype.type(ret / rcount)\n",
      "/home/wouter/miniconda3/envs/msming/lib/python3.8/site-packages/numpy/core/_methods.py:265: RuntimeWarning: Degrees of freedom <= 0 for slice\n",
      "  ret = _var(a, axis=axis, dtype=dtype, out=out, ddof=ddof,\n",
      "/home/wouter/miniconda3/envs/msming/lib/python3.8/site-packages/numpy/core/_methods.py:223: RuntimeWarning: invalid value encountered in divide\n",
      "  arrmean = um.true_divide(arrmean, div, out=arrmean, casting='unsafe',\n",
      "/home/wouter/miniconda3/envs/msming/lib/python3.8/site-packages/numpy/core/_methods.py:257: RuntimeWarning: invalid value encountered in double_scalars\n",
      "  ret = ret.dtype.type(ret / rcount)\n"
     ]
    },
    {
     "name": "stdout",
     "output_type": "stream",
     "text": [
      "doing pathensemble 2\n",
      "Amount of loads: 1\n",
      "Weights of the different paths:\n",
      "wRMR = 167\n",
      "wRML = 4373\n",
      "wLMR = 4262\n",
      "wLML = 91198\n",
      "Local crossing probabilities:\n",
      "pRMR = 0.03678414096916299\n",
      "pRML = 0.963215859030837\n",
      "pLMR = 0.044646972553949296\n",
      "pLML = 0.9553530274460507\n",
      "Are all weights 1?  True\n",
      "Are all paths accepted?  True\n"
     ]
    },
    {
     "name": "stderr",
     "output_type": "stream",
     "text": [
      "/home/wouter/miniconda3/envs/msming/lib/python3.8/site-packages/tistools/repptis_analysis.py:553: RuntimeWarning: invalid value encountered in divide\n",
      "  p_NP = cumsums['LMR']/(cumsums['LMR']+cumsums['LML'])\n",
      "/home/wouter/miniconda3/envs/msming/lib/python3.8/site-packages/tistools/repptis_analysis.py:554: RuntimeWarning: invalid value encountered in divide\n",
      "  p_NN = cumsums['LML']/(cumsums['LMR']+cumsums['LML'])\n",
      "/home/wouter/miniconda3/envs/msming/lib/python3.8/site-packages/tistools/repptis_analysis.py:555: RuntimeWarning: invalid value encountered in divide\n",
      "  p_PP = cumsums['RMR']/(cumsums['RML']+cumsums['RMR'])\n",
      "/home/wouter/miniconda3/envs/msming/lib/python3.8/site-packages/tistools/repptis_analysis.py:556: RuntimeWarning: invalid value encountered in divide\n",
      "  p_PN = cumsums['RML']/(cumsums['RML']+cumsums['RMR'])\n"
     ]
    },
    {
     "name": "stdout",
     "output_type": "stream",
     "text": [
      "doing pathensemble 3\n",
      "Amount of loads: 1\n",
      "Weights of the different paths:\n",
      "wRMR = 12079\n",
      "wRML = 14170\n",
      "wLMR = 13789\n",
      "wLML = 59960\n",
      "Local crossing probabilities:\n",
      "pRMR = 0.4601699112347137\n",
      "pRML = 0.5398300887652863\n",
      "pLMR = 0.18697202673934563\n",
      "pLML = 0.8130279732606543\n",
      "Are all weights 1?  True\n",
      "Are all paths accepted?  True\n"
     ]
    },
    {
     "name": "stderr",
     "output_type": "stream",
     "text": [
      "/home/wouter/miniconda3/envs/msming/lib/python3.8/site-packages/tistools/repptis_analysis.py:553: RuntimeWarning: invalid value encountered in divide\n",
      "  p_NP = cumsums['LMR']/(cumsums['LMR']+cumsums['LML'])\n",
      "/home/wouter/miniconda3/envs/msming/lib/python3.8/site-packages/tistools/repptis_analysis.py:554: RuntimeWarning: invalid value encountered in divide\n",
      "  p_NN = cumsums['LML']/(cumsums['LMR']+cumsums['LML'])\n",
      "/home/wouter/miniconda3/envs/msming/lib/python3.8/site-packages/tistools/repptis_analysis.py:555: RuntimeWarning: invalid value encountered in divide\n",
      "  p_PP = cumsums['RMR']/(cumsums['RML']+cumsums['RMR'])\n",
      "/home/wouter/miniconda3/envs/msming/lib/python3.8/site-packages/tistools/repptis_analysis.py:556: RuntimeWarning: invalid value encountered in divide\n",
      "  p_PN = cumsums['RML']/(cumsums['RML']+cumsums['RMR'])\n"
     ]
    },
    {
     "name": "stdout",
     "output_type": "stream",
     "text": [
      "doing pathensemble 4\n",
      "Amount of loads: 1\n",
      "Weights of the different paths:\n",
      "wRMR = 14332\n",
      "wRML = 27536\n",
      "wLMR = 27498\n",
      "wLML = 30633\n",
      "Local crossing probabilities:\n",
      "pRMR = 0.3423139390465272\n",
      "pRML = 0.6576860609534728\n",
      "pLMR = 0.4730350415440987\n",
      "pLML = 0.5269649584559013\n",
      "Are all weights 1?  True\n",
      "Are all paths accepted?  True\n"
     ]
    },
    {
     "name": "stderr",
     "output_type": "stream",
     "text": [
      "/home/wouter/miniconda3/envs/msming/lib/python3.8/site-packages/tistools/repptis_analysis.py:553: RuntimeWarning: invalid value encountered in divide\n",
      "  p_NP = cumsums['LMR']/(cumsums['LMR']+cumsums['LML'])\n",
      "/home/wouter/miniconda3/envs/msming/lib/python3.8/site-packages/tistools/repptis_analysis.py:554: RuntimeWarning: invalid value encountered in divide\n",
      "  p_NN = cumsums['LML']/(cumsums['LMR']+cumsums['LML'])\n",
      "/home/wouter/miniconda3/envs/msming/lib/python3.8/site-packages/tistools/repptis_analysis.py:555: RuntimeWarning: invalid value encountered in divide\n",
      "  p_PP = cumsums['RMR']/(cumsums['RML']+cumsums['RMR'])\n",
      "/home/wouter/miniconda3/envs/msming/lib/python3.8/site-packages/tistools/repptis_analysis.py:556: RuntimeWarning: invalid value encountered in divide\n",
      "  p_PN = cumsums['RML']/(cumsums['RML']+cumsums['RMR'])\n"
     ]
    },
    {
     "name": "stdout",
     "output_type": "stream",
     "text": [
      "doing pathensemble 5\n",
      "Amount of loads: 1\n",
      "Weights of the different paths:\n",
      "wRMR = 9372\n",
      "wRML = 18027\n",
      "wLMR = 18380\n",
      "wLML = 54221\n",
      "Local crossing probabilities:\n",
      "pRMR = 0.34205627942625644\n",
      "pRML = 0.6579437205737436\n",
      "pLMR = 0.25316455696202533\n",
      "pLML = 0.7468354430379747\n",
      "Are all weights 1?  True\n",
      "Are all paths accepted?  True\n"
     ]
    },
    {
     "name": "stderr",
     "output_type": "stream",
     "text": [
      "/home/wouter/miniconda3/envs/msming/lib/python3.8/site-packages/tistools/repptis_analysis.py:553: RuntimeWarning: invalid value encountered in divide\n",
      "  p_NP = cumsums['LMR']/(cumsums['LMR']+cumsums['LML'])\n",
      "/home/wouter/miniconda3/envs/msming/lib/python3.8/site-packages/tistools/repptis_analysis.py:554: RuntimeWarning: invalid value encountered in divide\n",
      "  p_NN = cumsums['LML']/(cumsums['LMR']+cumsums['LML'])\n",
      "/home/wouter/miniconda3/envs/msming/lib/python3.8/site-packages/tistools/repptis_analysis.py:555: RuntimeWarning: invalid value encountered in divide\n",
      "  p_PP = cumsums['RMR']/(cumsums['RML']+cumsums['RMR'])\n",
      "/home/wouter/miniconda3/envs/msming/lib/python3.8/site-packages/tistools/repptis_analysis.py:556: RuntimeWarning: invalid value encountered in divide\n",
      "  p_PN = cumsums['RML']/(cumsums['RML']+cumsums['RMR'])\n"
     ]
    }
   ],
   "source": [
    "# Analyze the pptis simulation.\n",
    "# Analysis output is saved to the data dictionary.\n",
    "data = {}\n",
    "for i, pe in enumerate(pathensembles):\n",
    "    print(\"doing pathensemble {}\".format(i))\n",
    "    if i == 0:\n",
    "        continue  # TODO: make [0-] analysis. \n",
    "    masks = get_lmr_masks(pe)\n",
    "    loadmask = get_generation_mask(pe, \"ld\")\n",
    "    print(\"Amount of loads: {}\".format(np.sum(loadmask)))\n",
    "    #hardloadmask = get_hard_load_mask(loadmask)\n",
    "    accmask = get_flag_mask(pe, \"ACC\")\n",
    "    pathtypes = (\"LML\", \"LMR\", \"RML\", \"RMR\")\n",
    "    pathtype_cycles = {}\n",
    "    for ptype in pathtypes:\n",
    "        pathtype_cycles[ptype] = unwrap_by_weight(\n",
    "                (pe.lmrs == ptype).astype(int), pe.weights)\n",
    "    # running average analysis\n",
    "    data[i] = {}\n",
    "    data[i][\"running\"] = {}\n",
    "    data[i][\"running\"][\"plocal\"] = {}\n",
    "    # you'll still have to hardload select pe.weigths... TODO\n",
    "    for (ptype, p_loc) in zip(pathtypes, \n",
    "                              running_avg_local_probs(pathtype_cycles, \n",
    "                                                      pe.weights, tr = False)):\n",
    "        data[i][\"running\"][\"plocal\"][ptype] = p_loc\n",
    "    plocfull = get_local_probs(pe, tr=False)\n",
    "    data[i][\"full\"] = {}\n",
    "    for ptype in pathtypes:\n",
    "        data[i][\"full\"][ptype] = plocfull[ptype]\n",
    "    \n",
    "    upe = pe.unify_pe()\n",
    "    makefigs = True \n",
    "    if makefigs:\n",
    "        # Cross distances distribution\n",
    "        L, M, R, lmlpercs, lmllambs, rmrpercs, rmrlambs = cross_dist_distr(pe)\n",
    "        fig,ax =plt.subplots()\n",
    "        ax.plot(lmllambs, lmlpercs, lw=1, c=\"g\")\n",
    "        ax.plot(rmrlambs, rmrpercs, lw=1, c=\"r\")\n",
    "        for lamb in (L,M,R):\n",
    "            ax.axvline(lamb, color='k', linestyle='--', lw = 0.5)\n",
    "        ax.set_xlabel('Cross distance')\n",
    "        ax.set_ylabel('Frequency')\n",
    "        ax.set_title(\"Ensemble {}. L = {}, M = {}, R = {}\".format(\n",
    "            pe.name, L, M, R))\n",
    "        ax.set_ylim(0)\n",
    "        fig.savefig(f\"pathensemble_{i}_crossdist.pdf\")\n",
    "        plt.close(fig)\n",
    "\n",
    "        # Pathlength distribution\n",
    "        data[i][\"pathlengths\"] = pathlength_distr(upe)\n",
    "        for ptype in pathtypes:\n",
    "            fig, ax = plt.subplots()\n",
    "            ax.plot(data[i][\"pathlengths\"][ptype][\"bin_centers\"], \n",
    "                data[i][\"pathlengths\"][ptype][\"hist\"])\n",
    "            ax.set_xlabel('Pathlength')\n",
    "            ax.set_ylabel('Frequency')\n",
    "            ax.set_title(f\"{np.sum(data[i]['pathlengths'][ptype]['hist'])} \" + \\\n",
    "                         f\"{ptype} paths. \")\n",
    "            ax.legend([f\"mean = {data[i]['pathlengths'][ptype]['mean']:.2f}, \" + \\\n",
    "                          f\"std = {data[i]['pathlengths'][ptype]['std']:.2f}\"])\n",
    "            fig.savefig(f\"pathensemble_{i}_pathlength_{ptype}.pdf\")\n",
    "            plt.close(fig)\n"
   ]
  },
  {
   "cell_type": "code",
   "execution_count": 4,
   "metadata": {},
   "outputs": [
    {
     "name": "stdout",
     "output_type": "stream",
     "text": [
      "This should be the same as the repptis_report.pdf value: 0.00020540578383777418\n",
      "which is the case!\n",
      "Here, the load immediately disappeared. For a simulation where this is\n",
      "not the case, the above code should be adapted a little bit.\n"
     ]
    }
   ],
   "source": [
    "# Global crossing probabilities\n",
    "# WITHOUT ERRORS #  \n",
    "# Full data \n",
    "psfull = []\n",
    "for i in range(1, len(pathensembles)):\n",
    "    psfull.append({\"LMR\": data[i][\"full\"][\"LMR\"], \n",
    "               \"RML\": data[i][\"full\"][\"RML\"], \n",
    "               \"RMR\": data[i][\"full\"][\"RMR\"],\n",
    "               \"LML\": data[i][\"full\"][\"LML\"]})\n",
    "    \n",
    "Pminfull, Pplusfull, Pcrossfull = get_globall_probs(psfull)\n",
    "\n",
    "# Make a figure of the global crossing probabilities\n",
    "fig, ax = plt.subplots()\n",
    "ax.set_yscale(\"log\")\n",
    "ax.plot(Pcrossfull, \"o\", c = \"r\")\n",
    "ax.set_xlabel(\"intf\")\n",
    "ax.set_ylabel(r\"$P_A(\\lambda_i|\\lambda_A)$\")\n",
    "fig.tight_layout()\n",
    "fig.show()\n",
    "fig.savefig(\"Global_probs.pdf\")\n",
    "print(\"This should be the same as the repptis_report.pdf value:\", Pcrossfull[-1])\n",
    "print(\"which is the case!\")\n",
    "print(\"Here, the load immediately disappeared. For a simulation where this is\")\n",
    "print(\"not the case, the above code should be adapted a little bit.\")"
   ]
  },
  {
   "cell_type": "code",
   "execution_count": 5,
   "metadata": {},
   "outputs": [
    {
     "name": "stdout",
     "output_type": "stream",
     "text": [
      "This should be the same as the repptis_report.pdf value: 0.00020540578383777418\n"
     ]
    }
   ],
   "source": [
    "# Or we can use the get_global_probz function, using lists of the local probs\n",
    "pmps = [data[i][\"full\"][\"LMR\"] for i in range(1,len(pathensembles))]\n",
    "pmms = [data[i][\"full\"][\"LML\"] for i in range(1,len(pathensembles))]\n",
    "ppps = [data[i][\"full\"][\"RMR\"] for i in range(1,len(pathensembles))]\n",
    "ppms = [data[i][\"full\"][\"RML\"] for i in range(1,len(pathensembles))]\n",
    "a,b,c = get_global_probz(pmps, pmms, ppps, ppms)\n",
    "print(\"This should be the same as the repptis_report.pdf value:\", c[-1])\n",
    "\n",
    "# for MSM we only want the body ensembles: \n",
    "# but first, we only need the body ensembles\n",
    "pmps = pmps[1:]\n",
    "ppps = ppps[1:]\n",
    "ppms = ppms[1:]\n",
    "pmms = pmms[1:]"
   ]
  },
  {
   "cell_type": "code",
   "execution_count": 6,
   "metadata": {},
   "outputs": [],
   "source": [
    "# Let's build the MSM. \n",
    "\n",
    "# we need a mapping from 2D space (k,l) with k,l in {-1,1} to 1D space (0, 1, 2, 3)\n",
    "def plocify(pmm, pmp, ppm, ppp):\n",
    "    ploc = np.zeros((3,3), dtype=float)\n",
    "    ploc[-1,-1] = pmm\n",
    "    ploc[-1,1] = pmp\n",
    "    ploc[1,-1] = ppm\n",
    "    ploc[1,1] = ppp\n",
    "    assert pmm + pmp == 1.0, f\"pmm ({pmm}) + pmp ({pmp}) != 1.0\"\n",
    "    assert ppm + ppp == 1.0, f\"ppm ({ppm}) + ppp ({ppp}) != 1.0\"\n",
    "    return ploc\n",
    "\n",
    "def pathlengthify(taumm, taump, taupm, taupp):\n",
    "    tau = np.zeros((3,3), dtype=float)\n",
    "    tau[-1,-1] = taumm\n",
    "    tau[-1,1] = taump\n",
    "    tau[1,-1] = taupm\n",
    "    tau[1,1] = taupp\n",
    "    return tau\n",
    "\n",
    "def kl_to_idx(i,j):\n",
    "    \"\"\"\n",
    "    i,j in {-1,1}\n",
    "    k in {0,1,2,3}\n",
    "    --------------\n",
    "    (-1, -1) -> 0\n",
    "    (-1,  1) -> 1\n",
    "    ( 1, -1) -> 2\n",
    "    ( 1,  1) -> 3\n",
    "    \"\"\"\n",
    "    assert i in {-1,1} and j in {-1,1}, f\"i ({i}) and j ({j}) should be in {-1,1}\"\n",
    "    if i == -1:\n",
    "        return 0 if j == -1 else 1\n",
    "    return 2 if j == -1 else 3\n",
    "\n",
    "def ikl_to_n(i,k,l):\n",
    "    return 4*i + kl_to_idx(k,l)\n",
    "\n",
    "\n",
    "pmp0plus = data[1][\"full\"][\"LMR\"]\n",
    "# define plocs \n",
    "plocs = []\n",
    "Nbodies = len(interfaces)-2\n",
    "for i in range(Nbodies):\n",
    "    plocs.append(plocify(pmms[i], pmps[i], ppms[i], ppps[i]))\n",
    "    \n",
    "# now we can go on to defining the transition matrix M \n",
    "# at first, we will include S_{-1}^{-1,-1} and S_{N-2}^{1,1}, and afterwards \n",
    "# we will remove them.\n",
    "M = np.zeros((4*(Nbodies), 4*(Nbodies)), dtype=float)\n",
    "\n",
    "# we know that FROM i, k, l we can go to i+l, -l, +1 or i+l, -l, -1\n",
    "# For i = 0 and i = N-3, we will do it manually\n",
    "# So we can fill in the matrix row by row.\n",
    "for i in range(0, Nbodies):\n",
    "    for k in (-1,1):\n",
    "        for l in (-1,1):\n",
    "            # we are in state i, k, l\n",
    "            # we can go to state i+l, -l, +1 or i+l, -l, -1\n",
    "            #print(f\"We are in state ({i}, {k}, {l})\")\n",
    "            if (i != 0 and i != Nbodies-1) or\\\n",
    "                    (i == 0 and l == 1) or\\\n",
    "                    (i == Nbodies-1 and l == -1):\n",
    "                for l2 in {-1,1}:\n",
    "                    #print(f\"---And go to state ({i+l}, {-l}, {l2})\")\n",
    "                    M[ikl_to_n(i,k,l), ikl_to_n(i+l,-l,l2)] =\\\n",
    "                        plocs[i+l][-l,l2]\n",
    "\n",
    "# Set absorbing states in (0, -1, -1), (0, 1, -1), (N-3, -1, 1), (N-3, 1, 1)\n",
    "M[0,0] = 1\n",
    "M[2,2] = 1\n",
    "M[-1,-1] = 1\n",
    "M[-3,-3] = 1"
   ]
  },
  {
   "cell_type": "code",
   "execution_count": 7,
   "metadata": {},
   "outputs": [
    {
     "name": "stdout",
     "output_type": "stream",
     "text": [
      "Solving the linear system with P_A = 0 and P_B = 1 hardcoded.\n",
      "This should be the same as the repptis_report.pdf value: 0.00020540578383777418\n",
      "Which is the case.\n"
     ]
    }
   ],
   "source": [
    "# remove rows 0, 2, -1 and -3, aslo remove columns 0, 2, -1 and -3.\n",
    "print(\"Solving the linear system with P_A = 0 and P_B = 1 hardcoded.\")\n",
    "Mhit = np.delete(M, [0,2,-1,-3], axis=0)\n",
    "Mhit = np.delete(Mhit, [0,2,-1,-3], axis=1)\n",
    "\n",
    "# P(N-2, -1, +1) == 1, add contribution C vector for this.\n",
    "C = np.zeros(len(Mhit))\n",
    "#C[2] = plocs[0][+1,-1]  # P(1, +1, -1) hits state A, so == 0\n",
    "#C[4] = plocs[0][+1,-1]\n",
    "C[-3] = plocs[-1][-1,+1]\n",
    "C[-5] = plocs[-1][-1,+1]\n",
    "\n",
    "# solution for the hitting probability vector\n",
    "sol = np.linalg.inv(np.eye(len(Mhit)) - Mhit) @ C\n",
    "# multiply by pmp0plus and plocs[0][-1][+1] and select the first element\n",
    "# (aka, the element starting from P(1, -1, +1))\n",
    "Pglobalcross = pmp0plus * plocs[0][-1][+1] * sol[0]\n",
    "print(\"This should be the same as the repptis_report.pdf value:\",\n",
    "      Pglobalcross)\n",
    "print(\"Which is the case.\")"
   ]
  },
  {
   "cell_type": "code",
   "execution_count": 8,
   "metadata": {},
   "outputs": [
    {
     "name": "stdout",
     "output_type": "stream",
     "text": [
      "Just taking the lambda=1 eigenvector of M gives different results:\n",
      "% diff: 7.182370446262876\n",
      "% diff: 10.777627368737152\n",
      "It does not work this way\n"
     ]
    }
   ],
   "source": [
    "# Let's try again now by just calcing the eigvals and eigvecs of M\n",
    "print(\"Just taking the lambda=1 eigenvector of M gives different results:\")\n",
    "evals, evecs = np.linalg.eig(M)\n",
    "print(\"% diff:\",(100*np.min(np.abs(0.00020540578383777418-pmp0plus*plocs[0][-1,1]*evecs)))/0.00020540578383777418)\n",
    "evals, evecs = np.linalg.eig(M[1:-1,1:-1])\n",
    "print(\"% diff:\",(100*np.min(np.abs(0.00020540578383777418-pmp0plus*plocs[0][-1,1]*evecs)))/0.00020540578383777418)\n",
    "print(\"It does not work this way\")"
   ]
  },
  {
   "cell_type": "code",
   "execution_count": 9,
   "metadata": {},
   "outputs": [
    {
     "name": "stdout",
     "output_type": "stream",
     "text": [
      "Using msmtools will also work for hitting probs.\n",
      "Using transition matrix with disconnected states: \n",
      "is_tmat:  True\n",
      "is_connected:  False\n",
      "is_reversible:  True\n",
      "And cutting away the first and last row and column: \n",
      "is_tmat:  True\n",
      "is_connected:  False\n",
      "is_reversible:  True\n",
      "Still disconnected, as we have absorbing states for those hitting state A and B!\n",
      "Thus, here, we will just work with full M matrix.\n",
      "Nevermind, we need it to be W E A K L Y connected, so using M[1:-1,1:-1].\n"
     ]
    }
   ],
   "source": [
    "print(\"Using msmtools will also work for hitting probs.\")\n",
    "# Let's try with msmtools, this should definitely work as well.\n",
    "# I already know I can't solve the MFPT question with this, but \n",
    "# this might come in handy whenever we DO include multidimensionality\n",
    "from msmtools.analysis import (is_transition_matrix, is_connected, mfpt, \n",
    "                               stationary_distribution, is_reversible)\n",
    "print(\"Using transition matrix with disconnected states: \")\n",
    "print(\"is_tmat: \", is_transition_matrix(M))\n",
    "print(\"is_connected: \", is_connected(M))\n",
    "print(\"is_reversible: \", is_reversible(M))\n",
    "print(\"And cutting away the first and last row and column: \")\n",
    "print(\"is_tmat: \", is_transition_matrix(M[1:-1,1:-1]))\n",
    "print(\"is_connected: \", is_connected(M[1:-1,1:-1]))\n",
    "print(\"is_reversible: \", is_reversible(M[1:-1,1:-1]))\n",
    "print(\"Still disconnected, as we have absorbing states for those hitting state A and B!\")\n",
    "print(\"Thus, here, we will just work with full M matrix.\")\n",
    "print(\"Nevermind, we need it to be W E A K L Y connected, so using M[1:-1,1:-1].\")"
   ]
  },
  {
   "cell_type": "code",
   "execution_count": 10,
   "metadata": {},
   "outputs": [
    {
     "name": "stdout",
     "output_type": "stream",
     "text": [
      "Same value? 0.00020540578383777415\n",
      "Real value: 0.00020540578383777418\n",
      "So this works as expected\n"
     ]
    },
    {
     "name": "stderr",
     "output_type": "stream",
     "text": [
      "/home/wouter/miniconda3/envs/msming/lib/python3.8/site-packages/msmtools/flux/dense/tpt.py:265: RuntimeWarning: invalid value encountered in double_scalars\n",
      "  kAB = totflux / (pi * qminus).sum()\n"
     ]
    }
   ],
   "source": [
    "# define states A and B\n",
    "A = [1]\n",
    "B = [-2]\n",
    "# Get the committtor probabilities\n",
    "from msmtools.analysis import committor\n",
    "from msmtools.flux import tpt\n",
    "test = tpt(M[1:-1,1:-1], A, B)\n",
    "print(\"Same value?\", (pmp0plus * plocs[0][-1][1] * test.committor)[0])\n",
    "print(\"Real value:\", 0.00020540578383777418)\n",
    "print(\"So this works as expected\")"
   ]
  },
  {
   "cell_type": "code",
   "execution_count": 13,
   "metadata": {},
   "outputs": [
    {
     "name": "stdout",
     "output_type": "stream",
     "text": [
      "For ensemble [1^+-] we have the amazing taus:\n",
      " [[1067.88023952  695.83238052]\n",
      " [ 711.85851713  559.16546415]]\n",
      "For ensemble [2^+-] we have the amazing taus:\n",
      " [[1220.44862985 1134.34333098]\n",
      " [1130.4901008  1141.20280187]]\n",
      "For ensemble [3^+-] we have the amazing taus:\n",
      " [[228.57828635 293.65347182]\n",
      " [289.53498436 442.28283224]]\n",
      "For ensemble [4^+-] we have the amazing taus:\n",
      " [[739.35606061 473.00305098]\n",
      " [458.59717084 272.67733904]]\n"
     ]
    }
   ],
   "source": [
    "tauvals = []\n",
    "for i in range(2, Nbodies+2):\n",
    "    tauLML = pathensembles[i].tauavg['LML']\n",
    "    tauLMR = pathensembles[i].tauavg['LMR']\n",
    "    tauRML = pathensembles[i].tauavg['RML']\n",
    "    tauRMR = pathensembles[i].tauavg['RMR']\n",
    "    tauvals.append(pathlengthify(tauLML, tauLMR, tauRML, tauRMR))\n",
    "\n",
    "for i, tauval in enumerate(tauvals):\n",
    "    print(f\"For ensemble [{i+1}^+-] we have the amazing taus:\\n\", tauval[1:,1:])"
   ]
  },
  {
   "cell_type": "code",
   "execution_count": 52,
   "metadata": {},
   "outputs": [
    {
     "name": "stdout",
     "output_type": "stream",
     "text": [
      "doing 0 up to 3\n",
      "doing 4 up to 7\n",
      "doing 8 up to 11\n",
      "doing 12 up to 15\n"
     ]
    }
   ],
   "source": [
    "taus = np.zeros(4*Nbodies, dtype=float)\n",
    "for i in range(2,Nbodies+2):\n",
    "    print(\"doing\", (4*(i-2)), \"up to\", (4*(i-2)+3))\n",
    "    if i>2:\n",
    "        taus[4*(i-2)] = pathensembles[i].tauavg[\"LML\"] - pathensembles[i].tau1avg[\"LML\"] + 1\n",
    "        taus[4*(i-2)+1] = pathensembles[i].tauavg[\"LMR\"] - pathensembles[i].tau1avg[\"LMR\"] + 1\n",
    "    else: \n",
    "        taus[4*(i-2)] = pathensembles[i].tauavg[\"LML\"] - 1\n",
    "        taus[4*(i-2)+1] = pathensembles[i].tauavg[\"LMR\"] - 1\n",
    "    taus[4*(i-2)+2] = pathensembles[i].tauavg[\"RML\"] - pathensembles[i].tau1avg[\"RML\"] + 1\n",
    "    taus[4*(i-2)+3] = pathensembles[i].tauavg[\"RMR\"] - pathensembles[i].tau1avg[\"RMR\"] + 1\n"
   ]
  },
  {
   "cell_type": "code",
   "execution_count": 53,
   "metadata": {},
   "outputs": [
    {
     "data": {
      "text/plain": [
       "array([ 558.16546415,  710.85851713,  369.53898925,  676.53293413,\n",
       "        806.64019346,  820.79788237,  950.6037403 , 1054.17244805,\n",
       "        263.80641792,  124.23616263,  252.67413568,  185.86289422,\n",
       "        230.33682522,  418.43117519,  274.52687635,  541.36182245])"
      ]
     },
     "execution_count": 53,
     "metadata": {},
     "output_type": "execute_result"
    }
   ],
   "source": [
    "taus"
   ]
  },
  {
   "cell_type": "code",
   "execution_count": 54,
   "metadata": {},
   "outputs": [],
   "source": [
    "Mhit = M[1:-1,1:-1]\n",
    "Mhit[1,1] = 0\n",
    "Mhit[-2,-2] = 0\n",
    "tauhit = taus[1:-1]\n",
    "sol = np.linalg.inv(np.eye(len(Mhit)) - Mhit) @ tauhit"
   ]
  },
  {
   "cell_type": "code",
   "execution_count": 55,
   "metadata": {},
   "outputs": [
    {
     "name": "stdout",
     "output_type": "stream",
     "text": [
      "[0.0, 0.0, 0.0, 0.0, 0.0, 0.0, 0.0, 0.0, 0.0, 0.0, 0.0, 0.0, 0.0, 0.0]\n"
     ]
    }
   ],
   "source": [
    "print([Mhit[i,i]for i in range(len(Mhit))])"
   ]
  },
  {
   "cell_type": "code",
   "execution_count": 56,
   "metadata": {},
   "outputs": [
    {
     "name": "stdout",
     "output_type": "stream",
     "text": [
      "[2341.76510387  369.53898925 2307.43952087 1247.46318905 3298.26942126\n",
      " 1391.42673589 3531.64398694 2640.09673624 2296.30572062 2628.964454\n",
      " 2357.93245222 2766.52324708  418.43117519 2810.71329822]\n"
     ]
    }
   ],
   "source": [
    "print(sol)"
   ]
  },
  {
   "cell_type": "code",
   "execution_count": 97,
   "metadata": {},
   "outputs": [
    {
     "name": "stdout",
     "output_type": "stream",
     "text": [
      "[1700.70579334 1700.70579334   87.37111619 2800.22566036   87.37111619\n",
      " 2800.22566036 2530.41669951 2270.47322171 2530.41669951 2270.47322171\n",
      " 2811.78833606 2811.78833606]\n",
      "This should be the same as the repptis_report.pdf value: 0.00020540578383777418\n",
      "Which is the case.\n"
     ]
    }
   ],
   "source": [
    "# Now we leave msmtools, and use the matrix equations to look at MFPTS\n",
    "# first, we must create the \\tau vector, which is the average pathlength \n",
    "# for each state. \n",
    "\n",
    "Mhit = np.delete(M, [0,2,-1,-3], axis=0)\n",
    "Mhit = np.delete(Mhit, [0,2,-1,-3], axis=1)\n",
    "tauhit = np.delete(taus, [0,2,-1,-3])\n",
    "\n",
    "# add contribution for the absorbing states\n",
    "C = np.zeros(len(Mhit))\n",
    "C[2] = taus[2]\n",
    "C[4] = taus[2]\n",
    "C[-3] = taus[-3]\n",
    "C[-5] = taus[-3]\n",
    "\n",
    "# solution for the hitting probability vector\n",
    "sol = np.linalg.inv(np.eye(len(Mhit)) - Mhit) @ Mhit @ (tauhit + C)\n",
    "# multiply by pmp0plus and plocs[0][-1][+1] and select the first element\n",
    "# (aka, the element starting from P(1, -1, +1))\n",
    "print(sol)\n",
    "print(\"This should be the same as the repptis_report.pdf value:\",\n",
    "      Pglobalcross)\n",
    "print(\"Which is the case.\")\n"
   ]
  },
  {
   "cell_type": "code",
   "execution_count": 44,
   "metadata": {},
   "outputs": [],
   "source": [
    "sol = Mhit @ tauhit @ np.linalg.inv(np.eye(len(Mhit)) - Mhit)"
   ]
  },
  {
   "cell_type": "code",
   "execution_count": 23,
   "metadata": {},
   "outputs": [],
   "source": [
    "pmp0plus = data[1][\"full\"][\"LMR\"]\n",
    "pmm0plus = data[1][\"full\"][\"LML\"]"
   ]
  },
  {
   "cell_type": "code",
   "execution_count": 57,
   "metadata": {},
   "outputs": [
    {
     "name": "stdout",
     "output_type": "stream",
     "text": [
      "tau_0plus: 96.57247721281611\n",
      "realvalue: 102.64497000000001 with std.dev. 295.51\n"
     ]
    }
   ],
   "source": [
    "tau_0plus = pmm0plus * (data[1][\"pathlengths\"][\"LML\"][\"mean\"] - 2) +\\\n",
    "            pmp0plus * (plocs[0][-1,-1] * (tauvals[0][-1,-1]-2) +\\\n",
    "                        plocs[0][-1, 1] * (sol[0]))\n",
    "print(\"tau_0plus:\", tau_0plus)\n",
    "print(\"realvalue:\", 102.64497000000001, \"with std.dev. 295.51\")\n",
    "print(\"This is really good!\")"
   ]
  },
  {
   "cell_type": "code",
   "execution_count": 89,
   "metadata": {},
   "outputs": [],
   "source": [
    "# Just checking some path-chains and their probabilities.\n",
    "path1 = tauvals[1][-1, 1] + (tauvals[2][-1,-1]-pathensembles[3].tau1avg[\"LML\"]) + (tauvals[1][1,-1]-pathensembles[2].tau1avg[\"RML\"])\n",
    "prob_path1 = plocs[1][-1,-1]*plocs[0][1,-1]\n",
    "path2 = tauvals[1][-1, 1] + (tauvals[2][-1,+1]-pathensembles[3].tau1avg[\"LMR\"]) + (tauvals[3][-1,-1]-pathensembles[4].tau1avg[\"LML\"]) +\\\n",
    "        (tauvals[2][1,-1]-pathensembles[3].tau1avg[\"RML\"]) + (tauvals[1][1,-1]-pathensembles[2].tau1avg[\"RML\"])\n",
    "prob_path2 = plocs[1][-1,1] * plocs[2][-1, -1] * plocs[1][1,-1] * plocs[0][1,-1]\n",
    "path3 = tauvals[1][-1, 1] + (tauvals[2][-1,-1]-pathensembles[3].tau1avg[\"LML\"]) + (tauvals[1][1,1]-pathensembles[2].tau1avg[\"RMR\"]) +\\\n",
    "        (tauvals[2][-1,-1]-pathensembles[3].tau1avg[\"LML\"]) + (tauvals[1][1,-1]-pathensembles[2].tau1avg[\"RML\"])\n",
    "prob_path3 = plocs[1][-1,1] * plocs[2][-1, -1] * plocs[1][1,1] * plocs[2][-1,-1] * plocs[1][1,-1] * plocs[0][1,-1]\n",
    "path4 = tauvals[1][-1, 1] + (tauvals[2][-1,+1]-pathensembles[3].tau1avg[\"LMR\"]) + (tauvals[3][-1,+1]-pathensembles[4].tau1avg[\"LMR\"]) +\\\n",
    "        (tauvals[4][-1,1] - pathensembles[5].tau1avg[\"LMR\"])\n",
    "prob_path4 = plocs[1][-1,1] * plocs[2][-1, 1] * plocs[3][-1,1]\n",
    "path5 = tauvals[1][-1, 1] + (tauvals[2][-1,+1]-pathensembles[3].tau1avg[\"LMR\"]) + (tauvals[3][-1,+1]-pathensembles[4].tau1avg[\"LMR\"]) +\\\n",
    "        (tauvals[4][-1,-1] - pathensembles[5].tau1avg[\"LML\"]) + (tauvals[3][1,-1] - pathensembles[4].tau1avg[\"RML\"]) +\\\n",
    "        (tauvals[2][1,-1] - pathensembles[3].tau1avg[\"RML\"]) + (tauvals[1][1,-1] - pathensembles[2].tau1avg[\"RML\"]) +\\\n",
    "        (tauvals[1][1,-1] - pathensembles[2].tau1avg[\"RML\"])\n",
    "prob_path5 = plocs[1][-1,1] * plocs[2][-1, 1] * plocs[3][-1,-1]"
   ]
  },
  {
   "cell_type": "code",
   "execution_count": 90,
   "metadata": {},
   "outputs": [
    {
     "name": "stdout",
     "output_type": "stream",
     "text": [
      "1880.0376998426466\n",
      "3102.605546962064\n",
      "3357.210827436691\n",
      "2064.3237373185475\n",
      "3806.585241821238\n",
      "0.7831214376803615\n",
      "0.05123173744090692\n",
      "0.012423359130139637\n",
      "0.022390967199045746\n",
      "0.06605335323718495\n"
     ]
    }
   ],
   "source": [
    "print(path1)\n",
    "print(path2)\n",
    "print(path3)\n",
    "print(path4)\n",
    "print(path5)\n",
    "print(prob_path1)\n",
    "print(prob_path2)\n",
    "print(prob_path3)\n",
    "print(prob_path4)\n",
    "print(prob_path5)"
   ]
  },
  {
   "cell_type": "code",
   "execution_count": 91,
   "metadata": {},
   "outputs": [
    {
     "data": {
      "text/plain": [
       "0.9352208546876387"
      ]
     },
     "execution_count": 91,
     "metadata": {},
     "output_type": "execute_result"
    }
   ],
   "source": [
    "print(prob_path1 + prob_path2 + prob_path3 + prob_path4 + prob_path5)\n",
    "print(prob_path1*path1 + prob_path2*path2 + prob_path3*path3 + prob_path4*path4 + prob_path5*path5)"
   ]
  }
 ],
 "metadata": {
  "kernelspec": {
   "display_name": "pptis_wv",
   "language": "python",
   "name": "python3"
  },
  "language_info": {
   "codemirror_mode": {
    "name": "ipython",
    "version": 3
   },
   "file_extension": ".py",
   "mimetype": "text/x-python",
   "name": "python",
   "nbconvert_exporter": "python",
   "pygments_lexer": "ipython3",
   "version": "3.8.18"
  }
 },
 "nbformat": 4,
 "nbformat_minor": 2
}
