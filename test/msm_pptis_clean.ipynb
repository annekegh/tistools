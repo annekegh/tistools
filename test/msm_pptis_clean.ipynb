{
 "cells": [
  {
   "cell_type": "markdown",
   "metadata": {},
   "source": [
    "# Analyzing (RE)PPTIS simulations using an MSM approach\n",
    "This notebook contains an example workflow that can be used for estimating the crossing probability and pathlengths of a (RE)PPTIS simulation."
   ]
  },
  {
   "cell_type": "markdown",
   "metadata": {},
   "source": [
    "## 1. Import the necessary functions"
   ]
  },
  {
   "cell_type": "code",
   "execution_count": 5,
   "metadata": {},
   "outputs": [
    {
     "name": "stdout",
     "output_type": "stream",
     "text": [
      "The autoreload extension is already loaded. To reload it, use:\n",
      "  %reload_ext autoreload\n"
     ]
    }
   ],
   "source": [
    "%load_ext autoreload\n",
    "%autoreload 2\n",
    "%matplotlib qt\n",
    "\n",
    "import matplotlib.pyplot as plt\n",
    "from pprint import pprint    # to print the vars of the pathensemble object\n",
    "import numpy as np\n",
    "import os\n",
    "import glob\n",
    "\n",
    "# Reading\n",
    "from tistools import read_inputfile, get_LMR_interfaces, read_pathensemble, get_weights\n",
    "from tistools import set_tau_distrib, set_tau_first_hit_M_distrib, cross_dist_distr, pathlength_distr\n",
    "from tistools import collect_tau, collect_tau1, collect_tau2, collect_taum\n",
    "from tistools import ACCFLAGS, REJFLAGS\n",
    "\n",
    "# REPPTIS analysis\n",
    "from tistools import get_lmr_masks, get_generation_mask, get_flag_mask, select_with_masks\n",
    "from tistools import unwrap_by_weight, running_avg_local_probs, get_local_probs, get_globall_probs, get_global_probz\n",
    "\n",
    "# MSM functions\n",
    "from tistools import construct_M\n",
    "from tistools import global_cross_prob\n",
    "from tistools import mfpt_to_first_last_state, construct_tau_vector\n",
    "from tistools import create_labels_states, print_vector"
   ]
  },
  {
   "cell_type": "markdown",
   "metadata": {},
   "source": [
    "## 2. Load the simulation data"
   ]
  },
  {
   "cell_type": "code",
   "execution_count": 32,
   "metadata": {},
   "outputs": [
    {
     "name": "stdout",
     "output_type": "stream",
     "text": [
      "/mnt/0bf0c339-34bb-4500-a5fb-f3c2a863de29/DATA/PyRETIS3/toytis/simulations/sim_istarwell0_2108\n",
      "['/mnt/0bf0c339-34bb-4500-a5fb-f3c2a863de29/DATA/PyRETIS3/toytis/simulations/sim_istarwell0_2108/000', '/mnt/0bf0c339-34bb-4500-a5fb-f3c2a863de29/DATA/PyRETIS3/toytis/simulations/sim_istarwell0_2108/001', '/mnt/0bf0c339-34bb-4500-a5fb-f3c2a863de29/DATA/PyRETIS3/toytis/simulations/sim_istarwell0_2108/002', '/mnt/0bf0c339-34bb-4500-a5fb-f3c2a863de29/DATA/PyRETIS3/toytis/simulations/sim_istarwell0_2108/003', '/mnt/0bf0c339-34bb-4500-a5fb-f3c2a863de29/DATA/PyRETIS3/toytis/simulations/sim_istarwell0_2108/004']\n"
     ]
    }
   ],
   "source": [
    "\n",
    "# Set the working directory\n",
    "indir = \"/Users/an/Documents/0_mfpt/repptis1/\"  \n",
    "\n",
    "indir = \"/mnt/0bf0c339-34bb-4500-a5fb-f3c2a863de29/DATA/PyRETIS3/toytis/simulations/sim_istarwell0_2108\"\n",
    "# indir = \"/mnt/0bf0c339-34bb-4500-a5fb-f3c2a863de29/DATA/PyRETIS3/toytis/simulations/sim_repptismazegap2708\"\n",
    "# indir = \"/mnt/0bf0c339-34bb-4500-a5fb-f3c2a863de29/DATA/i_star/simulations/RETIS_flat_br_noswap\"\n",
    "\n",
    "# zero_minus_one = True if lambda_-1 interface is set\n",
    "# zero_minus_one = False if lambda_-1 interface is not set\n",
    "zero_minus_one = False\n",
    "\n",
    "inputfile = indir + \"/repptis.rst\"    # When using PyRETIS, the input file for REPPTIS simulations is a .rst file\n",
    "\n",
    "# Move to working directory\n",
    "os.chdir(indir)\n",
    "print(os.getcwd())\n",
    "\n",
    "# Set the ensemble folders and print them\n",
    "folders = glob.glob(indir + \"/0[0-9][0-9]\")\n",
    "folders = sorted(folders)\n",
    "print(folders)"
   ]
  },
  {
   "cell_type": "code",
   "execution_count": 33,
   "metadata": {},
   "outputs": [
    {
     "name": "stdout",
     "output_type": "stream",
     "text": [
      "################################################################################\n",
      "/mnt/0bf0c339-34bb-4500-a5fb-f3c2a863de29/DATA/PyRETIS3/toytis/simulations/sim_istarwell0_2108/000\n",
      "pathensemble info: \n",
      "{'cyclenumbers': array([    0,     1,     2, ..., 49998, 49999, 50000]),\n",
      " 'flags': array(['ACC', 'ACC', 'ACC', ..., 'ACC', 'SWD', 'ACC'], dtype='<U3'),\n",
      " 'generation': array(['ld', 'sh', 'sh', ..., 'sh', 's+', 'sh'], dtype='<U2'),\n",
      " 'has_zero_minus_one': False,\n",
      " 'in_zero_minus': True,\n",
      " 'in_zero_plus': False,\n",
      " 'interfaces': [[-0.35, -0.35, -0.35], ['l_[0]', 'l_[0]', 'l_[0]']],\n",
      " 'lambmaxs': array([-0.3487675 , -0.34388951, -0.34248775, ..., -0.34436117,\n",
      "       -0.34436117, -0.34378648]),\n",
      " 'lambmins': array([-0.56983144, -0.5693401 , -0.59610072, ..., -0.55420724,\n",
      "       -0.55420724, -0.52922641]),\n",
      " 'lengths': array([119, 105,  90, ...,  95,  95,  95]),\n",
      " 'lmrs': array(['RMR', 'RMR', 'RMR', ..., 'RMR', 'RMR', 'RMR'], dtype='<U3'),\n",
      " 'name': '/mnt/0bf0c339-34bb-4500-a5fb-f3c2a863de29/DATA/PyRETIS3/toytis/simulations/sim_istarwell0_2108/000',\n",
      " 'ncycle': 50001,\n",
      " 'newpathnumbers': array([    0,     1,     2, ..., 34699, 34699, 34700]),\n",
      " 'orders': None,\n",
      " 'pathnumbers': array([    1,     2,     3, ..., 38611, 38611, 38612]),\n",
      " 'shootlinks': array([None, None, None, ..., None, None, None], dtype=object),\n",
      " 'totaltime': 6112840,\n",
      " 'weights': array([1, 1, 1, ..., 2, 0, 1])}\n",
      "################################################################################\n",
      "/mnt/0bf0c339-34bb-4500-a5fb-f3c2a863de29/DATA/PyRETIS3/toytis/simulations/sim_istarwell0_2108/001\n",
      "pathensemble info: \n",
      "{'cyclenumbers': array([    0,     1,     2, ..., 49998, 49999, 50000]),\n",
      " 'flags': array(['ACC', 'ACC', 'ACC', ..., 'FTL', 'SWD', 'ACC'], dtype='<U3'),\n",
      " 'generation': array(['ld', 'sh', 'sh', ..., 'sh', 's-', 'sh'], dtype='<U2'),\n",
      " 'has_zero_minus_one': False,\n",
      " 'in_zero_minus': False,\n",
      " 'in_zero_plus': True,\n",
      " 'interfaces': [[-0.35, -0.35, -0.25], ['l_[0]', 'l_[0]', 'l_[1]']],\n",
      " 'lambmaxs': array([-0.31480008,  0.35445798, -0.32265928, ..., -0.29050922,\n",
      "        0.35234331,  0.35060706]),\n",
      " 'lambmins': array([-0.35039297, -0.35302358, -0.35352415, ..., -0.3517721 ,\n",
      "       -0.3505706 , -0.35014744]),\n",
      " 'lengths': array([ 67, 821,  61, ...,  33, 109, 112]),\n",
      " 'lmrs': array(['LML', 'LMR', 'LML', ..., 'LM*', 'LMR', 'LMR'], dtype='<U3'),\n",
      " 'name': '/mnt/0bf0c339-34bb-4500-a5fb-f3c2a863de29/DATA/PyRETIS3/toytis/simulations/sim_istarwell0_2108/001',\n",
      " 'ncycle': 50001,\n",
      " 'newpathnumbers': array([    0,     1,     2, ..., 25869, 25869, 25870]),\n",
      " 'orders': None,\n",
      " 'pathnumbers': array([    1,     2,     3, ..., 29503, 29503, 29504]),\n",
      " 'shootlinks': array([None, None, None, ..., None, None, None], dtype=object),\n",
      " 'totaltime': 9247652,\n",
      " 'weights': array([1, 1, 1, ..., 0, 0, 1])}\n",
      "################################################################################\n",
      "/mnt/0bf0c339-34bb-4500-a5fb-f3c2a863de29/DATA/PyRETIS3/toytis/simulations/sim_istarwell0_2108/002\n",
      "pathensemble info: \n",
      "{'cyclenumbers': array([    0,     1,     2, ..., 49998, 49999, 50000]),\n",
      " 'flags': array(['ACC', 'ACC', 'NCR', ..., 'BTL', 'ACC', 'FTL'], dtype='<U3'),\n",
      " 'generation': array(['ld', 'sh', 'sh', ..., 'sh', 's+', 'sh'], dtype='<U2'),\n",
      " 'has_zero_minus_one': False,\n",
      " 'in_zero_minus': False,\n",
      " 'in_zero_plus': False,\n",
      " 'interfaces': [[-0.35, -0.25, 0.0], ['l_[0]', 'l_[1]', 'l_[2]']],\n",
      " 'lambmaxs': array([ 0.35232589,  0.35255641,  0.00145078, ..., -0.0900328 ,\n",
      "        0.35091228,  0.00150376]),\n",
      " 'lambmins': array([-0.3526498 , -0.35053612, -0.19816263, ..., -0.17787037,\n",
      "       -0.35643467, -0.1421548 ]),\n",
      " 'lengths': array([410, 518, 113, ...,  52, 286,  42]),\n",
      " 'lmrs': array(['LMR', 'RML', 'R*R', ..., '***', 'RML', 'R**'], dtype='<U3'),\n",
      " 'name': '/mnt/0bf0c339-34bb-4500-a5fb-f3c2a863de29/DATA/PyRETIS3/toytis/simulations/sim_istarwell0_2108/002',\n",
      " 'ncycle': 50001,\n",
      " 'newpathnumbers': array([    0,     1,     1, ..., 18061, 18061, 18061]),\n",
      " 'orders': None,\n",
      " 'pathnumbers': array([    1,     2,     2, ..., 22460, 22461, 22461]),\n",
      " 'shootlinks': array([None, None, None, ..., None, None, None], dtype=object),\n",
      " 'totaltime': 9385991,\n",
      " 'weights': array([1, 6, 0, ..., 0, 2, 0])}\n",
      "################################################################################\n",
      "/mnt/0bf0c339-34bb-4500-a5fb-f3c2a863de29/DATA/PyRETIS3/toytis/simulations/sim_istarwell0_2108/003\n",
      "pathensemble info: \n",
      "{'cyclenumbers': array([    0,     1,     2, ..., 49998, 49999, 50000]),\n",
      " 'flags': array(['ACC', 'ACC', 'BTL', ..., 'ACC', 'ACC', 'BTL'], dtype='<U3'),\n",
      " 'generation': array(['ld', 'sh', 'sh', ..., 'sh', 's-', 'sh'], dtype='<U2'),\n",
      " 'has_zero_minus_one': False,\n",
      " 'in_zero_minus': False,\n",
      " 'in_zero_plus': False,\n",
      " 'interfaces': [[-0.25, 0.0, 0.25], ['l_[1]', 'l_[2]', 'l_[3]']],\n",
      " 'lambmaxs': array([0.26603127, 0.30695028, 0.01839028, ..., 0.35091228, 0.3580547 ,\n",
      "       0.14056679]),\n",
      " 'lambmins': array([-0.35092575, -0.35488513, -0.1448125 , ..., -0.35643467,\n",
      "       -0.35789775, -0.05256021]),\n",
      " 'lengths': array([2295,  185,   72, ...,  286,   91,  103]),\n",
      " 'lmrs': array(['RML', 'RML', '*M*', ..., 'RML', 'RML', '*M*'], dtype='<U3'),\n",
      " 'name': '/mnt/0bf0c339-34bb-4500-a5fb-f3c2a863de29/DATA/PyRETIS3/toytis/simulations/sim_istarwell0_2108/003',\n",
      " 'ncycle': 50001,\n",
      " 'newpathnumbers': array([    0,     1,     1, ..., 19468, 19468, 19468]),\n",
      " 'orders': None,\n",
      " 'pathnumbers': array([    1,     2,     2, ..., 23838, 23839, 23839]),\n",
      " 'shootlinks': array([None, None, None, ..., None, None, None], dtype=object),\n",
      " 'totaltime': 17859697,\n",
      " 'weights': array([1, 2, 0, ..., 1, 2, 0])}\n",
      "################################################################################\n",
      "/mnt/0bf0c339-34bb-4500-a5fb-f3c2a863de29/DATA/PyRETIS3/toytis/simulations/sim_istarwell0_2108/004\n",
      "pathensemble info: \n",
      "{'cyclenumbers': array([    0,     1,     2, ..., 49998, 49999, 50000]),\n",
      " 'flags': array(['ACC', 'FTL', 'NCR', ..., 'ACC', 'ACC', 'ACC'], dtype='<U3'),\n",
      " 'generation': array(['ld', 'sh', 'sh', ..., 'sh', '00', 'sh'], dtype='<U2'),\n",
      " 'has_zero_minus_one': False,\n",
      " 'in_zero_minus': False,\n",
      " 'in_zero_plus': False,\n",
      " 'interfaces': [[0.0, 0.25, 0.35], ['l_[2]', 'l_[3]', 'l_[4]']],\n",
      " 'lambmaxs': array([0.35006786, 0.22584216, 0.0826104 , ..., 0.35178728, 0.35178728,\n",
      "       0.35184866]),\n",
      " 'lambmins': array([-0.23093122, -0.00608605, -0.00249788, ..., -0.36078143,\n",
      "       -0.36078143, -0.35138109]),\n",
      " 'lengths': array([385, 107,  43, ..., 111, 111, 147]),\n",
      " 'lmrs': array(['RML', 'L**', 'L*L', ..., 'LMR', 'LMR', 'LMR'], dtype='<U3'),\n",
      " 'name': '/mnt/0bf0c339-34bb-4500-a5fb-f3c2a863de29/DATA/PyRETIS3/toytis/simulations/sim_istarwell0_2108/004',\n",
      " 'ncycle': 50001,\n",
      " 'newpathnumbers': array([    0,     0,     0, ..., 18310, 18310, 18311]),\n",
      " 'orders': None,\n",
      " 'pathnumbers': array([    1,     1,     1, ..., 23017, 23018, 23019]),\n",
      " 'shootlinks': array([None, None, None, ..., None, None, None], dtype=object),\n",
      " 'totaltime': 9418997,\n",
      " 'weights': array([4, 0, 0, ..., 1, 1, 1])}\n"
     ]
    }
   ],
   "source": [
    "# Reading all input\n",
    "#===================\n",
    "interfaces, zero_left, timestep = read_inputfile(inputfile)\n",
    "LMR_interfaces, LMR_strings = get_LMR_interfaces(interfaces, zero_left)\n",
    "pathensembles = []\n",
    "for i,fol in enumerate(folders):\n",
    "    print(\"#\"*80)\n",
    "    print(fol)\n",
    "    pe = read_pathensemble(fol+\"/pathensemble.txt\")\n",
    "    pe.set_name(fol)\n",
    "    pe.set_interfaces([LMR_interfaces[i], LMR_strings[i]])\n",
    "    if i==0:\n",
    "        pe.set_zero_minus_one(zero_minus_one)   # TODO this is never used\n",
    "        pe.set_in_zero_minus(True)\n",
    "    if i==1:\n",
    "        pe.set_in_zero_plus(True)\n",
    "    w, _ = get_weights(pe.flags, ACCFLAGS, REJFLAGS, verbose = False)\n",
    "    pe.set_weights(w)\n",
    "    print(\"pathensemble info: \")\n",
    "    pprint(vars(pe))\n",
    "    pathensembles.append(pe)\n",
    "\n",
    "    \n",
    "    # Read order parameters order.txt/order.npy into path ensemble object, or load from order.npy file.\n",
    "    # Saving order parameter files allows to speed up this notebook.\n",
    "    #### CHANGE HERE ####\n",
    "    pe.set_orders(load=False, acc_only=True, save=True)        # for the 1st time you run this notebook for a certain simulation, this will store .npy files\n",
    "    # pe.set_orders(load=True, acc_only=True)                  # for the next times, you can read npy files (save=True/False is not important)\n",
    "    # pe.set_orders(load=False, acc_only=True, save=False)     # if saving doesn't work"
   ]
  },
  {
   "cell_type": "markdown",
   "metadata": {},
   "source": [
    "## 3. Regular (RE)PPTIS analysis using tistools"
   ]
  },
  {
   "cell_type": "markdown",
   "metadata": {},
   "source": [
    "### Analyze the REPPTIS simulation."
   ]
  },
  {
   "cell_type": "code",
   "execution_count": 25,
   "metadata": {},
   "outputs": [
    {
     "name": "stdout",
     "output_type": "stream",
     "text": [
      "doing pathensemble 0\n",
      "doing pathensemble 1\n",
      "Weights of the different paths:\n",
      "wRMR = 0\n",
      "wRML = 7869\n",
      "wLMR = 8276\n",
      "wLML = 83851\n",
      "Local crossing probabilities:\n",
      "pRMR = 0.0\n",
      "pRML = 1.0\n",
      "pLMR = 0.08983251381245455\n",
      "pLML = 0.9101674861875455\n",
      "Local crossing probabilities:\n",
      "p2R = 0.0827633105324213\n",
      "p2L = 0.9172366894675787\n",
      "doing pathensemble 2\n",
      "Weights of the different paths:\n",
      "wRMR = 177\n",
      "wRML = 4322\n",
      "wLMR = 4251\n",
      "wLML = 91246\n",
      "Local crossing probabilities:\n",
      "pRMR = 0.039342076016892644\n",
      "pRML = 0.9606579239831073\n",
      "pLMR = 0.04451448736609527\n",
      "pLML = 0.9554855126339047\n",
      "Local crossing probabilities:\n",
      "p2R = 0.04428177127085083\n",
      "p2L = 0.9557182287291491\n",
      "doing pathensemble 3\n",
      "Weights of the different paths:\n",
      "wRMR = 15087\n",
      "wRML = 13896\n",
      "wLMR = 14073\n",
      "wLML = 56940\n",
      "Local crossing probabilities:\n",
      "pRMR = 0.5205465272746093\n",
      "pRML = 0.47945347272539074\n",
      "pLMR = 0.19817498204554096\n",
      "pLML = 0.801825017954459\n",
      "Local crossing probabilities:\n",
      "p2R = 0.29161166446657866\n",
      "p2L = 0.7083883355334213\n",
      "doing pathensemble 4\n",
      "Weights of the different paths:\n",
      "wRMR = 15145\n",
      "wRML = 26005\n",
      "wLMR = 26934\n",
      "wLML = 31912\n",
      "Local crossing probabilities:\n",
      "pRMR = 0.3680437424058323\n",
      "pRML = 0.6319562575941676\n",
      "pLMR = 0.4577031573938755\n",
      "pLML = 0.5422968426061244\n",
      "Local crossing probabilities:\n",
      "p2R = 0.4208068322732909\n",
      "p2L = 0.579193167726709\n",
      "doing pathensemble 5\n",
      "Weights of the different paths:\n",
      "wRMR = 8555\n",
      "wRML = 17668\n",
      "wLMR = 17755\n",
      "wLML = 56017\n",
      "Local crossing probabilities:\n",
      "pRMR = 0.32624032338023873\n",
      "pRML = 0.6737596766197613\n",
      "pLMR = 0.24067396844331182\n",
      "pLML = 0.7593260315566882\n",
      "Local crossing probabilities:\n",
      "p2R = 0.26311315565778287\n",
      "p2L = 0.7368868443422171\n"
     ]
    },
    {
     "name": "stderr",
     "output_type": "stream",
     "text": [
      "/home/elias/anaconda3/envs/pastime/lib/python3.10/site-packages/tistools/repptis_analysis.py:555: RuntimeWarning: invalid value encountered in divide\n",
      "  p_PP = cumsums['RMR']/(cumsums['RML']+cumsums['RMR'])\n",
      "/home/elias/anaconda3/envs/pastime/lib/python3.10/site-packages/tistools/repptis_analysis.py:556: RuntimeWarning: invalid value encountered in divide\n",
      "  p_PN = cumsums['RML']/(cumsums['RML']+cumsums['RMR'])\n"
     ]
    }
   ],
   "source": [
    "# Analysis output is saved to the data dictionary.\n",
    "data = {}\n",
    "for i, pe in enumerate(pathensembles):\n",
    "    print(\"doing pathensemble {}\".format(i))\n",
    "    if i == 0:\n",
    "        data[i] = {}\n",
    "        continue  #  [0-] is not used for Pcross calculations\n",
    "\n",
    "    # Classify the paths according to their path type.\n",
    "    pathtypes = (\"LML\", \"LMR\", \"RML\", \"RMR\")\n",
    "    pathtype_cycles = {}\n",
    "    for ptype in pathtypes:\n",
    "        pathtype_cycles[ptype] = unwrap_by_weight(\n",
    "                (pe.lmrs == ptype).astype(int), pe.weights)\n",
    "    \n",
    "    # Running average analysis: [\"running\"]\n",
    "    data[i] = {}\n",
    "    data[i][\"running\"] = {}\n",
    "    data[i][\"running\"][\"plocal\"] = {}\n",
    "    for (ptype, p_loc) in zip(pathtypes, \n",
    "                              running_avg_local_probs(pathtype_cycles, \n",
    "                                                      pe.weights, tr = False)):\n",
    "        data[i][\"running\"][\"plocal\"][ptype] = p_loc\n",
    "\n",
    "    # Analysis using all data: [\"full\"]\n",
    "    plocfull = get_local_probs(pe, tr=False)\n",
    "    data[i][\"full\"] = {}\n",
    "    for ptype in pathtypes:\n",
    "        data[i][\"full\"][ptype] = plocfull[ptype]\n",
    "\n",
    "    # data[i] have now [\"full\"] and [\"running\"]"
   ]
  },
  {
   "cell_type": "markdown",
   "metadata": {},
   "source": [
    "### Generate pathlength distribution figures, as in PyRETIS reports."
   ]
  },
  {
   "cell_type": "code",
   "execution_count": 26,
   "metadata": {
    "scrolled": true
   },
   "outputs": [
    {
     "name": "stdout",
     "output_type": "stream",
     "text": [
      "Are all weights 1?  True\n",
      "Are all paths accepted?  True\n",
      "Are all weights 1?  True\n",
      "Are all paths accepted?  True\n",
      "Are all weights 1?  True\n",
      "Are all paths accepted?  True\n",
      "Are all weights 1?  True\n",
      "Are all paths accepted?  True\n",
      "Are all weights 1?  True\n",
      "Are all paths accepted?  True\n",
      "Are all weights 1?  True\n",
      "Are all paths accepted?  True\n"
     ]
    },
    {
     "name": "stderr",
     "output_type": "stream",
     "text": [
      "/home/elias/anaconda3/envs/pastime/lib/python3.10/site-packages/numpy/core/fromnumeric.py:3504: RuntimeWarning: Mean of empty slice.\n",
      "  return _methods._mean(a, axis=axis, dtype=dtype,\n",
      "/home/elias/anaconda3/envs/pastime/lib/python3.10/site-packages/numpy/core/_methods.py:129: RuntimeWarning: invalid value encountered in scalar divide\n",
      "  ret = ret.dtype.type(ret / rcount)\n",
      "/home/elias/anaconda3/envs/pastime/lib/python3.10/site-packages/numpy/core/_methods.py:206: RuntimeWarning: Degrees of freedom <= 0 for slice\n",
      "  ret = _var(a, axis=axis, dtype=dtype, out=out, ddof=ddof,\n",
      "/home/elias/anaconda3/envs/pastime/lib/python3.10/site-packages/numpy/core/_methods.py:163: RuntimeWarning: invalid value encountered in divide\n",
      "  arrmean = um.true_divide(arrmean, div, out=arrmean,\n",
      "/home/elias/anaconda3/envs/pastime/lib/python3.10/site-packages/numpy/core/_methods.py:198: RuntimeWarning: invalid value encountered in scalar divide\n",
      "  ret = ret.dtype.type(ret / rcount)\n"
     ]
    }
   ],
   "source": [
    "for i, pe in enumerate(pathensembles):\n",
    "    upe = pe.unify_pe()\n",
    "    # Pathlength distribution\n",
    "    data[i][\"pathlengths\"] = pathlength_distr(upe)  # these might be used later or not! TODO\n",
    "        \n",
    "#=======================================\n",
    "# make figures\n",
    "makefigs = True \n",
    "if makefigs:\n",
    "    for i, pe in enumerate(pathensembles):     \n",
    "        if i == 0:\n",
    "            continue\n",
    "        # Cross distances distribution\n",
    "        L, M, R, lmlpercs, lmllambs, rmrpercs, rmrlambs = cross_dist_distr(pe)\n",
    "        fig,ax = plt.subplots()\n",
    "        ax.plot(lmllambs, lmlpercs, lw=1, c=\"g\")\n",
    "        ax.plot(rmrlambs, rmrpercs, lw=1, c=\"r\")\n",
    "        for lamb in (L,M,R):\n",
    "            ax.axvline(lamb, color='k', linestyle='--', lw = 0.5)\n",
    "        ax.set_xlabel('Cross distance')\n",
    "        ax.set_ylabel('Frequency')\n",
    "        ax.set_title(\"Ensemble {}. L = {}, M = {}, R = {}\".format(\n",
    "            pe.name, L, M, R))\n",
    "        ax.set_ylim(0)\n",
    "        fig.savefig(f\"pathensemble_{i}_crossdist.pdf\")\n",
    "        plt.close(fig)\n",
    "\n",
    "        # Pathlength distribution      \n",
    "        for ptype in pathtypes:\n",
    "            fig, ax = plt.subplots()\n",
    "            ax.plot(data[i][\"pathlengths\"][ptype][\"bin_centers\"], \n",
    "                data[i][\"pathlengths\"][ptype][\"hist\"])\n",
    "            ax.set_xlabel('Pathlength')\n",
    "            ax.set_ylabel('Frequency')\n",
    "            ax.set_title(f\"{np.sum(data[i]['pathlengths'][ptype]['hist'])} \" + \\\n",
    "                         f\"{ptype} paths. \")\n",
    "            ax.legend([f\"mean = {data[i]['pathlengths'][ptype]['mean']:.2f}, \" + \\\n",
    "                          f\"std = {data[i]['pathlengths'][ptype]['std']:.2f}\"])\n",
    "            fig.savefig(f\"pathensemble_{i}_pathlength_{ptype}.pdf\")\n",
    "            plt.close(fig)"
   ]
  },
  {
   "cell_type": "markdown",
   "metadata": {},
   "source": [
    "### Compute Pcross using in-house functions"
   ]
  },
  {
   "cell_type": "code",
   "execution_count": 27,
   "metadata": {},
   "outputs": [],
   "source": [
    "# Global crossing probabilities (no error analysis)  \n",
    "psfull = []\n",
    "for i in range(1, len(pathensembles)):   # do not use the 0- ensemble\n",
    "    psfull.append({\"LMR\": data[i][\"full\"][\"LMR\"], \n",
    "               \"RML\": data[i][\"full\"][\"RML\"], \n",
    "               \"RMR\": data[i][\"full\"][\"RMR\"],\n",
    "               \"LML\": data[i][\"full\"][\"LML\"]})\n",
    "\n",
    "Pminfull, Pplusfull, Pcrossfull = get_globall_probs(psfull)"
   ]
  },
  {
   "cell_type": "code",
   "execution_count": 28,
   "metadata": {},
   "outputs": [
    {
     "name": "stdout",
     "output_type": "stream",
     "text": [
      "This should be the same as the repptis_report.pdf value: 0.00022509738028915336\n",
      "which is the case!\n",
      "[1.0, 0.08983251381245455, 0.003998848301169087, 0.000818284863374898, 0.0005233694222147923, 0.00022509738028915336]\n",
      "[0.08983251381245455, 0.04451448736609527, 0.20463013391522442, 0.6395931852585303, 0.43009272367611256]\n",
      "Here, the load immediately disappeared. For a simulation where this is\n",
      "not the case, the above code should be adapted a little bit.\n"
     ]
    },
    {
     "name": "stderr",
     "output_type": "stream",
     "text": [
      "/tmp/ipykernel_674626/76830505.py:42: UserWarning: Matplotlib is currently using module://matplotlib_inline.backend_inline, which is a non-GUI backend, so cannot show the figure.\n",
      "  fig.show()\n"
     ]
    },
    {
     "data": {
      "image/png": "[encoded data removed]",
      "text/plain": [
       "<Figure size 640x480 with 1 Axes>"
      ]
     },
     "metadata": {},
     "output_type": "display_data"
    }
   ],
   "source": [
    "# Make a figure of the global crossing probabilities\n",
    "fig, ax = plt.subplots()\n",
    "ax.set_yscale(\"log\")\n",
    "ax.plot(Pcrossfull, \"o\", c = \"r\")\n",
    "ax.errorbar([i for i in range(len(Pcrossfull))], Pcrossfull, fmt=\"-o\", c = \"b\", ecolor=\"r\", capsize=6)\n",
    "\n",
    "\n",
    "ax.set_xlabel(\"intf\")\n",
    "ax.set_ylabel(r\"$P_A(\\lambda_i|\\lambda_A)$\")\n",
    "ax.set_xticks(np.arange(len(interfaces)))\n",
    "fig.tight_layout()\n",
    "fig.show()\n",
    "fig.savefig(\"Global_probs.pdf\")\n",
    "\n",
    "print(\"This should be the same as the repptis_report.pdf value:\", Pcrossfull[-1])\n",
    "print(\"which is the case!\")\n",
    "print(Pcrossfull)\n",
    "print([Pcrossfull[i]/Pcrossfull[i-1] for i in range(1,len(Pcrossfull))])\n",
    "print(\"Here, the load immediately disappeared. For a simulation where this is\")\n",
    "print(\"not the case, the above code should be adapted a little bit.\")"
   ]
  },
  {
   "cell_type": "code",
   "execution_count": null,
   "metadata": {},
   "outputs": [
    {
     "ename": "KeyError",
     "evalue": "5",
     "output_type": "error",
     "traceback": [
      "\u001b[0;31m---------------------------------------------------------------------------\u001b[0m",
      "\u001b[0;31mKeyError\u001b[0m                                  Traceback (most recent call last)",
      "Cell \u001b[0;32mIn[65], line 7\u001b[0m\n\u001b[1;32m      1\u001b[0m \u001b[38;5;66;03m# TODO I am not sure what this is\u001b[39;00m\n\u001b[1;32m      2\u001b[0m \n\u001b[1;32m      3\u001b[0m \u001b[38;5;66;03m# Construct lists of the local probs\u001b[39;00m\n\u001b[1;32m      4\u001b[0m \n\u001b[1;32m      5\u001b[0m \u001b[38;5;66;03m# Or we can use the get_global_probz function, using lists of the local probs\u001b[39;00m\n\u001b[1;32m      6\u001b[0m \u001b[38;5;66;03m# These do not use the 0- ensemble\u001b[39;00m\n\u001b[0;32m----> 7\u001b[0m pmps \u001b[38;5;241m=\u001b[39m [data[i][\u001b[38;5;124m\"\u001b[39m\u001b[38;5;124mfull\u001b[39m\u001b[38;5;124m\"\u001b[39m][\u001b[38;5;124m\"\u001b[39m\u001b[38;5;124mLMR\u001b[39m\u001b[38;5;124m\"\u001b[39m] \u001b[38;5;28;01mfor\u001b[39;00m i \u001b[38;5;129;01min\u001b[39;00m \u001b[38;5;28mrange\u001b[39m(\u001b[38;5;241m1\u001b[39m,\u001b[38;5;28mlen\u001b[39m(pathensembles))]\n\u001b[1;32m      8\u001b[0m pmms \u001b[38;5;241m=\u001b[39m [data[i][\u001b[38;5;124m\"\u001b[39m\u001b[38;5;124mfull\u001b[39m\u001b[38;5;124m\"\u001b[39m][\u001b[38;5;124m\"\u001b[39m\u001b[38;5;124mLML\u001b[39m\u001b[38;5;124m\"\u001b[39m] \u001b[38;5;28;01mfor\u001b[39;00m i \u001b[38;5;129;01min\u001b[39;00m \u001b[38;5;28mrange\u001b[39m(\u001b[38;5;241m1\u001b[39m,\u001b[38;5;28mlen\u001b[39m(pathensembles))]\n\u001b[1;32m      9\u001b[0m ppps \u001b[38;5;241m=\u001b[39m [data[i][\u001b[38;5;124m\"\u001b[39m\u001b[38;5;124mfull\u001b[39m\u001b[38;5;124m\"\u001b[39m][\u001b[38;5;124m\"\u001b[39m\u001b[38;5;124mRMR\u001b[39m\u001b[38;5;124m\"\u001b[39m] \u001b[38;5;28;01mfor\u001b[39;00m i \u001b[38;5;129;01min\u001b[39;00m \u001b[38;5;28mrange\u001b[39m(\u001b[38;5;241m1\u001b[39m,\u001b[38;5;28mlen\u001b[39m(pathensembles))]\n",
      "Cell \u001b[0;32mIn[65], line 7\u001b[0m, in \u001b[0;36m<listcomp>\u001b[0;34m(.0)\u001b[0m\n\u001b[1;32m      1\u001b[0m \u001b[38;5;66;03m# TODO I am not sure what this is\u001b[39;00m\n\u001b[1;32m      2\u001b[0m \n\u001b[1;32m      3\u001b[0m \u001b[38;5;66;03m# Construct lists of the local probs\u001b[39;00m\n\u001b[1;32m      4\u001b[0m \n\u001b[1;32m      5\u001b[0m \u001b[38;5;66;03m# Or we can use the get_global_probz function, using lists of the local probs\u001b[39;00m\n\u001b[1;32m      6\u001b[0m \u001b[38;5;66;03m# These do not use the 0- ensemble\u001b[39;00m\n\u001b[0;32m----> 7\u001b[0m pmps \u001b[38;5;241m=\u001b[39m [\u001b[43mdata\u001b[49m\u001b[43m[\u001b[49m\u001b[43mi\u001b[49m\u001b[43m]\u001b[49m[\u001b[38;5;124m\"\u001b[39m\u001b[38;5;124mfull\u001b[39m\u001b[38;5;124m\"\u001b[39m][\u001b[38;5;124m\"\u001b[39m\u001b[38;5;124mLMR\u001b[39m\u001b[38;5;124m\"\u001b[39m] \u001b[38;5;28;01mfor\u001b[39;00m i \u001b[38;5;129;01min\u001b[39;00m \u001b[38;5;28mrange\u001b[39m(\u001b[38;5;241m1\u001b[39m,\u001b[38;5;28mlen\u001b[39m(pathensembles))]\n\u001b[1;32m      8\u001b[0m pmms \u001b[38;5;241m=\u001b[39m [data[i][\u001b[38;5;124m\"\u001b[39m\u001b[38;5;124mfull\u001b[39m\u001b[38;5;124m\"\u001b[39m][\u001b[38;5;124m\"\u001b[39m\u001b[38;5;124mLML\u001b[39m\u001b[38;5;124m\"\u001b[39m] \u001b[38;5;28;01mfor\u001b[39;00m i \u001b[38;5;129;01min\u001b[39;00m \u001b[38;5;28mrange\u001b[39m(\u001b[38;5;241m1\u001b[39m,\u001b[38;5;28mlen\u001b[39m(pathensembles))]\n\u001b[1;32m      9\u001b[0m ppps \u001b[38;5;241m=\u001b[39m [data[i][\u001b[38;5;124m\"\u001b[39m\u001b[38;5;124mfull\u001b[39m\u001b[38;5;124m\"\u001b[39m][\u001b[38;5;124m\"\u001b[39m\u001b[38;5;124mRMR\u001b[39m\u001b[38;5;124m\"\u001b[39m] \u001b[38;5;28;01mfor\u001b[39;00m i \u001b[38;5;129;01min\u001b[39;00m \u001b[38;5;28mrange\u001b[39m(\u001b[38;5;241m1\u001b[39m,\u001b[38;5;28mlen\u001b[39m(pathensembles))]\n",
      "\u001b[0;31mKeyError\u001b[0m: 5"
     ]
    }
   ],
   "source": [
    "# TODO DONT INCLUDE??\n",
    "\n",
    "# Construct lists of the local probs\n",
    "\n",
    "# Or we can use the get_global_probz function, using lists of the local probs\n",
    "# These do not use the 0- ensemble\n",
    "pmps = [data[i][\"full\"][\"LMR\"] for i in range(1,len(pathensembles))]\n",
    "pmms = [data[i][\"full\"][\"LML\"] for i in range(1,len(pathensembles))]\n",
    "ppps = [data[i][\"full\"][\"RMR\"] for i in range(1,len(pathensembles))]\n",
    "ppms = [data[i][\"full\"][\"RML\"] for i in range(1,len(pathensembles))]\n",
    "a,b,c = get_global_probz(pmps, pmms, ppps, ppms)\n",
    "print(\"This should be the same as the repptis_report.pdf value:\", c[-1])"
   ]
  },
  {
   "cell_type": "markdown",
   "metadata": {},
   "source": [
    "## 4. Analysis using the MSM"
   ]
  },
  {
   "cell_type": "markdown",
   "metadata": {},
   "source": [
    "### Construct transition matrix M"
   ]
  },
  {
   "cell_type": "code",
   "execution_count": 78,
   "metadata": {},
   "outputs": [
    {
     "name": "stdout",
     "output_type": "stream",
     "text": [
      "[-0.35, -0.25, -0.12, 0.12, 0.25, 0.35]\n",
      "N 6\n",
      "len pmms 5\n",
      "NS 19\n"
     ]
    }
   ],
   "source": [
    "print(interfaces)\n",
    "N = len(interfaces)\n",
    "NS = 4*N-5\n",
    "print(\"N\", N)\n",
    "# print(\"len pmms\", len(pmms)) # TODO INCLUDE?\n",
    "print(\"NS\", NS)\n",
    "\n",
    "labels1, labels2 = create_labels_states(N)"
   ]
  },
  {
   "cell_type": "code",
   "execution_count": 79,
   "metadata": {},
   "outputs": [
    {
     "name": "stdout",
     "output_type": "stream",
     "text": [
      "mm [0.1761, 0.016558154489188973, 0.021047479197258932, 0.4185295340433017, 0.030242258944328575]\n",
      "mp [0.8239, 0.983441845510811, 0.9789525208027411, 0.5814704659566984, 0.9697577410556715]\n",
      "pm [nan, 0.9728083446134246, 0.5923196153481163, 0.9765082754938601, 0.9826073081219084]\n",
      "pp [nan, 0.027191655386575364, 0.4076803846518837, 0.023491724506139882, 0.01739269187809159]\n",
      "sum [1. 1. 1. 1. 1.]\n",
      "sum [nan  1.  1.  1.  1.]\n"
     ]
    }
   ],
   "source": [
    "print(\"mm\", pmms)\n",
    "print(\"mp\", pmps)\n",
    "print(\"pm\", ppms)\n",
    "print(\"pp\", ppps)\n",
    "print(\"sum\", np.array(pmms)+np.array(pmps))\n",
    "print(\"sum\", np.array(ppms)+np.array(ppps))\n",
    "if N > 3:  \n",
    "    M = construct_M(pmms, pmps, ppms, ppps, N)\n",
    "elif N == 3:\n",
    "    M = construct_M_N3(pmms, pmps, ppms, ppps, N)\n",
    "else:\n",
    "    raise ValueError(\"The amount of interfaces needs to be 3 at least!\")"
   ]
  },
  {
   "cell_type": "code",
   "execution_count": 80,
   "metadata": {
    "scrolled": true
   },
   "outputs": [
    {
     "name": "stdout",
     "output_type": "stream",
     "text": [
      "M\n",
      "shape (19, 19)\n",
      "sum prob in rows [1. 1. 1. 1. 1. 1. 1. 1. 1. 1. 1. 1. 1. 1. 1. 1. 1. 1. 1.]\n",
      "[[0.         0.1761     0.8239     0.         0.         0.\n",
      "  0.         0.         0.         0.         0.         0.\n",
      "  0.         0.         0.         0.         0.         0.\n",
      "  0.        ]\n",
      " [1.         0.         0.         0.         0.         0.\n",
      "  0.         0.         0.         0.         0.         0.\n",
      "  0.         0.         0.         0.         0.         0.\n",
      "  0.        ]\n",
      " [0.         0.         0.         0.         0.01655815 0.98344185\n",
      "  0.         0.         0.         0.         0.         0.\n",
      "  0.         0.         0.         0.         0.         0.\n",
      "  0.        ]\n",
      " [1.         0.         0.         0.         0.         0.\n",
      "  0.         0.         0.         0.         0.         0.\n",
      "  0.         0.         0.         0.         0.         0.\n",
      "  0.        ]\n",
      " [0.         0.         0.         1.         0.         0.\n",
      "  0.         0.         0.         0.         0.         0.\n",
      "  0.         0.         0.         0.         0.         0.\n",
      "  0.        ]\n",
      " [0.         0.         0.         0.         0.         0.\n",
      "  0.         0.         0.02104748 0.97895252 0.         0.\n",
      "  0.         0.         0.         0.         0.         0.\n",
      "  0.        ]\n",
      " [0.         0.         0.         1.         0.         0.\n",
      "  0.         0.         0.         0.         0.         0.\n",
      "  0.         0.         0.         0.         0.         0.\n",
      "  0.        ]\n",
      " [0.         0.         0.         0.         0.         0.\n",
      "  0.         0.         0.02104748 0.97895252 0.         0.\n",
      "  0.         0.         0.         0.         0.         0.\n",
      "  0.        ]\n",
      " [0.         0.         0.         0.         0.         0.\n",
      "  0.97280834 0.02719166 0.         0.         0.         0.\n",
      "  0.         0.         0.         0.         0.         0.\n",
      "  0.        ]\n",
      " [0.         0.         0.         0.         0.         0.\n",
      "  0.         0.         0.         0.         0.         0.\n",
      "  0.41852953 0.58147047 0.         0.         0.         0.\n",
      "  0.        ]\n",
      " [0.         0.         0.         0.         0.         0.\n",
      "  0.97280834 0.02719166 0.         0.         0.         0.\n",
      "  0.         0.         0.         0.         0.         0.\n",
      "  0.        ]\n",
      " [0.         0.         0.         0.         0.         0.\n",
      "  0.         0.         0.         0.         0.         0.\n",
      "  0.41852953 0.58147047 0.         0.         0.         0.\n",
      "  0.        ]\n",
      " [0.         0.         0.         0.         0.         0.\n",
      "  0.         0.         0.         0.         0.59231962 0.40768038\n",
      "  0.         0.         0.         0.         0.         0.\n",
      "  0.        ]\n",
      " [0.         0.         0.         0.         0.         0.\n",
      "  0.         0.         0.         0.         0.         0.\n",
      "  0.         0.         0.         0.         0.03024226 0.96975774\n",
      "  0.        ]\n",
      " [0.         0.         0.         0.         0.         0.\n",
      "  0.         0.         0.         0.         0.59231962 0.40768038\n",
      "  0.         0.         0.         0.         0.         0.\n",
      "  0.        ]\n",
      " [0.         0.         0.         0.         0.         0.\n",
      "  0.         0.         0.         0.         0.         0.\n",
      "  0.         0.         0.         0.         0.03024226 0.96975774\n",
      "  0.        ]\n",
      " [0.         0.         0.         0.         0.         0.\n",
      "  0.         0.         0.         0.         0.         0.\n",
      "  0.         0.         0.97650828 0.02349172 0.         0.\n",
      "  0.        ]\n",
      " [0.         0.         0.         0.         0.         0.\n",
      "  0.         0.         0.         0.         0.         0.\n",
      "  0.         0.         0.         0.         0.         0.\n",
      "  1.        ]\n",
      " [1.         0.         0.         0.         0.         0.\n",
      "  0.         0.         0.         0.         0.         0.\n",
      "  0.         0.         0.         0.         0.         0.\n",
      "  0.        ]]\n"
     ]
    }
   ],
   "source": [
    "# We can print the transition matrix M and check that all rows sum to 1.\n",
    "print(\"M\")\n",
    "print(\"shape\", M.shape)\n",
    "print(\"sum prob in rows\", np.sum(M,axis=1))\n",
    "print(M)"
   ]
  },
  {
   "cell_type": "markdown",
   "metadata": {},
   "source": [
    "### Look at this Markov model\n",
    "*INCLUDE?*"
   ]
  },
  {
   "cell_type": "code",
   "execution_count": 81,
   "metadata": {},
   "outputs": [
    {
     "name": "stdout",
     "output_type": "stream",
     "text": [
      "[ 1.00000000e+00+0.00000000e+00j  6.35365359e-01+6.64354935e-01j\n",
      "  6.35365359e-01-6.64354935e-01j -1.49294171e-01+8.33130641e-01j\n",
      " -1.49294171e-01-8.33130641e-01j -7.72015418e-01+3.61648400e-01j\n",
      " -7.72015418e-01-3.61648400e-01j -4.98789360e-01+0.00000000e+00j\n",
      "  3.53389090e-02+1.82639523e-01j  3.53389090e-02-1.82639523e-01j\n",
      " -1.11108283e-17+1.63367767e-08j -1.11108283e-17-1.63367767e-08j\n",
      " -3.18020432e-17+3.50405807e-17j -3.18020432e-17-3.50405807e-17j\n",
      "  1.05842551e-17+7.17858998e-18j  1.05842551e-17-7.17858998e-18j\n",
      " -3.01685416e-32+0.00000000e+00j  1.16602115e-32+0.00000000e+00j\n",
      "  0.00000000e+00+0.00000000e+00j]\n",
      "[ 1.00000000e+00+0.00000000e+00j  6.35365359e-01+6.64354935e-01j\n",
      "  6.35365359e-01-6.64354935e-01j -1.49294171e-01+8.33130641e-01j\n",
      " -1.49294171e-01-8.33130641e-01j -7.72015418e-01+3.61648400e-01j\n",
      " -7.72015418e-01-3.61648400e-01j -4.98789360e-01+0.00000000e+00j\n",
      "  3.53389090e-02+1.82639523e-01j  3.53389090e-02-1.82639523e-01j\n",
      "  3.65263208e-16+1.39580638e-09j  3.65263208e-16-1.39580638e-09j\n",
      "  8.59770721e-16+0.00000000e+00j  7.17427741e-18+6.61840641e-17j\n",
      "  7.17427741e-18-6.61840641e-17j -4.95104713e-17+0.00000000e+00j\n",
      "  1.58548482e-17+0.00000000e+00j -7.93399269e-18+0.00000000e+00j\n",
      "  2.21342149e-19+0.00000000e+00j]\n",
      "array([[0.        , 0.1761    , 0.8239    , 0.        , 0.        ,\n",
      "        0.        , 0.        , 0.        , 0.        , 0.        ,\n",
      "        0.        , 0.        , 0.        , 0.        , 0.        ,\n",
      "        0.        , 0.        , 0.        , 0.        ],\n",
      "       [1.        , 0.        , 0.        , 0.        , 0.        ,\n",
      "        0.        , 0.        , 0.        , 0.        , 0.        ,\n",
      "        0.        , 0.        , 0.        , 0.        , 0.        ,\n",
      "        0.        , 0.        , 0.        , 0.        ],\n",
      "       [0.        , 0.        , 0.        , 0.        , 0.01655815,\n",
      "        0.98344185, 0.        , 0.        , 0.        , 0.        ,\n",
      "        0.        , 0.        , 0.        , 0.        , 0.        ,\n",
      "        0.        , 0.        , 0.        , 0.        ],\n",
      "       [1.        , 0.        , 0.        , 0.        , 0.        ,\n",
      "        0.        , 0.        , 0.        , 0.        , 0.        ,\n",
      "        0.        , 0.        , 0.        , 0.        , 0.        ,\n",
      "        0.        , 0.        , 0.        , 0.        ],\n",
      "       [0.        , 0.        , 0.        , 1.        , 0.        ,\n",
      "        0.        , 0.        , 0.        , 0.        , 0.        ,\n",
      "        0.        , 0.        , 0.        , 0.        , 0.        ,\n",
      "        0.        , 0.        , 0.        , 0.        ],\n",
      "       [0.        , 0.        , 0.        , 0.        , 0.        ,\n",
      "        0.        , 0.        , 0.        , 0.02104748, 0.97895252,\n",
      "        0.        , 0.        , 0.        , 0.        , 0.        ,\n",
      "        0.        , 0.        , 0.        , 0.        ],\n",
      "       [0.        , 0.        , 0.        , 1.        , 0.        ,\n",
      "        0.        , 0.        , 0.        , 0.        , 0.        ,\n",
      "        0.        , 0.        , 0.        , 0.        , 0.        ,\n",
      "        0.        , 0.        , 0.        , 0.        ],\n",
      "       [0.        , 0.        , 0.        , 0.        , 0.        ,\n",
      "        0.        , 0.        , 0.        , 0.02104748, 0.97895252,\n",
      "        0.        , 0.        , 0.        , 0.        , 0.        ,\n",
      "        0.        , 0.        , 0.        , 0.        ],\n",
      "       [0.        , 0.        , 0.        , 0.        , 0.        ,\n",
      "        0.        , 0.97280834, 0.02719166, 0.        , 0.        ,\n",
      "        0.        , 0.        , 0.        , 0.        , 0.        ,\n",
      "        0.        , 0.        , 0.        , 0.        ],\n",
      "       [0.        , 0.        , 0.        , 0.        , 0.        ,\n",
      "        0.        , 0.        , 0.        , 0.        , 0.        ,\n",
      "        0.        , 0.        , 0.41852953, 0.58147047, 0.        ,\n",
      "        0.        , 0.        , 0.        , 0.        ],\n",
      "       [0.        , 0.        , 0.        , 0.        , 0.        ,\n",
      "        0.        , 0.97280834, 0.02719166, 0.        , 0.        ,\n",
      "        0.        , 0.        , 0.        , 0.        , 0.        ,\n",
      "        0.        , 0.        , 0.        , 0.        ],\n",
      "       [0.        , 0.        , 0.        , 0.        , 0.        ,\n",
      "        0.        , 0.        , 0.        , 0.        , 0.        ,\n",
      "        0.        , 0.        , 0.41852953, 0.58147047, 0.        ,\n",
      "        0.        , 0.        , 0.        , 0.        ],\n",
      "       [0.        , 0.        , 0.        , 0.        , 0.        ,\n",
      "        0.        , 0.        , 0.        , 0.        , 0.        ,\n",
      "        0.59231962, 0.40768038, 0.        , 0.        , 0.        ,\n",
      "        0.        , 0.        , 0.        , 0.        ],\n",
      "       [0.        , 0.        , 0.        , 0.        , 0.        ,\n",
      "        0.        , 0.        , 0.        , 0.        , 0.        ,\n",
      "        0.        , 0.        , 0.        , 0.        , 0.        ,\n",
      "        0.        , 0.03024226, 0.96975774, 0.        ],\n",
      "       [0.        , 0.        , 0.        , 0.        , 0.        ,\n",
      "        0.        , 0.        , 0.        , 0.        , 0.        ,\n",
      "        0.59231962, 0.40768038, 0.        , 0.        , 0.        ,\n",
      "        0.        , 0.        , 0.        , 0.        ],\n",
      "       [0.        , 0.        , 0.        , 0.        , 0.        ,\n",
      "        0.        , 0.        , 0.        , 0.        , 0.        ,\n",
      "        0.        , 0.        , 0.        , 0.        , 0.        ,\n",
      "        0.        , 0.03024226, 0.96975774, 0.        ],\n",
      "       [0.        , 0.        , 0.        , 0.        , 0.        ,\n",
      "        0.        , 0.        , 0.        , 0.        , 0.        ,\n",
      "        0.        , 0.        , 0.        , 0.        , 0.97650828,\n",
      "        0.02349172, 0.        , 0.        , 0.        ],\n",
      "       [0.        , 0.        , 0.        , 0.        , 0.        ,\n",
      "        0.        , 0.        , 0.        , 0.        , 0.        ,\n",
      "        0.        , 0.        , 0.        , 0.        , 0.        ,\n",
      "        0.        , 0.        , 0.        , 1.        ],\n",
      "       [1.        , 0.        , 0.        , 0.        , 0.        ,\n",
      "        0.        , 0.        , 0.        , 0.        , 0.        ,\n",
      "        0.        , 0.        , 0.        , 0.        , 0.        ,\n",
      "        0.        , 0.        , 0.        , 0.        ]])\n"
     ]
    }
   ],
   "source": [
    "#import numpy.linalg\n",
    "vals, vecs = np.linalg.eig(M)\n",
    "print(vals)\n",
    "vals, vecs = np.linalg.eig(M.T)\n",
    "print(vals)\n",
    "pprint(M)"
   ]
  },
  {
   "cell_type": "code",
   "execution_count": 82,
   "metadata": {
    "scrolled": true
   },
   "outputs": [
    {
     "name": "stdout",
     "output_type": "stream",
     "text": [
      "what if chain propagates\n",
      "A[0,:]\n",
      "[0.1761     0.         0.         0.         0.01364226 0.81025774\n",
      " 0.         0.         0.         0.         0.         0.\n",
      " 0.         0.         0.         0.         0.         0.\n",
      " 0.        ]\n",
      "1.0\n",
      "[0.         0.03101121 0.14508879 0.01364226 0.         0.\n",
      " 0.         0.         0.01705388 0.79320385 0.         0.\n",
      " 0.         0.         0.         0.         0.         0.\n",
      " 0.        ]\n",
      "0.9999999999999999\n",
      "[0.04465347 0.         0.         0.         0.0024024  0.14268639\n",
      " 0.01659016 0.00046372 0.         0.         0.         0.\n",
      " 0.33197924 0.46122461 0.         0.         0.         0.\n",
      " 0.        ]\n",
      "1.0\n",
      "[0.         0.00786348 0.03679    0.01899256 0.         0.\n",
      " 0.         0.         0.00301295 0.14013716 0.19663782 0.13534142\n",
      " 0.         0.         0.         0.         0.01394847 0.44727614\n",
      " 0.        ]\n",
      "1.0\n",
      "[2.68560388e-02 0.00000000e+00 0.00000000e+00 0.00000000e+00\n",
      " 6.09174451e-04 3.61808224e-02 1.94221930e-01 5.42883478e-03\n",
      " 0.00000000e+00 0.00000000e+00 0.00000000e+00 0.00000000e+00\n",
      " 1.15295924e-01 1.60182662e-01 1.36208005e-02 3.27673714e-04\n",
      " 0.00000000e+00 0.00000000e+00 4.47276140e-01]\n",
      "1.0\n",
      "[0.44727614 0.00472935 0.02212669 0.1948311  0.         0.\n",
      " 0.         0.         0.00087578 0.04073388 0.0763599  0.05255682\n",
      " 0.         0.         0.         0.         0.0048542  0.15565614\n",
      " 0.        ]\n",
      "1.0\n",
      "[1.99560452e-01 7.87653283e-02 3.68510812e-01 0.00000000e+00\n",
      " 3.66377158e-04 2.17603132e-02 7.51355170e-02 2.10016608e-03\n",
      " 0.00000000e+00 0.00000000e+00 0.00000000e+00 0.00000000e+00\n",
      " 3.90449126e-02 5.42457860e-02 4.74016171e-03 1.14033415e-04\n",
      " 0.00000000e+00 0.00000000e+00 1.55656140e-01]\n",
      "1.0\n",
      "[0.23442147 0.0351426  0.16441786 0.07550189 0.00610186 0.36240895\n",
      " 0.         0.         0.0005022  0.02335828 0.02593476 0.01785032\n",
      " 0.         0.         0.         0.         0.00164396 0.05271586\n",
      " 0.        ]\n",
      "1.0\n",
      "[1.10644490e-01 4.12816206e-02 1.93139848e-01 6.10185895e-03\n",
      " 2.72245627e-03 1.61695400e-01 2.57180966e-02 7.18864742e-04\n",
      " 7.62779490e-03 3.54781158e-01 0.00000000e+00 0.00000000e+00\n",
      " 1.72470129e-02 2.39615794e-02 1.60534419e-03 3.86195432e-05\n",
      " 0.00000000e+00 0.00000000e+00 5.27158557e-02]\n",
      "1.0\n",
      "[0.10009934 0.01948449 0.09116    0.02844055 0.00319804 0.18994181\n",
      " 0.00742038 0.00020741 0.00341841 0.15899585 0.01116662 0.00768574\n",
      " 0.14848639 0.20629477 0.         0.         0.00072582 0.02327438\n",
      " 0.        ]\n",
      "1.0000000000000002\n"
     ]
    }
   ],
   "source": [
    "print(\"what if chain propagates\")\n",
    "print(\"A[0,:]\")\n",
    "# check stationary behavior\n",
    "A = M\n",
    "for n in range(10):\n",
    "    A = np.dot(A,M)\n",
    "    #print(A)\n",
    "    print(A[0,:])\n",
    "    print(np.sum(A[0,:]))  # is 1 indeed"
   ]
  },
  {
   "cell_type": "markdown",
   "metadata": {},
   "source": [
    "### Pcross with MSM"
   ]
  },
  {
   "cell_type": "code",
   "execution_count": 83,
   "metadata": {},
   "outputs": [
    {
     "name": "stdout",
     "output_type": "stream",
     "text": [
      "Z\n",
      "state 0-      0\n",
      "state B       1\n",
      "state 0+- LML 0.0\n",
      "state 0+- LMR 0.6665575095045514\n",
      "state 0+- RML 0.0\n",
      "state 1+- LML 0.0\n",
      "state 1+- LMR 0.67778030042878\n",
      "state 1+- RML 0.0\n",
      "state 1+- RMR 0.67778030042878\n",
      "state 2+- LML 0.018429968357068907\n",
      "state 2+- LMR 0.6919563325683218\n",
      "state 2+- RML 0.018429968357068907\n",
      "state 2+- RMR 0.6919563325683218\n",
      "state 3+- LML 0.2930134555918973\n",
      "state 3+- LMR 0.9791065597705255\n",
      "state 3+- RML 0.2930134555918973\n",
      "state 3+- RMR 0.9791065597705255\n",
      "state 4+- LML 0.30913096578082394\n",
      "state 4+- LMR 1.0\n",
      "Y\n",
      "state 0-      0.5491767320807999\n",
      "state B       0.0\n",
      "state 0+- LML 0.0\n",
      "state 0+- LMR 0.6665575095045514\n",
      "state 0+- RML 0.0\n",
      "state 1+- LML 0.0\n",
      "state 1+- LMR 0.67778030042878\n",
      "state 1+- RML 0.0\n",
      "state 1+- RMR 0.67778030042878\n",
      "state 2+- LML 0.018429968357068904\n",
      "state 2+- LMR 0.6919563325683218\n",
      "state 2+- RML 0.018429968357068904\n",
      "state 2+- RMR 0.6919563325683218\n",
      "state 3+- LML 0.2930134555918972\n",
      "state 3+- LMR 0.9791065597705255\n",
      "state 3+- RML 0.2930134555918972\n",
      "state 3+- RMR 0.9791065597705255\n",
      "state 4+- LML 0.30913096578082394\n",
      "state 4+- LMR 1.0\n",
      "global crossing prob [0.54917673]\n"
     ]
    }
   ],
   "source": [
    "# Inspect Z and Y vectors\n",
    "\n",
    "z1, z2, y1, y2 = global_cross_prob(M)\n",
    "print(\"Z\")\n",
    "print_vector(z1, labels1)\n",
    "print_vector(z2, labels2)\n",
    "print(\"Y\")\n",
    "print_vector(y1, labels1)\n",
    "print_vector(y2, labels2)\n",
    "print(\"\\nGlobal crossing probability: \", y1[0][0])"
   ]
  },
  {
   "cell_type": "markdown",
   "metadata": {},
   "source": [
    "### Pathlength analysis"
   ]
  },
  {
   "cell_type": "code",
   "execution_count": null,
   "metadata": {},
   "outputs": [
    {
     "name": "stdout",
     "output_type": "stream",
     "text": [
      "0\n",
      "Calculating path lengths.\n"
     ]
    },
    {
     "ename": "TypeError",
     "evalue": "'NoneType' object is not subscriptable",
     "output_type": "error",
     "traceback": [
      "\u001b[0;31m---------------------------------------------------------------------------\u001b[0m\n",
      "\u001b[0;31mTypeError\u001b[0m                                 Traceback (most recent call last)\n",
      "Cell \u001b[0;32mIn[24], line 6\u001b[0m\n",
      "\u001b[1;32m      4\u001b[0m \u001b[38;5;28mprint\u001b[39m(i)\n",
      "\u001b[1;32m      5\u001b[0m \u001b[38;5;28mprint\u001b[39m(\u001b[38;5;124m\"\u001b[39m\u001b[38;5;124mCalculating path lengths.\u001b[39m\u001b[38;5;124m\"\u001b[39m)\n",
      "\u001b[0;32m----> 6\u001b[0m \u001b[43mset_tau_distrib\u001b[49m\u001b[43m(\u001b[49m\u001b[43mpathensembles\u001b[49m\u001b[43m[\u001b[49m\u001b[43mi\u001b[49m\u001b[43m]\u001b[49m\u001b[43m)\u001b[49m\n",
      "\u001b[1;32m      7\u001b[0m \u001b[38;5;28mprint\u001b[39m(\u001b[38;5;124m\"\u001b[39m\u001b[38;5;124mDone.\u001b[39m\u001b[38;5;124m\"\u001b[39m)\n",
      "\u001b[1;32m      9\u001b[0m \u001b[38;5;28;01mif\u001b[39;00m \u001b[38;5;28;01mTrue\u001b[39;00m:\n",
      "\n",
      "File \u001b[0;32m~/anaconda3/envs/pastime/lib/python3.10/site-packages/tistools/repptis_pathlengths.py:163\u001b[0m, in \u001b[0;36mset_tau_distrib\u001b[0;34m(pe)\u001b[0m\n",
      "\u001b[1;32m    161\u001b[0m         pe\u001b[38;5;241m.\u001b[39mtau\u001b[38;5;241m.\u001b[39mappend(\u001b[38;5;241m0\u001b[39m)\n",
      "\u001b[1;32m    162\u001b[0m         \u001b[38;5;28;01mcontinue\u001b[39;00m \n",
      "\u001b[0;32m--> 163\u001b[0m     pe\u001b[38;5;241m.\u001b[39mtau\u001b[38;5;241m.\u001b[39mappend(get_tau_path(\u001b[43mpe\u001b[49m\u001b[38;5;241;43m.\u001b[39;49m\u001b[43morders\u001b[49m\u001b[43m[\u001b[49m\u001b[43mi\u001b[49m\u001b[43m]\u001b[49m, pe\u001b[38;5;241m.\u001b[39mlmrs[i], pe\u001b[38;5;241m.\u001b[39minterfaces[\u001b[38;5;241m0\u001b[39m]))\n",
      "\u001b[1;32m    164\u001b[0m     \u001b[38;5;66;03m# pe.orders[i] contains the order parameters of the i-th path\u001b[39;00m\n",
      "\u001b[1;32m    165\u001b[0m     \u001b[38;5;66;03m# including the start/end point\u001b[39;00m\n",
      "\u001b[1;32m    166\u001b[0m pe\u001b[38;5;241m.\u001b[39mtau \u001b[38;5;241m=\u001b[39m np\u001b[38;5;241m.\u001b[39marray(pe\u001b[38;5;241m.\u001b[39mtau)\n",
      "\n",
      "\u001b[0;31mTypeError\u001b[0m: 'NoneType' object is not subscriptable"
     ]
    }
   ],
   "source": [
    "# Setting path ensemble properties\n",
    "#==================================\n",
    "for i,fol in enumerate(folders):\n",
    "    print(i)\n",
    "    print(\"Calculating path lengths.\")\n",
    "    set_tau_distrib(pathensembles[i])\n",
    "    print(\"Done.\")\n",
    "\n",
    "    if True:\n",
    "        print(\"Calculating first hitting lengths to middle interface\")\n",
    "        set_tau_first_hit_M_distrib(pathensembles[i])\n",
    "        print(\"Done.\")"
   ]
  },
  {
   "cell_type": "code",
   "execution_count": 85,
   "metadata": {},
   "outputs": [
    {
     "name": "stdout",
     "output_type": "stream",
     "text": [
      "Collect tau\n",
      "ensemble 0 /mnt/0bf0c339-34bb-4500-a5fb-f3c2a863de29/DATA/PyRETIS3/toytis/simulations/sim_repptiswell2/000\n",
      "ensemble 1 /mnt/0bf0c339-34bb-4500-a5fb-f3c2a863de29/DATA/PyRETIS3/toytis/simulations/sim_repptiswell2/001\n",
      "ensemble 2 /mnt/0bf0c339-34bb-4500-a5fb-f3c2a863de29/DATA/PyRETIS3/toytis/simulations/sim_repptiswell2/002\n",
      "ensemble 3 /mnt/0bf0c339-34bb-4500-a5fb-f3c2a863de29/DATA/PyRETIS3/toytis/simulations/sim_repptiswell2/003\n",
      "ensemble 4 /mnt/0bf0c339-34bb-4500-a5fb-f3c2a863de29/DATA/PyRETIS3/toytis/simulations/sim_repptiswell2/004\n",
      "ensemble 5 /mnt/0bf0c339-34bb-4500-a5fb-f3c2a863de29/DATA/PyRETIS3/toytis/simulations/sim_repptiswell2/005\n",
      "Collect tau1\n",
      "Collect tau2\n",
      "Collect taum\n"
     ]
    }
   ],
   "source": [
    "# Compute taus for pathlength analysis\n",
    "tau_mm, tau_mp, tau_pm, tau_pp = collect_tau(pathensembles)\n",
    "tau1_mm, tau1_mp, tau1_pm, tau1_pp = collect_tau1(pathensembles)\n",
    "tau2_mm, tau2_mp, tau2_pm, tau2_pp = collect_tau2(pathensembles)\n",
    "taum_mm, taum_mp, taum_pm, taum_pp = collect_taum(pathensembles)"
   ]
  },
  {
   "cell_type": "code",
   "execution_count": 86,
   "metadata": {},
   "outputs": [
    {
     "name": "stdout",
     "output_type": "stream",
     "text": [
      "tau\n",
      "                  mm            mp            pm            pp\n",
      "0 /mnt/0bf0c339-34bb-4500-a5fb-f3c2a863de29/DATA/PyRETIS3/toytis/simulations/sim_repptiswell2/000            nan           nan           nan         113.5\n",
      "1 /mnt/0bf0c339-34bb-4500-a5fb-f3c2a863de29/DATA/PyRETIS3/toytis/simulations/sim_repptiswell2/001           59.8          21.2           0.0           0.0\n",
      "2 /mnt/0bf0c339-34bb-4500-a5fb-f3c2a863de29/DATA/PyRETIS3/toytis/simulations/sim_repptiswell2/002          113.8          43.7          43.6         127.6\n",
      "3 /mnt/0bf0c339-34bb-4500-a5fb-f3c2a863de29/DATA/PyRETIS3/toytis/simulations/sim_repptiswell2/003          308.2          78.2          81.5         276.6\n",
      "4 /mnt/0bf0c339-34bb-4500-a5fb-f3c2a863de29/DATA/PyRETIS3/toytis/simulations/sim_repptiswell2/004          278.2          83.6          82.8         326.7\n",
      "5 /mnt/0bf0c339-34bb-4500-a5fb-f3c2a863de29/DATA/PyRETIS3/toytis/simulations/sim_repptiswell2/005          128.2          44.0          44.0         114.5\n",
      "\n",
      "tau1\n",
      "                  mm            mp            pm            pp\n",
      "0 /mnt/0bf0c339-34bb-4500-a5fb-f3c2a863de29/DATA/PyRETIS3/toytis/simulations/sim_repptiswell2/000            0.0           0.0           0.0           0.0\n",
      "1 /mnt/0bf0c339-34bb-4500-a5fb-f3c2a863de29/DATA/PyRETIS3/toytis/simulations/sim_repptiswell2/001            0.0           0.0           0.0           0.0\n",
      "2 /mnt/0bf0c339-34bb-4500-a5fb-f3c2a863de29/DATA/PyRETIS3/toytis/simulations/sim_repptiswell2/002           43.8          20.7          22.8          41.7\n",
      "3 /mnt/0bf0c339-34bb-4500-a5fb-f3c2a863de29/DATA/PyRETIS3/toytis/simulations/sim_repptiswell2/003           30.1          22.8          43.0          92.4\n",
      "4 /mnt/0bf0c339-34bb-4500-a5fb-f3c2a863de29/DATA/PyRETIS3/toytis/simulations/sim_repptiswell2/004           90.9          43.0          23.0          32.3\n",
      "5 /mnt/0bf0c339-34bb-4500-a5fb-f3c2a863de29/DATA/PyRETIS3/toytis/simulations/sim_repptiswell2/005           41.0          22.8          20.7          41.6\n",
      "\n",
      "taum\n",
      "                  mm            mp            pm            pp\n",
      "0 /mnt/0bf0c339-34bb-4500-a5fb-f3c2a863de29/DATA/PyRETIS3/toytis/simulations/sim_repptiswell2/000            0.0           0.0           0.0         113.5\n",
      "1 /mnt/0bf0c339-34bb-4500-a5fb-f3c2a863de29/DATA/PyRETIS3/toytis/simulations/sim_repptiswell2/001           59.8           0.0           0.0           0.0\n",
      "2 /mnt/0bf0c339-34bb-4500-a5fb-f3c2a863de29/DATA/PyRETIS3/toytis/simulations/sim_repptiswell2/002           25.7           0.2           0.2          44.8\n",
      "3 /mnt/0bf0c339-34bb-4500-a5fb-f3c2a863de29/DATA/PyRETIS3/toytis/simulations/sim_repptiswell2/003          245.5          13.6          15.4          95.9\n",
      "4 /mnt/0bf0c339-34bb-4500-a5fb-f3c2a863de29/DATA/PyRETIS3/toytis/simulations/sim_repptiswell2/004           92.3          17.5          17.0         262.6\n",
      "5 /mnt/0bf0c339-34bb-4500-a5fb-f3c2a863de29/DATA/PyRETIS3/toytis/simulations/sim_repptiswell2/005           45.6           0.3           0.3          29.7\n",
      "\n",
      "tau2\n",
      "                  mm            mp            pm            pp\n",
      "0 /mnt/0bf0c339-34bb-4500-a5fb-f3c2a863de29/DATA/PyRETIS3/toytis/simulations/sim_repptiswell2/000            0.0           0.0           0.0           0.0\n",
      "1 /mnt/0bf0c339-34bb-4500-a5fb-f3c2a863de29/DATA/PyRETIS3/toytis/simulations/sim_repptiswell2/001            0.0          21.2           0.0           0.0\n",
      "2 /mnt/0bf0c339-34bb-4500-a5fb-f3c2a863de29/DATA/PyRETIS3/toytis/simulations/sim_repptiswell2/002           44.3          22.8          20.6          41.0\n",
      "3 /mnt/0bf0c339-34bb-4500-a5fb-f3c2a863de29/DATA/PyRETIS3/toytis/simulations/sim_repptiswell2/003           32.6          41.7          23.2          88.3\n",
      "4 /mnt/0bf0c339-34bb-4500-a5fb-f3c2a863de29/DATA/PyRETIS3/toytis/simulations/sim_repptiswell2/004           95.1          23.1          42.7          31.8\n",
      "5 /mnt/0bf0c339-34bb-4500-a5fb-f3c2a863de29/DATA/PyRETIS3/toytis/simulations/sim_repptiswell2/005           41.6          20.8          23.0          43.1\n"
     ]
    }
   ],
   "source": [
    "# Look at computed taus\n",
    "print(\"tau\")\n",
    "print_all_tau(pathensembles, tau_mm, tau_mp, tau_pm, tau_pp)\n",
    "print(\"\\ntau1\")\n",
    "print_all_tau(pathensembles, tau1_mm, tau1_mp, tau1_pm, tau1_pp)\n",
    "print(\"\\ntaum\")\n",
    "print_all_tau(pathensembles, taum_mm, taum_mp, taum_pm, taum_pp)\n",
    "print(\"\\ntau2\")\n",
    "print_all_tau(pathensembles, tau2_mm, tau2_mp, tau2_pm, tau2_pp)"
   ]
  },
  {
   "cell_type": "code",
   "execution_count": 88,
   "metadata": {
    "scrolled": true
   },
   "outputs": [
    {
     "name": "stdout",
     "output_type": "stream",
     "text": [
      "tau\n",
      "[113.46279074  59.79136854  21.24126129   0.         113.77912621\n",
      "  43.73040458  43.59641513 127.58565154 308.15245478  78.16376868\n",
      "  81.52064085 276.63058659 278.2496753   83.55549445  82.79579005\n",
      " 326.69545455 128.22015915  43.99160394   0.        ]\n",
      "\n",
      "\n",
      "tau1\n",
      "[ 0.          0.          0.          0.         43.79126214 20.67310993\n",
      " 22.77246685 41.73645681 30.0620155  22.83284262 42.9529506  92.4062694\n",
      " 90.90297196 43.03844462 23.01913614 32.34545455 40.97480106 22.83079659\n",
      "  0.        ]\n",
      "taum\n",
      "[1.13462791e+02 5.97913685e+01 9.70968055e-05 0.00000000e+00\n",
      " 2.57354369e+01 2.19207192e-01 2.11286626e-01 4.48140556e+01\n",
      " 2.45488372e+02 1.36176879e+01 1.53774633e+01 9.59172098e+01\n",
      " 9.22612117e+01 1.74638654e+01 1.70499180e+01 2.62581818e+02\n",
      " 4.55981432e+01 3.33774506e-01 0.00000000e+00]\n",
      "tau2\n",
      "[ 0.          0.         21.24116419  0.         44.25242718 22.83808745\n",
      " 20.61266165 41.03513909 32.60206718 41.71323815 23.19022697 88.30710739\n",
      " 95.08549163 23.05318447 42.72673592 31.76818182 41.64721485 20.82703284\n",
      "  0.        ]\n",
      "\n",
      "\n",
      "tau = tau1+taum+tau2 => difference is 3.660314600225495e-28\n"
     ]
    }
   ],
   "source": [
    "# TODO include prints?\n",
    "tau  = construct_tau_vector(N, NS, tau_mm, tau_mp, tau_pm, tau_pp)\n",
    "tau1 = construct_tau_vector(N, NS, tau1_mm, tau1_mp, tau1_pm, tau1_pp)\n",
    "taum = construct_tau_vector(N, NS, taum_mm, taum_mp, taum_pm, taum_pp)\n",
    "tau2 = construct_tau_vector(N, NS, tau2_mm, tau2_mp, tau2_pm, tau2_pp)\n",
    "tau_m = tau-tau1-tau2  # yes, this is the same thing as taum\n",
    "\n",
    "# print(\"tau\")\n",
    "# print(tau)\n",
    "# print(\"\\n\")\n",
    "# print(\"tau1\")\n",
    "# print(tau1)\n",
    "# print(\"taum\")\n",
    "# print(taum)\n",
    "# print(\"tau2\")\n",
    "# print(tau2)\n",
    "\n",
    "# print(\"\\n\")\n",
    "# print(\"tau = tau1+taum+tau2 => difference is\", np.sum((tau-tau1-taum-tau2)**2))"
   ]
  },
  {
   "cell_type": "markdown",
   "metadata": {},
   "source": [
    "## 5. Flux calculation"
   ]
  },
  {
   "cell_type": "markdown",
   "metadata": {},
   "source": [
    "### Collect tau for [0+]"
   ]
  },
  {
   "cell_type": "code",
   "execution_count": 60,
   "metadata": {},
   "outputs": [
    {
     "name": "stdout",
     "output_type": "stream",
     "text": [
      "G\n",
      "state 0-      0.0\n",
      "state B       0.0\n",
      "state 0+- LML 60.62462328384864\n",
      "state 0+- LMR 297.7009799695676\n",
      "state 0+- RML 0.0\n",
      "state 1+- LML 72.60450819672131\n",
      "state 1+- LMR 280.56746459879133\n",
      "state 1+- RML 20.620395346028424\n",
      "state 1+- RMR 349.80560703788194\n",
      "state 2+- LML 504.40493525026807\n",
      "state 2+- LMR 172.48383657783634\n",
      "state 2+- RML 178.76002619446282\n",
      "state 2+- RMR 510.76048359219766\n",
      "state 3+- LML 355.8783859870806\n",
      "state 3+- LMR 20.907583228067317\n",
      "H\n",
      "state 0-      255.2263799057542\n",
      "state B       0.0\n",
      "state 0+- LML 0.0\n",
      "state 0+- LMR 297.7008825084302\n",
      "state 0+- RML 0.0\n",
      "state 1+- LML 42.70286885245902\n",
      "state 1+- LMR 280.26064120668593\n",
      "state 1+- RML 20.33612464269898\n",
      "state 1+- RMR 304.126251254573\n",
      "state 2+- LML 75.24979506335217\n",
      "state 2+- LMR 65.45531553979151\n",
      "state 2+- RML 64.52961097662684\n",
      "state 2+- RMR 76.54315025886433\n",
      "state 3+- LML 309.0842683400218\n",
      "state 3+- LMR 20.610773807098326\n",
      "interesting\n",
      "[255.22637991]\n"
     ]
    }
   ],
   "source": [
    "# Construct g and h vectors\n",
    "g1, g2, h1, h2 = mfpt_to_first_last_state(M, tau1, tau_m, tau2) #, doprint=True)\n",
    "print(\"G\")\n",
    "print_vector(g1, labels1)\n",
    "print_vector(g2, labels2)\n",
    "print(\"H\")\n",
    "print_vector(h1, labels1)\n",
    "print_vector(h2, labels2)\n",
    "print(\"\\ntau [0+]: \", h1[0])"
   ]
  },
  {
   "cell_type": "markdown",
   "metadata": {},
   "source": [
    "### The flux"
   ]
  },
  {
   "cell_type": "code",
   "execution_count": 62,
   "metadata": {
    "scrolled": false
   },
   "outputs": [
    {
     "name": "stdout",
     "output_type": "stream",
     "text": [
      "13.552717281537626 1/time\n"
     ]
    }
   ],
   "source": [
    "flux = 1/(tau[0]+h1[0][0])\n",
    "dt = 0.0002 # Change if needed\n",
    "flux\n",
    "print(flux/dt, \"1/time\")"
   ]
  },
  {
   "cell_type": "markdown",
   "metadata": {},
   "source": [
    "## 6. The rate constant\n",
    "We can compute an accurate rate constant using only our MSM."
   ]
  },
  {
   "cell_type": "code",
   "execution_count": null,
   "metadata": {},
   "outputs": [],
   "source": [
    "# rate constant = flux * Pcross\n",
    "\n",
    "print(\"The rate constant k is: \", flux*y1[0][0]/dt)"
   ]
  }
 ],
 "metadata": {
  "kernelspec": {
   "display_name": "Python 3 (ipykernel)",
   "language": "python",
   "name": "python3"
  },
  "language_info": {
   "codemirror_mode": {
    "name": "ipython",
    "version": 3
   },
   "file_extension": ".py",
   "mimetype": "text/x-python",
   "name": "python",
   "nbconvert_exporter": "python",
   "pygments_lexer": "ipython3",
   "version": "3.10.13"
  }
 },
 "nbformat": 4,
 "nbformat_minor": 4
}
