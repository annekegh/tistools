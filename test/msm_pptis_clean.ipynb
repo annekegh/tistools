{
 "cells": [
  {
   "cell_type": "markdown",
   "metadata": {},
   "source": [
    "# Analyzing (RE)PPTIS simulations using an MSM approach\n",
    "This notebook contains an example workflow that can be used for estimating the crossing probability and pathlengths of a (RE)PPTIS simulation."
   ]
  },
  {
   "cell_type": "markdown",
   "metadata": {},
   "source": [
    "## 1. Import the necessary functions"
   ]
  },
  {
   "cell_type": "code",
   "execution_count": 3,
   "metadata": {},
   "outputs": [
    {
     "name": "stdout",
     "output_type": "stream",
     "text": [
      "The autoreload extension is already loaded. To reload it, use:\n",
      "  %reload_ext autoreload\n"
     ]
    }
   ],
   "source": [
    "%load_ext autoreload\n",
    "%autoreload 2\n",
    "%matplotlib qt\n",
    "\n",
    "import matplotlib.pyplot as plt\n",
    "from pprint import pprint    # to print the vars of the pathensemble object\n",
    "import numpy as np\n",
    "import os\n",
    "import glob\n",
    "\n",
    "# Reading\n",
    "from tistools import read_inputfile, get_LMR_interfaces, read_pathensemble, get_weights\n",
    "from tistools import set_tau_distrib, set_tau_first_hit_M_distrib, cross_dist_distr, pathlength_distr\n",
    "from tistools import collect_tau, collect_tau1, collect_tau2, collect_taum\n",
    "from tistools import ACCFLAGS, REJFLAGS\n",
    "\n",
    "# REPPTIS analysis\n",
    "from tistools import get_lmr_masks, get_generation_mask, get_flag_mask, select_with_masks\n",
    "from tistools import unwrap_by_weight, running_avg_local_probs, get_local_probs, get_global_probs_from_dict, get_global_probs_from_local\n",
    "\n",
    "# MSM functions\n",
    "from tistools import construct_M\n",
    "from tistools import global_pcross_msm\n",
    "from tistools import mfpt_to_first_last_state, construct_tau_vector\n",
    "from tistools import create_labels_states, print_vector, print_all_tau"
   ]
  },
  {
   "cell_type": "markdown",
   "metadata": {},
   "source": [
    "## 2. Load the simulation data"
   ]
  },
  {
   "cell_type": "code",
   "execution_count": 4,
   "metadata": {},
   "outputs": [
    {
     "name": "stdout",
     "output_type": "stream",
     "text": [
      "/mnt/0bf0c339-34bb-4500-a5fb-f3c2a863de29/DATA/MSM-REPPTIS/1D-experiments/REPPTIS\n",
      "['/mnt/0bf0c339-34bb-4500-a5fb-f3c2a863de29/DATA/MSM-REPPTIS/1D-experiments/REPPTIS/000', '/mnt/0bf0c339-34bb-4500-a5fb-f3c2a863de29/DATA/MSM-REPPTIS/1D-experiments/REPPTIS/001', '/mnt/0bf0c339-34bb-4500-a5fb-f3c2a863de29/DATA/MSM-REPPTIS/1D-experiments/REPPTIS/002', '/mnt/0bf0c339-34bb-4500-a5fb-f3c2a863de29/DATA/MSM-REPPTIS/1D-experiments/REPPTIS/003', '/mnt/0bf0c339-34bb-4500-a5fb-f3c2a863de29/DATA/MSM-REPPTIS/1D-experiments/REPPTIS/004']\n"
     ]
    }
   ],
   "source": [
    "\n",
    "# Set the working directory\n",
    "indir = \"/Users/an/Documents/0_mfpt/repptis1/\"  \n",
    "\n",
    "# indir = \"/mnt/0bf0c339-34bb-4500-a5fb-f3c2a863de29/DATA/PyRETIS3/toytis/simulations/sim_istarwell0_2108\"\n",
    "# indir = \"/mnt/0bf0c339-34bb-4500-a5fb-f3c2a863de29/DATA/PyRETIS3/toytis/simulations/sim_repptismazegap2708\"\n",
    "# indir = \"/mnt/0bf0c339-34bb-4500-a5fb-f3c2a863de29/DATA/i_star/simulations/RETIS_flat_br_noswap\"\n",
    "indir = \"/run/user/1001/gvfs/smb-share:server=files.ugent.be,share=eliawils,user=eliawils/shares/tw06_biommeda_pyretis/04.2024_MSM_elias/simulations/flat_w-walls/newtonian/REPPTIS\"\n",
    "indir = \"/mnt/0bf0c339-34bb-4500-a5fb-f3c2a863de29/DATA/MSM-REPPTIS/1D-experiments/REPPTIS\"\n",
    "\n",
    "# zero_minus_one = True if lambda_-1 interface is set\n",
    "# zero_minus_one = False if lambda_-1 interface is not set\n",
    "zero_minus_one = False\n",
    "\n",
    "inputfile = indir + \"/repptis.rst\"    # When using PyRETIS, the input file for REPPTIS simulations is a .rst file\n",
    "\n",
    "# Move to working directory\n",
    "os.chdir(indir)\n",
    "print(os.getcwd())\n",
    "\n",
    "# Set the ensemble folders and print them\n",
    "folders = glob.glob(indir + \"/0[0-9][0-9]\")\n",
    "folders = sorted(folders)\n",
    "print(folders)"
   ]
  },
  {
   "cell_type": "code",
   "execution_count": 5,
   "metadata": {},
   "outputs": [
    {
     "name": "stdout",
     "output_type": "stream",
     "text": [
      "################################################################################\n",
      "/mnt/0bf0c339-34bb-4500-a5fb-f3c2a863de29/DATA/MSM-REPPTIS/1D-experiments/REPPTIS/000\n",
      "pathensemble info: \n",
      "{'cyclenumbers': array([    0,     1,     2, ..., 29998, 29999, 30000]),\n",
      " 'dirs': array([   0., 2636., 1814., ..., 1810.,  915.,  958.]),\n",
      " 'flags': array(['ACC', 'ACC', 'ACC', ..., 'ACC', 'ACC', 'ACC'], dtype='<U3'),\n",
      " 'generation': array(['ki', 'sh', 'sh', ..., 'sh', 'sh', 'sh'], dtype='<U2'),\n",
      " 'has_zero_minus_one': False,\n",
      " 'in_zero_minus': True,\n",
      " 'in_zero_plus': False,\n",
      " 'interfaces': [[-0.1, -0.1, -0.1], ['l_[0]', 'l_[0]', 'l_[0]']],\n",
      " 'istar_idx': array([[    0,     0],\n",
      "       [    0, 68269],\n",
      "       [    0,   836],\n",
      "       ...,\n",
      "       [    0,  2189],\n",
      "       [    0,  1114],\n",
      "       [    0,  1397]]),\n",
      " 'lambmaxs': array([-0.09999883, -0.09990865, -0.09987787, ..., -0.09947621,\n",
      "       -0.09966334, -0.09976969]),\n",
      " 'lambmins': array([-0.20118421, -0.27415918, -0.35706824, ..., -0.46335523,\n",
      "       -0.45559745, -0.37658975]),\n",
      " 'lengths': array([86018,  2921,  2209, ...,  1953,  1964,  2139]),\n",
      " 'lmrs': array(['RMR', 'RMR', 'RMR', ..., 'RMR', 'RMR', 'RMR'], dtype='<U3'),\n",
      " 'name': '/mnt/0bf0c339-34bb-4500-a5fb-f3c2a863de29/DATA/MSM-REPPTIS/1D-experiments/REPPTIS/000',\n",
      " 'ncycle': 30002,\n",
      " 'newpathnumbers': array([    0,     1,     2, ..., 22944, 22945, 22946]),\n",
      " 'orders': None,\n",
      " 'pathnumbers': array([    2,     3,     4, ..., 25262, 25263, 25264]),\n",
      " 'shootlinks': array([None, None, None, ..., None, None, None], dtype=object),\n",
      " 'totaltime': 89326461,\n",
      " 'weights': array([1, 1, 1, ..., 1, 1, 1])}\n",
      "Setting orders for path ensemble /mnt/0bf0c339-34bb-4500-a5fb-f3c2a863de29/DATA/MSM-REPPTIS/1D-experiments/REPPTIS/000\n",
      "Loaded orders from file, NOT CHECKING FOR CONSISTENCY.\n",
      "################################################################################\n",
      "/mnt/0bf0c339-34bb-4500-a5fb-f3c2a863de29/DATA/MSM-REPPTIS/1D-experiments/REPPTIS/001\n",
      "pathensemble info: \n",
      "{'cyclenumbers': array([    0,     1,     2, ..., 29998, 29999, 30000]),\n",
      " 'dirs': array([   0.,  570.,  287., ...,  259.,  379., 1299.]),\n",
      " 'flags': array(['ACC', 'ACC', 'ACC', ..., 'FTL', 'FTL', 'ACC'], dtype='<U3'),\n",
      " 'generation': array(['ld', 'sh', 'sh', ..., 'sh', 'sh', 'sh'], dtype='<U2'),\n",
      " 'has_zero_minus_one': False,\n",
      " 'in_zero_minus': False,\n",
      " 'in_zero_plus': True,\n",
      " 'interfaces': [[-0.1, -0.1, 0.0], ['l_[0]', 'l_[0]', 'l_[1]']],\n",
      " 'istar_idx': array([[  0,   0],\n",
      "       [  0,  65],\n",
      "       [  0, 600],\n",
      "       ...,\n",
      "       [  0,  54],\n",
      "       [  0, 156],\n",
      "       [  0, 157]]),\n",
      " 'lambmaxs': array([7.16780000e-05, 1.07753557e-04, 1.64856243e-04, ...,\n",
      "       8.88076386e-06, 7.52771041e-06, 2.18340902e-05]),\n",
      " 'lambmins': array([-0.10408197, -0.10000713, -0.10015337, ..., -0.02951238,\n",
      "       -0.08028394, -0.10000017]),\n",
      " 'lengths': array([ 100,  676,  324, ...,  428,  583, 2743]),\n",
      " 'lmrs': array(['LMR', 'LMR', 'LMR', ..., 'R**', 'R**', 'LMR'], dtype='<U3'),\n",
      " 'name': '/mnt/0bf0c339-34bb-4500-a5fb-f3c2a863de29/DATA/MSM-REPPTIS/1D-experiments/REPPTIS/001',\n",
      " 'ncycle': 30002,\n",
      " 'newpathnumbers': array([    0,     1,     2, ..., 15610, 15610, 15611]),\n",
      " 'orders': None,\n",
      " 'pathnumbers': array([    1,     2,     3, ..., 16773, 16773, 16774]),\n",
      " 'shootlinks': array([None, None, None, ..., None, None, None], dtype=object),\n",
      " 'totaltime': 26405956,\n",
      " 'weights': array([1, 1, 1, ..., 0, 0, 1])}\n",
      "Setting orders for path ensemble /mnt/0bf0c339-34bb-4500-a5fb-f3c2a863de29/DATA/MSM-REPPTIS/1D-experiments/REPPTIS/001\n",
      "Loaded orders from file, NOT CHECKING FOR CONSISTENCY.\n",
      "################################################################################\n",
      "/mnt/0bf0c339-34bb-4500-a5fb-f3c2a863de29/DATA/MSM-REPPTIS/1D-experiments/REPPTIS/002\n",
      "pathensemble info: \n",
      "{'cyclenumbers': array([    0,     1,     2, ..., 29998, 29999, 30000]),\n",
      " 'dirs': array([   0.,  573.,  287., ...,  310., 1092.,    0.]),\n",
      " 'flags': array(['ACC', 'ACC', 'ACC', ..., 'FTL', 'ACC', 'BTL'], dtype='<U3'),\n",
      " 'generation': array(['ld', 'sh', 'sh', ..., 'sh', 'sh', 'sh'], dtype='<U2'),\n",
      " 'has_zero_minus_one': False,\n",
      " 'in_zero_minus': False,\n",
      " 'in_zero_plus': False,\n",
      " 'interfaces': [[-0.1, 0.0, 0.1], ['l_[0]', 'l_[1]', 'l_[2]']],\n",
      " 'istar_idx': array([[  0,   0],\n",
      "       [  0,  68],\n",
      "       [  0, 601],\n",
      "       ...,\n",
      "       [  0,  64],\n",
      "       [  0, 447],\n",
      "       [  0, 155]]),\n",
      " 'lambmaxs': array([0.10187987, 0.10002098, 0.10026747, ..., 0.10001097, 0.10013122,\n",
      "       0.07874775]),\n",
      " 'lambmins': array([-0.10408197, -0.10006048, -0.1000584 , ...,  0.05894393,\n",
      "       -0.10004563, -0.00799636]),\n",
      " 'lengths': array([ 204, 1350,  646, ...,  595, 1452, 2379]),\n",
      " 'lmrs': array(['LMR', 'LMR', 'LMR', ..., 'R**', 'RML', '*M*'], dtype='<U3'),\n",
      " 'name': '/mnt/0bf0c339-34bb-4500-a5fb-f3c2a863de29/DATA/MSM-REPPTIS/1D-experiments/REPPTIS/002',\n",
      " 'ncycle': 30002,\n",
      " 'newpathnumbers': array([    0,     1,     2, ..., 15553, 15554, 15554]),\n",
      " 'orders': None,\n",
      " 'pathnumbers': array([    1,     2,     3, ..., 16320, 16321, 16321]),\n",
      " 'shootlinks': array([None, None, None, ..., None, None, None], dtype=object),\n",
      " 'totaltime': 47766325,\n",
      " 'weights': array([1, 1, 1, ..., 0, 2, 0])}\n",
      "Setting orders for path ensemble /mnt/0bf0c339-34bb-4500-a5fb-f3c2a863de29/DATA/MSM-REPPTIS/1D-experiments/REPPTIS/002\n",
      "Loaded orders from file, NOT CHECKING FOR CONSISTENCY.\n",
      "################################################################################\n",
      "/mnt/0bf0c339-34bb-4500-a5fb-f3c2a863de29/DATA/MSM-REPPTIS/1D-experiments/REPPTIS/003\n",
      "pathensemble info: \n",
      "{'cyclenumbers': array([    0,     1,     2, ..., 29998, 29999, 30000]),\n",
      " 'dirs': array([   0.,  655.,  338., ...,  311., 1092.,    0.]),\n",
      " 'flags': array(['ACC', 'ACC', 'ACC', ..., 'FTL', 'ACC', 'BTL'], dtype='<U3'),\n",
      " 'generation': array(['ld', 'sh', 'sh', ..., 'sh', 'sh', 'sh'], dtype='<U2'),\n",
      " 'has_zero_minus_one': False,\n",
      " 'in_zero_minus': False,\n",
      " 'in_zero_plus': False,\n",
      " 'interfaces': [[0.0, 0.1, 0.2], ['l_[1]', 'l_[2]', 'l_[3]']],\n",
      " 'istar_idx': array([[  0,   0],\n",
      "       [  0, 104],\n",
      "       [  0, 706],\n",
      "       ...,\n",
      "       [  0,  64],\n",
      "       [  0, 447],\n",
      "       [  0, 155]]),\n",
      " 'lambmaxs': array([0.20206748, 0.20006424, 0.20004445, ..., 0.20004223, 0.20009333,\n",
      "       0.17870986]),\n",
      " 'lambmins': array([-2.76450000e-05, -1.72100461e-05, -2.81423845e-04, ...,\n",
      "        1.58975177e-01, -8.35159068e-05,  9.19657591e-02]),\n",
      " 'lengths': array([ 180, 1350,  646, ...,  595, 1452, 2379]),\n",
      " 'lmrs': array(['LMR', 'LMR', 'LMR', ..., 'R**', 'RML', '*M*'], dtype='<U3'),\n",
      " 'name': '/mnt/0bf0c339-34bb-4500-a5fb-f3c2a863de29/DATA/MSM-REPPTIS/1D-experiments/REPPTIS/003',\n",
      " 'ncycle': 30002,\n",
      " 'newpathnumbers': array([    0,     1,     2, ..., 15432, 15433, 15433]),\n",
      " 'orders': None,\n",
      " 'pathnumbers': array([    1,     2,     3, ..., 16199, 16200, 16200]),\n",
      " 'shootlinks': array([None, None, None, ..., None, None, None], dtype=object),\n",
      " 'totaltime': 48304923,\n",
      " 'weights': array([1, 1, 2, ..., 0, 2, 0])}\n",
      "Setting orders for path ensemble /mnt/0bf0c339-34bb-4500-a5fb-f3c2a863de29/DATA/MSM-REPPTIS/1D-experiments/REPPTIS/003\n",
      "Loaded orders from file, NOT CHECKING FOR CONSISTENCY.\n",
      "################################################################################\n",
      "/mnt/0bf0c339-34bb-4500-a5fb-f3c2a863de29/DATA/MSM-REPPTIS/1D-experiments/REPPTIS/004\n",
      "pathensemble info: \n",
      "{'cyclenumbers': array([    0,     1,     2, ..., 29998, 29999, 30000]),\n",
      " 'dirs': array([   0.,   76.,   42., ...,    0.,  311., 1092.]),\n",
      " 'flags': array(['ACC', 'ACC', 'ACC', ..., 'BTL', 'FTL', 'ACC'], dtype='<U3'),\n",
      " 'generation': array(['ld', 'sh', 'sh', ..., 'sh', 'sh', 'sh'], dtype='<U2'),\n",
      " 'has_zero_minus_one': False,\n",
      " 'in_zero_minus': False,\n",
      " 'in_zero_plus': False,\n",
      " 'interfaces': [[0.1, 0.2, 0.3], ['l_[2]', 'l_[3]', 'l_[4]']],\n",
      " 'istar_idx': array([[  0,   0],\n",
      "       [  0,  10],\n",
      "       [  0,  88],\n",
      "       ...,\n",
      "       [  0, 428],\n",
      "       [  0,  64],\n",
      "       [  0, 447]]),\n",
      " 'lambmaxs': array([0.31401354, 0.30006626, 0.30000764, ..., 0.155866  , 0.30006056,\n",
      "       0.30011167]),\n",
      " 'lambmins': array([0.09713131, 0.09998481, 0.09999235, ..., 0.11868532, 0.25899351,\n",
      "       0.09993482]),\n",
      " 'lengths': array([ 237, 1350,  645, ...,  746,  595, 1452]),\n",
      " 'lmrs': array(['LMR', 'LMR', 'LMR', ..., '***', 'R**', 'RML'], dtype='<U3'),\n",
      " 'name': '/mnt/0bf0c339-34bb-4500-a5fb-f3c2a863de29/DATA/MSM-REPPTIS/1D-experiments/REPPTIS/004',\n",
      " 'ncycle': 30001,\n",
      " 'newpathnumbers': array([    0,     1,     2, ..., 15570, 15570, 15571]),\n",
      " 'orders': None,\n",
      " 'pathnumbers': array([    1,     2,     3, ..., 17502, 17502, 17503]),\n",
      " 'shootlinks': array([None, None, None, ..., None, None, None], dtype=object),\n",
      " 'totaltime': 48321774,\n",
      " 'weights': array([1, 1, 2, ..., 0, 0, 1])}\n",
      "Setting orders for path ensemble /mnt/0bf0c339-34bb-4500-a5fb-f3c2a863de29/DATA/MSM-REPPTIS/1D-experiments/REPPTIS/004\n",
      "Loaded orders from file, NOT CHECKING FOR CONSISTENCY.\n"
     ]
    }
   ],
   "source": [
    "# Reading all input\n",
    "#===================\n",
    "interfaces, zero_left, timestep = read_inputfile(inputfile)\n",
    "LMR_interfaces, LMR_strings = get_LMR_interfaces(interfaces, zero_left)\n",
    "pathensembles = []\n",
    "for i,fol in enumerate(folders):\n",
    "    print(\"#\"*80)\n",
    "    print(fol)\n",
    "    pe = read_pathensemble(fol+\"/pathensemble.txt\")\n",
    "    pe.set_name(fol)\n",
    "    pe.set_interfaces([LMR_interfaces[i], LMR_strings[i]])\n",
    "    if i==0:\n",
    "        pe.set_zero_minus_one(zero_minus_one)   # TODO this is never used\n",
    "        pe.set_in_zero_minus(True)\n",
    "    if i==1:\n",
    "        pe.set_in_zero_plus(True)\n",
    "    w, _ = get_weights(pe.flags, ACCFLAGS, REJFLAGS, verbose = False)\n",
    "    pe.set_weights(w)\n",
    "    print(\"pathensemble info: \")\n",
    "    pprint(vars(pe))\n",
    "    pathensembles.append(pe)\n",
    "\n",
    "    \n",
    "    # Read order parameters order.txt/order.npy into path ensemble object, or load from order.npy file.\n",
    "    # Saving order parameter files allows to speed up this notebook.\n",
    "    #### CHANGE HERE ####\n",
    "    # pe.set_orders(load=False, acc_only=True, save=True)        # for the 1st time you run this notebook for a certain simulation, this will store .npy files\n",
    "    pe.set_orders(load=True, acc_only=True, save=False)                  # for the next times, you can read npy files (save=True/False is not important)\n",
    "    # pe.set_orders(load=False, acc_only=True, save=False)     # if saving doesn't work"
   ]
  },
  {
   "cell_type": "markdown",
   "metadata": {},
   "source": [
    "## 3. Regular (RE)PPTIS analysis using tistools"
   ]
  },
  {
   "cell_type": "markdown",
   "metadata": {},
   "source": [
    "### Analyze the REPPTIS simulation."
   ]
  },
  {
   "cell_type": "code",
   "execution_count": 6,
   "metadata": {},
   "outputs": [
    {
     "name": "stdout",
     "output_type": "stream",
     "text": [
      "doing pathensemble 0\n",
      "doing pathensemble 1\n",
      "Weights of the different paths:\n",
      "wRMR = 0\n",
      "wRML = 15039\n",
      "wLMR = 14962\n",
      "wLML = 0\n",
      "Local crossing probabilities:\n",
      "pRMR = 0.0\n",
      "pRML = 1.0\n",
      "pLMR = 1.0\n",
      "pLML = 0.0\n",
      "Local crossing probabilities:\n",
      "p2R = 0.49871670944301855\n",
      "p2L = 0.5012832905569814\n",
      "doing pathensemble 2\n",
      "Weights of the different paths:\n",
      "wRMR = 0\n",
      "wRML = 14983\n",
      "wLMR = 15018\n",
      "wLML = 0\n",
      "Local crossing probabilities:\n",
      "pRMR = 0.0\n",
      "pRML = 1.0\n",
      "pLMR = 1.0\n",
      "pLML = 0.0\n",
      "Local crossing probabilities:\n",
      "p2R = 0.500583313889537\n",
      "p2L = 0.49941668611046297\n",
      "doing pathensemble 3\n",
      "Weights of the different paths:\n",
      "wRMR = 0\n",
      "wRML = 14875\n",
      "wLMR = 15126\n",
      "wLML = 0\n",
      "Local crossing probabilities:\n",
      "pRMR = 0.0\n",
      "pRML = 1.0\n",
      "pLMR = 1.0\n",
      "pLML = 0.0\n",
      "Local crossing probabilities:\n",
      "p2R = 0.5041831938935368\n",
      "p2L = 0.4958168061064631\n",
      "doing pathensemble 4\n",
      "Weights of the different paths:\n",
      "wRMR = 0\n",
      "wRML = 14948\n",
      "wLMR = 15052\n",
      "wLML = 0\n",
      "Local crossing probabilities:\n",
      "pRMR = 0.0\n",
      "pRML = 1.0\n",
      "pLMR = 1.0\n",
      "pLML = 0.0\n",
      "Local crossing probabilities:\n",
      "p2R = 0.5017333333333334\n",
      "p2L = 0.4982666666666667\n"
     ]
    },
    {
     "name": "stderr",
     "output_type": "stream",
     "text": [
      "/mnt/0bf0c339-34bb-4500-a5fb-f3c2a863de29/DATA/APPTIS/tistools/lib/repptis_analysis.py:844: RuntimeWarning: invalid value encountered in divide\n",
      "  p_PP = cumsums['RMR']/(cumsums['RML']+cumsums['RMR'])\n",
      "/mnt/0bf0c339-34bb-4500-a5fb-f3c2a863de29/DATA/APPTIS/tistools/lib/repptis_analysis.py:845: RuntimeWarning: invalid value encountered in divide\n",
      "  p_PN = cumsums['RML']/(cumsums['RML']+cumsums['RMR'])\n"
     ]
    }
   ],
   "source": [
    "# Analysis output is saved to the data dictionary.\n",
    "data = {}\n",
    "for i, pe in enumerate(pathensembles):\n",
    "    print(\"doing pathensemble {}\".format(i))\n",
    "    if i == 0:\n",
    "        data[i] = {}\n",
    "        continue  #  [0-] is not used for Pcross calculations\n",
    "\n",
    "    # Classify the paths according to their path type.\n",
    "    pathtypes = (\"LML\", \"LMR\", \"RML\", \"RMR\")\n",
    "    pathtype_cycles = {}\n",
    "    for ptype in pathtypes:\n",
    "        pathtype_cycles[ptype] = unwrap_by_weight(\n",
    "                (pe.lmrs == ptype).astype(int), pe.weights)\n",
    "    \n",
    "    # Running average analysis: [\"running\"]\n",
    "    data[i] = {}\n",
    "    data[i][\"running\"] = {}\n",
    "    data[i][\"running\"][\"plocal\"] = {}\n",
    "    for (ptype, p_loc) in zip(pathtypes, \n",
    "                              running_avg_local_probs(pathtype_cycles, \n",
    "                                                      pe.weights, tr = False)):\n",
    "        data[i][\"running\"][\"plocal\"][ptype] = p_loc\n",
    "\n",
    "    # Analysis using all data: [\"full\"]\n",
    "    plocfull = get_local_probs(pe, tr=False)\n",
    "    data[i][\"full\"] = {}\n",
    "    for ptype in pathtypes:\n",
    "        data[i][\"full\"][ptype] = plocfull[ptype]\n",
    "\n",
    "    # data[i] have now [\"full\"] and [\"running\"]"
   ]
  },
  {
   "cell_type": "markdown",
   "metadata": {},
   "source": [
    "### Generate pathlength distribution figures, as in PyRETIS reports."
   ]
  },
  {
   "cell_type": "code",
   "execution_count": 7,
   "metadata": {
    "scrolled": true
   },
   "outputs": [
    {
     "name": "stdout",
     "output_type": "stream",
     "text": [
      "Are all weights 1?  True\n",
      "Are all paths accepted?  True\n",
      "Are all weights 1?  True\n",
      "Are all paths accepted?  True\n",
      "Are all weights 1?  True\n",
      "Are all paths accepted?  True\n",
      "Are all weights 1?  True\n",
      "Are all paths accepted?  True\n",
      "Are all weights 1?  True\n",
      "Are all paths accepted?  True\n"
     ]
    },
    {
     "name": "stderr",
     "output_type": "stream",
     "text": [
      "/home/elias/anaconda3/envs/test/lib/python3.12/site-packages/numpy/core/fromnumeric.py:3504: RuntimeWarning: Mean of empty slice.\n",
      "  return _methods._mean(a, axis=axis, dtype=dtype,\n",
      "/home/elias/anaconda3/envs/test/lib/python3.12/site-packages/numpy/core/_methods.py:129: RuntimeWarning: invalid value encountered in scalar divide\n",
      "  ret = ret.dtype.type(ret / rcount)\n",
      "/home/elias/anaconda3/envs/test/lib/python3.12/site-packages/numpy/core/_methods.py:206: RuntimeWarning: Degrees of freedom <= 0 for slice\n",
      "  ret = _var(a, axis=axis, dtype=dtype, out=out, ddof=ddof,\n",
      "/home/elias/anaconda3/envs/test/lib/python3.12/site-packages/numpy/core/_methods.py:163: RuntimeWarning: invalid value encountered in divide\n",
      "  arrmean = um.true_divide(arrmean, div, out=arrmean,\n",
      "/home/elias/anaconda3/envs/test/lib/python3.12/site-packages/numpy/core/_methods.py:198: RuntimeWarning: invalid value encountered in scalar divide\n",
      "  ret = ret.dtype.type(ret / rcount)\n"
     ]
    }
   ],
   "source": [
    "for i, pe in enumerate(pathensembles):\n",
    "    upe = pe.unify_pe()\n",
    "    # Pathlength distribution\n",
    "    data[i][\"pathlengths\"] = pathlength_distr(upe)  # these might be used later or not! TODO\n",
    "        \n",
    "#=======================================\n",
    "# make figures\n",
    "makefigs = True \n",
    "if makefigs:\n",
    "    for i, pe in enumerate(pathensembles):     \n",
    "        if i == 0:\n",
    "            continue\n",
    "        # Cross distances distribution\n",
    "        L, M, R, lmlpercs, lmllambs, rmrpercs, rmrlambs = cross_dist_distr(pe)\n",
    "        fig,ax = plt.subplots()\n",
    "        ax.plot(lmllambs, lmlpercs, lw=1, c=\"g\")\n",
    "        ax.plot(rmrlambs, rmrpercs, lw=1, c=\"r\")\n",
    "        for lamb in (L,M,R):\n",
    "            ax.axvline(lamb, color='k', linestyle='--', lw = 0.5)\n",
    "        ax.set_xlabel('Cross distance')\n",
    "        ax.set_ylabel('Frequency')\n",
    "        ax.set_title(\"Ensemble {}. L = {}, M = {}, R = {}\".format(\n",
    "            pe.name, L, M, R))\n",
    "        ax.set_ylim(0)\n",
    "        fig.savefig(f\"pathensemble_{i}_crossdist.pdf\")\n",
    "        plt.close(fig)\n",
    "\n",
    "        # Pathlength distribution      \n",
    "        for ptype in pathtypes:\n",
    "            fig, ax = plt.subplots()\n",
    "            ax.plot(data[i][\"pathlengths\"][ptype][\"bin_centers\"], \n",
    "                data[i][\"pathlengths\"][ptype][\"hist\"])\n",
    "            ax.set_xlabel('Pathlength')\n",
    "            ax.set_ylabel('Frequency')\n",
    "            ax.set_title(f\"{np.sum(data[i]['pathlengths'][ptype]['hist'])} \" + \\\n",
    "                         f\"{ptype} paths. \")\n",
    "            ax.legend([f\"mean = {data[i]['pathlengths'][ptype]['mean']:.2f}, \" + \\\n",
    "                          f\"std = {data[i]['pathlengths'][ptype]['std']:.2f}\"])\n",
    "            fig.savefig(f\"pathensemble_{i}_pathlength_{ptype}.pdf\")\n",
    "            plt.close(fig)"
   ]
  },
  {
   "cell_type": "markdown",
   "metadata": {},
   "source": [
    "### Compute Pcross using in-house functions"
   ]
  },
  {
   "cell_type": "code",
   "execution_count": 8,
   "metadata": {},
   "outputs": [],
   "source": [
    "# Global crossing probabilities (no error analysis)  \n",
    "psfull = []\n",
    "for i in range(1, len(pathensembles)):   # do not use the 0- ensemble\n",
    "    psfull.append({\"LMR\": data[i][\"full\"][\"LMR\"], \n",
    "               \"RML\": data[i][\"full\"][\"RML\"], \n",
    "               \"RMR\": data[i][\"full\"][\"RMR\"],\n",
    "               \"LML\": data[i][\"full\"][\"LML\"]})\n",
    "\n",
    "Pminfull, Pplusfull, Pcrossfull = get_global_probs_from_dict(psfull)"
   ]
  },
  {
   "cell_type": "code",
   "execution_count": 9,
   "metadata": {},
   "outputs": [
    {
     "name": "stdout",
     "output_type": "stream",
     "text": [
      "This should be the same as the repptis_report.pdf value: 1.0\n",
      "which is the case!\n",
      "[1.0, 1.0, 1.0, 1.0]\n",
      "[1.0, 1.0, 1.0]\n",
      "Here, the load immediately disappeared. For a simulation where this is\n",
      "not the case, the above code should be adapted a little bit.\n"
     ]
    }
   ],
   "source": [
    "# Make a figure of the global crossing probabilities\n",
    "fig, ax = plt.subplots()\n",
    "ax.set_yscale(\"log\")\n",
    "ax.plot(Pcrossfull, \"o\", c = \"r\")\n",
    "ax.errorbar([i for i in range(len(Pcrossfull))], Pcrossfull, fmt=\"-o\", c = \"b\", ecolor=\"r\", capsize=6)\n",
    "\n",
    "\n",
    "ax.set_xlabel(\"intf\")\n",
    "ax.set_ylabel(r\"$P_A(\\lambda_i|\\lambda_A)$\")\n",
    "ax.set_xticks(np.arange(len(interfaces)))\n",
    "fig.tight_layout()\n",
    "fig.show()\n",
    "fig.savefig(\"Global_probs.pdf\")\n",
    "\n",
    "print(\"This should be the same as the repptis_report.pdf value:\", Pcrossfull[-1])\n",
    "print(\"which is the case!\")\n",
    "print(Pcrossfull)\n",
    "print([Pcrossfull[i]/Pcrossfull[i-1] for i in range(1,len(Pcrossfull))])\n",
    "print(\"Here, the load immediately disappeared. For a simulation where this is\")\n",
    "print(\"not the case, the above code should be adapted a little bit.\")"
   ]
  },
  {
   "cell_type": "code",
   "execution_count": 10,
   "metadata": {},
   "outputs": [
    {
     "name": "stdout",
     "output_type": "stream",
     "text": [
      "This should be the same as the repptis_report.pdf value: 1.0\n"
     ]
    }
   ],
   "source": [
    "# TODO DONT INCLUDE??\n",
    "\n",
    "# Construct lists of the local probs\n",
    "\n",
    "# Or we can use the get_global_probs_from_local function, using lists of the local probs\n",
    "# These do not use the 0- ensemble\n",
    "pmps = [data[i][\"full\"][\"LMR\"] for i in range(1,len(pathensembles))]\n",
    "pmms = [data[i][\"full\"][\"LML\"] for i in range(1,len(pathensembles))]\n",
    "ppps = [data[i][\"full\"][\"RMR\"] for i in range(1,len(pathensembles))]\n",
    "ppms = [data[i][\"full\"][\"RML\"] for i in range(1,len(pathensembles))]\n",
    "a,b,c = get_global_probs_from_local(pmps, pmms, ppps, ppms)\n",
    "print(\"This should be the same as the repptis_report.pdf value:\", c[-1])"
   ]
  },
  {
   "cell_type": "markdown",
   "metadata": {},
   "source": [
    "## 4. Analysis using the MSM"
   ]
  },
  {
   "cell_type": "markdown",
   "metadata": {},
   "source": [
    "### Construct transition matrix M"
   ]
  },
  {
   "cell_type": "code",
   "execution_count": 11,
   "metadata": {},
   "outputs": [
    {
     "name": "stdout",
     "output_type": "stream",
     "text": [
      "[-0.1, 0.0, 0.1, 0.2, 0.3]\n",
      "N 5\n",
      "NS 15\n"
     ]
    }
   ],
   "source": [
    "print(interfaces)\n",
    "N = len(interfaces)\n",
    "NS = 4*N-5\n",
    "print(\"N\", N)\n",
    "# print(\"len pmms\", len(pmms)) # TODO INCLUDE?\n",
    "print(\"NS\", NS)\n",
    "\n",
    "labels1, labels2 = create_labels_states(N)"
   ]
  },
  {
   "cell_type": "code",
   "execution_count": 12,
   "metadata": {},
   "outputs": [
    {
     "name": "stdout",
     "output_type": "stream",
     "text": [
      "mm [0.0, 0.0, 0.0, 0.0]\n",
      "mp [1.0, 1.0, 1.0, 1.0]\n",
      "pm [1.0, 1.0, 1.0, 1.0]\n",
      "pp [0.0, 0.0, 0.0, 0.0]\n",
      "sum [1. 1. 1. 1.]\n",
      "sum [1. 1. 1. 1.]\n"
     ]
    }
   ],
   "source": [
    "print(\"mm\", pmms)\n",
    "print(\"mp\", pmps)\n",
    "print(\"pm\", ppms)\n",
    "print(\"pp\", ppps)\n",
    "print(\"sum\", np.array(pmms)+np.array(pmps))\n",
    "print(\"sum\", np.array(ppms)+np.array(ppps))\n",
    "if N > 3:  \n",
    "    M = construct_M(pmms, pmps, ppms, ppps, N)\n",
    "elif N == 3:\n",
    "    M = construct_M_N3(pmms, pmps, ppms, ppps, N)\n",
    "else:\n",
    "    raise ValueError(\"The amount of interfaces needs to be 3 at least!\")"
   ]
  },
  {
   "cell_type": "code",
   "execution_count": 13,
   "metadata": {
    "scrolled": true
   },
   "outputs": [
    {
     "name": "stdout",
     "output_type": "stream",
     "text": [
      "M\n",
      "shape (15, 15)\n",
      "sum prob in rows [1. 1. 1. 1. 1. 1. 1. 1. 1. 1. 1. 1. 1. 1. 1.]\n",
      "[[0. 0. 1. 0. 0. 0. 0. 0. 0. 0. 0. 0. 0. 0. 0.]\n",
      " [1. 0. 0. 0. 0. 0. 0. 0. 0. 0. 0. 0. 0. 0. 0.]\n",
      " [0. 0. 0. 0. 0. 1. 0. 0. 0. 0. 0. 0. 0. 0. 0.]\n",
      " [1. 0. 0. 0. 0. 0. 0. 0. 0. 0. 0. 0. 0. 0. 0.]\n",
      " [0. 0. 0. 1. 0. 0. 0. 0. 0. 0. 0. 0. 0. 0. 0.]\n",
      " [0. 0. 0. 0. 0. 0. 0. 0. 0. 1. 0. 0. 0. 0. 0.]\n",
      " [0. 0. 0. 1. 0. 0. 0. 0. 0. 0. 0. 0. 0. 0. 0.]\n",
      " [0. 0. 0. 0. 0. 0. 0. 0. 0. 1. 0. 0. 0. 0. 0.]\n",
      " [0. 0. 0. 0. 0. 0. 1. 0. 0. 0. 0. 0. 0. 0. 0.]\n",
      " [0. 0. 0. 0. 0. 0. 0. 0. 0. 0. 0. 0. 0. 1. 0.]\n",
      " [0. 0. 0. 0. 0. 0. 1. 0. 0. 0. 0. 0. 0. 0. 0.]\n",
      " [0. 0. 0. 0. 0. 0. 0. 0. 0. 0. 0. 0. 0. 1. 0.]\n",
      " [0. 0. 0. 0. 0. 0. 0. 0. 0. 0. 1. 0. 0. 0. 0.]\n",
      " [0. 0. 0. 0. 0. 0. 0. 0. 0. 0. 0. 0. 0. 0. 1.]\n",
      " [1. 0. 0. 0. 0. 0. 0. 0. 0. 0. 0. 0. 0. 0. 0.]]\n"
     ]
    }
   ],
   "source": [
    "# We can print the transition matrix M and check that all rows sum to 1.\n",
    "print(\"M\")\n",
    "print(\"shape\", M.shape)\n",
    "print(\"sum prob in rows\", np.sum(M,axis=1))\n",
    "print(M)"
   ]
  },
  {
   "cell_type": "markdown",
   "metadata": {},
   "source": [
    "### Look at this Markov model\n",
    "*INCLUDE?*"
   ]
  },
  {
   "cell_type": "code",
   "execution_count": 14,
   "metadata": {},
   "outputs": [
    {
     "name": "stdout",
     "output_type": "stream",
     "text": [
      "[ 0. +0.j         0. +0.j         0. +0.j         0. +0.j\n",
      "  0. +0.j         0. +0.j         0. +0.j         0. +0.j\n",
      "  0. +0.j        -1. +0.j        -0.5+0.8660254j -0.5-0.8660254j\n",
      "  0.5+0.8660254j  0.5-0.8660254j  1. +0.j       ]\n",
      "[-1. +0.j        -0.5+0.8660254j -0.5-0.8660254j  0.5+0.8660254j\n",
      "  0.5-0.8660254j  1. +0.j         0. +0.j         0. +0.j\n",
      "  0. +0.j         0. +0.j         0. +0.j         0. +0.j\n",
      "  0. +0.j         0. +0.j         0. +0.j       ]\n",
      "array([[0., 0., 1., 0., 0., 0., 0., 0., 0., 0., 0., 0., 0., 0., 0.],\n",
      "       [1., 0., 0., 0., 0., 0., 0., 0., 0., 0., 0., 0., 0., 0., 0.],\n",
      "       [0., 0., 0., 0., 0., 1., 0., 0., 0., 0., 0., 0., 0., 0., 0.],\n",
      "       [1., 0., 0., 0., 0., 0., 0., 0., 0., 0., 0., 0., 0., 0., 0.],\n",
      "       [0., 0., 0., 1., 0., 0., 0., 0., 0., 0., 0., 0., 0., 0., 0.],\n",
      "       [0., 0., 0., 0., 0., 0., 0., 0., 0., 1., 0., 0., 0., 0., 0.],\n",
      "       [0., 0., 0., 1., 0., 0., 0., 0., 0., 0., 0., 0., 0., 0., 0.],\n",
      "       [0., 0., 0., 0., 0., 0., 0., 0., 0., 1., 0., 0., 0., 0., 0.],\n",
      "       [0., 0., 0., 0., 0., 0., 1., 0., 0., 0., 0., 0., 0., 0., 0.],\n",
      "       [0., 0., 0., 0., 0., 0., 0., 0., 0., 0., 0., 0., 0., 1., 0.],\n",
      "       [0., 0., 0., 0., 0., 0., 1., 0., 0., 0., 0., 0., 0., 0., 0.],\n",
      "       [0., 0., 0., 0., 0., 0., 0., 0., 0., 0., 0., 0., 0., 1., 0.],\n",
      "       [0., 0., 0., 0., 0., 0., 0., 0., 0., 0., 1., 0., 0., 0., 0.],\n",
      "       [0., 0., 0., 0., 0., 0., 0., 0., 0., 0., 0., 0., 0., 0., 1.],\n",
      "       [1., 0., 0., 0., 0., 0., 0., 0., 0., 0., 0., 0., 0., 0., 0.]])\n"
     ]
    }
   ],
   "source": [
    "#import numpy.linalg\n",
    "vals, vecs = np.linalg.eig(M)\n",
    "print(vals)\n",
    "vals, vecs = np.linalg.eig(M.T)\n",
    "print(vals)\n",
    "pprint(M)"
   ]
  },
  {
   "cell_type": "code",
   "execution_count": 15,
   "metadata": {
    "scrolled": true
   },
   "outputs": [
    {
     "name": "stdout",
     "output_type": "stream",
     "text": [
      "what if chain propagates\n",
      "A[0,:]\n",
      "[0. 0. 0. 0. 0. 1. 0. 0. 0. 0. 0. 0. 0. 0. 0.]\n",
      "1.0\n",
      "[0. 0. 0. 0. 0. 0. 0. 0. 0. 1. 0. 0. 0. 0. 0.]\n",
      "1.0\n",
      "[0. 0. 0. 0. 0. 0. 0. 0. 0. 0. 0. 0. 0. 1. 0.]\n",
      "1.0\n",
      "[0. 0. 0. 0. 0. 0. 0. 0. 0. 0. 0. 0. 0. 0. 1.]\n",
      "1.0\n",
      "[1. 0. 0. 0. 0. 0. 0. 0. 0. 0. 0. 0. 0. 0. 0.]\n",
      "1.0\n",
      "[0. 0. 1. 0. 0. 0. 0. 0. 0. 0. 0. 0. 0. 0. 0.]\n",
      "1.0\n",
      "[0. 0. 0. 0. 0. 1. 0. 0. 0. 0. 0. 0. 0. 0. 0.]\n",
      "1.0\n",
      "[0. 0. 0. 0. 0. 0. 0. 0. 0. 1. 0. 0. 0. 0. 0.]\n",
      "1.0\n",
      "[0. 0. 0. 0. 0. 0. 0. 0. 0. 0. 0. 0. 0. 1. 0.]\n",
      "1.0\n",
      "[0. 0. 0. 0. 0. 0. 0. 0. 0. 0. 0. 0. 0. 0. 1.]\n",
      "1.0\n"
     ]
    }
   ],
   "source": [
    "print(\"what if chain propagates\")\n",
    "print(\"A[0,:]\")\n",
    "# check stationary behavior\n",
    "A = M\n",
    "for n in range(10):\n",
    "    A = np.dot(A,M)\n",
    "    #print(A)\n",
    "    print(A[0,:])\n",
    "    print(np.sum(A[0,:]))  # is 1 indeed"
   ]
  },
  {
   "cell_type": "markdown",
   "metadata": {},
   "source": [
    "### Pcross with MSM"
   ]
  },
  {
   "cell_type": "code",
   "execution_count": 16,
   "metadata": {},
   "outputs": [
    {
     "name": "stdout",
     "output_type": "stream",
     "text": [
      "Z\n",
      "state 0-     : 0\n",
      "state B      : 1\n",
      "state 0+- LML: 0.0\n",
      "state 0+- LMR: 1.0\n",
      "state 0+- RML: 0.0\n",
      "state 1+- LML: 0.0\n",
      "state 1+- LMR: 1.0\n",
      "state 1+- RML: 0.0\n",
      "state 1+- RMR: 1.0\n",
      "state 2+- LML: 0.0\n",
      "state 2+- LMR: 1.0\n",
      "state 2+- RML: 0.0\n",
      "state 2+- RMR: 1.0\n",
      "state 3+- LML: 0.0\n",
      "state 3+- LMR: 1.0\n",
      "Y\n",
      "state 0-     : 1.0\n",
      "state B      : 0.0\n",
      "state 0+- LML: 0.0\n",
      "state 0+- LMR: 1.0\n",
      "state 0+- RML: 0.0\n",
      "state 1+- LML: 0.0\n",
      "state 1+- LMR: 1.0\n",
      "state 1+- RML: 0.0\n",
      "state 1+- RMR: 1.0\n",
      "state 2+- LML: 0.0\n",
      "state 2+- LMR: 1.0\n",
      "state 2+- RML: 0.0\n",
      "state 2+- RMR: 1.0\n",
      "state 3+- LML: 0.0\n",
      "state 3+- LMR: 1.0\n",
      "\n",
      "Global crossing probability:  1.0\n"
     ]
    }
   ],
   "source": [
    "# Inspect Z and Y vectors\n",
    "\n",
    "z1, z2, y1, y2 = global_pcross_msm(M)\n",
    "print(\"Z\")\n",
    "print_vector(z1, labels1)\n",
    "print_vector(z2, labels2)\n",
    "print(\"Y\")\n",
    "print_vector(y1, labels1)\n",
    "print_vector(y2, labels2)\n",
    "print(\"\\nGlobal crossing probability: \", y1[0][0])"
   ]
  },
  {
   "cell_type": "markdown",
   "metadata": {},
   "source": [
    "### Pathlength analysis"
   ]
  },
  {
   "cell_type": "code",
   "execution_count": 17,
   "metadata": {},
   "outputs": [
    {
     "name": "stdout",
     "output_type": "stream",
     "text": [
      "0\n",
      "Calculating path lengths.\n",
      "Done.\n",
      "Calculating first hitting lengths to middle interface\n",
      "Done.\n",
      "1\n",
      "Calculating path lengths.\n",
      "Done.\n",
      "Calculating first hitting lengths to middle interface\n",
      "Done.\n",
      "2\n",
      "Calculating path lengths.\n",
      "Done.\n",
      "Calculating first hitting lengths to middle interface\n",
      "Done.\n",
      "3\n",
      "Calculating path lengths.\n",
      "Done.\n",
      "Calculating first hitting lengths to middle interface\n",
      "Done.\n",
      "4\n",
      "Calculating path lengths.\n",
      "Done.\n",
      "Calculating first hitting lengths to middle interface\n",
      "Done.\n"
     ]
    }
   ],
   "source": [
    "# Setting path ensemble properties\n",
    "#==================================\n",
    "for i,fol in enumerate(folders):\n",
    "    print(i)\n",
    "    print(\"Calculating path lengths.\")\n",
    "    set_tau_distrib(pathensembles[i])\n",
    "    print(\"Done.\")\n",
    "\n",
    "    if True:\n",
    "        print(\"Calculating first hitting lengths to middle interface\")\n",
    "        set_tau_first_hit_M_distrib(pathensembles[i])\n",
    "        print(\"Done.\")"
   ]
  },
  {
   "cell_type": "code",
   "execution_count": 18,
   "metadata": {},
   "outputs": [
    {
     "name": "stdout",
     "output_type": "stream",
     "text": [
      "Collect tau\n",
      "ensemble 0 /mnt/0bf0c339-34bb-4500-a5fb-f3c2a863de29/DATA/MSM-REPPTIS/1D-experiments/REPPTIS/000\n",
      "ensemble 1 /mnt/0bf0c339-34bb-4500-a5fb-f3c2a863de29/DATA/MSM-REPPTIS/1D-experiments/REPPTIS/001\n",
      "ensemble 2 /mnt/0bf0c339-34bb-4500-a5fb-f3c2a863de29/DATA/MSM-REPPTIS/1D-experiments/REPPTIS/002\n",
      "ensemble 3 /mnt/0bf0c339-34bb-4500-a5fb-f3c2a863de29/DATA/MSM-REPPTIS/1D-experiments/REPPTIS/003\n",
      "ensemble 4 /mnt/0bf0c339-34bb-4500-a5fb-f3c2a863de29/DATA/MSM-REPPTIS/1D-experiments/REPPTIS/004\n",
      "Collect tau1\n",
      "Collect tau2\n",
      "Collect taum\n"
     ]
    }
   ],
   "source": [
    "# Compute taus for pathlength analysis\n",
    "tau_mm, tau_mp, tau_pm, tau_pp = collect_tau(pathensembles)\n",
    "tau1_mm, tau1_mp, tau1_pm, tau1_pp = collect_tau1(pathensembles)\n",
    "tau2_mm, tau2_mp, tau2_pm, tau2_pp = collect_tau2(pathensembles)\n",
    "taum_mm, taum_mp, taum_pm, taum_pp = collect_taum(pathensembles)"
   ]
  },
  {
   "cell_type": "code",
   "execution_count": 19,
   "metadata": {},
   "outputs": [
    {
     "name": "stdout",
     "output_type": "stream",
     "text": [
      "tau\n",
      "Index Name            mm           mp           pm           pp\n",
      "-----------------------------------------------------\n",
      "0     000            nan          nan          nan       2837.4\n",
      "1     001            nan        618.9        621.5          nan\n",
      "2     002            nan       1246.4       1264.3          nan\n",
      "3     003            nan       1239.7       1269.8          nan\n",
      "4     004            nan       1266.9       1274.2          nan\n",
      "\n",
      "tau1\n",
      "Index Name            mm           mp           pm           pp\n",
      "-----------------------------------------------------\n",
      "0     000            nan          nan          nan          0.0\n",
      "1     001            nan          0.0        621.5          nan\n",
      "2     002            nan        623.2        632.1          nan\n",
      "3     003            nan        619.8        634.9          nan\n",
      "4     004            nan        633.5        637.1          nan\n",
      "\n",
      "taum\n",
      "Index Name            mm           mp           pm           pp\n",
      "-----------------------------------------------------\n",
      "0     000            0.0          0.0          0.0       2837.4\n",
      "1     001            0.0          0.0          0.0          0.0\n",
      "2     002            0.0          0.0          0.0          0.0\n",
      "3     003            0.0          0.0          0.0          0.0\n",
      "4     004            0.0          0.0          0.0          0.0\n",
      "\n",
      "tau2\n",
      "Index Name            mm           mp           pm           pp\n",
      "-----------------------------------------------------\n",
      "0     000            nan          nan          nan          0.0\n",
      "1     001            nan        618.9          0.0          nan\n",
      "2     002            nan        623.2        632.1          nan\n",
      "3     003            nan        619.8        634.9          nan\n",
      "4     004            nan        633.4        637.1          nan\n"
     ]
    }
   ],
   "source": [
    "# Look at computed taus\n",
    "print(\"tau\")\n",
    "print_all_tau(pathensembles, tau_mm, tau_mp, tau_pm, tau_pp)\n",
    "print(\"\\ntau1\")\n",
    "print_all_tau(pathensembles, tau1_mm, tau1_mp, tau1_pm, tau1_pp)\n",
    "print(\"\\ntaum\")\n",
    "print_all_tau(pathensembles, taum_mm, taum_mp, taum_pm, taum_pp)\n",
    "print(\"\\ntau2\")\n",
    "print_all_tau(pathensembles, tau2_mm, tau2_mp, tau2_pm, tau2_pp)"
   ]
  },
  {
   "cell_type": "code",
   "execution_count": 20,
   "metadata": {
    "scrolled": true
   },
   "outputs": [
    {
     "name": "stdout",
     "output_type": "stream",
     "text": [
      "tau\n",
      "[2837.39300713           nan  618.92053733  621.52609881           nan\n",
      " 1246.39410081 1264.25568978           nan           nan 1239.68433926\n",
      " 1269.77478992           nan           nan 1266.91636219    0.        ]\n",
      "\n",
      "\n",
      "tau1\n",
      "[  0.                  nan   0.         621.51971541          nan\n",
      " 623.18543179 632.12934659          nan          nan 619.83235275\n",
      " 634.88517647          nan          nan 633.46535574   0.        ]\n",
      "taum\n",
      "[2.83739301e+03 0.00000000e+00 5.94800508e-03 6.38340315e-03\n",
      " 0.00000000e+00 5.92582729e-03 5.07241540e-03 0.00000000e+00\n",
      " 0.00000000e+00 7.00733787e-03 6.18487395e-03 0.00000000e+00\n",
      " 0.00000000e+00 6.17817046e-03 0.00000000e+00]\n",
      "tau2\n",
      "[  0.                  nan 618.91458932   0.                  nan\n",
      " 623.20274319 632.12127077          nan          nan 619.84497918\n",
      " 634.88342857          nan          nan 633.44482827   0.        ]\n",
      "\n",
      "\n",
      "tau = tau1+taum+tau2 => difference is nan\n"
     ]
    }
   ],
   "source": [
    "# TODO include prints?\n",
    "tau  = construct_tau_vector(N, NS, tau_mm, tau_mp, tau_pm, tau_pp)\n",
    "tau1 = construct_tau_vector(N, NS, tau1_mm, tau1_mp, tau1_pm, tau1_pp)\n",
    "taum = construct_tau_vector(N, NS, taum_mm, taum_mp, taum_pm, taum_pp)\n",
    "tau2 = construct_tau_vector(N, NS, tau2_mm, tau2_mp, tau2_pm, tau2_pp)\n",
    "tau_m = tau-tau1-tau2  # yes, this is the same thing as taum\n",
    "\n",
    "print(\"tau\")\n",
    "print(tau)\n",
    "print(\"\\n\")\n",
    "print(\"tau1\")\n",
    "print(tau1)\n",
    "print(\"taum\")\n",
    "print(taum)\n",
    "print(\"tau2\")\n",
    "print(tau2)\n",
    "\n",
    "print(\"\\n\")\n",
    "print(\"tau = tau1+taum+tau2 => difference is\", np.sum((tau-tau1-taum-tau2)**2))"
   ]
  },
  {
   "cell_type": "markdown",
   "metadata": {},
   "source": [
    "## 5. Flux calculation"
   ]
  },
  {
   "cell_type": "markdown",
   "metadata": {},
   "source": [
    "### Collect tau for [0+]"
   ]
  },
  {
   "cell_type": "code",
   "execution_count": 21,
   "metadata": {},
   "outputs": [
    {
     "name": "stdout",
     "output_type": "stream",
     "text": [
      "G\n",
      "state 0-     : 0.0\n",
      "state B      : 0.0\n",
      "state 0+- LML: 0.0\n",
      "state 0+- LMR: 2495.432199302723\n",
      "state 0+- RML: 0.00638340315174446\n",
      "state 1+- LML: 0.00638340315174446\n",
      "state 1+- LMR: 1876.5116619773203\n",
      "state 1+- RML: 632.1327265920992\n",
      "state 1+- RMR: 1253.302992958078\n",
      "state 2+- LML: 632.1327265920992\n",
      "state 2+- LMR: 1253.302992958078\n",
      "state 2+- RML: 1267.0223400374775\n",
      "state 2+- RMR: 633.4510064438982\n",
      "state 3+- LML: 1267.0223400374775\n",
      "state 3+- LMR: 633.4510064438982\n",
      "H\n",
      "state 0-     : 2495.4321993027224\n",
      "state B      : 0.0\n",
      "state 0+- LML: 0.0\n",
      "state 0+- LMR: 2495.426251297644\n",
      "state 0+- RML: 0.0\n",
      "state 1+- LML: 0.00638340315174446\n",
      "state 1+- LMR: 1876.5057361500349\n",
      "state 1+- RML: 632.127654176695\n",
      "state 1+- RMR: 1253.302992958078\n",
      "state 2+- LML: 632.1327265920992\n",
      "state 2+- LMR: 1253.2959856202053\n",
      "state 2+- RML: 1267.0161551635279\n",
      "state 2+- RMR: 633.4510064438982\n",
      "state 3+- LML: 1267.0223400374775\n",
      "state 3+- LMR: 633.4448282734338\n",
      "\n",
      "tau [0+]:  [2495.4321993]\n"
     ]
    }
   ],
   "source": [
    "# Construct g and h vectors\n",
    "g1, g2, h1, h2 = mfpt_to_first_last_state(M, np.nan_to_num(tau1), np.nan_to_num(tau_m), np.nan_to_num(tau2)) #, doprint=True)\n",
    "print(\"G\")\n",
    "print_vector(g1, labels1)\n",
    "print_vector(g2, labels2)\n",
    "print(\"H\")\n",
    "print_vector(h1, labels1)\n",
    "print_vector(h2, labels2)\n",
    "print(\"\\ntau [0+]: \", h1[0])"
   ]
  },
  {
   "cell_type": "markdown",
   "metadata": {},
   "source": [
    "### The flux"
   ]
  },
  {
   "cell_type": "code",
   "execution_count": 22,
   "metadata": {
    "scrolled": false
   },
   "outputs": [
    {
     "name": "stdout",
     "output_type": "stream",
     "text": [
      "0.9375893276918338 1/time\n"
     ]
    }
   ],
   "source": [
    "flux = 1/(tau[0]+h1[0][0])\n",
    "dt = 0.0002 # Change if needed\n",
    "flux\n",
    "print(flux/dt, \"1/time\")"
   ]
  },
  {
   "cell_type": "markdown",
   "metadata": {},
   "source": [
    "## 6. The rate constant\n",
    "We can compute an accurate rate constant using only our MSM."
   ]
  },
  {
   "cell_type": "code",
   "execution_count": 23,
   "metadata": {},
   "outputs": [
    {
     "name": "stdout",
     "output_type": "stream",
     "text": [
      "The rate constant k is:  0.9375893276918338\n"
     ]
    }
   ],
   "source": [
    "# rate constant = flux * Pcross\n",
    "\n",
    "print(\"The rate constant k is: \", flux*y1[0][0]/dt)"
   ]
  }
 ],
 "metadata": {
  "kernelspec": {
   "display_name": "test",
   "language": "python",
   "name": "python3"
  },
  "language_info": {
   "codemirror_mode": {
    "name": "ipython",
    "version": 3
   },
   "file_extension": ".py",
   "mimetype": "text/x-python",
   "name": "python",
   "nbconvert_exporter": "python",
   "pygments_lexer": "ipython3",
   "version": "3.12.2"
  }
 },
 "nbformat": 4,
 "nbformat_minor": 4
}
